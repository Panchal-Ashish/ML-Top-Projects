{
 "cells": [
  {
   "cell_type": "markdown",
   "metadata": {
    "id": "bh1Md7rc1hej"
   },
   "source": [
    "**Please fo through Regression Case study 1 and 2 Prior before starting with this code.**\n",
    "\n",
    "**It contains data cleaning, Data visualization, Data preprocessing and Analysis which forms the base for understanding the base of this code**"
   ]
  },
  {
   "cell_type": "code",
   "execution_count": 1,
   "metadata": {
    "id": "3X9f5FB00-3Y"
   },
   "outputs": [],
   "source": [
    "import pandas as pd\n",
    "import numpy as np\n",
    "import seaborn as sns\n",
    "import matplotlib.pyplot as plt\n",
    "from sklearn.model_selection import train_test_split\n",
    "from sklearn.linear_model import LinearRegression\n",
    "from sklearn.ensemble import RandomForestRegressor\n",
    "from sklearn.metrics import mean_squared_error, mean_absolute_error\n",
    "from sklearn.preprocessing import LabelEncoder"
   ]
  },
  {
   "cell_type": "code",
   "execution_count": null,
   "metadata": {
    "id": "lLWBiTz71gfu"
   },
   "outputs": [],
   "source": []
  },
  {
   "cell_type": "code",
   "execution_count": 2,
   "metadata": {
    "id": "SwzWx4V_1K5o"
   },
   "outputs": [],
   "source": [
    "sns.set(rc = {'figure.figsize':(11.7,8.27)})"
   ]
  },
  {
   "cell_type": "code",
   "execution_count": 3,
   "metadata": {
    "id": "6PuiKBEG1QBs"
   },
   "outputs": [],
   "source": [
    "cars_data = pd.read_csv(\"cars_sampled.csv\")\n",
    "cars = cars_data.copy()"
   ]
  },
  {
   "cell_type": "code",
   "execution_count": 4,
   "metadata": {
    "colab": {
     "base_uri": "https://localhost:8080/",
     "height": 300
    },
    "id": "6Bq3oehV1S9D",
    "outputId": "7548a4e9-2aae-427f-a8fe-64bf6b2547e1"
   },
   "outputs": [
    {
     "data": {
      "text/html": [
       "<div>\n",
       "<style scoped>\n",
       "    .dataframe tbody tr th:only-of-type {\n",
       "        vertical-align: middle;\n",
       "    }\n",
       "\n",
       "    .dataframe tbody tr th {\n",
       "        vertical-align: top;\n",
       "    }\n",
       "\n",
       "    .dataframe thead th {\n",
       "        text-align: right;\n",
       "    }\n",
       "</style>\n",
       "<table border=\"1\" class=\"dataframe\">\n",
       "  <thead>\n",
       "    <tr style=\"text-align: right;\">\n",
       "      <th></th>\n",
       "      <th>price</th>\n",
       "      <th>yearOfRegistration</th>\n",
       "      <th>powerPS</th>\n",
       "      <th>kilometer</th>\n",
       "      <th>monthOfRegistration</th>\n",
       "      <th>postalCode</th>\n",
       "    </tr>\n",
       "  </thead>\n",
       "  <tbody>\n",
       "    <tr>\n",
       "      <th>count</th>\n",
       "      <td>50001.000</td>\n",
       "      <td>50001.000</td>\n",
       "      <td>50001.000</td>\n",
       "      <td>50001.000</td>\n",
       "      <td>50001.000</td>\n",
       "      <td>50001.000</td>\n",
       "    </tr>\n",
       "    <tr>\n",
       "      <th>mean</th>\n",
       "      <td>6559.865</td>\n",
       "      <td>2005.544</td>\n",
       "      <td>116.496</td>\n",
       "      <td>125613.688</td>\n",
       "      <td>5.744</td>\n",
       "      <td>50775.217</td>\n",
       "    </tr>\n",
       "    <tr>\n",
       "      <th>std</th>\n",
       "      <td>85818.470</td>\n",
       "      <td>122.992</td>\n",
       "      <td>230.568</td>\n",
       "      <td>40205.234</td>\n",
       "      <td>3.711</td>\n",
       "      <td>25743.702</td>\n",
       "    </tr>\n",
       "    <tr>\n",
       "      <th>min</th>\n",
       "      <td>0.000</td>\n",
       "      <td>1000.000</td>\n",
       "      <td>0.000</td>\n",
       "      <td>5000.000</td>\n",
       "      <td>0.000</td>\n",
       "      <td>1067.000</td>\n",
       "    </tr>\n",
       "    <tr>\n",
       "      <th>25%</th>\n",
       "      <td>1150.000</td>\n",
       "      <td>1999.000</td>\n",
       "      <td>69.000</td>\n",
       "      <td>125000.000</td>\n",
       "      <td>3.000</td>\n",
       "      <td>30559.000</td>\n",
       "    </tr>\n",
       "    <tr>\n",
       "      <th>50%</th>\n",
       "      <td>2950.000</td>\n",
       "      <td>2003.000</td>\n",
       "      <td>105.000</td>\n",
       "      <td>150000.000</td>\n",
       "      <td>6.000</td>\n",
       "      <td>49504.000</td>\n",
       "    </tr>\n",
       "    <tr>\n",
       "      <th>75%</th>\n",
       "      <td>7190.000</td>\n",
       "      <td>2008.000</td>\n",
       "      <td>150.000</td>\n",
       "      <td>150000.000</td>\n",
       "      <td>9.000</td>\n",
       "      <td>71404.000</td>\n",
       "    </tr>\n",
       "    <tr>\n",
       "      <th>max</th>\n",
       "      <td>12345678.000</td>\n",
       "      <td>9999.000</td>\n",
       "      <td>19312.000</td>\n",
       "      <td>150000.000</td>\n",
       "      <td>12.000</td>\n",
       "      <td>99998.000</td>\n",
       "    </tr>\n",
       "  </tbody>\n",
       "</table>\n",
       "</div>"
      ],
      "text/plain": [
       "             price  yearOfRegistration   powerPS  kilometer  \\\n",
       "count    50001.000           50001.000 50001.000  50001.000   \n",
       "mean      6559.865            2005.544   116.496 125613.688   \n",
       "std      85818.470             122.992   230.568  40205.234   \n",
       "min          0.000            1000.000     0.000   5000.000   \n",
       "25%       1150.000            1999.000    69.000 125000.000   \n",
       "50%       2950.000            2003.000   105.000 150000.000   \n",
       "75%       7190.000            2008.000   150.000 150000.000   \n",
       "max   12345678.000            9999.000 19312.000 150000.000   \n",
       "\n",
       "       monthOfRegistration  postalCode  \n",
       "count            50001.000   50001.000  \n",
       "mean                 5.744   50775.217  \n",
       "std                  3.711   25743.702  \n",
       "min                  0.000    1067.000  \n",
       "25%                  3.000   30559.000  \n",
       "50%                  6.000   49504.000  \n",
       "75%                  9.000   71404.000  \n",
       "max                 12.000   99998.000  "
      ]
     },
     "execution_count": 4,
     "metadata": {},
     "output_type": "execute_result"
    }
   ],
   "source": [
    "pd.set_option('display.float_format', lambda x: '%.3f' %x)\n",
    "pd.set_option('display.max_columns', 500)\n",
    "cars.describe()"
   ]
  },
  {
   "cell_type": "markdown",
   "metadata": {
    "id": "8THqTiYW2mdL"
   },
   "source": [
    "**Removing Insignificant columns**"
   ]
  },
  {
   "cell_type": "code",
   "execution_count": 5,
   "metadata": {
    "colab": {
     "base_uri": "https://localhost:8080/"
    },
    "id": "hl07VWcD1VeB",
    "outputId": "bdd30eef-b497-4fcb-ce1b-e67e982ca885"
   },
   "outputs": [
    {
     "name": "stdout",
     "output_type": "stream",
     "text": [
      "<class 'pandas.core.frame.DataFrame'>\n",
      "Int64Index: 49531 entries, 0 to 50000\n",
      "Data columns (total 14 columns):\n",
      " #   Column               Non-Null Count  Dtype \n",
      "---  ------               --------------  ----- \n",
      " 0   seller               49531 non-null  object\n",
      " 1   offerType            49531 non-null  object\n",
      " 2   price                49531 non-null  int64 \n",
      " 3   abtest               49531 non-null  object\n",
      " 4   vehicleType          44379 non-null  object\n",
      " 5   yearOfRegistration   49531 non-null  int64 \n",
      " 6   gearbox              46766 non-null  object\n",
      " 7   powerPS              49531 non-null  int64 \n",
      " 8   model                46801 non-null  object\n",
      " 9   kilometer            49531 non-null  int64 \n",
      " 10  monthOfRegistration  49531 non-null  int64 \n",
      " 11  fuelType             45064 non-null  object\n",
      " 12  brand                49531 non-null  object\n",
      " 13  notRepairedDamage    39891 non-null  object\n",
      "dtypes: int64(5), object(9)\n",
      "memory usage: 5.7+ MB\n"
     ]
    }
   ],
   "source": [
    "col = ['name','dateCrawled','dateCreated','postalCode','lastSeen']\n",
    "cars = cars.drop(columns = col, axis= 1)\n",
    "\n",
    "cars.drop_duplicates(keep = 'first', inplace = True)\n",
    "cars.info()"
   ]
  },
  {
   "cell_type": "markdown",
   "metadata": {
    "id": "Wsu5DCWm2qva"
   },
   "source": [
    "**Subsetting only the significant Data**"
   ]
  },
  {
   "cell_type": "code",
   "execution_count": 6,
   "metadata": {
    "id": "CQpVCree2MxR"
   },
   "outputs": [],
   "source": [
    "cars = cars[\n",
    "    (cars[\"yearOfRegistration\"] <= 2020)\n",
    "    &(cars[\"yearOfRegistration\"] >= 1950)\n",
    "    &(cars[\"price\"] >= 100)\n",
    "    &(cars[\"price\"] <= 150000)\n",
    "    &(cars[\"powerPS\"] >= 10)\n",
    "    &(cars[\"powerPS\"] <= 500)\n",
    "]\n",
    "# Approx 6700 records are dropped"
   ]
  },
  {
   "cell_type": "code",
   "execution_count": null,
   "metadata": {
    "id": "WKcSUP2S2UhW"
   },
   "outputs": [],
   "source": []
  },
  {
   "cell_type": "code",
   "execution_count": 7,
   "metadata": {
    "colab": {
     "base_uri": "https://localhost:8080/"
    },
    "id": "zGnz8XUmoJ5E",
    "outputId": "4243d95a-28d8-432f-b61b-e2e7b9ee3edf"
   },
   "outputs": [
    {
     "data": {
      "text/plain": [
       "count   42772.000\n",
       "mean       16.873\n",
       "std         7.093\n",
       "min         2.000\n",
       "25%        12.330\n",
       "50%        16.830\n",
       "75%        21.170\n",
       "max        69.750\n",
       "Name: Age, dtype: float64"
      ]
     },
     "execution_count": 7,
     "metadata": {},
     "output_type": "execute_result"
    }
   ],
   "source": [
    "cars['Age'] = (2020 - cars['yearOfRegistration']) + ((cars['monthOfRegistration'])/12)\n",
    "cars[\"Age\"] = round(cars[\"Age\"], 2)\n",
    "cars['Age'].describe()"
   ]
  },
  {
   "cell_type": "markdown",
   "metadata": {
    "id": "X3ZpT8Ir20w6"
   },
   "source": [
    "*Further Dropping insignificant variables*"
   ]
  },
  {
   "cell_type": "code",
   "execution_count": 8,
   "metadata": {
    "id": "7ekj-RsN2ZaA"
   },
   "outputs": [],
   "source": [
    "cars = cars.drop(columns = ['yearOfRegistration','monthOfRegistration'])"
   ]
  },
  {
   "cell_type": "code",
   "execution_count": 9,
   "metadata": {
    "colab": {
     "base_uri": "https://localhost:8080/"
    },
    "id": "J7pWhRtn2eFm",
    "outputId": "ecf20c07-3afb-49d2-f9db-378e5e47eb3a"
   },
   "outputs": [
    {
     "name": "stdout",
     "output_type": "stream",
     "text": [
      "           price  powerPS  kilometer    Age\n",
      "price      1.000    0.575     -0.440 -0.336\n",
      "powerPS    0.575    1.000     -0.016 -0.151\n",
      "kilometer -0.440   -0.016      1.000  0.292\n",
      "Age       -0.336   -0.151      0.292  1.000\n",
      "price       1.000\n",
      "powerPS     0.575\n",
      "kilometer   0.440\n",
      "Age         0.336\n",
      "Name: price, dtype: float64\n"
     ]
    }
   ],
   "source": [
    "## Correlation Among Numeric Variables\n",
    "\n",
    "cars_select1 = cars.select_dtypes(exclude = [object])\n",
    "correlation = cars_select1.corr()\n",
    "print(round(correlation,3))\n",
    "print(cars_select1.corr().loc[:,'price'].abs().sort_values(ascending  = False))"
   ]
  },
  {
   "cell_type": "markdown",
   "metadata": {
    "id": "hXbq-QsB3PVa"
   },
   "source": [
    "## Actual code of this Session\n",
    "We are going to build a linear regression and random forest regression model on 2 sets of data\n",
    "1. Data obtained by omitting rows with any missing value\n",
    "2. Data obtained by imputing the misssing values"
   ]
  },
  {
   "cell_type": "markdown",
   "metadata": {
    "id": "krMpXa5o3Tnj"
   },
   "source": [
    "## ==== 1. Linear Regression Model Omitting the missing values ===="
   ]
  },
  {
   "cell_type": "code",
   "execution_count": null,
   "metadata": {
    "id": "T546776y0CvI"
   },
   "outputs": [],
   "source": []
  },
  {
   "cell_type": "code",
   "execution_count": 10,
   "metadata": {
    "id": "w_bIW5mA3JQ6"
   },
   "outputs": [],
   "source": [
    "cars_omit = cars.dropna(axis = 0)\n",
    "# Approx 10000 records removed"
   ]
  },
  {
   "cell_type": "code",
   "execution_count": 11,
   "metadata": {
    "colab": {
     "base_uri": "https://localhost:8080/"
    },
    "id": "OK1nU6Ss0CvJ",
    "outputId": "c7dbd2a8-910b-43c5-f816-8acf9e72c315"
   },
   "outputs": [
    {
     "name": "stdout",
     "output_type": "stream",
     "text": [
      "<class 'pandas.core.frame.DataFrame'>\n",
      "Int64Index: 32884 entries, 1 to 50000\n",
      "Data columns (total 13 columns):\n",
      " #   Column             Non-Null Count  Dtype  \n",
      "---  ------             --------------  -----  \n",
      " 0   seller             32884 non-null  object \n",
      " 1   offerType          32884 non-null  object \n",
      " 2   price              32884 non-null  int64  \n",
      " 3   abtest             32884 non-null  object \n",
      " 4   vehicleType        32884 non-null  object \n",
      " 5   gearbox            32884 non-null  object \n",
      " 6   powerPS            32884 non-null  int64  \n",
      " 7   model              32884 non-null  object \n",
      " 8   kilometer          32884 non-null  int64  \n",
      " 9   fuelType           32884 non-null  object \n",
      " 10  brand              32884 non-null  object \n",
      " 11  notRepairedDamage  32884 non-null  object \n",
      " 12  Age                32884 non-null  float64\n",
      "dtypes: float64(1), int64(3), object(9)\n",
      "memory usage: 3.5+ MB\n"
     ]
    }
   ],
   "source": [
    "cars_omit.info()"
   ]
  },
  {
   "cell_type": "code",
   "execution_count": 12,
   "metadata": {
    "colab": {
     "base_uri": "https://localhost:8080/",
     "height": 270
    },
    "id": "H7GYIp5U0CvK",
    "outputId": "88f782be-d8b6-4f81-e516-f226aac49767"
   },
   "outputs": [
    {
     "data": {
      "text/html": [
       "<div>\n",
       "<style scoped>\n",
       "    .dataframe tbody tr th:only-of-type {\n",
       "        vertical-align: middle;\n",
       "    }\n",
       "\n",
       "    .dataframe tbody tr th {\n",
       "        vertical-align: top;\n",
       "    }\n",
       "\n",
       "    .dataframe thead th {\n",
       "        text-align: right;\n",
       "    }\n",
       "</style>\n",
       "<table border=\"1\" class=\"dataframe\">\n",
       "  <thead>\n",
       "    <tr style=\"text-align: right;\">\n",
       "      <th></th>\n",
       "      <th>seller</th>\n",
       "      <th>offerType</th>\n",
       "      <th>price</th>\n",
       "      <th>abtest</th>\n",
       "      <th>vehicleType</th>\n",
       "      <th>gearbox</th>\n",
       "      <th>powerPS</th>\n",
       "      <th>model</th>\n",
       "      <th>kilometer</th>\n",
       "      <th>fuelType</th>\n",
       "      <th>brand</th>\n",
       "      <th>notRepairedDamage</th>\n",
       "      <th>Age</th>\n",
       "    </tr>\n",
       "  </thead>\n",
       "  <tbody>\n",
       "    <tr>\n",
       "      <th>1</th>\n",
       "      <td>private</td>\n",
       "      <td>offer</td>\n",
       "      <td>13299</td>\n",
       "      <td>control</td>\n",
       "      <td>suv</td>\n",
       "      <td>manual</td>\n",
       "      <td>163</td>\n",
       "      <td>xc_reihe</td>\n",
       "      <td>150000</td>\n",
       "      <td>diesel</td>\n",
       "      <td>volvo</td>\n",
       "      <td>no</td>\n",
       "      <td>15.500</td>\n",
       "    </tr>\n",
       "    <tr>\n",
       "      <th>3</th>\n",
       "      <td>private</td>\n",
       "      <td>offer</td>\n",
       "      <td>4500</td>\n",
       "      <td>control</td>\n",
       "      <td>small car</td>\n",
       "      <td>manual</td>\n",
       "      <td>86</td>\n",
       "      <td>ibiza</td>\n",
       "      <td>60000</td>\n",
       "      <td>petrol</td>\n",
       "      <td>seat</td>\n",
       "      <td>no</td>\n",
       "      <td>15.000</td>\n",
       "    </tr>\n",
       "    <tr>\n",
       "      <th>4</th>\n",
       "      <td>private</td>\n",
       "      <td>offer</td>\n",
       "      <td>18750</td>\n",
       "      <td>test</td>\n",
       "      <td>suv</td>\n",
       "      <td>automatic</td>\n",
       "      <td>185</td>\n",
       "      <td>xc_reihe</td>\n",
       "      <td>150000</td>\n",
       "      <td>diesel</td>\n",
       "      <td>volvo</td>\n",
       "      <td>no</td>\n",
       "      <td>12.920</td>\n",
       "    </tr>\n",
       "    <tr>\n",
       "      <th>5</th>\n",
       "      <td>private</td>\n",
       "      <td>offer</td>\n",
       "      <td>988</td>\n",
       "      <td>test</td>\n",
       "      <td>limousine</td>\n",
       "      <td>manual</td>\n",
       "      <td>90</td>\n",
       "      <td>passat</td>\n",
       "      <td>150000</td>\n",
       "      <td>petrol</td>\n",
       "      <td>volkswagen</td>\n",
       "      <td>no</td>\n",
       "      <td>25.170</td>\n",
       "    </tr>\n",
       "    <tr>\n",
       "      <th>7</th>\n",
       "      <td>private</td>\n",
       "      <td>offer</td>\n",
       "      <td>1399</td>\n",
       "      <td>test</td>\n",
       "      <td>coupe</td>\n",
       "      <td>manual</td>\n",
       "      <td>136</td>\n",
       "      <td>clk</td>\n",
       "      <td>150000</td>\n",
       "      <td>petrol</td>\n",
       "      <td>mercedes_benz</td>\n",
       "      <td>no</td>\n",
       "      <td>23.920</td>\n",
       "    </tr>\n",
       "  </tbody>\n",
       "</table>\n",
       "</div>"
      ],
      "text/plain": [
       "    seller offerType  price   abtest vehicleType    gearbox  powerPS  \\\n",
       "1  private     offer  13299  control         suv     manual      163   \n",
       "3  private     offer   4500  control   small car     manual       86   \n",
       "4  private     offer  18750     test         suv  automatic      185   \n",
       "5  private     offer    988     test   limousine     manual       90   \n",
       "7  private     offer   1399     test       coupe     manual      136   \n",
       "\n",
       "      model  kilometer fuelType          brand notRepairedDamage    Age  \n",
       "1  xc_reihe     150000   diesel          volvo                no 15.500  \n",
       "3     ibiza      60000   petrol           seat                no 15.000  \n",
       "4  xc_reihe     150000   diesel          volvo                no 12.920  \n",
       "5    passat     150000   petrol     volkswagen                no 25.170  \n",
       "7       clk     150000   petrol  mercedes_benz                no 23.920  "
      ]
     },
     "execution_count": 12,
     "metadata": {},
     "output_type": "execute_result"
    }
   ],
   "source": [
    "cars_omit.head(5)"
   ]
  },
  {
   "cell_type": "code",
   "execution_count": 13,
   "metadata": {
    "id": "R8JVchrK5D1i"
   },
   "outputs": [],
   "source": [
    "cars_omit2 = cars_omit.copy()"
   ]
  },
  {
   "cell_type": "code",
   "execution_count": 14,
   "metadata": {
    "id": "BcJEkvBb0CvK"
   },
   "outputs": [],
   "source": [
    "cars_omit.to_csv(\"cars_cleaned.csv\", index = False)"
   ]
  },
  {
   "cell_type": "code",
   "execution_count": null,
   "metadata": {
    "id": "1htmnBnw0CvL"
   },
   "outputs": [],
   "source": []
  },
  {
   "cell_type": "code",
   "execution_count": 15,
   "metadata": {
    "id": "HM_RY2IX0CvL"
   },
   "outputs": [],
   "source": [
    "encoder = LabelEncoder()"
   ]
  },
  {
   "cell_type": "markdown",
   "metadata": {
    "id": "zv_3gnCB3f_V"
   },
   "source": [
    "#### converting categorical variables into dummy variables"
   ]
  },
  {
   "cell_type": "code",
   "execution_count": 16,
   "metadata": {
    "colab": {
     "base_uri": "https://localhost:8080/"
    },
    "id": "shyfpa3N0CvM",
    "outputId": "373d3c89-e106-49f1-ae12-cb247e83c1ae"
   },
   "outputs": [],
   "source": [
    "# print(cars_omit['seller'].unique())\n",
    "# print(\"\\n\")\n",
    "# print(cars_omit['offerType'].unique())\n",
    "# print(\"\\n\")\n",
    "# print(cars_omit['vehicleType'].unique())\n",
    "# print(\"\\n\")\n",
    "# print(cars_omit['gearbox'].unique())\n",
    "# print(\"\\n\")\n",
    "# print(cars_omit['model'].unique())\n",
    "# print(\"\\n\")\n",
    "# print(cars_omit['fuelType'].unique())\n",
    "# print(\"\\n\")\n",
    "# print(cars_omit['brand'].unique())\n",
    "# print(\"\\n\")\n",
    "# print(cars_omit['notRepairedDamage'].unique())"
   ]
  },
  {
   "cell_type": "code",
   "execution_count": 17,
   "metadata": {
    "colab": {
     "base_uri": "https://localhost:8080/"
    },
    "id": "qDTsCVD-0CvN",
    "outputId": "8f3acd3b-1c0e-4876-f729-a6eb3c1e4ebf",
    "scrolled": true
   },
   "outputs": [
    {
     "name": "stderr",
     "output_type": "stream",
     "text": [
      "C:\\Users\\Manoj\\AppData\\Local\\Temp/ipykernel_11396/304554077.py:2: SettingWithCopyWarning: \n",
      "A value is trying to be set on a copy of a slice from a DataFrame.\n",
      "Try using .loc[row_indexer,col_indexer] = value instead\n",
      "\n",
      "See the caveats in the documentation: https://pandas.pydata.org/pandas-docs/stable/user_guide/indexing.html#returning-a-view-versus-a-copy\n",
      "  cars_omit['seller'] = seller_encoder.fit_transform(cars_omit['seller'])\n",
      "C:\\Users\\Manoj\\AppData\\Local\\Temp/ipykernel_11396/304554077.py:5: SettingWithCopyWarning: \n",
      "A value is trying to be set on a copy of a slice from a DataFrame.\n",
      "Try using .loc[row_indexer,col_indexer] = value instead\n",
      "\n",
      "See the caveats in the documentation: https://pandas.pydata.org/pandas-docs/stable/user_guide/indexing.html#returning-a-view-versus-a-copy\n",
      "  cars_omit['offerType'] = offerType_encoder.fit_transform(cars_omit['offerType'])\n",
      "C:\\Users\\Manoj\\AppData\\Local\\Temp/ipykernel_11396/304554077.py:8: SettingWithCopyWarning: \n",
      "A value is trying to be set on a copy of a slice from a DataFrame.\n",
      "Try using .loc[row_indexer,col_indexer] = value instead\n",
      "\n",
      "See the caveats in the documentation: https://pandas.pydata.org/pandas-docs/stable/user_guide/indexing.html#returning-a-view-versus-a-copy\n",
      "  cars_omit['abtest'] = abtest_encoder.fit_transform(cars_omit['abtest'])\n",
      "C:\\Users\\Manoj\\AppData\\Local\\Temp/ipykernel_11396/304554077.py:11: SettingWithCopyWarning: \n",
      "A value is trying to be set on a copy of a slice from a DataFrame.\n",
      "Try using .loc[row_indexer,col_indexer] = value instead\n",
      "\n",
      "See the caveats in the documentation: https://pandas.pydata.org/pandas-docs/stable/user_guide/indexing.html#returning-a-view-versus-a-copy\n",
      "  cars_omit['vehicleType'] = vehicleType_encoder.fit_transform(cars_omit['vehicleType'])\n",
      "C:\\Users\\Manoj\\AppData\\Local\\Temp/ipykernel_11396/304554077.py:14: SettingWithCopyWarning: \n",
      "A value is trying to be set on a copy of a slice from a DataFrame.\n",
      "Try using .loc[row_indexer,col_indexer] = value instead\n",
      "\n",
      "See the caveats in the documentation: https://pandas.pydata.org/pandas-docs/stable/user_guide/indexing.html#returning-a-view-versus-a-copy\n",
      "  cars_omit['gearbox'] = gearbox_encoder.fit_transform(cars_omit['gearbox'])\n",
      "C:\\Users\\Manoj\\AppData\\Local\\Temp/ipykernel_11396/304554077.py:17: SettingWithCopyWarning: \n",
      "A value is trying to be set on a copy of a slice from a DataFrame.\n",
      "Try using .loc[row_indexer,col_indexer] = value instead\n",
      "\n",
      "See the caveats in the documentation: https://pandas.pydata.org/pandas-docs/stable/user_guide/indexing.html#returning-a-view-versus-a-copy\n",
      "  cars_omit['model'] = model_encoder.fit_transform(cars_omit['model'])\n",
      "C:\\Users\\Manoj\\AppData\\Local\\Temp/ipykernel_11396/304554077.py:20: SettingWithCopyWarning: \n",
      "A value is trying to be set on a copy of a slice from a DataFrame.\n",
      "Try using .loc[row_indexer,col_indexer] = value instead\n",
      "\n",
      "See the caveats in the documentation: https://pandas.pydata.org/pandas-docs/stable/user_guide/indexing.html#returning-a-view-versus-a-copy\n",
      "  cars_omit['fuelType'] = fuelType_encoder.fit_transform(cars_omit['fuelType'])\n",
      "C:\\Users\\Manoj\\AppData\\Local\\Temp/ipykernel_11396/304554077.py:23: SettingWithCopyWarning: \n",
      "A value is trying to be set on a copy of a slice from a DataFrame.\n",
      "Try using .loc[row_indexer,col_indexer] = value instead\n",
      "\n",
      "See the caveats in the documentation: https://pandas.pydata.org/pandas-docs/stable/user_guide/indexing.html#returning-a-view-versus-a-copy\n",
      "  cars_omit['brand'] = brand_encoder.fit_transform(cars_omit['brand'])\n",
      "C:\\Users\\Manoj\\AppData\\Local\\Temp/ipykernel_11396/304554077.py:26: SettingWithCopyWarning: \n",
      "A value is trying to be set on a copy of a slice from a DataFrame.\n",
      "Try using .loc[row_indexer,col_indexer] = value instead\n",
      "\n",
      "See the caveats in the documentation: https://pandas.pydata.org/pandas-docs/stable/user_guide/indexing.html#returning-a-view-versus-a-copy\n",
      "  cars_omit['notRepairedDamage'] = notRepairedDamage_encoder.fit_transform(cars_omit['notRepairedDamage'])\n"
     ]
    }
   ],
   "source": [
    "seller_encoder = LabelEncoder()\n",
    "cars_omit['seller'] = seller_encoder.fit_transform(cars_omit['seller'])\n",
    "\n",
    "offerType_encoder = LabelEncoder()\n",
    "cars_omit['offerType'] = offerType_encoder.fit_transform(cars_omit['offerType'])\n",
    "\n",
    "abtest_encoder = LabelEncoder()\n",
    "cars_omit['abtest'] = abtest_encoder.fit_transform(cars_omit['abtest'])\n",
    "\n",
    "vehicleType_encoder = LabelEncoder()\n",
    "cars_omit['vehicleType'] = vehicleType_encoder.fit_transform(cars_omit['vehicleType'])\n",
    "\n",
    "gearbox_encoder = LabelEncoder()\n",
    "cars_omit['gearbox'] = gearbox_encoder.fit_transform(cars_omit['gearbox'])\n",
    "\n",
    "model_encoder = LabelEncoder()\n",
    "cars_omit['model'] = model_encoder.fit_transform(cars_omit['model'])\n",
    "\n",
    "fuelType_encoder = LabelEncoder()\n",
    "cars_omit['fuelType'] = fuelType_encoder.fit_transform(cars_omit['fuelType'])\n",
    "\n",
    "brand_encoder = LabelEncoder()\n",
    "cars_omit['brand'] = brand_encoder.fit_transform(cars_omit['brand'])\n",
    "\n",
    "notRepairedDamage_encoder = LabelEncoder()\n",
    "cars_omit['notRepairedDamage'] = notRepairedDamage_encoder.fit_transform(cars_omit['notRepairedDamage'])"
   ]
  },
  {
   "cell_type": "code",
   "execution_count": 18,
   "metadata": {
    "id": "0vfA62lV0CvO"
   },
   "outputs": [],
   "source": [
    "seller_dict = {name: seller_encoder.transform([name])  for name in cars_omit2['seller'].unique()}\n",
    "\n",
    "offerType_dict = {name: offerType_encoder.transform([name])  for name in cars_omit2['offerType'].unique()}\n",
    "\n",
    "vehicleType_dict = {name: vehicleType_encoder.transform([name])  for name in cars_omit2['vehicleType'].unique()}\n",
    "\n",
    "abtest_dict = {name: abtest_encoder.transform([name])  for name in cars_omit2['abtest'].unique()}\n",
    "\n",
    "gearbox_dict = {name: gearbox_encoder.transform([name])  for name in cars_omit2['gearbox'].unique()}\n",
    "\n",
    "model_dict = {name: model_encoder.transform([name])  for name in cars_omit2['model'].unique()}\n",
    "\n",
    "fuelType_dict = {name: fuelType_encoder.transform([name])  for name in cars_omit2['fuelType'].unique()}\n",
    "\n",
    "brand_dict = {name: brand_encoder.transform([name])  for name in cars_omit2['brand'].unique()}\n",
    "\n",
    "notRepairedDamage_dict = {name: notRepairedDamage_encoder.transform([name])  for name in cars_omit2['notRepairedDamage'].unique()}"
   ]
  },
  {
   "cell_type": "code",
   "execution_count": 19,
   "metadata": {
    "colab": {
     "base_uri": "https://localhost:8080/"
    },
    "id": "PZbNqB-V0CvQ",
    "outputId": "887a2a83-d259-4db0-f5fd-af3cc6a2548c"
   },
   "outputs": [
    {
     "name": "stdout",
     "output_type": "stream",
     "text": [
      "seller_dict: \n",
      " {'private': array([1]), 'commercial': array([0])} \n",
      "\n",
      "offerType_dict: \n",
      " {'offer': array([0])} \n",
      "\n",
      "vehicleType_dict: \n",
      " {'suv': array([7]), 'small car': array([5]), 'limousine': array([3]), 'coupe': array([2]), 'station wagon': array([6]), 'cabrio': array([1]), 'bus': array([0]), 'others': array([4])} \n",
      "\n",
      "abtest_dict: \n",
      " {'control': array([0]), 'test': array([1])} \n",
      "\n",
      "gearbox_dict: \n",
      " {'manual': array([1]), 'automatic': array([0])} \n",
      "\n",
      "fuelType_dict: \n",
      " {'diesel': array([1]), 'petrol': array([6]), 'cng': array([0]), 'lpg': array([4]), 'hybrid': array([3]), 'electro': array([2]), 'other': array([5])} \n",
      "\n",
      "brand_dict: \n",
      " {'volvo': array([38]), 'seat': array([30]), 'volkswagen': array([37]), 'mercedes_benz': array([20]), 'opel': array([24]), 'skoda': array([31]), 'toyota': array([35]), 'nissan': array([23]), 'mazda': array([19]), 'mitsubishi': array([22]), 'audi': array([1]), 'fiat': array([9]), 'alfa_romeo': array([0]), 'saab': array([29]), 'bmw': array([2]), 'peugeot': array([25]), 'land_rover': array([18]), 'subaru': array([33]), 'citroen': array([5]), 'jeep': array([14]), 'chrysler': array([4]), 'ford': array([10]), 'renault': array([27]), 'dacia': array([6]), 'chevrolet': array([3]), 'smart': array([32]), 'mini': array([21]), 'trabant': array([36]), 'suzuki': array([34]), 'hyundai': array([12]), 'honda': array([11]), 'jaguar': array([13]), 'porsche': array([26]), 'kia': array([15]), 'daihatsu': array([8]), 'lancia': array([17]), 'daewoo': array([7]), 'rover': array([28]), 'lada': array([16])} \n",
      "\n",
      "notRepairedDamage_dict: \n",
      " {'no': array([0]), 'yes': array([1])} \n",
      "\n"
     ]
    }
   ],
   "source": [
    "print(\"seller_dict: \\n\", seller_dict,\"\\n\")\n",
    "print(\"offerType_dict: \\n\", offerType_dict,\"\\n\")\n",
    "print(\"vehicleType_dict: \\n\", vehicleType_dict,\"\\n\")\n",
    "print(\"abtest_dict: \\n\", abtest_dict,\"\\n\")\n",
    "print(\"gearbox_dict: \\n\", gearbox_dict,\"\\n\")\n",
    "print(\"fuelType_dict: \\n\", fuelType_dict,\"\\n\")\n",
    "print(\"brand_dict: \\n\", brand_dict,\"\\n\")\n",
    "print(\"notRepairedDamage_dict: \\n\", notRepairedDamage_dict,\"\\n\")"
   ]
  },
  {
   "cell_type": "code",
   "execution_count": 20,
   "metadata": {
    "colab": {
     "base_uri": "https://localhost:8080/"
    },
    "id": "nDxJLA_u0CvQ",
    "outputId": "e76e9c2c-39b3-4e65-bf20-c017a92fa6c2"
   },
   "outputs": [
    {
     "data": {
      "text/plain": [
       "array([38])"
      ]
     },
     "execution_count": 20,
     "metadata": {},
     "output_type": "execute_result"
    }
   ],
   "source": [
    "brand_dict['volvo']"
   ]
  },
  {
   "cell_type": "code",
   "execution_count": null,
   "metadata": {
    "id": "DUZdI-bX0CvR"
   },
   "outputs": [],
   "source": []
  },
  {
   "cell_type": "code",
   "execution_count": null,
   "metadata": {
    "id": "jYvGA0Yf0CvS"
   },
   "outputs": [],
   "source": []
  },
  {
   "cell_type": "code",
   "execution_count": null,
   "metadata": {
    "id": "WO-Q15Dg0CvS"
   },
   "outputs": [],
   "source": []
  },
  {
   "cell_type": "code",
   "execution_count": null,
   "metadata": {
    "id": "zwrPZ8uf0CvS"
   },
   "outputs": [],
   "source": []
  },
  {
   "cell_type": "code",
   "execution_count": null,
   "metadata": {
    "id": "U3-QdS3T0CvT"
   },
   "outputs": [],
   "source": []
  },
  {
   "cell_type": "code",
   "execution_count": null,
   "metadata": {
    "id": "ver-3Tak0CvT"
   },
   "outputs": [],
   "source": []
  },
  {
   "cell_type": "code",
   "execution_count": 21,
   "metadata": {
    "id": "yZhAD8Br3Wls"
   },
   "outputs": [],
   "source": [
    "# cars_omit = pd.get_dummies(cars_omit, drop_first = True)"
   ]
  },
  {
   "cell_type": "code",
   "execution_count": 22,
   "metadata": {
    "colab": {
     "base_uri": "https://localhost:8080/"
    },
    "id": "GbmE1PHM0CvU",
    "outputId": "c5ec3ecb-c4e0-46be-b905-541cfe76dcd7"
   },
   "outputs": [
    {
     "name": "stdout",
     "output_type": "stream",
     "text": [
      "<class 'pandas.core.frame.DataFrame'>\n",
      "Int64Index: 32884 entries, 1 to 50000\n",
      "Data columns (total 13 columns):\n",
      " #   Column             Non-Null Count  Dtype  \n",
      "---  ------             --------------  -----  \n",
      " 0   seller             32884 non-null  int32  \n",
      " 1   offerType          32884 non-null  int32  \n",
      " 2   price              32884 non-null  int64  \n",
      " 3   abtest             32884 non-null  int32  \n",
      " 4   vehicleType        32884 non-null  int32  \n",
      " 5   gearbox            32884 non-null  int32  \n",
      " 6   powerPS            32884 non-null  int64  \n",
      " 7   model              32884 non-null  int32  \n",
      " 8   kilometer          32884 non-null  int64  \n",
      " 9   fuelType           32884 non-null  int32  \n",
      " 10  brand              32884 non-null  int32  \n",
      " 11  notRepairedDamage  32884 non-null  int32  \n",
      " 12  Age                32884 non-null  float64\n",
      "dtypes: float64(1), int32(9), int64(3)\n",
      "memory usage: 2.4 MB\n"
     ]
    }
   ],
   "source": [
    "cars_omit.info()"
   ]
  },
  {
   "cell_type": "markdown",
   "metadata": {
    "id": "hurXCck43kBX"
   },
   "source": [
    "### ===== Building model with the omitted data =====\n",
    "#### separating input and output variables"
   ]
  },
  {
   "cell_type": "code",
   "execution_count": null,
   "metadata": {
    "id": "eADf7yQh3jgR"
   },
   "outputs": [],
   "source": []
  },
  {
   "cell_type": "code",
   "execution_count": 23,
   "metadata": {
    "id": "_fszkEeLoJ5T"
   },
   "outputs": [],
   "source": [
    "x1 = cars_omit.drop(['price'], axis= 1, inplace = False)\n",
    "y1 = cars_omit['price']"
   ]
  },
  {
   "cell_type": "markdown",
   "metadata": {
    "id": "8bbUZHKR32z5"
   },
   "source": [
    "#### plotting the variable price"
   ]
  },
  {
   "cell_type": "code",
   "execution_count": 24,
   "metadata": {
    "colab": {
     "base_uri": "https://localhost:8080/",
     "height": 296
    },
    "id": "uNshlgIS0CvY",
    "outputId": "f7d19c4d-0c4b-4763-85e2-8eb5ab4d5e22"
   },
   "outputs": [
    {
     "data": {
      "text/plain": [
       "<AxesSubplot:xlabel='price', ylabel='Count'>"
      ]
     },
     "execution_count": 24,
     "metadata": {},
     "output_type": "execute_result"
    },
    {
     "data": {
      "image/png": "[encoded data removed]",
      "text/plain": [
       "<Figure size 842.4x595.44 with 1 Axes>"
      ]
     },
     "metadata": {},
     "output_type": "display_data"
    }
   ],
   "source": [
    "sns.histplot(x = y1, bins = 8)"
   ]
  },
  {
   "cell_type": "code",
   "execution_count": 25,
   "metadata": {
    "colab": {
     "base_uri": "https://localhost:8080/",
     "height": 333
    },
    "id": "EygIY2u13w6w",
    "outputId": "5ffe0f5c-6572-4512-ab00-af9720f3f373"
   },
   "outputs": [
    {
     "data": {
      "text/plain": [
       "array([[<AxesSubplot:title={'center':'1. Before'}>,\n",
       "        <AxesSubplot:title={'center':'2. After'}>]], dtype=object)"
      ]
     },
     "execution_count": 25,
     "metadata": {},
     "output_type": "execute_result"
    },
    {
     "data": {
      "image/png": "[encoded data removed]",
      "text/plain": [
       "<Figure size 842.4x595.44 with 2 Axes>"
      ]
     },
     "metadata": {},
     "output_type": "display_data"
    }
   ],
   "source": [
    "prices = pd.DataFrame({\"1. Before\": y1, \"2. After\": np.log(y1)})\n",
    "prices.hist()\n",
    "\n"
   ]
  },
  {
   "cell_type": "markdown",
   "metadata": {
    "id": "fAKIGE4138Vk"
   },
   "source": [
    "1. for histogram for log(prices)... it is nicely bell shaped\n",
    "2. for histogram for simply prices... it is a skewed graph\n",
    "\n",
    "so it is better to go further with natural log of prices and not just with price\n",
    "\n",
    "So, we will be regressing the natural logarithm of prices with the input features"
   ]
  },
  {
   "cell_type": "markdown",
   "metadata": {
    "id": "87hA45tk3_pp"
   },
   "source": [
    "#### Transforming price as a Logarthmic value"
   ]
  },
  {
   "cell_type": "code",
   "execution_count": 26,
   "metadata": {
    "id": "XO-jv-nK30Vh"
   },
   "outputs": [],
   "source": [
    "y1 = np.log(y1)"
   ]
  },
  {
   "cell_type": "markdown",
   "metadata": {
    "id": "EHF_LkXa4Nc2"
   },
   "source": [
    "#### Splitting the data into test and train"
   ]
  },
  {
   "cell_type": "code",
   "execution_count": 27,
   "metadata": {
    "colab": {
     "base_uri": "https://localhost:8080/"
    },
    "id": "sjYwgEIh4B3r",
    "outputId": "de90cad9-c8e4-48f2-a19c-380c55cb46bc"
   },
   "outputs": [
    {
     "name": "stdout",
     "output_type": "stream",
     "text": [
      "(27951, 12) (4933, 12) (27951,) (4933,)\n"
     ]
    }
   ],
   "source": [
    "X_train1, X_test1, Y_train1, Y_test1 = train_test_split(x1, y1, test_size = 0.15, random_state = 28)\n",
    "print(X_train1.shape, X_test1.shape, Y_train1.shape, Y_test1.shape)"
   ]
  },
  {
   "cell_type": "code",
   "execution_count": 28,
   "metadata": {
    "colab": {
     "base_uri": "https://localhost:8080/"
    },
    "id": "WeHI9BHW0Cvb",
    "outputId": "6eed6393-c9cd-4d31-dfe4-64508267dff3"
   },
   "outputs": [
    {
     "data": {
      "text/plain": [
       "count   4933.000\n",
       "mean       8.221\n",
       "std        1.143\n",
       "min        4.605\n",
       "25%        7.432\n",
       "50%        8.269\n",
       "75%        9.081\n",
       "max       11.912\n",
       "Name: price, dtype: float64"
      ]
     },
     "execution_count": 28,
     "metadata": {},
     "output_type": "execute_result"
    }
   ],
   "source": [
    "Y_test1.describe()"
   ]
  },
  {
   "cell_type": "code",
   "execution_count": 29,
   "metadata": {
    "colab": {
     "base_uri": "https://localhost:8080/"
    },
    "id": "QhJ2CpyB0Cvc",
    "outputId": "bc0ce668-9439-4554-d10b-98c8f85a1eeb",
    "scrolled": true
   },
   "outputs": [
    {
     "data": {
      "text/plain": [
       "count   27951.000\n",
       "mean        8.245\n",
       "std         1.132\n",
       "min         4.605\n",
       "25%         7.432\n",
       "50%         8.294\n",
       "75%         9.083\n",
       "max        11.842\n",
       "Name: price, dtype: float64"
      ]
     },
     "execution_count": 29,
     "metadata": {},
     "output_type": "execute_result"
    }
   ],
   "source": [
    "Y_train1.describe()"
   ]
  },
  {
   "cell_type": "code",
   "execution_count": null,
   "metadata": {
    "id": "s2oSZvFl0Cvc"
   },
   "outputs": [],
   "source": []
  },
  {
   "cell_type": "markdown",
   "metadata": {
    "id": "6FFhtLC44bEV"
   },
   "source": [
    "### Baseline Model for the Omitted Data\n",
    "In baseline model the predicted value is replaced by the mean value of the test data\n",
    "\n",
    "We are making a base model by using test data mean value\n",
    "\n",
    "This is to set a benchmark and to compare with our regression model\n",
    "\n",
    "inshort... setting the base value (base metric)"
   ]
  },
  {
   "cell_type": "markdown",
   "metadata": {
    "id": "yDBI-ZWg4gZU"
   },
   "source": [
    "#### finding mean for test data value"
   ]
  },
  {
   "cell_type": "code",
   "execution_count": 30,
   "metadata": {
    "colab": {
     "base_uri": "https://localhost:8080/"
    },
    "id": "fjqDgFH34HA8",
    "outputId": "075aa67d-7375-4a72-ace4-ccc6234887e1"
   },
   "outputs": [
    {
     "name": "stdout",
     "output_type": "stream",
     "text": [
      "8.221355166428635\n"
     ]
    }
   ],
   "source": [
    "base_pred_1 = np.mean(Y_test1)\n",
    "print(base_pred_1)"
   ]
  },
  {
   "cell_type": "markdown",
   "metadata": {
    "id": "GFXzuPIR4m8O"
   },
   "source": [
    "#### Repeating the same value till the length of test data"
   ]
  },
  {
   "cell_type": "code",
   "execution_count": 31,
   "metadata": {
    "id": "7I8lBpV74j2H"
   },
   "outputs": [],
   "source": [
    "base_pred_1 = np.repeat(base_pred_1, len(Y_test1))"
   ]
  },
  {
   "cell_type": "markdown",
   "metadata": {
    "id": "I15R7hUt4tI6"
   },
   "source": [
    "#### Finding RMSE (Root Mean Square Error)\n",
    "1. it computes the difference between test value and predicted value .... squares them... and divides by the no. of observations\n",
    "2. this is the mean squared error\n",
    "3. when you take the squareroot of mean squared error... you get RMSE value"
   ]
  },
  {
   "cell_type": "code",
   "execution_count": 32,
   "metadata": {
    "id": "GrbJNVkv44vo"
   },
   "outputs": [],
   "source": [
    "# np.exp(mean_absolute_error(Y_test1, base_pred_1))"
   ]
  },
  {
   "cell_type": "code",
   "execution_count": 33,
   "metadata": {},
   "outputs": [],
   "source": [
    "# np.exp(mean_squared_error(Y_test1, base_pred_1))\n"
   ]
  },
  {
   "cell_type": "code",
   "execution_count": 34,
   "metadata": {
    "colab": {
     "base_uri": "https://localhost:8080/"
    },
    "id": "W6X-HJGH4pum",
    "outputId": "9c9ac61c-9240-439a-eef1-18f4cd9fc2a9"
   },
   "outputs": [
    {
     "name": "stdout",
     "output_type": "stream",
     "text": [
      "1.1426280312331127\n"
     ]
    }
   ],
   "source": [
    "base_root_mean_square_error_1 = np.sqrt(mean_squared_error(Y_test1, base_pred_1))\n",
    "print(base_root_mean_square_error_1)"
   ]
  },
  {
   "cell_type": "code",
   "execution_count": 35,
   "metadata": {},
   "outputs": [],
   "source": [
    "# print(np.exp(base_root_mean_square_error_1))"
   ]
  },
  {
   "cell_type": "markdown",
   "metadata": {
    "id": "McVNmkw55GeV"
   },
   "source": [
    "## Linear Regression with Omitted Data"
   ]
  },
  {
   "cell_type": "code",
   "execution_count": 36,
   "metadata": {
    "id": "vu_4E5np5HRJ"
   },
   "outputs": [],
   "source": [
    "lnr = LinearRegression(fit_intercept = True)"
   ]
  },
  {
   "cell_type": "markdown",
   "metadata": {
    "id": "J7j7v0K-5OYa"
   },
   "source": [
    "#### model"
   ]
  },
  {
   "cell_type": "code",
   "execution_count": 37,
   "metadata": {
    "id": "6-OaLQ7l5Kat"
   },
   "outputs": [],
   "source": [
    "model_lin1 = lnr.fit(X_train1, Y_train1)"
   ]
  },
  {
   "cell_type": "code",
   "execution_count": 38,
   "metadata": {
    "colab": {
     "base_uri": "https://localhost:8080/"
    },
    "id": "MNtjcgcx5Rav",
    "outputId": "86558e2f-09dd-4694-bb92-b2610ed7cc02"
   },
   "outputs": [
    {
     "name": "stdout",
     "output_type": "stream",
     "text": [
      "Linear Regression Accuracy Score for training set (Omitting missing values): 0.7038306479219663\n",
      "Linear Regression Accuracy Score for testing set (Omitting missing values): 0.6996569806655992\n"
     ]
    }
   ],
   "source": [
    "r2_lin_train1 = model_lin1.score(X_train1, Y_train1)\n",
    "r2_lin_test1 = model_lin1.score(X_test1, Y_test1)\n",
    "print(f\"Linear Regression Accuracy Score for training set (Omitting missing values): {r2_lin_train1}\\n\\\n",
    "Linear Regression Accuracy Score for testing set (Omitting missing values): {r2_lin_test1}\")"
   ]
  },
  {
   "cell_type": "markdown",
   "metadata": {
    "id": "gn5jfgzI5YDY"
   },
   "source": [
    "#### Predicting model on test set"
   ]
  },
  {
   "cell_type": "code",
   "execution_count": 39,
   "metadata": {
    "id": "4gMBr3xD5VVY"
   },
   "outputs": [],
   "source": [
    "cars_predictions_lin1 = lnr.predict(X_test1)"
   ]
  },
  {
   "cell_type": "markdown",
   "metadata": {
    "id": "AayZZCn_5mgO"
   },
   "source": [
    "#### calculating MSE and RMSE for predictions\n"
   ]
  },
  {
   "cell_type": "code",
   "execution_count": 40,
   "metadata": {
    "colab": {
     "base_uri": "https://localhost:8080/"
    },
    "id": "37fziu765jW7",
    "outputId": "621545ee-7b8c-4f03-bf44-661e94b2a64d"
   },
   "outputs": [
    {
     "name": "stdout",
     "output_type": "stream",
     "text": [
      "0.6262008391605365\n"
     ]
    }
   ],
   "source": [
    "lin_mse1 = mean_squared_error(Y_test1, cars_predictions_lin1)\n",
    "lin_rmse1 = np.sqrt(lin_mse1)\n",
    "print(lin_rmse1)"
   ]
  },
  {
   "cell_type": "markdown",
   "metadata": {
    "id": "NTR0qi_J5tco"
   },
   "source": [
    "\n",
    "it should be noted that the RMSE valus has dropped from 1.14 to 0.62 (Approx 45% reduction)"
   ]
  },
  {
   "cell_type": "markdown",
   "metadata": {
    "id": "SPUu7cWF50Lo"
   },
   "source": [
    "R squared value\n",
    "it helps to tell you how good is your model able to explain the variability in 'Y'"
   ]
  },
  {
   "cell_type": "code",
   "execution_count": 41,
   "metadata": {
    "colab": {
     "base_uri": "https://localhost:8080/"
    },
    "id": "taJ_NLGf5pL3",
    "outputId": "3c8c15df-bf15-4c00-cd96-d504592ed95e"
   },
   "outputs": [
    {
     "name": "stdout",
     "output_type": "stream",
     "text": [
      "r2_lin1_train1: 0.7038306479219663\n",
      "r2_lin1_test1: 0.6996569806655992\n"
     ]
    }
   ],
   "source": [
    "r2_lin_train1 = model_lin1.score(X_train1, Y_train1)\n",
    "r2_lin_test1 = model_lin1.score(X_test1, Y_test1)\n",
    "print(f\"r2_lin1_train1: {r2_lin_train1}\\nr2_lin1_test1: {r2_lin_test1}\")"
   ]
  },
  {
   "cell_type": "markdown",
   "metadata": {
    "id": "TCWU9_CT59cJ"
   },
   "source": [
    "R sq. value for train set is 0.7038 and R sq. value for test set is 0.6996\n",
    "\n",
    "train set is definitely better... but the test set is not far behind\n",
    "\n",
    "\n",
    "\n",
    "As much as variability the model was able to capture in the train data...it is able to capture the same amount of variability (if not more) in the test data as well."
   ]
  },
  {
   "cell_type": "code",
   "execution_count": null,
   "metadata": {
    "id": "gLAVlfU055EW"
   },
   "outputs": [],
   "source": []
  },
  {
   "cell_type": "code",
   "execution_count": null,
   "metadata": {
    "id": "Hwo7o_LT6Tro"
   },
   "outputs": [],
   "source": []
  },
  {
   "cell_type": "code",
   "execution_count": null,
   "metadata": {
    "id": "j2mcRN3E6Tih"
   },
   "outputs": [],
   "source": []
  },
  {
   "cell_type": "code",
   "execution_count": null,
   "metadata": {
    "id": "kQ9uA-wf6TQG"
   },
   "outputs": [],
   "source": []
  },
  {
   "cell_type": "markdown",
   "metadata": {
    "id": "esx_fgf86SA7"
   },
   "source": [
    "## Random Forest regressor using omitted data\n",
    "### Parameters\n"
   ]
  },
  {
   "cell_type": "markdown",
   "metadata": {
    "id": "varwBz3c6az3"
   },
   "source": [
    "#### n_estimators: 'int' (def 100)\n",
    "Number of trees in the forest\n",
    "#### min_samples_split: 'int' or 'float' (def 2)\n",
    "Minimum No. of samples required to split an internal node\n",
    "#### min_samples_leaf: int or float (def 1)\n",
    "Minimum No. of samples required to be at a leaf node. A split point will be considered only if it leaves at least (Min_samples_leaf) training samples in each of left and right branches"
   ]
  },
  {
   "cell_type": "markdown",
   "metadata": {
    "id": "YSZDh4gN6eh7"
   },
   "source": [
    "#### max_features: {'auto', 'sqrt', 'log'}, int, float  (def 'auto')\n",
    "No. of features to be considered to build the model\n",
    "1. if 'auto', then max_features = n_features (chooses the features automatically)\n",
    "2. if 'sqrt', then max_features = sqrt(n_features)\n",
    "3. if 'log', then max_features = log(n_features)\n",
    "4. if int, then consider (int) features at each split"
   ]
  },
  {
   "cell_type": "markdown",
   "metadata": {
    "id": "zzYhE2ou6lwU"
   },
   "source": [
    "#### max_depth: int (def None)\n",
    "The maximum depth of the tree. If None, nodes are expanded untill all leaves are pure or until all leaves contain less than min_samples_split"
   ]
  },
  {
   "cell_type": "markdown",
   "metadata": {
    "id": "owcBVMPA6hns"
   },
   "source": [
    "#### criterion: {'mse', 'mae'} (def: 'mse')\n",
    "#### random_state: int\n",
    "it is a predefined algorithm for randomizer.... if not specified, it will take different data sets everytime"
   ]
  },
  {
   "cell_type": "markdown",
   "metadata": {
    "id": "dxbyP6g66ixk"
   },
   "source": []
  },
  {
   "cell_type": "code",
   "execution_count": 42,
   "metadata": {
    "id": "ATrF1MMm6Xvl"
   },
   "outputs": [],
   "source": [
    "rf = RandomForestRegressor(n_estimators = 100,\n",
    "                          max_features = 'auto',\n",
    "                          max_depth = 100,\n",
    "                          min_samples_split = 10,\n",
    "                          min_samples_leaf = 4,\n",
    "                          random_state = 10)"
   ]
  },
  {
   "cell_type": "markdown",
   "metadata": {
    "id": "k6TRH0q56ume"
   },
   "source": [
    "#### model"
   ]
  },
  {
   "cell_type": "code",
   "execution_count": 43,
   "metadata": {
    "id": "Weh-Wwry6rUv"
   },
   "outputs": [],
   "source": [
    "model_rf1 = rf.fit(X_train1, Y_train1)"
   ]
  },
  {
   "cell_type": "code",
   "execution_count": 44,
   "metadata": {
    "colab": {
     "base_uri": "https://localhost:8080/"
    },
    "id": "4qAta1yn6xvk",
    "outputId": "0f45ad36-1d15-470c-dcd3-978815df871e"
   },
   "outputs": [
    {
     "name": "stdout",
     "output_type": "stream",
     "text": [
      "Random Forest Accuracy Score for training set (Omitting missing values): 0.9228205017772251\n",
      "Random Forest Accuracy Score for testing set (Omitting missing values): 0.8655026936102348\n"
     ]
    }
   ],
   "source": [
    "r2_rf_train1 = model_rf1.score(X_train1, Y_train1)\n",
    "r2_rf_test1 = model_rf1.score(X_test1, Y_test1)\n",
    "print(f\"Random Forest Accuracy Score for training set (Omitting missing values): {r2_rf_train1}\\n\\\n",
    "Random Forest Accuracy Score for testing set (Omitting missing values): {r2_rf_test1}\")"
   ]
  },
  {
   "cell_type": "markdown",
   "metadata": {
    "id": "d48iS29u64oH"
   },
   "source": [
    "#### Predicting model on test set"
   ]
  },
  {
   "cell_type": "code",
   "execution_count": 45,
   "metadata": {
    "id": "VF1W5k0q60lM"
   },
   "outputs": [],
   "source": [
    "cars_predictions_rf1 = rf.predict(X_test1)"
   ]
  },
  {
   "cell_type": "markdown",
   "metadata": {
    "id": "ofvvROsk7QAc"
   },
   "source": [
    "#### Computing MSE and RMSE values"
   ]
  },
  {
   "cell_type": "code",
   "execution_count": 46,
   "metadata": {
    "colab": {
     "base_uri": "https://localhost:8080/"
    },
    "id": "SlQGWYDS7CJ7",
    "outputId": "27d80481-ed93-4adc-cf11-6f1524556bd7"
   },
   "outputs": [
    {
     "name": "stdout",
     "output_type": "stream",
     "text": [
      "0.419045969094485\n"
     ]
    }
   ],
   "source": [
    "rf_mse1 = mean_squared_error(Y_test1, cars_predictions_rf1)\n",
    "rf_rmse1 = np.sqrt(rf_mse1)\n",
    "print(rf_rmse1)"
   ]
  },
  {
   "cell_type": "markdown",
   "metadata": {
    "id": "QJLVzpVW7XKw"
   },
   "source": [
    "Thus, it should be noted that Random Forest model is performing better than the Linear regression model as the RMSE model has come down further"
   ]
  },
  {
   "cell_type": "markdown",
   "metadata": {
    "id": "M9aKAFpy7b7W"
   },
   "source": [
    "#### R squared value"
   ]
  },
  {
   "cell_type": "code",
   "execution_count": 47,
   "metadata": {
    "colab": {
     "base_uri": "https://localhost:8080/"
    },
    "id": "oVkIwljf7T0o",
    "outputId": "2185eef9-587d-4104-ca5a-56529df3b46d"
   },
   "outputs": [
    {
     "name": "stdout",
     "output_type": "stream",
     "text": [
      "r2_rf_train1: 0.9228205017772251\n",
      "r2_lin1_test1: 0.8655026936102348\n"
     ]
    }
   ],
   "source": [
    "r2_rf_train1 = model_rf1.score(X_train1, Y_train1)\n",
    "r2_rf_test1 = model_rf1.score(X_test1, Y_test1)\n",
    "print(f\"r2_rf_train1: {r2_rf_train1}\\nr2_lin1_test1: {r2_rf_test1}\")"
   ]
  },
  {
   "cell_type": "code",
   "execution_count": null,
   "metadata": {
    "id": "bDnxHnXb7e8x"
   },
   "outputs": [],
   "source": []
  },
  {
   "cell_type": "code",
   "execution_count": null,
   "metadata": {
    "id": "jSkviNtl7nXu"
   },
   "outputs": [],
   "source": []
  },
  {
   "cell_type": "code",
   "execution_count": null,
   "metadata": {
    "id": "RULpwPU07nTt"
   },
   "outputs": [],
   "source": []
  },
  {
   "cell_type": "markdown",
   "metadata": {
    "id": "Z0QXFxCj7ogT"
   },
   "source": [
    "# FINAL OUTPUT"
   ]
  },
  {
   "cell_type": "code",
   "execution_count": 48,
   "metadata": {
    "colab": {
     "base_uri": "https://localhost:8080/"
    },
    "id": "S-Nqy1Ac7nMr",
    "outputId": "c6221f24-108e-4774-db92-f61bac658e0f"
   },
   "outputs": [
    {
     "name": "stdout",
     "output_type": "stream",
     "text": [
      "Metrics for models built from data where missing values were omitted\n",
      "Base RMSE value = 1.1426280312331127\n",
      "RMSE value for linear Regression model = 0.6262008391605365\n",
      "RMSE value for Random Forest model = 0.419045969094485\n",
      "Accuracy Score for training set from linear regression = 0.7038306479219663\n",
      "Accuracy Score for testing set from linear regression = 0.6996569806655992\n",
      "Accuracy Score for training set from random forest regressor = 0.9228205017772251\n",
      "Accuracy Score for testing set from random forest regressor = 0.8655026936102348\n"
     ]
    }
   ],
   "source": [
    "# FOR OMITTED DATA\n",
    "print(f\"Metrics for models built from data where missing values were omitted\")\n",
    "print(f\"Base RMSE value = {base_root_mean_square_error_1}\")\n",
    "print(f\"RMSE value for linear Regression model = {lin_rmse1}\")\n",
    "print(f\"RMSE value for Random Forest model = {rf_rmse1}\")\n",
    "print(f\"Accuracy Score for training set from linear regression = {r2_lin_train1}\")\n",
    "print(f\"Accuracy Score for testing set from linear regression = {r2_lin_test1}\")\n",
    "print(f\"Accuracy Score for training set from random forest regressor = {r2_rf_train1}\")\n",
    "print(f\"Accuracy Score for testing set from random forest regressor = {r2_rf_test1}\")"
   ]
  },
  {
   "cell_type": "code",
   "execution_count": 49,
   "metadata": {
    "colab": {
     "base_uri": "https://localhost:8080/",
     "height": 488
    },
    "id": "yYqzJ98N0Cvv",
    "outputId": "fd6cb61d-eb0a-436b-b7ae-8676953763be",
    "scrolled": true
   },
   "outputs": [],
   "source": [
    "# X_train1"
   ]
  },
  {
   "cell_type": "code",
   "execution_count": 50,
   "metadata": {
    "id": "wTJ2JIE_0Cvw"
   },
   "outputs": [],
   "source": [
    "import pickle\n",
    "with open('RFR_model_by_omitting_NA_Values.pkl', 'wb') as f:\n",
    "    pickle.dump(rf , f)\n",
    "with open('Lin_reg_model_by_omitting_NA_Values.pkl', 'wb') as f:\n",
    "    pickle.dump(lnr , f)"
   ]
  },
  {
   "cell_type": "code",
   "execution_count": null,
   "metadata": {
    "id": "WVT5DUMf0Cvx"
   },
   "outputs": [],
   "source": []
  },
  {
   "cell_type": "code",
   "execution_count": null,
   "metadata": {
    "id": "ekYUdXxK0Cvx"
   },
   "outputs": [],
   "source": []
  },
  {
   "cell_type": "code",
   "execution_count": null,
   "metadata": {
    "id": "Zf8CW5b40Cvx"
   },
   "outputs": [],
   "source": []
  },
  {
   "cell_type": "code",
   "execution_count": null,
   "metadata": {
    "id": "UE_YvLIl0Cvy"
   },
   "outputs": [],
   "source": []
  },
  {
   "cell_type": "code",
   "execution_count": null,
   "metadata": {
    "id": "TvLTMnpp0Cvy"
   },
   "outputs": [],
   "source": []
  },
  {
   "cell_type": "code",
   "execution_count": null,
   "metadata": {
    "id": "-ewuAdLk0Cvz"
   },
   "outputs": [],
   "source": []
  },
  {
   "cell_type": "code",
   "execution_count": null,
   "metadata": {
    "id": "qEnkQjes0Cvz"
   },
   "outputs": [],
   "source": []
  },
  {
   "cell_type": "code",
   "execution_count": null,
   "metadata": {
    "id": "-zKj7_qI7rpG"
   },
   "outputs": [],
   "source": []
  },
  {
   "cell_type": "raw",
   "metadata": {
    "id": "DoX5h2RR0Cv0"
   },
   "source": [
    " 0   seller             32884 non-null  object \n",
    " 1   offerType          32884 non-null  object \n",
    "\n",
    " 3   abtest             32884 non-null  object \n",
    " 4   vehicleType        32884 non-null  object \n",
    " 5   gearbox            32884 non-null  object \n",
    " 6   powerPS            32884 non-null  int64  # horsepower\n",
    " 7   model              32884 non-null  object \n",
    " 8   kilometer          32884 non-null  int64  \n",
    " 9   fuelType           32884 non-null  object \n",
    " 10  brand              32884 non-null  object \n",
    " 11  notRepairedDamage  32884 non-null  object \n",
    " 12  Age                32884 non-null  float64"
   ]
  },
  {
   "cell_type": "code",
   "execution_count": 51,
   "metadata": {
    "colab": {
     "base_uri": "https://localhost:8080/"
    },
    "id": "Z33BUNQT0Cv0",
    "outputId": "46a4d60a-ba7e-430d-e5c4-e8eed5ded9d8"
   },
   "outputs": [],
   "source": [
    "def seller():\n",
    "    seller = str(input(\"Enter the Seller Type (default: 'Private'). Type 'C' for commercial: \")).upper()\n",
    "    if seller == 'P':\n",
    "        seller = 'private'\n",
    "    elif seller == 'C':\n",
    "        seller = 'commercial'\n",
    "    else:\n",
    "        seller = 'private'\n",
    "    return seller\n",
    "    \n",
    "# print(seller())"
   ]
  },
  {
   "cell_type": "code",
   "execution_count": 52,
   "metadata": {
    "id": "D-R0u4Qh0Cv1"
   },
   "outputs": [],
   "source": [
    "offerType = 'offer'"
   ]
  },
  {
   "cell_type": "code",
   "execution_count": 53,
   "metadata": {
    "colab": {
     "base_uri": "https://localhost:8080/"
    },
    "id": "VfAz6z8c0Cv2",
    "outputId": "8d56bd06-f73c-4af2-c125-10d83fb1d3f6"
   },
   "outputs": [],
   "source": [
    "def abtest():\n",
    "    abtest = str(input(\"Enter the Abs test status (default: 'Test'). Type 'C' for Control: \")).upper()\n",
    "    if abtest == 'T':\n",
    "        abtest = 'test'\n",
    "    elif abtest == 'C':\n",
    "        abtest = 'control'\n",
    "    else:\n",
    "        abtest = 'test'\n",
    "    return abtest\n",
    "\n",
    "# print(abtest())"
   ]
  },
  {
   "cell_type": "code",
   "execution_count": 54,
   "metadata": {
    "colab": {
     "base_uri": "https://localhost:8080/"
    },
    "id": "_rUJpXxN0Cv2",
    "outputId": "ed43676f-86f1-4bd0-8a2a-46ec396d9f3b"
   },
   "outputs": [],
   "source": [
    "def vehicleType():\n",
    "    vType = str(input(\"Enter Vehicle type: bus/cabrio/coupe/limousine/small car/station wagon/suv/others : \")).lower()\n",
    "    if vType in ['bus','cabrio','coupe','limousine','small car','station wagon','suv','others']:\n",
    "        return vType\n",
    "    else:\n",
    "        return vehicleType()\n",
    "        \n",
    "\n",
    "# print(vehicleType())"
   ]
  },
  {
   "cell_type": "code",
   "execution_count": 55,
   "metadata": {
    "colab": {
     "base_uri": "https://localhost:8080/"
    },
    "id": "GY46efRs0Cv3",
    "outputId": "2a0bfe83-7c43-4076-c037-15e078cc39b2"
   },
   "outputs": [],
   "source": [
    "def gearbox():\n",
    "    gearbox = str(input(\"Enter the gearbox type (default: 'Manual'). Type 'A' for Automatic: \")).upper()\n",
    "    if gearbox == 'A':\n",
    "        gearbox = 'automatic'\n",
    "    elif gearbox == 'M':\n",
    "        gearbox = 'manual'\n",
    "    else:\n",
    "        gearbox = 'manual'\n",
    "    return gearbox\n",
    "    \n",
    "# print(gearbox())"
   ]
  },
  {
   "cell_type": "code",
   "execution_count": 56,
   "metadata": {
    "colab": {
     "base_uri": "https://localhost:8080/"
    },
    "id": "g4EVNin00Cv4",
    "outputId": "51f16ebc-f056-485c-f249-f7e7755ecd46"
   },
   "outputs": [],
   "source": [
    "def powerPS():\n",
    "    powerPS = int(input(\"enter the HorsePower (range 0 to 300): \"))\n",
    "#     if type(powerPS) == int:\n",
    "#         if 0<powerPS<300:\n",
    "#             pass\n",
    "#         else:\n",
    "#             powerPS()\n",
    "#     else:\n",
    "#         powerPS()\n",
    "    return powerPS\n",
    "\n",
    "# print(powerPS())\n",
    "\n",
    "## Need to look for exception handling"
   ]
  },
  {
   "cell_type": "code",
   "execution_count": 57,
   "metadata": {
    "colab": {
     "base_uri": "https://localhost:8080/"
    },
    "id": "z-ai3RcM0Cv5",
    "outputId": "a42a368d-c89e-4283-80d9-1738cac611dd"
   },
   "outputs": [],
   "source": [
    "def age():\n",
    "    reg = int(input('Enter Year of registration: '))\n",
    "    age = 0\n",
    "    if type(reg) == int:\n",
    "        age = 2022 - reg\n",
    "        return age\n",
    "    else:\n",
    "        print(\"invalid input\")\n",
    "        age()\n",
    "\n",
    "# print(age())\n",
    "\n",
    "## Need to look for exception handling for strings"
   ]
  },
  {
   "cell_type": "code",
   "execution_count": 58,
   "metadata": {
    "colab": {
     "base_uri": "https://localhost:8080/"
    },
    "id": "FLRnTyXh0Cv5",
    "outputId": "b10fd77d-d09b-456a-89f3-d8b097fa1f7f"
   },
   "outputs": [],
   "source": [
    "def km():\n",
    "    km = float(input(\"Enter the km travelled: \"))\n",
    "    return km\n",
    "\n",
    "## Need to look for exception handling for negative nos and strings\n",
    "\n",
    "# print(km())"
   ]
  },
  {
   "cell_type": "code",
   "execution_count": 59,
   "metadata": {
    "colab": {
     "base_uri": "https://localhost:8080/"
    },
    "id": "ZL3EeRSo0Cv6",
    "outputId": "8f7f60a6-d9a9-49da-ba90-e65201faebe5"
   },
   "outputs": [],
   "source": [
    "def damage():\n",
    "    damage = input(\"Have the previous damages been repaired? (default: NO). Type 'Y' for yes: \").upper()\n",
    "    if damage == 'Y':\n",
    "        damage = 'no'\n",
    "    elif damage == 'N':\n",
    "        damage = 'yes'\n",
    "    else:\n",
    "        damage = 'yes'\n",
    "    \n",
    "    return damage\n",
    "\n",
    "# print(damage())"
   ]
  },
  {
   "cell_type": "code",
   "execution_count": 60,
   "metadata": {
    "colab": {
     "base_uri": "https://localhost:8080/"
    },
    "id": "Fps9DekM0Cv7",
    "outputId": "e70dd48d-e3f0-49c3-d217-d193e6ff054a"
   },
   "outputs": [],
   "source": [
    "def brand():\n",
    "    br = input(\"Enter brand name from ['volvo', 'seat', 'volkswagen', 'mercedes_benz', 'opel', 'skoda', 'toyota','nissan',\\\n",
    "    'mazda', 'mitsubishi', 'audi', 'fiat', 'alfa_romeo', 'saab', 'bmw', 'peugeot', 'land_rover', 'subaru',\\\n",
    "    'citroen', 'jeep', 'chrysler', 'ford', 'renault', 'dacia', 'chevrolet', 'smart', 'mini', 'trabant', 'suzuki',\\\n",
    "    'hyundai', 'honda', 'jaguar', 'porsche', 'kia', 'daihatsu', 'lancia', 'daewoo', 'rover', 'lada']: \").lower()\n",
    "    \n",
    "    if br in ['volvo', 'seat', 'volkswagen', 'mercedes_benz', 'opel', 'skoda', 'toyota','nissan',\\\n",
    "                  'mazda', 'mitsubishi', 'audi', 'fiat', 'alfa_romeo', 'saab', 'bmw', 'peugeot', 'land_rover', 'subaru',\\\n",
    "                  'citroen', 'jeep', 'chrysler', 'ford', 'renault', 'dacia', 'chevrolet', 'smart', 'mini', 'trabant', 'suzuki',\\\n",
    "                  'hyundai', 'honda', 'jaguar', 'porsche', 'kia', 'daihatsu', 'lancia', 'daewoo', 'rover', 'lada']:\n",
    "        return br\n",
    "    else:\n",
    "        print('invalid input')\n",
    "        return brand()\n",
    "\n",
    "# print(\"\\n\",brand())"
   ]
  },
  {
   "cell_type": "code",
   "execution_count": 61,
   "metadata": {
    "colab": {
     "base_uri": "https://localhost:8080/"
    },
    "id": "UHd0Z7hB9tmE",
    "outputId": "75f21c11-1ccf-4748-c303-be40557b728b"
   },
   "outputs": [],
   "source": [
    "#  brand_encoder.transform([brand()])"
   ]
  },
  {
   "cell_type": "code",
   "execution_count": 62,
   "metadata": {
    "colab": {
     "base_uri": "https://localhost:8080/"
    },
    "id": "0GIyL58L0Cv8",
    "outputId": "eba4ff7d-f405-4725-cbcb-ecd709ecc3e8"
   },
   "outputs": [],
   "source": [
    "def fueltype():\n",
    "    fuelT = input(\"Enter the car  fuel Type from ['diesel', 'petrol', 'cng', 'lpg', 'hybrid', 'electro', 'other']: \").lower()\n",
    "    \n",
    "    if fuelT in ['diesel', 'petrol', 'cng', 'lpg', 'hybrid', 'electro', 'other']:\n",
    "        return fuelT\n",
    "    else:\n",
    "        print('invalid input')\n",
    "        return fueltype()\n",
    "\n",
    "# print(fueltype())"
   ]
  },
  {
   "cell_type": "code",
   "execution_count": 63,
   "metadata": {
    "colab": {
     "base_uri": "https://localhost:8080/"
    },
    "id": "J78mMnLx0Cv9",
    "outputId": "aa318fc5-2ee6-4b02-8cf5-fae5a20e7913"
   },
   "outputs": [],
   "source": [
    "def model():\n",
    "    mod = input(\"enter model name: \")\n",
    "    if mod in ['xc_reihe', 'ibiza', 'passat', 'clk', 'vectra', 'octavia', 'a_klasse', 'astra',\\\n",
    "               'yaris', 'meriva', 'others', 'golf', '3_reihe', 'colt', '80', 'panda', 'micra',\\\n",
    "               '156', 'c_klasse', '1er', '3er', 'freelander', 'a4', 'e_klasse', 'forester',\\\n",
    "               '5er', 'grand', 'voyager', 'polo', 'fiesta', 'clio', 'a3', 'slk', 'x_reihe',\\\n",
    "               'fabia', 'logan', '500', 'punto', 'berlingo', 's_klasse', '2_reihe', 'galaxy',\\\n",
    "               'agila', 'touran', 'captiva' ,'scenic', 'mondeo', 'omega', 'a6', 'fortwo',\\\n",
    "               'scirocco', 'transporter', 'c4', 'qashqai', 'ka', 'clubman', 'sharan',\\\n",
    "               'insignia', '7er', 'megane', 'corsa', 'arosa', 'z_reihe', 'caddy', 'aygo',\\\n",
    "               'matiz', 'focus', 'sl', 'combo', 'corolla', '601', 'c_reihe', 'beetle', 'tigra',\\\n",
    "               'twingo', 'tiguan', 'cooper', 's_max', 'toledo', 'carisma', 'zafira', 'a2',\\\n",
    "               'primera', 'a5' ,'tt', 'citigo' ,'tucson', 'accord', 'rav', 'i_reihe', 'laguna',\\\n",
    "               'roadster', 'bora', 'kuga', '147', 'c1', 'civic', 'mustang', 'lupo', 'c5',\\\n",
    "               'mx_reihe' ,'cayenne', 'justy' ,'santa' ,'transit', 'up', 'yeti', 'modus',\\\n",
    "               'rx_reihe' ,'sprinter', 'forfour' ,'cherokee', 'cordoba' ,'v40' ,'navara', 'v70',\\\n",
    "               'q3' ,'sorento', 'verso', 'kaefer', 'v_klasse', 'doblo' ,'1_reihe', 'fox',\\\n",
    "               '6_reihe', 'altea', 'almera', 'leon', 'boxster' ,'calibra' ,'q5', '911',\\\n",
    "               'x_trail', 'v50', 'impreza', 'swift', 'm_klasse', 'jetta' ,'escort' ,'eos', '100',\\\n",
    "               'sandero', '4_reihe', '300c', 'bravo' ,'stilo', 'a1', 'cl', 'kangoo', 'one',\\\n",
    "               'pajero', 'ducato', 'vivaro', 'touareg', 'cr_reihe', '850' ,'q7' ,'duster',\\\n",
    "               'kadett', 'cx_reihe' ,'ceed', 'rio','seicento', 'b_klasse', 'musa' ,'cc',\\\n",
    "               'c_max', 'getz', 'c2', '5_reihe', '900', 'kalos', 'ypsilon', 'jazz', 'ptcruiser',\\\n",
    "               'sportage', 'vito', 'c3', 'signum' ,'aveo', 'jimny', 'note' ,'avensis', 'm_reihe',\\\n",
    "               'auris' ,'espace', 'picanto', 'juke', 'lancer', '6er', 'phaeton', 'x_type',\\\n",
    "               'range_rover_sport', 'spark', 'viano', 'superb', '159', 'alhambra', 'fusion',\\\n",
    "               'a8' ,'legacy', 'amarok' ,'galant', 's60' ,'glk', 'wrangler' ,'9000' ,'roomster',\\\n",
    "               'carnival', 'i3', 'exeo', 'outlander', 'b_max', 'antara', '90', 'niva', 'r19',\\\n",
    "               'sirion', 'nubira', 'g_klasse' ,'spider', 'mii' ,'cuore', 'lodgy', 'crossfire',\\\n",
    "               'range_rover_evoque', 'terios' ,'serie_2', 'lanos', 'range_rover', '200',\\\n",
    "               's_type', 'materia' ,'defender', 'lybra', 'croma', 'discovery', 'v60', 'serie_3',\\\n",
    "               'move' ,'delta', 'gl', 'kalina', 'charade', 'rangerover']:\n",
    "        return mod\n",
    "    else:\n",
    "        print(\"Oops!!! sorry, the specified model does not exist in the database. Please specify another model.\")\n",
    "        return model()\n",
    "    \n",
    "# print(model())"
   ]
  },
  {
   "cell_type": "code",
   "execution_count": null,
   "metadata": {
    "id": "tJOOfYZA0Cv-"
   },
   "outputs": [],
   "source": []
  },
  {
   "cell_type": "code",
   "execution_count": 64,
   "metadata": {
    "id": "wx_kkOLb0Cv-"
   },
   "outputs": [],
   "source": [
    "# print(Y_test1.head(10))\n",
    "# print(cars_predictions_rf1[0:10])"
   ]
  },
  {
   "cell_type": "code",
   "execution_count": null,
   "metadata": {},
   "outputs": [],
   "source": []
  },
  {
   "cell_type": "code",
   "execution_count": null,
   "metadata": {},
   "outputs": [],
   "source": []
  },
  {
   "cell_type": "code",
   "execution_count": null,
   "metadata": {},
   "outputs": [],
   "source": []
  },
  {
   "cell_type": "code",
   "execution_count": null,
   "metadata": {
    "id": "MKgMac1x0Cv-"
   },
   "outputs": [],
   "source": []
  },
  {
   "cell_type": "code",
   "execution_count": 65,
   "metadata": {
    "colab": {
     "base_uri": "https://localhost:8080/"
    },
    "id": "M00v9Eo00Cv_",
    "outputId": "8d34dbb3-7a4a-4fbb-b35b-ee1c92ad1340"
   },
   "outputs": [],
   "source": [
    "# model_rf1.predict([[\n",
    "#     seller_encoder.transform(['private']),\n",
    "#     offerType_encoder.transform(['offer']),\n",
    "#     abtest_encoder.transform(['test']),\n",
    "#     vehicleType_encoder.transform(['cabrio']),\n",
    "#     gearbox_encoder.transform(['manual']),\n",
    "#     130,\n",
    "#     model_encoder.transform(['80']),\n",
    "#     150000,\n",
    "#     fuelType_encoder.transform(['petrol']),\n",
    "#     brand_encoder.transform(['audi']),\n",
    "#     notRepairedDamage_encoder.transform(['no']),\n",
    "#     2\n",
    "# ]])"
   ]
  },
  {
   "cell_type": "code",
   "execution_count": 66,
   "metadata": {
    "colab": {
     "base_uri": "https://localhost:8080/"
    },
    "id": "pWBsPAFX0Cv_",
    "outputId": "5b527930-24cb-4752-d172-14dce4735c1f"
   },
   "outputs": [],
   "source": [
    "# np.exp(model_rf1.predict([[\n",
    "#     seller_encoder.transform(['private']),   ## seller_encoder.transform([seller()])\n",
    "#     offerType_encoder.transform(['offer']),  ## let it be same\n",
    "#     abtest_encoder.transform(['test']),      ## abtest_encoder.transform([abtest()])\n",
    "#     vehicleType_encoder.transform(['limousine']),## recursive function ??...made, check once\n",
    "#     gearbox_encoder.transform(['manual']),    ## gearbox_encoder.transform([gearbox()])\n",
    "#     140,                                      ## powerPS()\n",
    "#     model_encoder.transform(['passat']),      ## model_encoder.transform([model()])\n",
    "#     150000,                                   ## km()\n",
    "#     fuelType_encoder.transform(['diesel']),   ## fuelType_encoder.transform([fueltype()])\n",
    "#     brand_encoder.transform(['volkswagen']),       ## brand_encoder.transform([brand()])\n",
    "#     notRepairedDamage_encoder.transform(['no']),## notRepairedDamage_encoder.transform([damage()])\n",
    "#     15                                     ## age()\n",
    "# ]]))"
   ]
  },
  {
   "cell_type": "code",
   "execution_count": null,
   "metadata": {},
   "outputs": [],
   "source": []
  },
  {
   "cell_type": "code",
   "execution_count": 73,
   "metadata": {},
   "outputs": [
    {
     "data": {
      "text/plain": [
       "seller                     private\n",
       "offerType                    offer\n",
       "price                        20800\n",
       "abtest                     control\n",
       "vehicleType                    bus\n",
       "gearbox                  automatic\n",
       "powerPS                        156\n",
       "model                     b_klasse\n",
       "kilometer                    20000\n",
       "fuelType                    petrol\n",
       "brand                mercedes_benz\n",
       "notRepairedDamage               no\n",
       "Age                          8.670\n",
       "Name: 38703, dtype: object"
      ]
     },
     "execution_count": 73,
     "metadata": {},
     "output_type": "execute_result"
    }
   ],
   "source": [
    "cars.loc[38703]"
   ]
  },
  {
   "cell_type": "code",
   "execution_count": 75,
   "metadata": {
    "colab": {
     "base_uri": "https://localhost:8080/"
    },
    "id": "k0FJvUfk0CwA",
    "outputId": "d5220b03-dd01-4800-f5f9-b82f282c3f11"
   },
   "outputs": [
    {
     "name": "stdout",
     "output_type": "stream",
     "text": [
      "Enter the Seller Type (default: 'Private'). Type 'C' for commercial: \n",
      "Enter the Abs test status (default: 'Test'). Type 'C' for Control: c\n",
      "Enter Vehicle type: bus/cabrio/coupe/limousine/small car/station wagon/suv/others : bus\n",
      "Enter the gearbox type (default: 'Manual'). Type 'A' for Automatic: a\n",
      "enter the HorsePower (range 0 to 300): 400\n",
      "enter model name: b_klasse\n",
      "Enter the km travelled: 20000\n",
      "Enter the car  fuel Type from ['diesel', 'petrol', 'cng', 'lpg', 'hybrid', 'electro', 'other']: petrol\n",
      "Enter brand name from ['volvo', 'seat', 'volkswagen', 'mercedes_benz', 'opel', 'skoda', 'toyota','nissan',    'mazda', 'mitsubishi', 'audi', 'fiat', 'alfa_romeo', 'saab', 'bmw', 'peugeot', 'land_rover', 'subaru',    'citroen', 'jeep', 'chrysler', 'ford', 'renault', 'dacia', 'chevrolet', 'smart', 'mini', 'trabant', 'suzuki',    'hyundai', 'honda', 'jaguar', 'porsche', 'kia', 'daihatsu', 'lancia', 'daewoo', 'rover', 'lada']: mercedes_benz\n",
      "Have the previous damages been repaired? (default: NO). Type 'Y' for yes: no\n",
      "Enter Year of registration: 2023\n"
     ]
    }
   ],
   "source": [
    "pred = np.exp(model_rf1.predict([[\n",
    "    seller_encoder.transform([seller()]),\n",
    "    offerType_encoder.transform(['offer']),\n",
    "    abtest_encoder.transform([abtest()]),\n",
    "    vehicleType_encoder.transform([vehicleType()]),\n",
    "    gearbox_encoder.transform([gearbox()]),\n",
    "    powerPS(),\n",
    "    model_encoder.transform([model()]),\n",
    "    km(),\n",
    "    fuelType_encoder.transform([fueltype()]),\n",
    "    brand_encoder.transform([brand()]),\n",
    "    notRepairedDamage_encoder.transform([damage()]),\n",
    "    age()\n",
    "]]))"
   ]
  },
  {
   "cell_type": "code",
   "execution_count": 76,
   "metadata": {},
   "outputs": [
    {
     "name": "stdout",
     "output_type": "stream",
     "text": [
      "The value of your car is: 53458.63628263891\n"
     ]
    }
   ],
   "source": [
    "print(f\"The value of your car is: {pred[0]}\")"
   ]
  },
  {
   "cell_type": "code",
   "execution_count": null,
   "metadata": {},
   "outputs": [],
   "source": []
  },
  {
   "cell_type": "code",
   "execution_count": 69,
   "metadata": {
    "id": "RiuiE6LS0CwA"
   },
   "outputs": [],
   "source": [
    "# np.exp(lnr.predict([[\n",
    "#     seller_encoder.transform([seller()]),\n",
    "#     offerType_encoder.transform(['offer']),\n",
    "#     abtest_encoder.transform([abtest()]),\n",
    "#     vehicleType_encoder.transform([vehicleType()]),\n",
    "#     gearbox_encoder.transform([gearbox()]),\n",
    "#     powerPS(),\n",
    "#     model_encoder.transform([model()]),\n",
    "#     km(),\n",
    "#     fuelType_encoder.transform([fueltype()]),\n",
    "#     brand_encoder.transform([brand()]),\n",
    "#     notRepairedDamage_encoder.transform([damage()]),\n",
    "#     age()\n",
    "# ]]))"
   ]
  },
  {
   "cell_type": "code",
   "execution_count": null,
   "metadata": {},
   "outputs": [],
   "source": []
  },
  {
   "cell_type": "code",
   "execution_count": null,
   "metadata": {},
   "outputs": [],
   "source": []
  },
  {
   "cell_type": "code",
   "execution_count": null,
   "metadata": {},
   "outputs": [],
   "source": []
  }
 ],
 "metadata": {
  "colab": {
   "name": "lin_Reg_and_RFR_by_Omitting_NA_values.ipynb",
   "provenance": []
  },
  "kernelspec": {
   "display_name": "Python 3 (ipykernel)",
   "language": "python",
   "name": "python3"
  },
  "language_info": {
   "codemirror_mode": {
    "name": "ipython",
    "version": 3
   },
   "file_extension": ".py",
   "mimetype": "text/x-python",
   "name": "python",
   "nbconvert_exporter": "python",
   "pygments_lexer": "ipython3",
   "version": "3.9.7"
  }
 },
 "nbformat": 4,
 "nbformat_minor": 1
}
