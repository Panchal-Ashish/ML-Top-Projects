{
  "cells": [
    {
      "cell_type": "markdown",
      "metadata": {
        "id": "bh1Md7rc1hej"
      },
      "source": [
        "**Please fo through Regression Case study 1 and 2 Prior before starting with this code.**\n",
        "\n",
        "**It contains data cleaning, Data visualization, Data preprocessing and Analysis which forms the base for understanding the base of this code**"
      ]
    },
    {
      "cell_type": "code",
      "execution_count": 1,
      "metadata": {
        "id": "3X9f5FB00-3Y"
      },
      "outputs": [],
      "source": [
        "import pandas as pd\n",
        "import numpy as np\n",
        "import seaborn as sns\n",
        "import matplotlib.pyplot as plt\n",
        "from sklearn.model_selection import train_test_split\n",
        "from sklearn.linear_model import LinearRegression\n",
        "from sklearn.ensemble import RandomForestRegressor\n",
        "from sklearn.metrics import mean_squared_error, mean_absolute_error\n",
        "from sklearn.preprocessing import LabelEncoder"
      ]
    },
    {
      "cell_type": "code",
      "source": [
        "from google.colab import drive\n",
        "drive.mount('/content/drive')"
      ],
      "metadata": {
        "id": "gr3StdnlwnnA",
        "outputId": "4455cf98-97fd-4dee-c9bb-984fd470dda7",
        "colab": {
          "base_uri": "https://localhost:8080/"
        }
      },
      "execution_count": 2,
      "outputs": [
        {
          "output_type": "stream",
          "name": "stdout",
          "text": [
            "Mounted at /content/drive\n"
          ]
        }
      ]
    },
    {
      "cell_type": "code",
      "execution_count": null,
      "metadata": {
        "id": "lLWBiTz71gfu"
      },
      "outputs": [],
      "source": [
        ""
      ]
    },
    {
      "cell_type": "code",
      "execution_count": 3,
      "metadata": {
        "id": "SwzWx4V_1K5o"
      },
      "outputs": [],
      "source": [
        "sns.set(rc = {'figure.figsize':(11.7,8.27)})"
      ]
    },
    {
      "cell_type": "code",
      "execution_count": 4,
      "metadata": {
        "id": "6PuiKBEG1QBs"
      },
      "outputs": [],
      "source": [
        "cars_data = pd.read_csv(\"/content/drive/MyDrive/Colab Notebooks/CarsSampled/cars_sampled.csv\")\n",
        "cars = cars_data.copy()"
      ]
    },
    {
      "cell_type": "code",
      "execution_count": 5,
      "metadata": {
        "colab": {
          "base_uri": "https://localhost:8080/",
          "height": 300
        },
        "id": "6Bq3oehV1S9D",
        "outputId": "4ccc42b4-2b4c-498b-dbc9-1a2984a8a73a"
      },
      "outputs": [
        {
          "output_type": "execute_result",
          "data": {
            "text/plain": [
              "             price  yearOfRegistration   powerPS  kilometer  \\\n",
              "count    50001.000           50001.000 50001.000  50001.000   \n",
              "mean      6559.865            2005.544   116.496 125613.688   \n",
              "std      85818.470             122.992   230.568  40205.234   \n",
              "min          0.000            1000.000     0.000   5000.000   \n",
              "25%       1150.000            1999.000    69.000 125000.000   \n",
              "50%       2950.000            2003.000   105.000 150000.000   \n",
              "75%       7190.000            2008.000   150.000 150000.000   \n",
              "max   12345678.000            9999.000 19312.000 150000.000   \n",
              "\n",
              "       monthOfRegistration  postalCode  \n",
              "count            50001.000   50001.000  \n",
              "mean                 5.744   50775.217  \n",
              "std                  3.711   25743.702  \n",
              "min                  0.000    1067.000  \n",
              "25%                  3.000   30559.000  \n",
              "50%                  6.000   49504.000  \n",
              "75%                  9.000   71404.000  \n",
              "max                 12.000   99998.000  "
            ],
            "text/html": [
              "\n",
              "  <div id=\"df-0e435873-25d6-4da4-b6b2-2a133ae51a9f\">\n",
              "    <div class=\"colab-df-container\">\n",
              "      <div>\n",
              "<style scoped>\n",
              "    .dataframe tbody tr th:only-of-type {\n",
              "        vertical-align: middle;\n",
              "    }\n",
              "\n",
              "    .dataframe tbody tr th {\n",
              "        vertical-align: top;\n",
              "    }\n",
              "\n",
              "    .dataframe thead th {\n",
              "        text-align: right;\n",
              "    }\n",
              "</style>\n",
              "<table border=\"1\" class=\"dataframe\">\n",
              "  <thead>\n",
              "    <tr style=\"text-align: right;\">\n",
              "      <th></th>\n",
              "      <th>price</th>\n",
              "      <th>yearOfRegistration</th>\n",
              "      <th>powerPS</th>\n",
              "      <th>kilometer</th>\n",
              "      <th>monthOfRegistration</th>\n",
              "      <th>postalCode</th>\n",
              "    </tr>\n",
              "  </thead>\n",
              "  <tbody>\n",
              "    <tr>\n",
              "      <th>count</th>\n",
              "      <td>50001.000</td>\n",
              "      <td>50001.000</td>\n",
              "      <td>50001.000</td>\n",
              "      <td>50001.000</td>\n",
              "      <td>50001.000</td>\n",
              "      <td>50001.000</td>\n",
              "    </tr>\n",
              "    <tr>\n",
              "      <th>mean</th>\n",
              "      <td>6559.865</td>\n",
              "      <td>2005.544</td>\n",
              "      <td>116.496</td>\n",
              "      <td>125613.688</td>\n",
              "      <td>5.744</td>\n",
              "      <td>50775.217</td>\n",
              "    </tr>\n",
              "    <tr>\n",
              "      <th>std</th>\n",
              "      <td>85818.470</td>\n",
              "      <td>122.992</td>\n",
              "      <td>230.568</td>\n",
              "      <td>40205.234</td>\n",
              "      <td>3.711</td>\n",
              "      <td>25743.702</td>\n",
              "    </tr>\n",
              "    <tr>\n",
              "      <th>min</th>\n",
              "      <td>0.000</td>\n",
              "      <td>1000.000</td>\n",
              "      <td>0.000</td>\n",
              "      <td>5000.000</td>\n",
              "      <td>0.000</td>\n",
              "      <td>1067.000</td>\n",
              "    </tr>\n",
              "    <tr>\n",
              "      <th>25%</th>\n",
              "      <td>1150.000</td>\n",
              "      <td>1999.000</td>\n",
              "      <td>69.000</td>\n",
              "      <td>125000.000</td>\n",
              "      <td>3.000</td>\n",
              "      <td>30559.000</td>\n",
              "    </tr>\n",
              "    <tr>\n",
              "      <th>50%</th>\n",
              "      <td>2950.000</td>\n",
              "      <td>2003.000</td>\n",
              "      <td>105.000</td>\n",
              "      <td>150000.000</td>\n",
              "      <td>6.000</td>\n",
              "      <td>49504.000</td>\n",
              "    </tr>\n",
              "    <tr>\n",
              "      <th>75%</th>\n",
              "      <td>7190.000</td>\n",
              "      <td>2008.000</td>\n",
              "      <td>150.000</td>\n",
              "      <td>150000.000</td>\n",
              "      <td>9.000</td>\n",
              "      <td>71404.000</td>\n",
              "    </tr>\n",
              "    <tr>\n",
              "      <th>max</th>\n",
              "      <td>12345678.000</td>\n",
              "      <td>9999.000</td>\n",
              "      <td>19312.000</td>\n",
              "      <td>150000.000</td>\n",
              "      <td>12.000</td>\n",
              "      <td>99998.000</td>\n",
              "    </tr>\n",
              "  </tbody>\n",
              "</table>\n",
              "</div>\n",
              "      <button class=\"colab-df-convert\" onclick=\"convertToInteractive('df-0e435873-25d6-4da4-b6b2-2a133ae51a9f')\"\n",
              "              title=\"Convert this dataframe to an interactive table.\"\n",
              "              style=\"display:none;\">\n",
              "        \n",
              "  <svg xmlns=\"http://www.w3.org/2000/svg\" height=\"24px\"viewBox=\"0 0 24 24\"\n",
              "       width=\"24px\">\n",
              "    <path d=\"M0 0h24v24H0V0z\" fill=\"none\"/>\n",
              "    <path d=\"M18.56 5.44l.94 2.06.94-2.06 2.06-.94-2.06-.94-.94-2.06-.94 2.06-2.06.94zm-11 1L8.5 8.5l.94-2.06 2.06-.94-2.06-.94L8.5 2.5l-.94 2.06-2.06.94zm10 10l.94 2.06.94-2.06 2.06-.94-2.06-.94-.94-2.06-.94 2.06-2.06.94z\"/><path d=\"M17.41 7.96l-1.37-1.37c-.4-.4-.92-.59-1.43-.59-.52 0-1.04.2-1.43.59L10.3 9.45l-7.72 7.72c-.78.78-.78 2.05 0 2.83L4 21.41c.39.39.9.59 1.41.59.51 0 1.02-.2 1.41-.59l7.78-7.78 2.81-2.81c.8-.78.8-2.07 0-2.86zM5.41 20L4 18.59l7.72-7.72 1.47 1.35L5.41 20z\"/>\n",
              "  </svg>\n",
              "      </button>\n",
              "      \n",
              "  <style>\n",
              "    .colab-df-container {\n",
              "      display:flex;\n",
              "      flex-wrap:wrap;\n",
              "      gap: 12px;\n",
              "    }\n",
              "\n",
              "    .colab-df-convert {\n",
              "      background-color: #E8F0FE;\n",
              "      border: none;\n",
              "      border-radius: 50%;\n",
              "      cursor: pointer;\n",
              "      display: none;\n",
              "      fill: #1967D2;\n",
              "      height: 32px;\n",
              "      padding: 0 0 0 0;\n",
              "      width: 32px;\n",
              "    }\n",
              "\n",
              "    .colab-df-convert:hover {\n",
              "      background-color: #E2EBFA;\n",
              "      box-shadow: 0px 1px 2px rgba(60, 64, 67, 0.3), 0px 1px 3px 1px rgba(60, 64, 67, 0.15);\n",
              "      fill: #174EA6;\n",
              "    }\n",
              "\n",
              "    [theme=dark] .colab-df-convert {\n",
              "      background-color: #3B4455;\n",
              "      fill: #D2E3FC;\n",
              "    }\n",
              "\n",
              "    [theme=dark] .colab-df-convert:hover {\n",
              "      background-color: #434B5C;\n",
              "      box-shadow: 0px 1px 3px 1px rgba(0, 0, 0, 0.15);\n",
              "      filter: drop-shadow(0px 1px 2px rgba(0, 0, 0, 0.3));\n",
              "      fill: #FFFFFF;\n",
              "    }\n",
              "  </style>\n",
              "\n",
              "      <script>\n",
              "        const buttonEl =\n",
              "          document.querySelector('#df-0e435873-25d6-4da4-b6b2-2a133ae51a9f button.colab-df-convert');\n",
              "        buttonEl.style.display =\n",
              "          google.colab.kernel.accessAllowed ? 'block' : 'none';\n",
              "\n",
              "        async function convertToInteractive(key) {\n",
              "          const element = document.querySelector('#df-0e435873-25d6-4da4-b6b2-2a133ae51a9f');\n",
              "          const dataTable =\n",
              "            await google.colab.kernel.invokeFunction('convertToInteractive',\n",
              "                                                     [key], {});\n",
              "          if (!dataTable) return;\n",
              "\n",
              "          const docLinkHtml = 'Like what you see? Visit the ' +\n",
              "            '<a target=\"_blank\" href=https://colab.research.google.com/notebooks/data_table.ipynb>data table notebook</a>'\n",
              "            + ' to learn more about interactive tables.';\n",
              "          element.innerHTML = '';\n",
              "          dataTable['output_type'] = 'display_data';\n",
              "          await google.colab.output.renderOutput(dataTable, element);\n",
              "          const docLink = document.createElement('div');\n",
              "          docLink.innerHTML = docLinkHtml;\n",
              "          element.appendChild(docLink);\n",
              "        }\n",
              "      </script>\n",
              "    </div>\n",
              "  </div>\n",
              "  "
            ]
          },
          "metadata": {},
          "execution_count": 5
        }
      ],
      "source": [
        "pd.set_option('display.float_format', lambda x: '%.3f' %x)\n",
        "pd.set_option('display.max_columns', 500)\n",
        "cars.describe()"
      ]
    },
    {
      "cell_type": "markdown",
      "metadata": {
        "id": "8THqTiYW2mdL"
      },
      "source": [
        "**Removing Insignificant columns**"
      ]
    },
    {
      "cell_type": "code",
      "execution_count": 6,
      "metadata": {
        "colab": {
          "base_uri": "https://localhost:8080/"
        },
        "id": "hl07VWcD1VeB",
        "outputId": "b21c099c-8635-4d5a-df2d-07660abdca50"
      },
      "outputs": [
        {
          "output_type": "stream",
          "name": "stdout",
          "text": [
            "<class 'pandas.core.frame.DataFrame'>\n",
            "Int64Index: 49531 entries, 0 to 50000\n",
            "Data columns (total 14 columns):\n",
            " #   Column               Non-Null Count  Dtype \n",
            "---  ------               --------------  ----- \n",
            " 0   seller               49531 non-null  object\n",
            " 1   offerType            49531 non-null  object\n",
            " 2   price                49531 non-null  int64 \n",
            " 3   abtest               49531 non-null  object\n",
            " 4   vehicleType          44379 non-null  object\n",
            " 5   yearOfRegistration   49531 non-null  int64 \n",
            " 6   gearbox              46766 non-null  object\n",
            " 7   powerPS              49531 non-null  int64 \n",
            " 8   model                46801 non-null  object\n",
            " 9   kilometer            49531 non-null  int64 \n",
            " 10  monthOfRegistration  49531 non-null  int64 \n",
            " 11  fuelType             45064 non-null  object\n",
            " 12  brand                49531 non-null  object\n",
            " 13  notRepairedDamage    39891 non-null  object\n",
            "dtypes: int64(5), object(9)\n",
            "memory usage: 5.7+ MB\n"
          ]
        }
      ],
      "source": [
        "col = ['name','dateCrawled','dateCreated','postalCode','lastSeen']\n",
        "cars = cars.drop(columns = col, axis= 1)\n",
        "\n",
        "cars.drop_duplicates(keep = 'first', inplace = True)\n",
        "cars.info()"
      ]
    },
    {
      "cell_type": "markdown",
      "metadata": {
        "id": "Wsu5DCWm2qva"
      },
      "source": [
        "**Subsetting only the significant Data**"
      ]
    },
    {
      "cell_type": "code",
      "execution_count": 7,
      "metadata": {
        "id": "CQpVCree2MxR"
      },
      "outputs": [],
      "source": [
        "cars = cars[\n",
        "    (cars[\"yearOfRegistration\"] <= 2020)\n",
        "    &(cars[\"yearOfRegistration\"] >= 1950)\n",
        "    &(cars[\"price\"] >= 100)\n",
        "    &(cars[\"price\"] <= 150000)\n",
        "    &(cars[\"powerPS\"] >= 10)\n",
        "    &(cars[\"powerPS\"] <= 500)\n",
        "]\n",
        "# Approx 6700 records are dropped"
      ]
    },
    {
      "cell_type": "code",
      "execution_count": null,
      "metadata": {
        "id": "WKcSUP2S2UhW"
      },
      "outputs": [],
      "source": [
        ""
      ]
    },
    {
      "cell_type": "code",
      "execution_count": 8,
      "metadata": {
        "colab": {
          "base_uri": "https://localhost:8080/"
        },
        "id": "zGnz8XUmoJ5E",
        "outputId": "431d78eb-db11-4f7d-c426-808326971f52"
      },
      "outputs": [
        {
          "output_type": "execute_result",
          "data": {
            "text/plain": [
              "count   42772.000\n",
              "mean       16.873\n",
              "std         7.093\n",
              "min         2.000\n",
              "25%        12.330\n",
              "50%        16.830\n",
              "75%        21.170\n",
              "max        69.750\n",
              "Name: Age, dtype: float64"
            ]
          },
          "metadata": {},
          "execution_count": 8
        }
      ],
      "source": [
        "cars['Age'] = (2020 - cars['yearOfRegistration']) + ((cars['monthOfRegistration'])/12)\n",
        "cars[\"Age\"] = round(cars[\"Age\"], 2)\n",
        "cars['Age'].describe()"
      ]
    },
    {
      "cell_type": "markdown",
      "metadata": {
        "id": "X3ZpT8Ir20w6"
      },
      "source": [
        "*Further Dropping insignificant variables*"
      ]
    },
    {
      "cell_type": "code",
      "execution_count": 9,
      "metadata": {
        "id": "7ekj-RsN2ZaA"
      },
      "outputs": [],
      "source": [
        "cars = cars.drop(columns = ['yearOfRegistration','monthOfRegistration'])"
      ]
    },
    {
      "cell_type": "code",
      "execution_count": 10,
      "metadata": {
        "colab": {
          "base_uri": "https://localhost:8080/"
        },
        "id": "J7pWhRtn2eFm",
        "outputId": "57bdce80-1316-40a1-a096-90409d31cfb5"
      },
      "outputs": [
        {
          "output_type": "stream",
          "name": "stdout",
          "text": [
            "           price  powerPS  kilometer    Age\n",
            "price      1.000    0.575     -0.440 -0.336\n",
            "powerPS    0.575    1.000     -0.016 -0.151\n",
            "kilometer -0.440   -0.016      1.000  0.292\n",
            "Age       -0.336   -0.151      0.292  1.000\n",
            "price       1.000\n",
            "powerPS     0.575\n",
            "kilometer   0.440\n",
            "Age         0.336\n",
            "Name: price, dtype: float64\n"
          ]
        }
      ],
      "source": [
        "## Correlation Among Numeric Variables\n",
        "\n",
        "cars_select1 = cars.select_dtypes(exclude = [object])\n",
        "correlation = cars_select1.corr()\n",
        "print(round(correlation,3))\n",
        "print(cars_select1.corr().loc[:,'price'].abs().sort_values(ascending  = False))"
      ]
    },
    {
      "cell_type": "markdown",
      "metadata": {
        "id": "hXbq-QsB3PVa"
      },
      "source": [
        "## Actual code of this Session\n",
        "We are going to build a linear regression and random forest regression model on 2 sets of data\n",
        "1. Data obtained by omitting rows with any missing value\n",
        "2. Data obtained by imputing the misssing values"
      ]
    },
    {
      "cell_type": "markdown",
      "metadata": {
        "id": "krMpXa5o3Tnj"
      },
      "source": [
        "## ==== 1. Linear Regression Model Omitting the missing values ===="
      ]
    },
    {
      "cell_type": "code",
      "execution_count": 10,
      "metadata": {
        "id": "T546776y0CvI"
      },
      "outputs": [],
      "source": [
        ""
      ]
    },
    {
      "cell_type": "code",
      "execution_count": 11,
      "metadata": {
        "id": "w_bIW5mA3JQ6"
      },
      "outputs": [],
      "source": [
        "cars_omit = cars.dropna(axis = 0)\n",
        "# Approx 10000 records removed"
      ]
    },
    {
      "cell_type": "code",
      "execution_count": 12,
      "metadata": {
        "colab": {
          "base_uri": "https://localhost:8080/"
        },
        "id": "OK1nU6Ss0CvJ",
        "outputId": "1b9c4c53-b701-459d-85f9-84cd78ac1fc2"
      },
      "outputs": [
        {
          "output_type": "stream",
          "name": "stdout",
          "text": [
            "<class 'pandas.core.frame.DataFrame'>\n",
            "Int64Index: 32884 entries, 1 to 50000\n",
            "Data columns (total 13 columns):\n",
            " #   Column             Non-Null Count  Dtype  \n",
            "---  ------             --------------  -----  \n",
            " 0   seller             32884 non-null  object \n",
            " 1   offerType          32884 non-null  object \n",
            " 2   price              32884 non-null  int64  \n",
            " 3   abtest             32884 non-null  object \n",
            " 4   vehicleType        32884 non-null  object \n",
            " 5   gearbox            32884 non-null  object \n",
            " 6   powerPS            32884 non-null  int64  \n",
            " 7   model              32884 non-null  object \n",
            " 8   kilometer          32884 non-null  int64  \n",
            " 9   fuelType           32884 non-null  object \n",
            " 10  brand              32884 non-null  object \n",
            " 11  notRepairedDamage  32884 non-null  object \n",
            " 12  Age                32884 non-null  float64\n",
            "dtypes: float64(1), int64(3), object(9)\n",
            "memory usage: 3.5+ MB\n"
          ]
        }
      ],
      "source": [
        "cars_omit.info()"
      ]
    },
    {
      "cell_type": "code",
      "execution_count": 13,
      "metadata": {
        "colab": {
          "base_uri": "https://localhost:8080/",
          "height": 270
        },
        "id": "H7GYIp5U0CvK",
        "outputId": "e4e175e9-37a4-401b-df4c-d7969f929639"
      },
      "outputs": [
        {
          "output_type": "execute_result",
          "data": {
            "text/plain": [
              "    seller offerType  price   abtest vehicleType    gearbox  powerPS  \\\n",
              "1  private     offer  13299  control         suv     manual      163   \n",
              "3  private     offer   4500  control   small car     manual       86   \n",
              "4  private     offer  18750     test         suv  automatic      185   \n",
              "5  private     offer    988     test   limousine     manual       90   \n",
              "7  private     offer   1399     test       coupe     manual      136   \n",
              "\n",
              "      model  kilometer fuelType          brand notRepairedDamage    Age  \n",
              "1  xc_reihe     150000   diesel          volvo                no 15.500  \n",
              "3     ibiza      60000   petrol           seat                no 15.000  \n",
              "4  xc_reihe     150000   diesel          volvo                no 12.920  \n",
              "5    passat     150000   petrol     volkswagen                no 25.170  \n",
              "7       clk     150000   petrol  mercedes_benz                no 23.920  "
            ],
            "text/html": [
              "\n",
              "  <div id=\"df-ab8116dc-6ee8-460a-861a-f4bed1026045\">\n",
              "    <div class=\"colab-df-container\">\n",
              "      <div>\n",
              "<style scoped>\n",
              "    .dataframe tbody tr th:only-of-type {\n",
              "        vertical-align: middle;\n",
              "    }\n",
              "\n",
              "    .dataframe tbody tr th {\n",
              "        vertical-align: top;\n",
              "    }\n",
              "\n",
              "    .dataframe thead th {\n",
              "        text-align: right;\n",
              "    }\n",
              "</style>\n",
              "<table border=\"1\" class=\"dataframe\">\n",
              "  <thead>\n",
              "    <tr style=\"text-align: right;\">\n",
              "      <th></th>\n",
              "      <th>seller</th>\n",
              "      <th>offerType</th>\n",
              "      <th>price</th>\n",
              "      <th>abtest</th>\n",
              "      <th>vehicleType</th>\n",
              "      <th>gearbox</th>\n",
              "      <th>powerPS</th>\n",
              "      <th>model</th>\n",
              "      <th>kilometer</th>\n",
              "      <th>fuelType</th>\n",
              "      <th>brand</th>\n",
              "      <th>notRepairedDamage</th>\n",
              "      <th>Age</th>\n",
              "    </tr>\n",
              "  </thead>\n",
              "  <tbody>\n",
              "    <tr>\n",
              "      <th>1</th>\n",
              "      <td>private</td>\n",
              "      <td>offer</td>\n",
              "      <td>13299</td>\n",
              "      <td>control</td>\n",
              "      <td>suv</td>\n",
              "      <td>manual</td>\n",
              "      <td>163</td>\n",
              "      <td>xc_reihe</td>\n",
              "      <td>150000</td>\n",
              "      <td>diesel</td>\n",
              "      <td>volvo</td>\n",
              "      <td>no</td>\n",
              "      <td>15.500</td>\n",
              "    </tr>\n",
              "    <tr>\n",
              "      <th>3</th>\n",
              "      <td>private</td>\n",
              "      <td>offer</td>\n",
              "      <td>4500</td>\n",
              "      <td>control</td>\n",
              "      <td>small car</td>\n",
              "      <td>manual</td>\n",
              "      <td>86</td>\n",
              "      <td>ibiza</td>\n",
              "      <td>60000</td>\n",
              "      <td>petrol</td>\n",
              "      <td>seat</td>\n",
              "      <td>no</td>\n",
              "      <td>15.000</td>\n",
              "    </tr>\n",
              "    <tr>\n",
              "      <th>4</th>\n",
              "      <td>private</td>\n",
              "      <td>offer</td>\n",
              "      <td>18750</td>\n",
              "      <td>test</td>\n",
              "      <td>suv</td>\n",
              "      <td>automatic</td>\n",
              "      <td>185</td>\n",
              "      <td>xc_reihe</td>\n",
              "      <td>150000</td>\n",
              "      <td>diesel</td>\n",
              "      <td>volvo</td>\n",
              "      <td>no</td>\n",
              "      <td>12.920</td>\n",
              "    </tr>\n",
              "    <tr>\n",
              "      <th>5</th>\n",
              "      <td>private</td>\n",
              "      <td>offer</td>\n",
              "      <td>988</td>\n",
              "      <td>test</td>\n",
              "      <td>limousine</td>\n",
              "      <td>manual</td>\n",
              "      <td>90</td>\n",
              "      <td>passat</td>\n",
              "      <td>150000</td>\n",
              "      <td>petrol</td>\n",
              "      <td>volkswagen</td>\n",
              "      <td>no</td>\n",
              "      <td>25.170</td>\n",
              "    </tr>\n",
              "    <tr>\n",
              "      <th>7</th>\n",
              "      <td>private</td>\n",
              "      <td>offer</td>\n",
              "      <td>1399</td>\n",
              "      <td>test</td>\n",
              "      <td>coupe</td>\n",
              "      <td>manual</td>\n",
              "      <td>136</td>\n",
              "      <td>clk</td>\n",
              "      <td>150000</td>\n",
              "      <td>petrol</td>\n",
              "      <td>mercedes_benz</td>\n",
              "      <td>no</td>\n",
              "      <td>23.920</td>\n",
              "    </tr>\n",
              "  </tbody>\n",
              "</table>\n",
              "</div>\n",
              "      <button class=\"colab-df-convert\" onclick=\"convertToInteractive('df-ab8116dc-6ee8-460a-861a-f4bed1026045')\"\n",
              "              title=\"Convert this dataframe to an interactive table.\"\n",
              "              style=\"display:none;\">\n",
              "        \n",
              "  <svg xmlns=\"http://www.w3.org/2000/svg\" height=\"24px\"viewBox=\"0 0 24 24\"\n",
              "       width=\"24px\">\n",
              "    <path d=\"M0 0h24v24H0V0z\" fill=\"none\"/>\n",
              "    <path d=\"M18.56 5.44l.94 2.06.94-2.06 2.06-.94-2.06-.94-.94-2.06-.94 2.06-2.06.94zm-11 1L8.5 8.5l.94-2.06 2.06-.94-2.06-.94L8.5 2.5l-.94 2.06-2.06.94zm10 10l.94 2.06.94-2.06 2.06-.94-2.06-.94-.94-2.06-.94 2.06-2.06.94z\"/><path d=\"M17.41 7.96l-1.37-1.37c-.4-.4-.92-.59-1.43-.59-.52 0-1.04.2-1.43.59L10.3 9.45l-7.72 7.72c-.78.78-.78 2.05 0 2.83L4 21.41c.39.39.9.59 1.41.59.51 0 1.02-.2 1.41-.59l7.78-7.78 2.81-2.81c.8-.78.8-2.07 0-2.86zM5.41 20L4 18.59l7.72-7.72 1.47 1.35L5.41 20z\"/>\n",
              "  </svg>\n",
              "      </button>\n",
              "      \n",
              "  <style>\n",
              "    .colab-df-container {\n",
              "      display:flex;\n",
              "      flex-wrap:wrap;\n",
              "      gap: 12px;\n",
              "    }\n",
              "\n",
              "    .colab-df-convert {\n",
              "      background-color: #E8F0FE;\n",
              "      border: none;\n",
              "      border-radius: 50%;\n",
              "      cursor: pointer;\n",
              "      display: none;\n",
              "      fill: #1967D2;\n",
              "      height: 32px;\n",
              "      padding: 0 0 0 0;\n",
              "      width: 32px;\n",
              "    }\n",
              "\n",
              "    .colab-df-convert:hover {\n",
              "      background-color: #E2EBFA;\n",
              "      box-shadow: 0px 1px 2px rgba(60, 64, 67, 0.3), 0px 1px 3px 1px rgba(60, 64, 67, 0.15);\n",
              "      fill: #174EA6;\n",
              "    }\n",
              "\n",
              "    [theme=dark] .colab-df-convert {\n",
              "      background-color: #3B4455;\n",
              "      fill: #D2E3FC;\n",
              "    }\n",
              "\n",
              "    [theme=dark] .colab-df-convert:hover {\n",
              "      background-color: #434B5C;\n",
              "      box-shadow: 0px 1px 3px 1px rgba(0, 0, 0, 0.15);\n",
              "      filter: drop-shadow(0px 1px 2px rgba(0, 0, 0, 0.3));\n",
              "      fill: #FFFFFF;\n",
              "    }\n",
              "  </style>\n",
              "\n",
              "      <script>\n",
              "        const buttonEl =\n",
              "          document.querySelector('#df-ab8116dc-6ee8-460a-861a-f4bed1026045 button.colab-df-convert');\n",
              "        buttonEl.style.display =\n",
              "          google.colab.kernel.accessAllowed ? 'block' : 'none';\n",
              "\n",
              "        async function convertToInteractive(key) {\n",
              "          const element = document.querySelector('#df-ab8116dc-6ee8-460a-861a-f4bed1026045');\n",
              "          const dataTable =\n",
              "            await google.colab.kernel.invokeFunction('convertToInteractive',\n",
              "                                                     [key], {});\n",
              "          if (!dataTable) return;\n",
              "\n",
              "          const docLinkHtml = 'Like what you see? Visit the ' +\n",
              "            '<a target=\"_blank\" href=https://colab.research.google.com/notebooks/data_table.ipynb>data table notebook</a>'\n",
              "            + ' to learn more about interactive tables.';\n",
              "          element.innerHTML = '';\n",
              "          dataTable['output_type'] = 'display_data';\n",
              "          await google.colab.output.renderOutput(dataTable, element);\n",
              "          const docLink = document.createElement('div');\n",
              "          docLink.innerHTML = docLinkHtml;\n",
              "          element.appendChild(docLink);\n",
              "        }\n",
              "      </script>\n",
              "    </div>\n",
              "  </div>\n",
              "  "
            ]
          },
          "metadata": {},
          "execution_count": 13
        }
      ],
      "source": [
        "cars_omit.head(5)"
      ]
    },
    {
      "cell_type": "code",
      "execution_count": 14,
      "metadata": {
        "id": "R8JVchrK5D1i"
      },
      "outputs": [],
      "source": [
        "cars_omit2 = cars_omit.copy()"
      ]
    },
    {
      "cell_type": "code",
      "execution_count": 15,
      "metadata": {
        "id": "BcJEkvBb0CvK"
      },
      "outputs": [],
      "source": [
        "cars_omit.to_csv(\"cars_cleaned.csv\", index = False)"
      ]
    },
    {
      "cell_type": "code",
      "execution_count": 15,
      "metadata": {
        "id": "1htmnBnw0CvL"
      },
      "outputs": [],
      "source": [
        ""
      ]
    },
    {
      "cell_type": "code",
      "execution_count": 16,
      "metadata": {
        "id": "HM_RY2IX0CvL"
      },
      "outputs": [],
      "source": [
        "encoder = LabelEncoder()"
      ]
    },
    {
      "cell_type": "markdown",
      "metadata": {
        "id": "zv_3gnCB3f_V"
      },
      "source": [
        "#### converting categorical variables into dummy variables"
      ]
    },
    {
      "cell_type": "code",
      "execution_count": 17,
      "metadata": {
        "id": "shyfpa3N0CvM"
      },
      "outputs": [],
      "source": [
        "# print(cars_omit['seller'].unique())\n",
        "# print(\"\\n\")\n",
        "# print(cars_omit['offerType'].unique())\n",
        "# print(\"\\n\")\n",
        "# print(cars_omit['vehicleType'].unique())\n",
        "# print(\"\\n\")\n",
        "# print(cars_omit['gearbox'].unique())\n",
        "# print(\"\\n\")\n",
        "# print(cars_omit['model'].unique())\n",
        "# print(\"\\n\")\n",
        "# print(cars_omit['fuelType'].unique())\n",
        "# print(\"\\n\")\n",
        "# print(cars_omit['brand'].unique())\n",
        "# print(\"\\n\")\n",
        "# print(cars_omit['notRepairedDamage'].unique())"
      ]
    },
    {
      "cell_type": "code",
      "execution_count": 18,
      "metadata": {
        "colab": {
          "base_uri": "https://localhost:8080/"
        },
        "id": "qDTsCVD-0CvN",
        "outputId": "00d55126-b822-476f-e460-8cb2d18f7dd3",
        "scrolled": true
      },
      "outputs": [
        {
          "output_type": "stream",
          "name": "stderr",
          "text": [
            "/usr/local/lib/python3.7/dist-packages/ipykernel_launcher.py:2: SettingWithCopyWarning: \n",
            "A value is trying to be set on a copy of a slice from a DataFrame.\n",
            "Try using .loc[row_indexer,col_indexer] = value instead\n",
            "\n",
            "See the caveats in the documentation: https://pandas.pydata.org/pandas-docs/stable/user_guide/indexing.html#returning-a-view-versus-a-copy\n",
            "  \n",
            "/usr/local/lib/python3.7/dist-packages/ipykernel_launcher.py:5: SettingWithCopyWarning: \n",
            "A value is trying to be set on a copy of a slice from a DataFrame.\n",
            "Try using .loc[row_indexer,col_indexer] = value instead\n",
            "\n",
            "See the caveats in the documentation: https://pandas.pydata.org/pandas-docs/stable/user_guide/indexing.html#returning-a-view-versus-a-copy\n",
            "  \"\"\"\n",
            "/usr/local/lib/python3.7/dist-packages/ipykernel_launcher.py:8: SettingWithCopyWarning: \n",
            "A value is trying to be set on a copy of a slice from a DataFrame.\n",
            "Try using .loc[row_indexer,col_indexer] = value instead\n",
            "\n",
            "See the caveats in the documentation: https://pandas.pydata.org/pandas-docs/stable/user_guide/indexing.html#returning-a-view-versus-a-copy\n",
            "  \n",
            "/usr/local/lib/python3.7/dist-packages/ipykernel_launcher.py:11: SettingWithCopyWarning: \n",
            "A value is trying to be set on a copy of a slice from a DataFrame.\n",
            "Try using .loc[row_indexer,col_indexer] = value instead\n",
            "\n",
            "See the caveats in the documentation: https://pandas.pydata.org/pandas-docs/stable/user_guide/indexing.html#returning-a-view-versus-a-copy\n",
            "  # This is added back by InteractiveShellApp.init_path()\n",
            "/usr/local/lib/python3.7/dist-packages/ipykernel_launcher.py:14: SettingWithCopyWarning: \n",
            "A value is trying to be set on a copy of a slice from a DataFrame.\n",
            "Try using .loc[row_indexer,col_indexer] = value instead\n",
            "\n",
            "See the caveats in the documentation: https://pandas.pydata.org/pandas-docs/stable/user_guide/indexing.html#returning-a-view-versus-a-copy\n",
            "  \n",
            "/usr/local/lib/python3.7/dist-packages/ipykernel_launcher.py:17: SettingWithCopyWarning: \n",
            "A value is trying to be set on a copy of a slice from a DataFrame.\n",
            "Try using .loc[row_indexer,col_indexer] = value instead\n",
            "\n",
            "See the caveats in the documentation: https://pandas.pydata.org/pandas-docs/stable/user_guide/indexing.html#returning-a-view-versus-a-copy\n",
            "/usr/local/lib/python3.7/dist-packages/ipykernel_launcher.py:20: SettingWithCopyWarning: \n",
            "A value is trying to be set on a copy of a slice from a DataFrame.\n",
            "Try using .loc[row_indexer,col_indexer] = value instead\n",
            "\n",
            "See the caveats in the documentation: https://pandas.pydata.org/pandas-docs/stable/user_guide/indexing.html#returning-a-view-versus-a-copy\n",
            "/usr/local/lib/python3.7/dist-packages/ipykernel_launcher.py:23: SettingWithCopyWarning: \n",
            "A value is trying to be set on a copy of a slice from a DataFrame.\n",
            "Try using .loc[row_indexer,col_indexer] = value instead\n",
            "\n",
            "See the caveats in the documentation: https://pandas.pydata.org/pandas-docs/stable/user_guide/indexing.html#returning-a-view-versus-a-copy\n",
            "/usr/local/lib/python3.7/dist-packages/ipykernel_launcher.py:26: SettingWithCopyWarning: \n",
            "A value is trying to be set on a copy of a slice from a DataFrame.\n",
            "Try using .loc[row_indexer,col_indexer] = value instead\n",
            "\n",
            "See the caveats in the documentation: https://pandas.pydata.org/pandas-docs/stable/user_guide/indexing.html#returning-a-view-versus-a-copy\n"
          ]
        }
      ],
      "source": [
        "seller_encoder = LabelEncoder()\n",
        "cars_omit['seller'] = seller_encoder.fit_transform(cars_omit['seller'])\n",
        "\n",
        "offerType_encoder = LabelEncoder()\n",
        "cars_omit['offerType'] = offerType_encoder.fit_transform(cars_omit['offerType'])\n",
        "\n",
        "abtest_encoder = LabelEncoder()\n",
        "cars_omit['abtest'] = abtest_encoder.fit_transform(cars_omit['abtest'])\n",
        "\n",
        "vehicleType_encoder = LabelEncoder()\n",
        "cars_omit['vehicleType'] = vehicleType_encoder.fit_transform(cars_omit['vehicleType'])\n",
        "\n",
        "gearbox_encoder = LabelEncoder()\n",
        "cars_omit['gearbox'] = gearbox_encoder.fit_transform(cars_omit['gearbox'])\n",
        "\n",
        "model_encoder = LabelEncoder()\n",
        "cars_omit['model'] = model_encoder.fit_transform(cars_omit['model'])\n",
        "\n",
        "fuelType_encoder = LabelEncoder()\n",
        "cars_omit['fuelType'] = fuelType_encoder.fit_transform(cars_omit['fuelType'])\n",
        "\n",
        "brand_encoder = LabelEncoder()\n",
        "cars_omit['brand'] = brand_encoder.fit_transform(cars_omit['brand'])\n",
        "\n",
        "notRepairedDamage_encoder = LabelEncoder()\n",
        "cars_omit['notRepairedDamage'] = notRepairedDamage_encoder.fit_transform(cars_omit['notRepairedDamage'])"
      ]
    },
    {
      "cell_type": "code",
      "execution_count": 19,
      "metadata": {
        "id": "0vfA62lV0CvO"
      },
      "outputs": [],
      "source": [
        "seller_dict = {name: seller_encoder.transform([name])  for name in cars_omit2['seller'].unique()}\n",
        "\n",
        "offerType_dict = {name: offerType_encoder.transform([name])  for name in cars_omit2['offerType'].unique()}\n",
        "\n",
        "vehicleType_dict = {name: vehicleType_encoder.transform([name])  for name in cars_omit2['vehicleType'].unique()}\n",
        "\n",
        "abtest_dict = {name: abtest_encoder.transform([name])  for name in cars_omit2['abtest'].unique()}\n",
        "\n",
        "gearbox_dict = {name: gearbox_encoder.transform([name])  for name in cars_omit2['gearbox'].unique()}\n",
        "\n",
        "model_dict = {name: model_encoder.transform([name])  for name in cars_omit2['model'].unique()}\n",
        "\n",
        "fuelType_dict = {name: fuelType_encoder.transform([name])  for name in cars_omit2['fuelType'].unique()}\n",
        "\n",
        "brand_dict = {name: brand_encoder.transform([name])  for name in cars_omit2['brand'].unique()}\n",
        "\n",
        "notRepairedDamage_dict = {name: notRepairedDamage_encoder.transform([name])  for name in cars_omit2['notRepairedDamage'].unique()}"
      ]
    },
    {
      "cell_type": "code",
      "execution_count": 20,
      "metadata": {
        "colab": {
          "base_uri": "https://localhost:8080/"
        },
        "id": "PZbNqB-V0CvQ",
        "outputId": "1fade0b3-80e7-4521-8678-9d763cdebd97"
      },
      "outputs": [
        {
          "output_type": "stream",
          "name": "stdout",
          "text": [
            "seller_dict: \n",
            " {'private': array([1]), 'commercial': array([0])} \n",
            "\n",
            "offerType_dict: \n",
            " {'offer': array([0])} \n",
            "\n",
            "vehicleType_dict: \n",
            " {'suv': array([7]), 'small car': array([5]), 'limousine': array([3]), 'coupe': array([2]), 'station wagon': array([6]), 'cabrio': array([1]), 'bus': array([0]), 'others': array([4])} \n",
            "\n",
            "abtest_dict: \n",
            " {'control': array([0]), 'test': array([1])} \n",
            "\n",
            "gearbox_dict: \n",
            " {'manual': array([1]), 'automatic': array([0])} \n",
            "\n",
            "fuelType_dict: \n",
            " {'diesel': array([1]), 'petrol': array([6]), 'cng': array([0]), 'lpg': array([4]), 'hybrid': array([3]), 'electro': array([2]), 'other': array([5])} \n",
            "\n",
            "brand_dict: \n",
            " {'volvo': array([38]), 'seat': array([30]), 'volkswagen': array([37]), 'mercedes_benz': array([20]), 'opel': array([24]), 'skoda': array([31]), 'toyota': array([35]), 'nissan': array([23]), 'mazda': array([19]), 'mitsubishi': array([22]), 'audi': array([1]), 'fiat': array([9]), 'alfa_romeo': array([0]), 'saab': array([29]), 'bmw': array([2]), 'peugeot': array([25]), 'land_rover': array([18]), 'subaru': array([33]), 'citroen': array([5]), 'jeep': array([14]), 'chrysler': array([4]), 'ford': array([10]), 'renault': array([27]), 'dacia': array([6]), 'chevrolet': array([3]), 'smart': array([32]), 'mini': array([21]), 'trabant': array([36]), 'suzuki': array([34]), 'hyundai': array([12]), 'honda': array([11]), 'jaguar': array([13]), 'porsche': array([26]), 'kia': array([15]), 'daihatsu': array([8]), 'lancia': array([17]), 'daewoo': array([7]), 'rover': array([28]), 'lada': array([16])} \n",
            "\n",
            "notRepairedDamage_dict: \n",
            " {'no': array([0]), 'yes': array([1])} \n",
            "\n"
          ]
        }
      ],
      "source": [
        "print(\"seller_dict: \\n\", seller_dict,\"\\n\")\n",
        "print(\"offerType_dict: \\n\", offerType_dict,\"\\n\")\n",
        "print(\"vehicleType_dict: \\n\", vehicleType_dict,\"\\n\")\n",
        "print(\"abtest_dict: \\n\", abtest_dict,\"\\n\")\n",
        "print(\"gearbox_dict: \\n\", gearbox_dict,\"\\n\")\n",
        "print(\"fuelType_dict: \\n\", fuelType_dict,\"\\n\")\n",
        "print(\"brand_dict: \\n\", brand_dict,\"\\n\")\n",
        "print(\"notRepairedDamage_dict: \\n\", notRepairedDamage_dict,\"\\n\")"
      ]
    },
    {
      "cell_type": "code",
      "execution_count": 21,
      "metadata": {
        "colab": {
          "base_uri": "https://localhost:8080/"
        },
        "id": "nDxJLA_u0CvQ",
        "outputId": "a85a4879-b3bf-4dd6-ec9e-88d44cc3e329"
      },
      "outputs": [
        {
          "output_type": "execute_result",
          "data": {
            "text/plain": [
              "array([38])"
            ]
          },
          "metadata": {},
          "execution_count": 21
        }
      ],
      "source": [
        "# brand_dict['volvo']"
      ]
    },
    {
      "cell_type": "code",
      "execution_count": 21,
      "metadata": {
        "id": "zwrPZ8uf0CvS"
      },
      "outputs": [],
      "source": [
        ""
      ]
    },
    {
      "cell_type": "code",
      "execution_count": 21,
      "metadata": {
        "id": "U3-QdS3T0CvT"
      },
      "outputs": [],
      "source": [
        ""
      ]
    },
    {
      "cell_type": "code",
      "execution_count": 21,
      "metadata": {
        "id": "ver-3Tak0CvT"
      },
      "outputs": [],
      "source": [
        ""
      ]
    },
    {
      "cell_type": "code",
      "execution_count": 22,
      "metadata": {
        "id": "yZhAD8Br3Wls"
      },
      "outputs": [],
      "source": [
        "# cars_omit = pd.get_dummies(cars_omit, drop_first = True)"
      ]
    },
    {
      "cell_type": "code",
      "execution_count": 53,
      "metadata": {
        "colab": {
          "base_uri": "https://localhost:8080/"
        },
        "id": "GbmE1PHM0CvU",
        "outputId": "a79aae9a-96ee-4695-d211-5d045ab069f9"
      },
      "outputs": [
        {
          "output_type": "stream",
          "name": "stdout",
          "text": [
            "<class 'pandas.core.frame.DataFrame'>\n",
            "Int64Index: 32884 entries, 1 to 50000\n",
            "Data columns (total 13 columns):\n",
            " #   Column             Non-Null Count  Dtype  \n",
            "---  ------             --------------  -----  \n",
            " 0   seller             32884 non-null  int64  \n",
            " 1   offerType          32884 non-null  int64  \n",
            " 2   price              32884 non-null  int64  \n",
            " 3   abtest             32884 non-null  int64  \n",
            " 4   vehicleType        32884 non-null  int64  \n",
            " 5   gearbox            32884 non-null  int64  \n",
            " 6   powerPS            32884 non-null  int64  \n",
            " 7   model              32884 non-null  int64  \n",
            " 8   kilometer          32884 non-null  int64  \n",
            " 9   fuelType           32884 non-null  int64  \n",
            " 10  brand              32884 non-null  int64  \n",
            " 11  notRepairedDamage  32884 non-null  int64  \n",
            " 12  Age                32884 non-null  float64\n",
            "dtypes: float64(1), int64(12)\n",
            "memory usage: 4.5 MB\n"
          ]
        }
      ],
      "source": [
        "cars_omit.info()"
      ]
    },
    {
      "cell_type": "markdown",
      "metadata": {
        "id": "hurXCck43kBX"
      },
      "source": [
        "### ===== Building model with the omitted data =====\n",
        "#### separating input and output variables"
      ]
    },
    {
      "cell_type": "code",
      "execution_count": 53,
      "metadata": {
        "id": "eADf7yQh3jgR"
      },
      "outputs": [],
      "source": [
        ""
      ]
    },
    {
      "cell_type": "code",
      "execution_count": 54,
      "metadata": {
        "id": "_fszkEeLoJ5T"
      },
      "outputs": [],
      "source": [
        "x1 = cars_omit.drop(['price'], axis= 1, inplace = False)\n",
        "y1 = cars_omit['price']"
      ]
    },
    {
      "cell_type": "markdown",
      "metadata": {
        "id": "8bbUZHKR32z5"
      },
      "source": [
        "#### plotting the variable price"
      ]
    },
    {
      "cell_type": "code",
      "execution_count": 55,
      "metadata": {
        "colab": {
          "base_uri": "https://localhost:8080/",
          "height": 534
        },
        "id": "uNshlgIS0CvY",
        "outputId": "ff5db569-5221-4bdd-d122-18ab8e9c5de5"
      },
      "outputs": [
        {
          "output_type": "execute_result",
          "data": {
            "text/plain": [
              "<matplotlib.axes._subplots.AxesSubplot at 0x7fb666201a10>"
            ]
          },
          "metadata": {},
          "execution_count": 55
        },
        {
          "output_type": "display_data",
          "data": {
            "text/plain": [
              "<Figure size 842.4x595.44 with 1 Axes>"
            ],
            "image/png": "[encoded data removed]"
          },
          "metadata": {}
        }
      ],
      "source": [
        "sns.histplot(x = y1, bins = 8)"
      ]
    },
    {
      "cell_type": "code",
      "execution_count": 56,
      "metadata": {
        "colab": {
          "base_uri": "https://localhost:8080/",
          "height": 568
        },
        "id": "EygIY2u13w6w",
        "outputId": "3a89f598-70fc-4f09-fc4c-ea50cfd1844d"
      },
      "outputs": [
        {
          "output_type": "execute_result",
          "data": {
            "text/plain": [
              "array([[<matplotlib.axes._subplots.AxesSubplot object at 0x7fb661184cd0>,\n",
              "        <matplotlib.axes._subplots.AxesSubplot object at 0x7fb6611ade10>]],\n",
              "      dtype=object)"
            ]
          },
          "metadata": {},
          "execution_count": 56
        },
        {
          "output_type": "display_data",
          "data": {
            "text/plain": [
              "<Figure size 842.4x595.44 with 2 Axes>"
            ],
            "image/png": "[encoded data removed]"
          },
          "metadata": {}
        }
      ],
      "source": [
        "prices = pd.DataFrame({\"1. Before\": y1, \"2. After\": np.log(y1)})\n",
        "prices.hist()\n",
        "\n"
      ]
    },
    {
      "cell_type": "markdown",
      "metadata": {
        "id": "fAKIGE4138Vk"
      },
      "source": [
        "1. for histogram for log(prices)... it is nicely bell shaped\n",
        "2. for histogram for simply prices... it is a skewed graph\n",
        "\n",
        "so it is better to go further with natural log of prices and not just with price\n",
        "\n",
        "So, we will be regressing the natural logarithm of prices with the input features"
      ]
    },
    {
      "cell_type": "markdown",
      "metadata": {
        "id": "87hA45tk3_pp"
      },
      "source": [
        "#### Transforming price as a Logarthmic value"
      ]
    },
    {
      "cell_type": "code",
      "execution_count": 57,
      "metadata": {
        "id": "XO-jv-nK30Vh"
      },
      "outputs": [],
      "source": [
        "y1 = np.log(y1)"
      ]
    },
    {
      "cell_type": "markdown",
      "metadata": {
        "id": "EHF_LkXa4Nc2"
      },
      "source": [
        "#### Splitting the data into test and train"
      ]
    },
    {
      "cell_type": "code",
      "execution_count": 58,
      "metadata": {
        "colab": {
          "base_uri": "https://localhost:8080/"
        },
        "id": "sjYwgEIh4B3r",
        "outputId": "421cf9c1-4e9c-4861-a7cd-8c410e7a74ff"
      },
      "outputs": [
        {
          "output_type": "stream",
          "name": "stdout",
          "text": [
            "(27951, 12) (4933, 12) (27951,) (4933,)\n"
          ]
        }
      ],
      "source": [
        "X_train1, X_test1, Y_train1, Y_test1 = train_test_split(x1, y1, test_size = 0.15, random_state = 28)\n",
        "print(X_train1.shape, X_test1.shape, Y_train1.shape, Y_test1.shape)"
      ]
    },
    {
      "cell_type": "code",
      "execution_count": 59,
      "metadata": {
        "colab": {
          "base_uri": "https://localhost:8080/"
        },
        "id": "WeHI9BHW0Cvb",
        "outputId": "231b21f3-aa50-4aa6-b371-28ebaf4a6d9f"
      },
      "outputs": [
        {
          "output_type": "execute_result",
          "data": {
            "text/plain": [
              "count   4933.000\n",
              "mean       8.221\n",
              "std        1.143\n",
              "min        4.605\n",
              "25%        7.432\n",
              "50%        8.269\n",
              "75%        9.081\n",
              "max       11.912\n",
              "Name: price, dtype: float64"
            ]
          },
          "metadata": {},
          "execution_count": 59
        }
      ],
      "source": [
        "Y_test1.describe()"
      ]
    },
    {
      "cell_type": "code",
      "execution_count": 60,
      "metadata": {
        "colab": {
          "base_uri": "https://localhost:8080/"
        },
        "id": "QhJ2CpyB0Cvc",
        "outputId": "dd8604b3-3ebd-4368-bb80-bb709ebb5c2a",
        "scrolled": true
      },
      "outputs": [
        {
          "output_type": "execute_result",
          "data": {
            "text/plain": [
              "count   27951.000\n",
              "mean        8.245\n",
              "std         1.132\n",
              "min         4.605\n",
              "25%         7.432\n",
              "50%         8.294\n",
              "75%         9.083\n",
              "max        11.842\n",
              "Name: price, dtype: float64"
            ]
          },
          "metadata": {},
          "execution_count": 60
        }
      ],
      "source": [
        "Y_train1.describe()"
      ]
    },
    {
      "cell_type": "code",
      "execution_count": 60,
      "metadata": {
        "id": "s2oSZvFl0Cvc"
      },
      "outputs": [],
      "source": [
        ""
      ]
    },
    {
      "cell_type": "markdown",
      "metadata": {
        "id": "6FFhtLC44bEV"
      },
      "source": [
        "### Baseline Model for the Omitted Data\n",
        "In baseline model the predicted value is replaced by the mean value of the test data\n",
        "\n",
        "We are making a base model by using test data mean value\n",
        "\n",
        "This is to set a benchmark and to compare with our regression model\n",
        "\n",
        "inshort... setting the base value (base metric)"
      ]
    },
    {
      "cell_type": "markdown",
      "metadata": {
        "id": "yDBI-ZWg4gZU"
      },
      "source": [
        "#### finding mean for test data value"
      ]
    },
    {
      "cell_type": "code",
      "execution_count": 61,
      "metadata": {
        "colab": {
          "base_uri": "https://localhost:8080/"
        },
        "id": "fjqDgFH34HA8",
        "outputId": "db4890a9-c1f2-4dbd-82e4-6d411a9822cb"
      },
      "outputs": [
        {
          "output_type": "stream",
          "name": "stdout",
          "text": [
            "8.221355166428635\n"
          ]
        }
      ],
      "source": [
        "base_pred_1 = np.mean(Y_test1)\n",
        "print(base_pred_1)"
      ]
    },
    {
      "cell_type": "markdown",
      "metadata": {
        "id": "GFXzuPIR4m8O"
      },
      "source": [
        "#### Repeating the same value till the length of test data"
      ]
    },
    {
      "cell_type": "code",
      "execution_count": 62,
      "metadata": {
        "id": "7I8lBpV74j2H"
      },
      "outputs": [],
      "source": [
        "base_pred_1 = np.repeat(base_pred_1, len(Y_test1))"
      ]
    },
    {
      "cell_type": "markdown",
      "metadata": {
        "id": "I15R7hUt4tI6"
      },
      "source": [
        "#### Finding RMSE (Root Mean Square Error)\n",
        "1. it computes the difference between test value and predicted value .... squares them... and divides by the no. of observations\n",
        "2. this is the mean squared error\n",
        "3. when you take the squareroot of mean squared error... you get RMSE value"
      ]
    },
    {
      "cell_type": "code",
      "execution_count": 63,
      "metadata": {
        "id": "GrbJNVkv44vo"
      },
      "outputs": [],
      "source": [
        "# np.exp(mean_absolute_error(Y_test1, base_pred_1))"
      ]
    },
    {
      "cell_type": "code",
      "execution_count": 64,
      "metadata": {
        "id": "ctjwovuIwhwx"
      },
      "outputs": [],
      "source": [
        "# np.exp(mean_squared_error(Y_test1, base_pred_1))\n"
      ]
    },
    {
      "cell_type": "code",
      "execution_count": 65,
      "metadata": {
        "colab": {
          "base_uri": "https://localhost:8080/"
        },
        "id": "W6X-HJGH4pum",
        "outputId": "ecce7f51-31a1-4bf3-c583-093b992af028"
      },
      "outputs": [
        {
          "output_type": "stream",
          "name": "stdout",
          "text": [
            "1.1426280312331127\n"
          ]
        }
      ],
      "source": [
        "base_root_mean_square_error_1 = np.sqrt(mean_squared_error(Y_test1, base_pred_1))\n",
        "print(base_root_mean_square_error_1)"
      ]
    },
    {
      "cell_type": "code",
      "execution_count": 66,
      "metadata": {
        "id": "BRBkVlRawhwz"
      },
      "outputs": [],
      "source": [
        "# print(np.exp(base_root_mean_square_error_1))"
      ]
    },
    {
      "cell_type": "markdown",
      "metadata": {
        "id": "McVNmkw55GeV"
      },
      "source": [
        "## Linear Regression with Omitted Data"
      ]
    },
    {
      "cell_type": "code",
      "execution_count": 67,
      "metadata": {
        "id": "vu_4E5np5HRJ"
      },
      "outputs": [],
      "source": [
        "lnr = LinearRegression(fit_intercept = True)"
      ]
    },
    {
      "cell_type": "markdown",
      "metadata": {
        "id": "J7j7v0K-5OYa"
      },
      "source": [
        "#### model"
      ]
    },
    {
      "cell_type": "code",
      "execution_count": 68,
      "metadata": {
        "id": "6-OaLQ7l5Kat"
      },
      "outputs": [],
      "source": [
        "model_lin1 = lnr.fit(X_train1, Y_train1)"
      ]
    },
    {
      "cell_type": "code",
      "execution_count": 69,
      "metadata": {
        "colab": {
          "base_uri": "https://localhost:8080/"
        },
        "id": "MNtjcgcx5Rav",
        "outputId": "93df738e-b00a-4106-8484-f76617dbea3e"
      },
      "outputs": [
        {
          "output_type": "stream",
          "name": "stdout",
          "text": [
            "Linear Regression Accuracy Score for training set (Omitting missing values): 0.7038306479219663\n",
            "Linear Regression Accuracy Score for testing set (Omitting missing values): 0.6996569806655992\n"
          ]
        }
      ],
      "source": [
        "r2_lin_train1 = model_lin1.score(X_train1, Y_train1)\n",
        "r2_lin_test1 = model_lin1.score(X_test1, Y_test1)\n",
        "print(f\"Linear Regression Accuracy Score for training set (Omitting missing values): {r2_lin_train1}\\n\\\n",
        "Linear Regression Accuracy Score for testing set (Omitting missing values): {r2_lin_test1}\")"
      ]
    },
    {
      "cell_type": "markdown",
      "metadata": {
        "id": "gn5jfgzI5YDY"
      },
      "source": [
        "#### Predicting model on test set"
      ]
    },
    {
      "cell_type": "code",
      "execution_count": 70,
      "metadata": {
        "id": "4gMBr3xD5VVY"
      },
      "outputs": [],
      "source": [
        "cars_predictions_lin1 = lnr.predict(X_test1)"
      ]
    },
    {
      "cell_type": "markdown",
      "metadata": {
        "id": "AayZZCn_5mgO"
      },
      "source": [
        "#### calculating MSE and RMSE for predictions\n"
      ]
    },
    {
      "cell_type": "code",
      "execution_count": 71,
      "metadata": {
        "colab": {
          "base_uri": "https://localhost:8080/"
        },
        "id": "37fziu765jW7",
        "outputId": "3479d802-62e1-4612-fa11-5b1eb696e74b"
      },
      "outputs": [
        {
          "output_type": "stream",
          "name": "stdout",
          "text": [
            "0.6262008391605365\n"
          ]
        }
      ],
      "source": [
        "lin_mse1 = mean_squared_error(Y_test1, cars_predictions_lin1)\n",
        "lin_rmse1 = np.sqrt(lin_mse1)\n",
        "print(lin_rmse1)"
      ]
    },
    {
      "cell_type": "markdown",
      "metadata": {
        "id": "NTR0qi_J5tco"
      },
      "source": [
        "\n",
        "it should be noted that the RMSE valus has dropped from 1.14 to 0.62 (Approx 45% reduction)"
      ]
    },
    {
      "cell_type": "markdown",
      "metadata": {
        "id": "SPUu7cWF50Lo"
      },
      "source": [
        "R squared value\n",
        "it helps to tell you how good is your model able to explain the variability in 'Y'"
      ]
    },
    {
      "cell_type": "code",
      "execution_count": 72,
      "metadata": {
        "colab": {
          "base_uri": "https://localhost:8080/"
        },
        "id": "taJ_NLGf5pL3",
        "outputId": "31126c87-d3d6-4288-eb39-ef90eb7d8b44"
      },
      "outputs": [
        {
          "output_type": "stream",
          "name": "stdout",
          "text": [
            "r2_lin1_train1: 0.7038306479219663\n",
            "r2_lin1_test1: 0.6996569806655992\n"
          ]
        }
      ],
      "source": [
        "r2_lin_train1 = model_lin1.score(X_train1, Y_train1)\n",
        "r2_lin_test1 = model_lin1.score(X_test1, Y_test1)\n",
        "print(f\"r2_lin1_train1: {r2_lin_train1}\\nr2_lin1_test1: {r2_lin_test1}\")"
      ]
    },
    {
      "cell_type": "markdown",
      "metadata": {
        "id": "TCWU9_CT59cJ"
      },
      "source": [
        "R sq. value for train set is 0.7038 and R sq. value for test set is 0.6996\n",
        "\n",
        "train set is definitely better... but the test set is not far behind\n",
        "\n",
        "\n",
        "\n",
        "As much as variability the model was able to capture in the train data...it is able to capture the same amount of variability (if not more) in the test data as well."
      ]
    },
    {
      "cell_type": "code",
      "execution_count": 72,
      "metadata": {
        "id": "gLAVlfU055EW"
      },
      "outputs": [],
      "source": [
        ""
      ]
    },
    {
      "cell_type": "code",
      "execution_count": 72,
      "metadata": {
        "id": "Hwo7o_LT6Tro"
      },
      "outputs": [],
      "source": [
        ""
      ]
    },
    {
      "cell_type": "code",
      "execution_count": 72,
      "metadata": {
        "id": "j2mcRN3E6Tih"
      },
      "outputs": [],
      "source": [
        ""
      ]
    },
    {
      "cell_type": "code",
      "execution_count": 72,
      "metadata": {
        "id": "kQ9uA-wf6TQG"
      },
      "outputs": [],
      "source": [
        ""
      ]
    },
    {
      "cell_type": "markdown",
      "metadata": {
        "id": "esx_fgf86SA7"
      },
      "source": [
        "## Random Forest regressor using omitted data\n",
        "### Parameters\n"
      ]
    },
    {
      "cell_type": "markdown",
      "metadata": {
        "id": "varwBz3c6az3"
      },
      "source": [
        "#### n_estimators: 'int' (def 100)\n",
        "Number of trees in the forest\n",
        "#### min_samples_split: 'int' or 'float' (def 2)\n",
        "Minimum No. of samples required to split an internal node\n",
        "#### min_samples_leaf: int or float (def 1)\n",
        "Minimum No. of samples required to be at a leaf node. A split point will be considered only if it leaves at least (Min_samples_leaf) training samples in each of left and right branches"
      ]
    },
    {
      "cell_type": "markdown",
      "metadata": {
        "id": "YSZDh4gN6eh7"
      },
      "source": [
        "#### max_features: {'auto', 'sqrt', 'log'}, int, float  (def 'auto')\n",
        "No. of features to be considered to build the model\n",
        "1. if 'auto', then max_features = n_features (chooses the features automatically)\n",
        "2. if 'sqrt', then max_features = sqrt(n_features)\n",
        "3. if 'log', then max_features = log(n_features)\n",
        "4. if int, then consider (int) features at each split"
      ]
    },
    {
      "cell_type": "markdown",
      "metadata": {
        "id": "zzYhE2ou6lwU"
      },
      "source": [
        "#### max_depth: int (def None)\n",
        "The maximum depth of the tree. If None, nodes are expanded untill all leaves are pure or until all leaves contain less than min_samples_split"
      ]
    },
    {
      "cell_type": "markdown",
      "metadata": {
        "id": "owcBVMPA6hns"
      },
      "source": [
        "#### criterion: {'mse', 'mae'} (def: 'mse')\n",
        "#### random_state: int\n",
        "it is a predefined algorithm for randomizer.... if not specified, it will take different data sets everytime"
      ]
    },
    {
      "cell_type": "markdown",
      "metadata": {
        "id": "dxbyP6g66ixk"
      },
      "source": [
        ""
      ]
    },
    {
      "cell_type": "code",
      "execution_count": 73,
      "metadata": {
        "id": "ATrF1MMm6Xvl"
      },
      "outputs": [],
      "source": [
        "rf = RandomForestRegressor(n_estimators = 100,\n",
        "                          max_features = 'auto',\n",
        "                          max_depth = 100,\n",
        "                          min_samples_split = 10,\n",
        "                          min_samples_leaf = 4,\n",
        "                          random_state = 10)"
      ]
    },
    {
      "cell_type": "markdown",
      "metadata": {
        "id": "k6TRH0q56ume"
      },
      "source": [
        "#### model"
      ]
    },
    {
      "cell_type": "code",
      "execution_count": 74,
      "metadata": {
        "id": "Weh-Wwry6rUv"
      },
      "outputs": [],
      "source": [
        "model_rf1 = rf.fit(X_train1, Y_train1)"
      ]
    },
    {
      "cell_type": "code",
      "execution_count": 75,
      "metadata": {
        "colab": {
          "base_uri": "https://localhost:8080/"
        },
        "id": "4qAta1yn6xvk",
        "outputId": "12fa98e1-9df5-44dd-f151-6b89f1659669"
      },
      "outputs": [
        {
          "output_type": "stream",
          "name": "stdout",
          "text": [
            "Random Forest Accuracy Score for training set (Omitting missing values): 0.9228205017772251\n",
            "Random Forest Accuracy Score for testing set (Omitting missing values): 0.8655026936102348\n"
          ]
        }
      ],
      "source": [
        "r2_rf_train1 = model_rf1.score(X_train1, Y_train1)\n",
        "r2_rf_test1 = model_rf1.score(X_test1, Y_test1)\n",
        "print(f\"Random Forest Accuracy Score for training set (Omitting missing values): {r2_rf_train1}\\n\\\n",
        "Random Forest Accuracy Score for testing set (Omitting missing values): {r2_rf_test1}\")"
      ]
    },
    {
      "cell_type": "markdown",
      "metadata": {
        "id": "d48iS29u64oH"
      },
      "source": [
        "#### Predicting model on test set"
      ]
    },
    {
      "cell_type": "code",
      "execution_count": 76,
      "metadata": {
        "id": "VF1W5k0q60lM"
      },
      "outputs": [],
      "source": [
        "cars_predictions_rf1 = rf.predict(X_test1)"
      ]
    },
    {
      "cell_type": "markdown",
      "metadata": {
        "id": "ofvvROsk7QAc"
      },
      "source": [
        "#### Computing MSE and RMSE values"
      ]
    },
    {
      "cell_type": "code",
      "execution_count": 77,
      "metadata": {
        "colab": {
          "base_uri": "https://localhost:8080/"
        },
        "id": "SlQGWYDS7CJ7",
        "outputId": "cb6e8e90-f571-4d6d-a1e0-ff978ae34aef"
      },
      "outputs": [
        {
          "output_type": "stream",
          "name": "stdout",
          "text": [
            "0.419045969094485\n"
          ]
        }
      ],
      "source": [
        "rf_mse1 = mean_squared_error(Y_test1, cars_predictions_rf1)\n",
        "rf_rmse1 = np.sqrt(rf_mse1)\n",
        "print(rf_rmse1)"
      ]
    },
    {
      "cell_type": "markdown",
      "metadata": {
        "id": "QJLVzpVW7XKw"
      },
      "source": [
        "Thus, it should be noted that Random Forest model is performing better than the Linear regression model as the RMSE model has come down further"
      ]
    },
    {
      "cell_type": "markdown",
      "metadata": {
        "id": "M9aKAFpy7b7W"
      },
      "source": [
        "#### R squared value"
      ]
    },
    {
      "cell_type": "code",
      "execution_count": 78,
      "metadata": {
        "colab": {
          "base_uri": "https://localhost:8080/"
        },
        "id": "oVkIwljf7T0o",
        "outputId": "4419f9d2-b93d-4eba-e559-43179d6a9bec"
      },
      "outputs": [
        {
          "output_type": "stream",
          "name": "stdout",
          "text": [
            "r2_rf_train1: 0.9228205017772251\n",
            "r2_lin1_test1: 0.8655026936102348\n"
          ]
        }
      ],
      "source": [
        "r2_rf_train1 = model_rf1.score(X_train1, Y_train1)\n",
        "r2_rf_test1 = model_rf1.score(X_test1, Y_test1)\n",
        "print(f\"r2_rf_train1: {r2_rf_train1}\\nr2_lin1_test1: {r2_rf_test1}\")"
      ]
    },
    {
      "cell_type": "code",
      "execution_count": 78,
      "metadata": {
        "id": "bDnxHnXb7e8x"
      },
      "outputs": [],
      "source": [
        ""
      ]
    },
    {
      "cell_type": "code",
      "execution_count": 78,
      "metadata": {
        "id": "jSkviNtl7nXu"
      },
      "outputs": [],
      "source": [
        ""
      ]
    },
    {
      "cell_type": "code",
      "execution_count": 78,
      "metadata": {
        "id": "RULpwPU07nTt"
      },
      "outputs": [],
      "source": [
        ""
      ]
    },
    {
      "cell_type": "markdown",
      "metadata": {
        "id": "Z0QXFxCj7ogT"
      },
      "source": [
        "# FINAL OUTPUT"
      ]
    },
    {
      "cell_type": "code",
      "execution_count": 79,
      "metadata": {
        "colab": {
          "base_uri": "https://localhost:8080/"
        },
        "id": "S-Nqy1Ac7nMr",
        "outputId": "0c69bc01-da48-4dbc-8a21-096e448f1632"
      },
      "outputs": [
        {
          "output_type": "stream",
          "name": "stdout",
          "text": [
            "Metrics for models built from data where missing values were omitted\n",
            "Base RMSE value = 1.1426280312331127\n",
            "RMSE value for linear Regression model = 0.6262008391605365\n",
            "RMSE value for Random Forest model = 0.419045969094485\n",
            "Accuracy Score for training set from linear regression = 0.7038306479219663\n",
            "Accuracy Score for testing set from linear regression = 0.6996569806655992\n",
            "Accuracy Score for training set from random forest regressor = 0.9228205017772251\n",
            "Accuracy Score for testing set from random forest regressor = 0.8655026936102348\n"
          ]
        }
      ],
      "source": [
        "# FOR OMITTED DATA\n",
        "print(f\"Metrics for models built from data where missing values were omitted\")\n",
        "print(f\"Base RMSE value = {base_root_mean_square_error_1}\")\n",
        "print(f\"RMSE value for linear Regression model = {lin_rmse1}\")\n",
        "print(f\"RMSE value for Random Forest model = {rf_rmse1}\")\n",
        "print(f\"Accuracy Score for training set from linear regression = {r2_lin_train1}\")\n",
        "print(f\"Accuracy Score for testing set from linear regression = {r2_lin_test1}\")\n",
        "print(f\"Accuracy Score for training set from random forest regressor = {r2_rf_train1}\")\n",
        "print(f\"Accuracy Score for testing set from random forest regressor = {r2_rf_test1}\")"
      ]
    },
    {
      "cell_type": "code",
      "execution_count": null,
      "metadata": {
        "id": "yYqzJ98N0Cvv",
        "scrolled": true
      },
      "outputs": [],
      "source": [
        ""
      ]
    },
    {
      "cell_type": "code",
      "execution_count": 80,
      "metadata": {
        "id": "wTJ2JIE_0Cvw"
      },
      "outputs": [],
      "source": [
        "# import pickle\n",
        "# with open('RFR_model_by_omitting_NA_Values.pkl', 'wb') as f:\n",
        "#     pickle.dump(rf , f)\n",
        "# with open('Lin_reg_model_by_omitting_NA_Values.pkl', 'wb') as f:\n",
        "#     pickle.dump(lnr , f)"
      ]
    },
    {
      "cell_type": "code",
      "execution_count": 80,
      "metadata": {
        "id": "Zf8CW5b40Cvx"
      },
      "outputs": [],
      "source": [
        ""
      ]
    },
    {
      "cell_type": "code",
      "execution_count": null,
      "metadata": {
        "id": "TvLTMnpp0Cvy"
      },
      "outputs": [],
      "source": [
        ""
      ]
    },
    {
      "cell_type": "code",
      "execution_count": null,
      "metadata": {
        "id": "-ewuAdLk0Cvz"
      },
      "outputs": [],
      "source": [
        ""
      ]
    },
    {
      "cell_type": "code",
      "execution_count": null,
      "metadata": {
        "id": "qEnkQjes0Cvz"
      },
      "outputs": [],
      "source": [
        ""
      ]
    },
    {
      "cell_type": "markdown",
      "source": [
        "**Note that the below functions are written just for the sake of making predictions with a random record**\n",
        "\n",
        "**They are not robust and do not show errors when any value out of range is specified**\n",
        "\n",
        "**The robustness part is left pending for the time being and can be completed later**"
      ],
      "metadata": {
        "id": "kHMKeI5GzwOp"
      }
    },
    {
      "cell_type": "code",
      "execution_count": null,
      "metadata": {
        "id": "-zKj7_qI7rpG"
      },
      "outputs": [],
      "source": [
        ""
      ]
    },
    {
      "cell_type": "code",
      "execution_count": 81,
      "metadata": {
        "id": "Z33BUNQT0Cv0"
      },
      "outputs": [],
      "source": [
        "def seller():\n",
        "    seller = str(input(\"Enter the Seller Type (default: 'Private'). Type 'C' for commercial: \")).upper()\n",
        "    if seller == 'P':\n",
        "        seller = 'private'\n",
        "    elif seller == 'C':\n",
        "        seller = 'commercial'\n",
        "    else:\n",
        "        seller = 'private'\n",
        "    return seller\n",
        "    \n",
        "# print(seller())"
      ]
    },
    {
      "cell_type": "code",
      "execution_count": 82,
      "metadata": {
        "id": "D-R0u4Qh0Cv1"
      },
      "outputs": [],
      "source": [
        "offerType = 'offer'"
      ]
    },
    {
      "cell_type": "code",
      "execution_count": 83,
      "metadata": {
        "id": "VfAz6z8c0Cv2"
      },
      "outputs": [],
      "source": [
        "def abtest():\n",
        "    abtest = str(input(\"Enter the Abs test status (default: 'Test'). Type 'C' for Control: \")).upper()\n",
        "    if abtest == 'T':\n",
        "        abtest = 'test'\n",
        "    elif abtest == 'C':\n",
        "        abtest = 'control'\n",
        "    else:\n",
        "        abtest = 'test'\n",
        "    return abtest\n",
        "\n",
        "# print(abtest())"
      ]
    },
    {
      "cell_type": "code",
      "execution_count": 84,
      "metadata": {
        "id": "_rUJpXxN0Cv2"
      },
      "outputs": [],
      "source": [
        "def vehicleType():\n",
        "    vType = str(input(\"Enter Vehicle type: bus/cabrio/coupe/limousine/small car/station wagon/suv/others : \")).lower()\n",
        "    if vType in ['bus','cabrio','coupe','limousine','small car','station wagon','suv','others']:\n",
        "        return vType\n",
        "    else:\n",
        "        return vehicleType()\n",
        "        \n",
        "\n",
        "# print(vehicleType())"
      ]
    },
    {
      "cell_type": "code",
      "execution_count": 85,
      "metadata": {
        "id": "GY46efRs0Cv3"
      },
      "outputs": [],
      "source": [
        "def gearbox():\n",
        "    gearbox = str(input(\"Enter the gearbox type (default: 'Manual'). Type 'A' for Automatic: \")).upper()\n",
        "    if gearbox == 'A':\n",
        "        gearbox = 'automatic'\n",
        "    elif gearbox == 'M':\n",
        "        gearbox = 'manual'\n",
        "    else:\n",
        "        gearbox = 'manual'\n",
        "    return gearbox\n",
        "    \n",
        "# print(gearbox())"
      ]
    },
    {
      "cell_type": "code",
      "execution_count": 86,
      "metadata": {
        "id": "g4EVNin00Cv4"
      },
      "outputs": [],
      "source": [
        "def powerPS():\n",
        "    powerPS = int(input(\"enter the HorsePower (range 0 to 300): \"))\n",
        "#     if type(powerPS) == int:\n",
        "#         if 0<powerPS<300:\n",
        "#             pass\n",
        "#         else:\n",
        "#             powerPS()\n",
        "#     else:\n",
        "#         powerPS()\n",
        "    return powerPS\n",
        "\n",
        "# print(powerPS())\n",
        "\n",
        "## Need to look for exception handling"
      ]
    },
    {
      "cell_type": "code",
      "execution_count": 87,
      "metadata": {
        "id": "z-ai3RcM0Cv5"
      },
      "outputs": [],
      "source": [
        "def age():\n",
        "    reg = int(input('Enter Year of registration: '))\n",
        "    age = 0\n",
        "    if type(reg) == int:\n",
        "        age = 2022 - reg\n",
        "        return age\n",
        "    else:\n",
        "        print(\"invalid input\")\n",
        "        age()\n",
        "\n",
        "# print(age())\n",
        "\n",
        "## Need to look for exception handling for strings"
      ]
    },
    {
      "cell_type": "code",
      "execution_count": 88,
      "metadata": {
        "id": "FLRnTyXh0Cv5"
      },
      "outputs": [],
      "source": [
        "def km():\n",
        "    km = float(input(\"Enter the km travelled: \"))\n",
        "    return km\n",
        "\n",
        "## Need to look for exception handling for negative nos and strings\n",
        "\n",
        "# print(km())"
      ]
    },
    {
      "cell_type": "code",
      "execution_count": 89,
      "metadata": {
        "id": "ZL3EeRSo0Cv6"
      },
      "outputs": [],
      "source": [
        "def damage():\n",
        "    damage = input(\"Have the previous damages been repaired? (default: NO). Type 'Y' for yes: \").upper()\n",
        "    if damage == 'Y':\n",
        "        damage = 'no'\n",
        "    elif damage == 'N':\n",
        "        damage = 'yes'\n",
        "    else:\n",
        "        damage = 'yes'\n",
        "    \n",
        "    return damage\n",
        "\n",
        "# print(damage())"
      ]
    },
    {
      "cell_type": "code",
      "execution_count": 90,
      "metadata": {
        "id": "Fps9DekM0Cv7"
      },
      "outputs": [],
      "source": [
        "def brand():\n",
        "    br = input(\"Enter brand name from ['volvo', 'seat', 'volkswagen', 'mercedes_benz', 'opel', 'skoda', 'toyota','nissan',\\\n",
        "    'mazda', 'mitsubishi', 'audi', 'fiat', 'alfa_romeo', 'saab', 'bmw', 'peugeot', 'land_rover', 'subaru',\\\n",
        "    'citroen', 'jeep', 'chrysler', 'ford', 'renault', 'dacia', 'chevrolet', 'smart', 'mini', 'trabant', 'suzuki',\\\n",
        "    'hyundai', 'honda', 'jaguar', 'porsche', 'kia', 'daihatsu', 'lancia', 'daewoo', 'rover', 'lada']: \").lower()\n",
        "    \n",
        "    if br in ['volvo', 'seat', 'volkswagen', 'mercedes_benz', 'opel', 'skoda', 'toyota','nissan',\\\n",
        "                  'mazda', 'mitsubishi', 'audi', 'fiat', 'alfa_romeo', 'saab', 'bmw', 'peugeot', 'land_rover', 'subaru',\\\n",
        "                  'citroen', 'jeep', 'chrysler', 'ford', 'renault', 'dacia', 'chevrolet', 'smart', 'mini', 'trabant', 'suzuki',\\\n",
        "                  'hyundai', 'honda', 'jaguar', 'porsche', 'kia', 'daihatsu', 'lancia', 'daewoo', 'rover', 'lada']:\n",
        "        return br\n",
        "    else:\n",
        "        print('invalid input')\n",
        "        return brand()\n",
        "\n",
        "# print(\"\\n\",brand())"
      ]
    },
    {
      "cell_type": "code",
      "execution_count": null,
      "metadata": {
        "id": "UHd0Z7hB9tmE"
      },
      "outputs": [],
      "source": [
        "#  brand_encoder.transform([brand()])"
      ]
    },
    {
      "cell_type": "code",
      "execution_count": 91,
      "metadata": {
        "id": "0GIyL58L0Cv8"
      },
      "outputs": [],
      "source": [
        "def fueltype():\n",
        "    fuelT = input(\"Enter the car  fuel Type from ['diesel', 'petrol', 'cng', 'lpg', 'hybrid', 'electro', 'other']: \").lower()\n",
        "    \n",
        "    if fuelT in ['diesel', 'petrol', 'cng', 'lpg', 'hybrid', 'electro', 'other']:\n",
        "        return fuelT\n",
        "    else:\n",
        "        print('invalid input')\n",
        "        return fueltype()\n",
        "\n",
        "# print(fueltype())"
      ]
    },
    {
      "cell_type": "code",
      "execution_count": 92,
      "metadata": {
        "id": "J78mMnLx0Cv9"
      },
      "outputs": [],
      "source": [
        "def model():\n",
        "    mod = input(\"enter model name: \")\n",
        "    if mod in ['xc_reihe', 'ibiza', 'passat', 'clk', 'vectra', 'octavia', 'a_klasse', 'astra',\\\n",
        "               'yaris', 'meriva', 'others', 'golf', '3_reihe', 'colt', '80', 'panda', 'micra',\\\n",
        "               '156', 'c_klasse', '1er', '3er', 'freelander', 'a4', 'e_klasse', 'forester',\\\n",
        "               '5er', 'grand', 'voyager', 'polo', 'fiesta', 'clio', 'a3', 'slk', 'x_reihe',\\\n",
        "               'fabia', 'logan', '500', 'punto', 'berlingo', 's_klasse', '2_reihe', 'galaxy',\\\n",
        "               'agila', 'touran', 'captiva' ,'scenic', 'mondeo', 'omega', 'a6', 'fortwo',\\\n",
        "               'scirocco', 'transporter', 'c4', 'qashqai', 'ka', 'clubman', 'sharan',\\\n",
        "               'insignia', '7er', 'megane', 'corsa', 'arosa', 'z_reihe', 'caddy', 'aygo',\\\n",
        "               'matiz', 'focus', 'sl', 'combo', 'corolla', '601', 'c_reihe', 'beetle', 'tigra',\\\n",
        "               'twingo', 'tiguan', 'cooper', 's_max', 'toledo', 'carisma', 'zafira', 'a2',\\\n",
        "               'primera', 'a5' ,'tt', 'citigo' ,'tucson', 'accord', 'rav', 'i_reihe', 'laguna',\\\n",
        "               'roadster', 'bora', 'kuga', '147', 'c1', 'civic', 'mustang', 'lupo', 'c5',\\\n",
        "               'mx_reihe' ,'cayenne', 'justy' ,'santa' ,'transit', 'up', 'yeti', 'modus',\\\n",
        "               'rx_reihe' ,'sprinter', 'forfour' ,'cherokee', 'cordoba' ,'v40' ,'navara', 'v70',\\\n",
        "               'q3' ,'sorento', 'verso', 'kaefer', 'v_klasse', 'doblo' ,'1_reihe', 'fox',\\\n",
        "               '6_reihe', 'altea', 'almera', 'leon', 'boxster' ,'calibra' ,'q5', '911',\\\n",
        "               'x_trail', 'v50', 'impreza', 'swift', 'm_klasse', 'jetta' ,'escort' ,'eos', '100',\\\n",
        "               'sandero', '4_reihe', '300c', 'bravo' ,'stilo', 'a1', 'cl', 'kangoo', 'one',\\\n",
        "               'pajero', 'ducato', 'vivaro', 'touareg', 'cr_reihe', '850' ,'q7' ,'duster',\\\n",
        "               'kadett', 'cx_reihe' ,'ceed', 'rio','seicento', 'b_klasse', 'musa' ,'cc',\\\n",
        "               'c_max', 'getz', 'c2', '5_reihe', '900', 'kalos', 'ypsilon', 'jazz', 'ptcruiser',\\\n",
        "               'sportage', 'vito', 'c3', 'signum' ,'aveo', 'jimny', 'note' ,'avensis', 'm_reihe',\\\n",
        "               'auris' ,'espace', 'picanto', 'juke', 'lancer', '6er', 'phaeton', 'x_type',\\\n",
        "               'range_rover_sport', 'spark', 'viano', 'superb', '159', 'alhambra', 'fusion',\\\n",
        "               'a8' ,'legacy', 'amarok' ,'galant', 's60' ,'glk', 'wrangler' ,'9000' ,'roomster',\\\n",
        "               'carnival', 'i3', 'exeo', 'outlander', 'b_max', 'antara', '90', 'niva', 'r19',\\\n",
        "               'sirion', 'nubira', 'g_klasse' ,'spider', 'mii' ,'cuore', 'lodgy', 'crossfire',\\\n",
        "               'range_rover_evoque', 'terios' ,'serie_2', 'lanos', 'range_rover', '200',\\\n",
        "               's_type', 'materia' ,'defender', 'lybra', 'croma', 'discovery', 'v60', 'serie_3',\\\n",
        "               'move' ,'delta', 'gl', 'kalina', 'charade', 'rangerover']:\n",
        "        return mod\n",
        "    else:\n",
        "        print(\"Oops!!! sorry, the specified model does not exist in the database. Please specify another model.\")\n",
        "        return model()\n",
        "    \n",
        "# print(model())"
      ]
    },
    {
      "cell_type": "code",
      "execution_count": null,
      "metadata": {
        "id": "tJOOfYZA0Cv-"
      },
      "outputs": [],
      "source": [
        ""
      ]
    },
    {
      "cell_type": "code",
      "execution_count": null,
      "metadata": {
        "id": "zj2DAC45whxN"
      },
      "outputs": [],
      "source": [
        ""
      ]
    },
    {
      "cell_type": "code",
      "execution_count": null,
      "metadata": {
        "id": "jkAfm_2pwhxN"
      },
      "outputs": [],
      "source": [
        ""
      ]
    },
    {
      "cell_type": "code",
      "execution_count": null,
      "metadata": {
        "id": "MKgMac1x0Cv-"
      },
      "outputs": [],
      "source": [
        ""
      ]
    },
    {
      "cell_type": "code",
      "execution_count": null,
      "metadata": {
        "id": "M00v9Eo00Cv_"
      },
      "outputs": [],
      "source": [
        "# model_rf1.predict([[\n",
        "#     seller_encoder.transform(['private']),\n",
        "#     offerType_encoder.transform(['offer']),\n",
        "#     abtest_encoder.transform(['test']),\n",
        "#     vehicleType_encoder.transform(['cabrio']),\n",
        "#     gearbox_encoder.transform(['manual']),\n",
        "#     130,\n",
        "#     model_encoder.transform(['80']),\n",
        "#     150000,\n",
        "#     fuelType_encoder.transform(['petrol']),\n",
        "#     brand_encoder.transform(['audi']),\n",
        "#     notRepairedDamage_encoder.transform(['no']),\n",
        "#     2\n",
        "# ]])"
      ]
    },
    {
      "cell_type": "code",
      "execution_count": null,
      "metadata": {
        "id": "pWBsPAFX0Cv_"
      },
      "outputs": [],
      "source": [
        "# np.exp(model_rf1.predict([[\n",
        "#     seller_encoder.transform(['private']),   ## seller_encoder.transform([seller()])\n",
        "#     offerType_encoder.transform(['offer']),  ## let it be same\n",
        "#     abtest_encoder.transform(['test']),      ## abtest_encoder.transform([abtest()])\n",
        "#     vehicleType_encoder.transform(['limousine']),## recursive function ??...made, check once\n",
        "#     gearbox_encoder.transform(['manual']),    ## gearbox_encoder.transform([gearbox()])\n",
        "#     140,                                      ## powerPS()\n",
        "#     model_encoder.transform(['passat']),      ## model_encoder.transform([model()])\n",
        "#     150000,                                   ## km()\n",
        "#     fuelType_encoder.transform(['diesel']),   ## fuelType_encoder.transform([fueltype()])\n",
        "#     brand_encoder.transform(['volkswagen']),       ## brand_encoder.transform([brand()])\n",
        "#     notRepairedDamage_encoder.transform(['no']),## notRepairedDamage_encoder.transform([damage()])\n",
        "#     15                                     ## age()\n",
        "# ]]))"
      ]
    },
    {
      "cell_type": "code",
      "execution_count": null,
      "metadata": {
        "id": "LKEbgBHuwhxQ"
      },
      "outputs": [],
      "source": [
        ""
      ]
    },
    {
      "cell_type": "markdown",
      "source": [
        "Selecting any random record "
      ],
      "metadata": {
        "id": "M43rr75F07Bv"
      }
    },
    {
      "cell_type": "code",
      "execution_count": 93,
      "metadata": {
        "id": "YI4b_1-LwhxR",
        "outputId": "7ca13640-2fd3-4dcb-c84d-52b545873185",
        "colab": {
          "base_uri": "https://localhost:8080/"
        }
      },
      "outputs": [
        {
          "output_type": "execute_result",
          "data": {
            "text/plain": [
              "seller                     private\n",
              "offerType                    offer\n",
              "price                        20800\n",
              "abtest                     control\n",
              "vehicleType                    bus\n",
              "gearbox                  automatic\n",
              "powerPS                        156\n",
              "model                     b_klasse\n",
              "kilometer                    20000\n",
              "fuelType                    petrol\n",
              "brand                mercedes_benz\n",
              "notRepairedDamage               no\n",
              "Age                          8.670\n",
              "Name: 38703, dtype: object"
            ]
          },
          "metadata": {},
          "execution_count": 93
        }
      ],
      "source": [
        "cars.loc[38703]"
      ]
    },
    {
      "cell_type": "markdown",
      "source": [
        "Imputing the above data itself to test the accuracy of the model"
      ],
      "metadata": {
        "id": "bacuB-yL1EFW"
      }
    },
    {
      "cell_type": "code",
      "execution_count": 94,
      "metadata": {
        "colab": {
          "base_uri": "https://localhost:8080/"
        },
        "id": "k0FJvUfk0CwA",
        "outputId": "8e0e5e8b-b443-4100-eee9-45fed7e9b611"
      },
      "outputs": [
        {
          "name": "stdout",
          "output_type": "stream",
          "text": [
            "Enter the Seller Type (default: 'Private'). Type 'C' for commercial: \n",
            "Enter the Abs test status (default: 'Test'). Type 'C' for Control: c\n",
            "Enter Vehicle type: bus/cabrio/coupe/limousine/small car/station wagon/suv/others : bus\n",
            "Enter the gearbox type (default: 'Manual'). Type 'A' for Automatic: a\n",
            "enter the HorsePower (range 0 to 300): 156\n",
            "enter model name: b_klasse\n",
            "Enter the km travelled: 20000\n",
            "Enter the car  fuel Type from ['diesel', 'petrol', 'cng', 'lpg', 'hybrid', 'electro', 'other']: petrol\n",
            "Enter brand name from ['volvo', 'seat', 'volkswagen', 'mercedes_benz', 'opel', 'skoda', 'toyota','nissan',    'mazda', 'mitsubishi', 'audi', 'fiat', 'alfa_romeo', 'saab', 'bmw', 'peugeot', 'land_rover', 'subaru',    'citroen', 'jeep', 'chrysler', 'ford', 'renault', 'dacia', 'chevrolet', 'smart', 'mini', 'trabant', 'suzuki',    'hyundai', 'honda', 'jaguar', 'porsche', 'kia', 'daihatsu', 'lancia', 'daewoo', 'rover', 'lada']: mercedes_benz\n",
            "Have the previous damages been repaired? (default: NO). Type 'Y' for yes: no\n",
            "Enter Year of registration: 2014\n"
          ]
        },
        {
          "output_type": "stream",
          "name": "stderr",
          "text": [
            "/usr/local/lib/python3.7/dist-packages/sklearn/base.py:451: UserWarning: X does not have valid feature names, but RandomForestRegressor was fitted with feature names\n",
            "  \"X does not have valid feature names, but\"\n"
          ]
        }
      ],
      "source": [
        "pred = np.exp(model_rf1.predict([[\n",
        "    seller_encoder.transform([seller()]),\n",
        "    offerType_encoder.transform(['offer']),\n",
        "    abtest_encoder.transform([abtest()]),\n",
        "    vehicleType_encoder.transform([vehicleType()]),\n",
        "    gearbox_encoder.transform([gearbox()]),\n",
        "    powerPS(),\n",
        "    model_encoder.transform([model()]),\n",
        "    km(),\n",
        "    fuelType_encoder.transform([fueltype()]),\n",
        "    brand_encoder.transform([brand()]),\n",
        "    notRepairedDamage_encoder.transform([damage()]),\n",
        "    age()\n",
        "]]))"
      ]
    },
    {
      "cell_type": "code",
      "execution_count": 95,
      "metadata": {
        "id": "BiWpP-MuwhxT",
        "outputId": "1b80825b-80b0-46a2-cc50-9a389dd73be3",
        "colab": {
          "base_uri": "https://localhost:8080/"
        }
      },
      "outputs": [
        {
          "output_type": "stream",
          "name": "stdout",
          "text": [
            "The value of your car is: 20860.0640113446\n"
          ]
        }
      ],
      "source": [
        "print(f\"The value of your car is: {pred[0]}\")"
      ]
    },
    {
      "cell_type": "markdown",
      "source": [
        "**Hurray!!!**\n",
        "\n",
        "The model is working perferctly fine!!!"
      ],
      "metadata": {
        "id": "B3ACa5Qh1iCU"
      }
    },
    {
      "cell_type": "code",
      "execution_count": null,
      "metadata": {
        "id": "cOuwlbXPwhxU"
      },
      "outputs": [],
      "source": [
        "# np.exp(lnr.predict([[\n",
        "#     seller_encoder.transform([seller()]),\n",
        "#     offerType_encoder.transform(['offer']),\n",
        "#     abtest_encoder.transform([abtest()]),\n",
        "#     vehicleType_encoder.transform([vehicleType()]),\n",
        "#     gearbox_encoder.transform([gearbox()]),\n",
        "#     powerPS(),\n",
        "#     model_encoder.transform([model()]),\n",
        "#     km(),\n",
        "#     fuelType_encoder.transform([fueltype()]),\n",
        "#     brand_encoder.transform([brand()]),\n",
        "#     notRepairedDamage_encoder.transform([damage()]),\n",
        "#     age()\n",
        "# ]]))"
      ]
    },
    {
      "cell_type": "markdown",
      "source": [
        "## NOTE: For proper real world usecases, we would first need to create a database of all models with their specifications.\n",
        "\n",
        "## When a new user gives inputs, we first need to verify the specifications whether they are genuine or not before proceeding further with predictions"
      ],
      "metadata": {
        "id": "7i-fOVJS2FX-"
      }
    },
    {
      "cell_type": "markdown",
      "source": [
        "For example, Electic / Hybrid cars did not exist in 1970's\n",
        "\n",
        "So, if a user gives fueltype as Hybrid for a car with registration Year in 1970's we need to throw an error saying that the specifications do not match"
      ],
      "metadata": {
        "id": "UXQLnTAj2uLw"
      }
    },
    {
      "cell_type": "code",
      "execution_count": null,
      "metadata": {
        "id": "RiuiE6LS0CwA"
      },
      "outputs": [],
      "source": [
        ""
      ]
    },
    {
      "cell_type": "markdown",
      "source": [
        "## However, building the Database and then deploying the model is too large for a project in itself as it would need knowledge of DataBase Management Systems, Integration with html, css and javascript using flask, etc\n",
        "\n",
        "### So, as of now, just limiting the scope of the project only to building ML Model"
      ],
      "metadata": {
        "id": "8TeOgQ_b3N4P"
      }
    },
    {
      "cell_type": "code",
      "execution_count": null,
      "metadata": {
        "id": "NEW60G-wwhxV"
      },
      "outputs": [],
      "source": [
        ""
      ]
    },
    {
      "cell_type": "code",
      "execution_count": null,
      "metadata": {
        "id": "7Zw0ktXwwhxV"
      },
      "outputs": [],
      "source": [
        ""
      ]
    },
    {
      "cell_type": "code",
      "execution_count": null,
      "metadata": {
        "id": "WvnHxOkpwhxV"
      },
      "outputs": [],
      "source": [
        ""
      ]
    }
  ],
  "metadata": {
    "colab": {
      "name": "lin_Reg_and_RFR_by_Omitting_NA_values.ipynb",
      "provenance": []
    },
    "kernelspec": {
      "display_name": "Python 3 (ipykernel)",
      "language": "python",
      "name": "python3"
    },
    "language_info": {
      "codemirror_mode": {
        "name": "ipython",
        "version": 3
      },
      "file_extension": ".py",
      "mimetype": "text/x-python",
      "name": "python",
      "nbconvert_exporter": "python",
      "pygments_lexer": "ipython3",
      "version": "3.9.7"
    }
  },
  "nbformat": 4,
  "nbformat_minor": 0
}