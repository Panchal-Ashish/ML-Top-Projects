{
 "cells": [
  {
   "cell_type": "code",
   "execution_count": 1,
   "metadata": {},
   "outputs": [],
   "source": [
    "import pandas as pd\n",
    "import numpy as np\n",
    "import seaborn as sns"
   ]
  },
  {
   "cell_type": "markdown",
   "metadata": {},
   "source": [
    "#### Setting dimensions of the plot"
   ]
  },
  {
   "cell_type": "code",
   "execution_count": 2,
   "metadata": {},
   "outputs": [],
   "source": [
    "sns.set(rc = {'figure.figsize':(11.7,8.27)})"
   ]
  },
  {
   "cell_type": "markdown",
   "metadata": {},
   "source": [
    "#### reading csv file"
   ]
  },
  {
   "cell_type": "code",
   "execution_count": 3,
   "metadata": {},
   "outputs": [],
   "source": [
    "cars_data = pd.read_csv(\"cars_sampled.csv\")"
   ]
  },
  {
   "cell_type": "code",
   "execution_count": 4,
   "metadata": {},
   "outputs": [],
   "source": [
    "cars = cars_data.copy()"
   ]
  },
  {
   "cell_type": "markdown",
   "metadata": {},
   "source": [
    "#### structure of data"
   ]
  },
  {
   "cell_type": "code",
   "execution_count": 5,
   "metadata": {
    "collapsed": true
   },
   "outputs": [
    {
     "name": "stdout",
     "output_type": "stream",
     "text": [
      "<class 'pandas.core.frame.DataFrame'>\n",
      "RangeIndex: 50001 entries, 0 to 50000\n",
      "Data columns (total 19 columns):\n",
      " #   Column               Non-Null Count  Dtype \n",
      "---  ------               --------------  ----- \n",
      " 0   dateCrawled          50001 non-null  object\n",
      " 1   name                 50001 non-null  object\n",
      " 2   seller               50001 non-null  object\n",
      " 3   offerType            50001 non-null  object\n",
      " 4   price                50001 non-null  int64 \n",
      " 5   abtest               50001 non-null  object\n",
      " 6   vehicleType          44813 non-null  object\n",
      " 7   yearOfRegistration   50001 non-null  int64 \n",
      " 8   gearbox              47177 non-null  object\n",
      " 9   powerPS              50001 non-null  int64 \n",
      " 10  model                47243 non-null  object\n",
      " 11  kilometer            50001 non-null  int64 \n",
      " 12  monthOfRegistration  50001 non-null  int64 \n",
      " 13  fuelType             45498 non-null  object\n",
      " 14  brand                50001 non-null  object\n",
      " 15  notRepairedDamage    40285 non-null  object\n",
      " 16  dateCreated          50001 non-null  object\n",
      " 17  postalCode           50001 non-null  int64 \n",
      " 18  lastSeen             50001 non-null  object\n",
      "dtypes: int64(6), object(13)\n",
      "memory usage: 7.2+ MB\n"
     ]
    }
   ],
   "source": [
    "cars.info()"
   ]
  },
  {
   "cell_type": "markdown",
   "metadata": {},
   "source": [
    "#### Summarizing the data"
   ]
  },
  {
   "cell_type": "code",
   "execution_count": 6,
   "metadata": {
    "collapsed": true
   },
   "outputs": [
    {
     "data": {
      "text/html": [
       "<div>\n",
       "<style scoped>\n",
       "    .dataframe tbody tr th:only-of-type {\n",
       "        vertical-align: middle;\n",
       "    }\n",
       "\n",
       "    .dataframe tbody tr th {\n",
       "        vertical-align: top;\n",
       "    }\n",
       "\n",
       "    .dataframe thead th {\n",
       "        text-align: right;\n",
       "    }\n",
       "</style>\n",
       "<table border=\"1\" class=\"dataframe\">\n",
       "  <thead>\n",
       "    <tr style=\"text-align: right;\">\n",
       "      <th></th>\n",
       "      <th>price</th>\n",
       "      <th>yearOfRegistration</th>\n",
       "      <th>powerPS</th>\n",
       "      <th>kilometer</th>\n",
       "      <th>monthOfRegistration</th>\n",
       "      <th>postalCode</th>\n",
       "    </tr>\n",
       "  </thead>\n",
       "  <tbody>\n",
       "    <tr>\n",
       "      <th>count</th>\n",
       "      <td>5.000100e+04</td>\n",
       "      <td>50001.000000</td>\n",
       "      <td>50001.000000</td>\n",
       "      <td>50001.000000</td>\n",
       "      <td>50001.000000</td>\n",
       "      <td>50001.000000</td>\n",
       "    </tr>\n",
       "    <tr>\n",
       "      <th>mean</th>\n",
       "      <td>6.559865e+03</td>\n",
       "      <td>2005.544229</td>\n",
       "      <td>116.496130</td>\n",
       "      <td>125613.687726</td>\n",
       "      <td>5.743725</td>\n",
       "      <td>50775.216696</td>\n",
       "    </tr>\n",
       "    <tr>\n",
       "      <th>std</th>\n",
       "      <td>8.581847e+04</td>\n",
       "      <td>122.991832</td>\n",
       "      <td>230.567709</td>\n",
       "      <td>40205.234483</td>\n",
       "      <td>3.711345</td>\n",
       "      <td>25743.701933</td>\n",
       "    </tr>\n",
       "    <tr>\n",
       "      <th>min</th>\n",
       "      <td>0.000000e+00</td>\n",
       "      <td>1000.000000</td>\n",
       "      <td>0.000000</td>\n",
       "      <td>5000.000000</td>\n",
       "      <td>0.000000</td>\n",
       "      <td>1067.000000</td>\n",
       "    </tr>\n",
       "    <tr>\n",
       "      <th>25%</th>\n",
       "      <td>1.150000e+03</td>\n",
       "      <td>1999.000000</td>\n",
       "      <td>69.000000</td>\n",
       "      <td>125000.000000</td>\n",
       "      <td>3.000000</td>\n",
       "      <td>30559.000000</td>\n",
       "    </tr>\n",
       "    <tr>\n",
       "      <th>50%</th>\n",
       "      <td>2.950000e+03</td>\n",
       "      <td>2003.000000</td>\n",
       "      <td>105.000000</td>\n",
       "      <td>150000.000000</td>\n",
       "      <td>6.000000</td>\n",
       "      <td>49504.000000</td>\n",
       "    </tr>\n",
       "    <tr>\n",
       "      <th>75%</th>\n",
       "      <td>7.190000e+03</td>\n",
       "      <td>2008.000000</td>\n",
       "      <td>150.000000</td>\n",
       "      <td>150000.000000</td>\n",
       "      <td>9.000000</td>\n",
       "      <td>71404.000000</td>\n",
       "    </tr>\n",
       "    <tr>\n",
       "      <th>max</th>\n",
       "      <td>1.234568e+07</td>\n",
       "      <td>9999.000000</td>\n",
       "      <td>19312.000000</td>\n",
       "      <td>150000.000000</td>\n",
       "      <td>12.000000</td>\n",
       "      <td>99998.000000</td>\n",
       "    </tr>\n",
       "  </tbody>\n",
       "</table>\n",
       "</div>"
      ],
      "text/plain": [
       "              price  yearOfRegistration       powerPS      kilometer  \\\n",
       "count  5.000100e+04        50001.000000  50001.000000   50001.000000   \n",
       "mean   6.559865e+03         2005.544229    116.496130  125613.687726   \n",
       "std    8.581847e+04          122.991832    230.567709   40205.234483   \n",
       "min    0.000000e+00         1000.000000      0.000000    5000.000000   \n",
       "25%    1.150000e+03         1999.000000     69.000000  125000.000000   \n",
       "50%    2.950000e+03         2003.000000    105.000000  150000.000000   \n",
       "75%    7.190000e+03         2008.000000    150.000000  150000.000000   \n",
       "max    1.234568e+07         9999.000000  19312.000000  150000.000000   \n",
       "\n",
       "       monthOfRegistration    postalCode  \n",
       "count         50001.000000  50001.000000  \n",
       "mean              5.743725  50775.216696  \n",
       "std               3.711345  25743.701933  \n",
       "min               0.000000   1067.000000  \n",
       "25%               3.000000  30559.000000  \n",
       "50%               6.000000  49504.000000  \n",
       "75%               9.000000  71404.000000  \n",
       "max              12.000000  99998.000000  "
      ]
     },
     "execution_count": 6,
     "metadata": {},
     "output_type": "execute_result"
    }
   ],
   "source": [
    "cars.describe()"
   ]
  },
  {
   "cell_type": "markdown",
   "metadata": {},
   "source": [
    "here the numerical values are displayed in scientific notation format...\n",
    "to convert into float"
   ]
  },
  {
   "cell_type": "markdown",
   "metadata": {},
   "source": [
    "#### pd.set_option('display.float_format', lambda x: '%.3f' %x)"
   ]
  },
  {
   "cell_type": "code",
   "execution_count": 7,
   "metadata": {
    "collapsed": true
   },
   "outputs": [
    {
     "data": {
      "text/html": [
       "<div>\n",
       "<style scoped>\n",
       "    .dataframe tbody tr th:only-of-type {\n",
       "        vertical-align: middle;\n",
       "    }\n",
       "\n",
       "    .dataframe tbody tr th {\n",
       "        vertical-align: top;\n",
       "    }\n",
       "\n",
       "    .dataframe thead th {\n",
       "        text-align: right;\n",
       "    }\n",
       "</style>\n",
       "<table border=\"1\" class=\"dataframe\">\n",
       "  <thead>\n",
       "    <tr style=\"text-align: right;\">\n",
       "      <th></th>\n",
       "      <th>price</th>\n",
       "      <th>yearOfRegistration</th>\n",
       "      <th>powerPS</th>\n",
       "      <th>kilometer</th>\n",
       "      <th>monthOfRegistration</th>\n",
       "      <th>postalCode</th>\n",
       "    </tr>\n",
       "  </thead>\n",
       "  <tbody>\n",
       "    <tr>\n",
       "      <th>count</th>\n",
       "      <td>50001.000</td>\n",
       "      <td>50001.000</td>\n",
       "      <td>50001.000</td>\n",
       "      <td>50001.000</td>\n",
       "      <td>50001.000</td>\n",
       "      <td>50001.000</td>\n",
       "    </tr>\n",
       "    <tr>\n",
       "      <th>mean</th>\n",
       "      <td>6559.865</td>\n",
       "      <td>2005.544</td>\n",
       "      <td>116.496</td>\n",
       "      <td>125613.688</td>\n",
       "      <td>5.744</td>\n",
       "      <td>50775.217</td>\n",
       "    </tr>\n",
       "    <tr>\n",
       "      <th>std</th>\n",
       "      <td>85818.470</td>\n",
       "      <td>122.992</td>\n",
       "      <td>230.568</td>\n",
       "      <td>40205.234</td>\n",
       "      <td>3.711</td>\n",
       "      <td>25743.702</td>\n",
       "    </tr>\n",
       "    <tr>\n",
       "      <th>min</th>\n",
       "      <td>0.000</td>\n",
       "      <td>1000.000</td>\n",
       "      <td>0.000</td>\n",
       "      <td>5000.000</td>\n",
       "      <td>0.000</td>\n",
       "      <td>1067.000</td>\n",
       "    </tr>\n",
       "    <tr>\n",
       "      <th>25%</th>\n",
       "      <td>1150.000</td>\n",
       "      <td>1999.000</td>\n",
       "      <td>69.000</td>\n",
       "      <td>125000.000</td>\n",
       "      <td>3.000</td>\n",
       "      <td>30559.000</td>\n",
       "    </tr>\n",
       "    <tr>\n",
       "      <th>50%</th>\n",
       "      <td>2950.000</td>\n",
       "      <td>2003.000</td>\n",
       "      <td>105.000</td>\n",
       "      <td>150000.000</td>\n",
       "      <td>6.000</td>\n",
       "      <td>49504.000</td>\n",
       "    </tr>\n",
       "    <tr>\n",
       "      <th>75%</th>\n",
       "      <td>7190.000</td>\n",
       "      <td>2008.000</td>\n",
       "      <td>150.000</td>\n",
       "      <td>150000.000</td>\n",
       "      <td>9.000</td>\n",
       "      <td>71404.000</td>\n",
       "    </tr>\n",
       "    <tr>\n",
       "      <th>max</th>\n",
       "      <td>12345678.000</td>\n",
       "      <td>9999.000</td>\n",
       "      <td>19312.000</td>\n",
       "      <td>150000.000</td>\n",
       "      <td>12.000</td>\n",
       "      <td>99998.000</td>\n",
       "    </tr>\n",
       "  </tbody>\n",
       "</table>\n",
       "</div>"
      ],
      "text/plain": [
       "             price  yearOfRegistration   powerPS  kilometer  \\\n",
       "count    50001.000           50001.000 50001.000  50001.000   \n",
       "mean      6559.865            2005.544   116.496 125613.688   \n",
       "std      85818.470             122.992   230.568  40205.234   \n",
       "min          0.000            1000.000     0.000   5000.000   \n",
       "25%       1150.000            1999.000    69.000 125000.000   \n",
       "50%       2950.000            2003.000   105.000 150000.000   \n",
       "75%       7190.000            2008.000   150.000 150000.000   \n",
       "max   12345678.000            9999.000 19312.000 150000.000   \n",
       "\n",
       "       monthOfRegistration  postalCode  \n",
       "count            50001.000   50001.000  \n",
       "mean                 5.744   50775.217  \n",
       "std                  3.711   25743.702  \n",
       "min                  0.000    1067.000  \n",
       "25%                  3.000   30559.000  \n",
       "50%                  6.000   49504.000  \n",
       "75%                  9.000   71404.000  \n",
       "max                 12.000   99998.000  "
      ]
     },
     "execution_count": 7,
     "metadata": {},
     "output_type": "execute_result"
    }
   ],
   "source": [
    "pd.set_option('display.float_format', lambda x: '%.3f' %x)\n",
    "cars.describe()"
   ]
  },
  {
   "cell_type": "code",
   "execution_count": null,
   "metadata": {},
   "outputs": [],
   "source": []
  },
  {
   "cell_type": "markdown",
   "metadata": {},
   "source": [
    "when using spyder, it does mot show all the coloumns... instead\n",
    "\n",
    "col1 , col2 , ..... , col5 , col6\n",
    "\n",
    "so in order to display maximum number of columns\n",
    "#### pd.set_option('display.max_columns', Max. No. of columns you want to be displayed)"
   ]
  },
  {
   "cell_type": "code",
   "execution_count": 8,
   "metadata": {
    "collapsed": true
   },
   "outputs": [
    {
     "data": {
      "text/html": [
       "<div>\n",
       "<style scoped>\n",
       "    .dataframe tbody tr th:only-of-type {\n",
       "        vertical-align: middle;\n",
       "    }\n",
       "\n",
       "    .dataframe tbody tr th {\n",
       "        vertical-align: top;\n",
       "    }\n",
       "\n",
       "    .dataframe thead th {\n",
       "        text-align: right;\n",
       "    }\n",
       "</style>\n",
       "<table border=\"1\" class=\"dataframe\">\n",
       "  <thead>\n",
       "    <tr style=\"text-align: right;\">\n",
       "      <th></th>\n",
       "      <th>price</th>\n",
       "      <th>yearOfRegistration</th>\n",
       "      <th>powerPS</th>\n",
       "      <th>kilometer</th>\n",
       "      <th>monthOfRegistration</th>\n",
       "      <th>postalCode</th>\n",
       "    </tr>\n",
       "  </thead>\n",
       "  <tbody>\n",
       "    <tr>\n",
       "      <th>count</th>\n",
       "      <td>50001.000</td>\n",
       "      <td>50001.000</td>\n",
       "      <td>50001.000</td>\n",
       "      <td>50001.000</td>\n",
       "      <td>50001.000</td>\n",
       "      <td>50001.000</td>\n",
       "    </tr>\n",
       "    <tr>\n",
       "      <th>mean</th>\n",
       "      <td>6559.865</td>\n",
       "      <td>2005.544</td>\n",
       "      <td>116.496</td>\n",
       "      <td>125613.688</td>\n",
       "      <td>5.744</td>\n",
       "      <td>50775.217</td>\n",
       "    </tr>\n",
       "    <tr>\n",
       "      <th>std</th>\n",
       "      <td>85818.470</td>\n",
       "      <td>122.992</td>\n",
       "      <td>230.568</td>\n",
       "      <td>40205.234</td>\n",
       "      <td>3.711</td>\n",
       "      <td>25743.702</td>\n",
       "    </tr>\n",
       "    <tr>\n",
       "      <th>min</th>\n",
       "      <td>0.000</td>\n",
       "      <td>1000.000</td>\n",
       "      <td>0.000</td>\n",
       "      <td>5000.000</td>\n",
       "      <td>0.000</td>\n",
       "      <td>1067.000</td>\n",
       "    </tr>\n",
       "    <tr>\n",
       "      <th>25%</th>\n",
       "      <td>1150.000</td>\n",
       "      <td>1999.000</td>\n",
       "      <td>69.000</td>\n",
       "      <td>125000.000</td>\n",
       "      <td>3.000</td>\n",
       "      <td>30559.000</td>\n",
       "    </tr>\n",
       "    <tr>\n",
       "      <th>50%</th>\n",
       "      <td>2950.000</td>\n",
       "      <td>2003.000</td>\n",
       "      <td>105.000</td>\n",
       "      <td>150000.000</td>\n",
       "      <td>6.000</td>\n",
       "      <td>49504.000</td>\n",
       "    </tr>\n",
       "    <tr>\n",
       "      <th>75%</th>\n",
       "      <td>7190.000</td>\n",
       "      <td>2008.000</td>\n",
       "      <td>150.000</td>\n",
       "      <td>150000.000</td>\n",
       "      <td>9.000</td>\n",
       "      <td>71404.000</td>\n",
       "    </tr>\n",
       "    <tr>\n",
       "      <th>max</th>\n",
       "      <td>12345678.000</td>\n",
       "      <td>9999.000</td>\n",
       "      <td>19312.000</td>\n",
       "      <td>150000.000</td>\n",
       "      <td>12.000</td>\n",
       "      <td>99998.000</td>\n",
       "    </tr>\n",
       "  </tbody>\n",
       "</table>\n",
       "</div>"
      ],
      "text/plain": [
       "             price  yearOfRegistration   powerPS  kilometer  \\\n",
       "count    50001.000           50001.000 50001.000  50001.000   \n",
       "mean      6559.865            2005.544   116.496 125613.688   \n",
       "std      85818.470             122.992   230.568  40205.234   \n",
       "min          0.000            1000.000     0.000   5000.000   \n",
       "25%       1150.000            1999.000    69.000 125000.000   \n",
       "50%       2950.000            2003.000   105.000 150000.000   \n",
       "75%       7190.000            2008.000   150.000 150000.000   \n",
       "max   12345678.000            9999.000 19312.000 150000.000   \n",
       "\n",
       "       monthOfRegistration  postalCode  \n",
       "count            50001.000   50001.000  \n",
       "mean                 5.744   50775.217  \n",
       "std                  3.711   25743.702  \n",
       "min                  0.000    1067.000  \n",
       "25%                  3.000   30559.000  \n",
       "50%                  6.000   49504.000  \n",
       "75%                  9.000   71404.000  \n",
       "max                 12.000   99998.000  "
      ]
     },
     "execution_count": 8,
     "metadata": {},
     "output_type": "execute_result"
    }
   ],
   "source": [
    "pd.set_option('display.max_columns', 500)\n",
    "cars.describe()"
   ]
  },
  {
   "cell_type": "markdown",
   "metadata": {},
   "source": [
    "#### Dropping unwanted columns"
   ]
  },
  {
   "cell_type": "code",
   "execution_count": 9,
   "metadata": {},
   "outputs": [],
   "source": [
    "col = ['name','dateCrawled','dateCreated','postalCode','lastSeen']\n",
    "cars = cars.drop(columns = col, axis= 1)"
   ]
  },
  {
   "cell_type": "markdown",
   "metadata": {},
   "source": [
    "#### Dropping duplicate records\n",
    "keeping the first occurence and removing the duplicates"
   ]
  },
  {
   "cell_type": "markdown",
   "metadata": {},
   "source": [
    "#### cars.drop_duplicates(keep = 'first', inplace = True)\n",
    "keep: 'first' / 'last' / 'last'\n",
    "\n",
    "inplace: (def: False)... whether to drop duplicates in palce or return a copy"
   ]
  },
  {
   "cell_type": "code",
   "execution_count": 10,
   "metadata": {
    "collapsed": true
   },
   "outputs": [
    {
     "name": "stdout",
     "output_type": "stream",
     "text": [
      "<class 'pandas.core.frame.DataFrame'>\n",
      "Int64Index: 49531 entries, 0 to 50000\n",
      "Data columns (total 14 columns):\n",
      " #   Column               Non-Null Count  Dtype \n",
      "---  ------               --------------  ----- \n",
      " 0   seller               49531 non-null  object\n",
      " 1   offerType            49531 non-null  object\n",
      " 2   price                49531 non-null  int64 \n",
      " 3   abtest               49531 non-null  object\n",
      " 4   vehicleType          44379 non-null  object\n",
      " 5   yearOfRegistration   49531 non-null  int64 \n",
      " 6   gearbox              46766 non-null  object\n",
      " 7   powerPS              49531 non-null  int64 \n",
      " 8   model                46801 non-null  object\n",
      " 9   kilometer            49531 non-null  int64 \n",
      " 10  monthOfRegistration  49531 non-null  int64 \n",
      " 11  fuelType             45064 non-null  object\n",
      " 12  brand                49531 non-null  object\n",
      " 13  notRepairedDamage    39891 non-null  object\n",
      "dtypes: int64(5), object(9)\n",
      "memory usage: 5.7+ MB\n"
     ]
    }
   ],
   "source": [
    "cars.drop_duplicates(keep = 'first', inplace = True)\n",
    "cars.info()\n",
    "# 470 duplicate values"
   ]
  },
  {
   "cell_type": "code",
   "execution_count": null,
   "metadata": {},
   "outputs": [],
   "source": []
  },
  {
   "cell_type": "markdown",
   "metadata": {},
   "source": [
    "### DATA CLEANING"
   ]
  },
  {
   "cell_type": "markdown",
   "metadata": {},
   "source": [
    "#### 1. No. of missing values in each column"
   ]
  },
  {
   "cell_type": "code",
   "execution_count": 11,
   "metadata": {
    "collapsed": true
   },
   "outputs": [
    {
     "data": {
      "text/plain": [
       "seller                    0\n",
       "offerType                 0\n",
       "price                     0\n",
       "abtest                    0\n",
       "vehicleType            5152\n",
       "yearOfRegistration        0\n",
       "gearbox                2765\n",
       "powerPS                   0\n",
       "model                  2730\n",
       "kilometer                 0\n",
       "monthOfRegistration       0\n",
       "fuelType               4467\n",
       "brand                     0\n",
       "notRepairedDamage      9640\n",
       "dtype: int64"
      ]
     },
     "execution_count": 11,
     "metadata": {},
     "output_type": "execute_result"
    }
   ],
   "source": [
    "cars.isnull().sum()"
   ]
  },
  {
   "cell_type": "markdown",
   "metadata": {},
   "source": [
    "#### 2. getting a yearwise count of year of registration"
   ]
  },
  {
   "cell_type": "code",
   "execution_count": 15,
   "metadata": {
    "collapsed": true
   },
   "outputs": [
    {
     "name": "stdout",
     "output_type": "stream",
     "text": [
      "1941       1\n",
      "7800       1\n",
      "1954       1\n",
      "3800       1\n",
      "3000       1\n",
      "        ... \n",
      "2003    2731\n",
      "2001    2782\n",
      "1999    3026\n",
      "2005    3101\n",
      "2000    3275\n",
      "Name: yearOfRegistration, Length: 97, dtype: int64\n",
      "\n",
      "\n",
      "1000     6\n",
      "1255     1\n",
      "1500     2\n",
      "1910    14\n",
      "1928     1\n",
      "        ..\n",
      "7500     1\n",
      "7800     1\n",
      "8500     1\n",
      "8888     2\n",
      "9999     7\n",
      "Name: yearOfRegistration, Length: 97, dtype: int64\n"
     ]
    }
   ],
   "source": [
    "yearwise_counts = cars['yearOfRegistration'].value_counts().sort_values()\n",
    "print(yearwise_counts)\n",
    "\n",
    "print(\"\\n\")\n",
    "\n",
    "yearwise_counts = cars['yearOfRegistration'].value_counts().sort_index()\n",
    "print(yearwise_counts)\n",
    " \n",
    "#without sort_index(), it returns Yr. of Reg. in the increasing order of its frequency (i.e. value counts)\n",
    "\n",
    "# with sort_index(), it rturns Yr. of Reg. in ascending order of year (eg 2001,2002,2003,...)... by default"
   ]
  },
  {
   "cell_type": "code",
   "execution_count": 13,
   "metadata": {},
   "outputs": [
    {
     "name": "stdout",
     "output_type": "stream",
     "text": [
      "26\n",
      "38\n"
     ]
    }
   ],
   "source": [
    "print(sum(cars['yearOfRegistration'] > 2018))\n",
    "print(sum(cars['yearOfRegistration'] < 1950))\n",
    "\n",
    "## we will be getting rid of these data points as they are not impt logically"
   ]
  },
  {
   "cell_type": "markdown",
   "metadata": {},
   "source": [
    "setting the working range to be 1950 to 2018"
   ]
  },
  {
   "cell_type": "code",
   "execution_count": 14,
   "metadata": {
    "collapsed": true
   },
   "outputs": [
    {
     "data": {
      "text/plain": [
       "<AxesSubplot:xlabel='yearOfRegistration', ylabel='price'>"
      ]
     },
     "execution_count": 14,
     "metadata": {},
     "output_type": "execute_result"
    },
    {
     "data": {
      "image/png": "[encoded data removed]",
      "text/plain": [
       "<Figure size 842.4x595.44 with 1 Axes>"
      ]
     },
     "metadata": {},
     "output_type": "display_data"
    }
   ],
   "source": [
    "sns.regplot(x =cars['yearOfRegistration'], y= cars['price'], fit_reg = False, scatter = True, data = cars )"
   ]
  },
  {
   "cell_type": "code",
   "execution_count": null,
   "metadata": {},
   "outputs": [],
   "source": []
  },
  {
   "cell_type": "markdown",
   "metadata": {},
   "source": [
    "#### 3. studying the variable price"
   ]
  },
  {
   "cell_type": "code",
   "execution_count": 19,
   "metadata": {
    "collapsed": true
   },
   "outputs": [
    {
     "name": "stdout",
     "output_type": "stream",
     "text": [
      "0           1415\n",
      "1            172\n",
      "2              1\n",
      "3              1\n",
      "5              4\n",
      "            ... \n",
      "1250000        1\n",
      "2795000        1\n",
      "9999999        1\n",
      "10010011       1\n",
      "12345678       1\n",
      "Name: price, Length: 2393, dtype: int64\n"
     ]
    }
   ],
   "source": [
    "price_counts = cars['price'].value_counts().sort_index()\n",
    "print(price_counts)"
   ]
  },
  {
   "cell_type": "code",
   "execution_count": 36,
   "metadata": {
    "collapsed": true
   },
   "outputs": [
    {
     "name": "stderr",
     "output_type": "stream",
     "text": [
      "C:\\Users\\Manoj\\anaconda3\\lib\\site-packages\\seaborn\\distributions.py:2551: FutureWarning: `distplot` is a deprecated function and will be removed in a future version. Please adapt your code to use either `displot` (a figure-level function with similar flexibility) or `histplot` (an axes-level function for histograms).\n",
      "  warnings.warn(msg, FutureWarning)\n"
     ]
    },
    {
     "data": {
      "text/plain": [
       "<AxesSubplot:xlabel='price'>"
      ]
     },
     "execution_count": 36,
     "metadata": {},
     "output_type": "execute_result"
    },
    {
     "data": {
      "image/png": "[encoded data removed]",
      "text/plain": [
       "<Figure size 842.4x595.44 with 1 Axes>"
      ]
     },
     "metadata": {},
     "output_type": "display_data"
    }
   ],
   "source": [
    "sns.distplot(cars['price'], kde = False)"
   ]
  },
  {
   "cell_type": "code",
   "execution_count": 43,
   "metadata": {
    "collapsed": true
   },
   "outputs": [
    {
     "data": {
      "text/plain": [
       "<AxesSubplot:xlabel='price', ylabel='Count'>"
      ]
     },
     "execution_count": 43,
     "metadata": {},
     "output_type": "execute_result"
    },
    {
     "data": {
      "image/png": "[encoded data removed]",
      "text/plain": [
       "<Figure size 842.4x595.44 with 1 Axes>"
      ]
     },
     "metadata": {},
     "output_type": "display_data"
    }
   ],
   "source": [
    "sns.histplot(cars['price'], kde = False)"
   ]
  },
  {
   "cell_type": "code",
   "execution_count": 30,
   "metadata": {
    "collapsed": true
   },
   "outputs": [
    {
     "data": {
      "text/plain": [
       "<AxesSubplot:ylabel='price'>"
      ]
     },
     "execution_count": 30,
     "metadata": {},
     "output_type": "execute_result"
    },
    {
     "data": {
      "image/png": "[encoded data removed]",
      "text/plain": [
       "<Figure size 842.4x595.44 with 1 Axes>"
      ]
     },
     "metadata": {},
     "output_type": "display_data"
    }
   ],
   "source": [
    "sns.boxplot(y = 'price', data = cars)"
   ]
  },
  {
   "cell_type": "code",
   "execution_count": 37,
   "metadata": {
    "collapsed": true
   },
   "outputs": [
    {
     "name": "stdout",
     "output_type": "stream",
     "text": [
      "34\n",
      "1748\n"
     ]
    }
   ],
   "source": [
    "print(sum(cars['price']>150000))\n",
    "print(sum(cars['price']<100))\n",
    "## we will be getting rid of these data points as they are not impt logically"
   ]
  },
  {
   "cell_type": "markdown",
   "metadata": {},
   "source": [
    "setting the working range from 100 to 150000"
   ]
  },
  {
   "cell_type": "code",
   "execution_count": null,
   "metadata": {},
   "outputs": [],
   "source": []
  },
  {
   "cell_type": "markdown",
   "metadata": {},
   "source": [
    "#### 4. studying variable :powerPS"
   ]
  },
  {
   "cell_type": "code",
   "execution_count": 17,
   "metadata": {},
   "outputs": [
    {
     "name": "stdout",
     "output_type": "stream",
     "text": [
      "0        5533\n",
      "1           3\n",
      "2           2\n",
      "3           2\n",
      "4           4\n",
      "         ... \n",
      "15033       1\n",
      "16011       1\n",
      "16312       1\n",
      "19211       1\n",
      "19312       1\n",
      "Name: powerPS, Length: 460, dtype: int64\n"
     ]
    }
   ],
   "source": [
    "power_counts = cars['powerPS'].value_counts().sort_index()\n",
    "print(power_counts)"
   ]
  },
  {
   "cell_type": "code",
   "execution_count": 40,
   "metadata": {
    "collapsed": true
   },
   "outputs": [
    {
     "name": "stderr",
     "output_type": "stream",
     "text": [
      "C:\\Users\\Manoj\\anaconda3\\lib\\site-packages\\seaborn\\distributions.py:2551: FutureWarning: `distplot` is a deprecated function and will be removed in a future version. Please adapt your code to use either `displot` (a figure-level function with similar flexibility) or `histplot` (an axes-level function for histograms).\n",
      "  warnings.warn(msg, FutureWarning)\n"
     ]
    },
    {
     "data": {
      "text/plain": [
       "<AxesSubplot:xlabel='powerPS', ylabel='Density'>"
      ]
     },
     "execution_count": 40,
     "metadata": {},
     "output_type": "execute_result"
    },
    {
     "data": {
      "image/png": "[encoded data removed]",
      "text/plain": [
       "<Figure size 842.4x595.44 with 1 Axes>"
      ]
     },
     "metadata": {},
     "output_type": "display_data"
    }
   ],
   "source": [
    "sns.distplot( cars['powerPS'] )"
   ]
  },
  {
   "cell_type": "code",
   "execution_count": 42,
   "metadata": {
    "collapsed": true
   },
   "outputs": [
    {
     "data": {
      "text/plain": [
       "<AxesSubplot:xlabel='powerPS', ylabel='Count'>"
      ]
     },
     "execution_count": 42,
     "metadata": {},
     "output_type": "execute_result"
    },
    {
     "data": {
      "image/png": "[encoded data removed]",
      "text/plain": [
       "<Figure size 842.4x595.44 with 1 Axes>"
      ]
     },
     "metadata": {},
     "output_type": "display_data"
    }
   ],
   "source": [
    "sns.histplot( cars['powerPS'], kde = False )"
   ]
  },
  {
   "cell_type": "code",
   "execution_count": 45,
   "metadata": {
    "collapsed": true
   },
   "outputs": [
    {
     "data": {
      "text/plain": [
       "<AxesSubplot:ylabel='powerPS'>"
      ]
     },
     "execution_count": 45,
     "metadata": {},
     "output_type": "execute_result"
    },
    {
     "data": {
      "image/png": "[encoded data removed]",
      "text/plain": [
       "<Figure size 842.4x595.44 with 1 Axes>"
      ]
     },
     "metadata": {},
     "output_type": "display_data"
    }
   ],
   "source": [
    "sns.boxplot(y = 'powerPS', data = cars)"
   ]
  },
  {
   "cell_type": "code",
   "execution_count": 48,
   "metadata": {
    "collapsed": true
   },
   "outputs": [
    {
     "data": {
      "text/plain": [
       "<AxesSubplot:xlabel='powerPS', ylabel='price'>"
      ]
     },
     "execution_count": 48,
     "metadata": {},
     "output_type": "execute_result"
    },
    {
     "data": {
      "image/png": "[encoded data removed]",
      "text/plain": [
       "<Figure size 842.4x595.44 with 1 Axes>"
      ]
     },
     "metadata": {},
     "output_type": "display_data"
    }
   ],
   "source": [
    "sns.regplot(x = 'powerPS', y = 'price', data = cars, fit_reg = False, scatter = True)"
   ]
  },
  {
   "cell_type": "code",
   "execution_count": 50,
   "metadata": {},
   "outputs": [
    {
     "name": "stdout",
     "output_type": "stream",
     "text": [
      "115\n",
      "5565\n"
     ]
    }
   ],
   "source": [
    "print(sum(cars['powerPS']>500))\n",
    "print(sum(cars['powerPS']<10))\n",
    "## we will be getting rid of these data points as they are not impt logically"
   ]
  },
  {
   "cell_type": "markdown",
   "metadata": {},
   "source": [
    "setting the workin range from 10 to 500"
   ]
  },
  {
   "cell_type": "code",
   "execution_count": null,
   "metadata": {},
   "outputs": [],
   "source": []
  },
  {
   "cell_type": "code",
   "execution_count": null,
   "metadata": {},
   "outputs": [],
   "source": []
  },
  {
   "cell_type": "code",
   "execution_count": null,
   "metadata": {},
   "outputs": [],
   "source": []
  },
  {
   "cell_type": "code",
   "execution_count": null,
   "metadata": {},
   "outputs": [],
   "source": []
  },
  {
   "cell_type": "code",
   "execution_count": null,
   "metadata": {},
   "outputs": [],
   "source": []
  }
 ],
 "metadata": {
  "kernelspec": {
   "display_name": "Python 3",
   "language": "python",
   "name": "python3"
  },
  "language_info": {
   "codemirror_mode": {
    "name": "ipython",
    "version": 3
   },
   "file_extension": ".py",
   "mimetype": "text/x-python",
   "name": "python",
   "nbconvert_exporter": "python",
   "pygments_lexer": "ipython3",
   "version": "3.8.5"
  }
 },
 "nbformat": 4,
 "nbformat_minor": 4
}
