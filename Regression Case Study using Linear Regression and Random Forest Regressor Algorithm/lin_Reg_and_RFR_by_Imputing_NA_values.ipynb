{
 "cells": [
  {
   "cell_type": "markdown",
   "metadata": {
    "id": "bh1Md7rc1hej"
   },
   "source": [
    "**Please fo through Regression Case study 1 and 2 Prior before starting with this code.**\n",
    "\n",
    "**It contains data cleaning, Data visualization, Data preprocessing and Analysis which forms the base for understanding the base of this code**"
   ]
  },
  {
   "cell_type": "code",
   "execution_count": 1,
   "metadata": {
    "id": "3X9f5FB00-3Y"
   },
   "outputs": [],
   "source": [
    "import pandas as pd\n",
    "import numpy as np\n",
    "import seaborn as sns\n",
    "import matplotlib.pyplot as plt\n",
    "from sklearn.model_selection import train_test_split\n",
    "from sklearn.linear_model import LinearRegression\n",
    "from sklearn.ensemble import RandomForestRegressor\n",
    "from sklearn.metrics import mean_squared_error, mean_absolute_error\n",
    "from sklearn.preprocessing import LabelEncoder"
   ]
  },
  {
   "cell_type": "code",
   "execution_count": null,
   "metadata": {
    "id": "lLWBiTz71gfu"
   },
   "outputs": [],
   "source": []
  },
  {
   "cell_type": "code",
   "execution_count": 2,
   "metadata": {
    "id": "SwzWx4V_1K5o"
   },
   "outputs": [],
   "source": [
    "sns.set(rc = {'figure.figsize':(11.7,8.27)})"
   ]
  },
  {
   "cell_type": "code",
   "execution_count": 3,
   "metadata": {
    "id": "6PuiKBEG1QBs"
   },
   "outputs": [],
   "source": [
    "cars_data = pd.read_csv(\"cars_sampled.csv\")\n",
    "cars = cars_data.copy()"
   ]
  },
  {
   "cell_type": "code",
   "execution_count": 4,
   "metadata": {
    "colab": {
     "base_uri": "https://localhost:8080/",
     "height": 300
    },
    "id": "6Bq3oehV1S9D",
    "outputId": "cc1698bf-bc46-46f7-aa11-1186cf797db3"
   },
   "outputs": [
    {
     "data": {
      "text/html": [
       "<div>\n",
       "<style scoped>\n",
       "    .dataframe tbody tr th:only-of-type {\n",
       "        vertical-align: middle;\n",
       "    }\n",
       "\n",
       "    .dataframe tbody tr th {\n",
       "        vertical-align: top;\n",
       "    }\n",
       "\n",
       "    .dataframe thead th {\n",
       "        text-align: right;\n",
       "    }\n",
       "</style>\n",
       "<table border=\"1\" class=\"dataframe\">\n",
       "  <thead>\n",
       "    <tr style=\"text-align: right;\">\n",
       "      <th></th>\n",
       "      <th>price</th>\n",
       "      <th>yearOfRegistration</th>\n",
       "      <th>powerPS</th>\n",
       "      <th>kilometer</th>\n",
       "      <th>monthOfRegistration</th>\n",
       "      <th>postalCode</th>\n",
       "    </tr>\n",
       "  </thead>\n",
       "  <tbody>\n",
       "    <tr>\n",
       "      <th>count</th>\n",
       "      <td>50001.000</td>\n",
       "      <td>50001.000</td>\n",
       "      <td>50001.000</td>\n",
       "      <td>50001.000</td>\n",
       "      <td>50001.000</td>\n",
       "      <td>50001.000</td>\n",
       "    </tr>\n",
       "    <tr>\n",
       "      <th>mean</th>\n",
       "      <td>6559.865</td>\n",
       "      <td>2005.544</td>\n",
       "      <td>116.496</td>\n",
       "      <td>125613.688</td>\n",
       "      <td>5.744</td>\n",
       "      <td>50775.217</td>\n",
       "    </tr>\n",
       "    <tr>\n",
       "      <th>std</th>\n",
       "      <td>85818.470</td>\n",
       "      <td>122.992</td>\n",
       "      <td>230.568</td>\n",
       "      <td>40205.234</td>\n",
       "      <td>3.711</td>\n",
       "      <td>25743.702</td>\n",
       "    </tr>\n",
       "    <tr>\n",
       "      <th>min</th>\n",
       "      <td>0.000</td>\n",
       "      <td>1000.000</td>\n",
       "      <td>0.000</td>\n",
       "      <td>5000.000</td>\n",
       "      <td>0.000</td>\n",
       "      <td>1067.000</td>\n",
       "    </tr>\n",
       "    <tr>\n",
       "      <th>25%</th>\n",
       "      <td>1150.000</td>\n",
       "      <td>1999.000</td>\n",
       "      <td>69.000</td>\n",
       "      <td>125000.000</td>\n",
       "      <td>3.000</td>\n",
       "      <td>30559.000</td>\n",
       "    </tr>\n",
       "    <tr>\n",
       "      <th>50%</th>\n",
       "      <td>2950.000</td>\n",
       "      <td>2003.000</td>\n",
       "      <td>105.000</td>\n",
       "      <td>150000.000</td>\n",
       "      <td>6.000</td>\n",
       "      <td>49504.000</td>\n",
       "    </tr>\n",
       "    <tr>\n",
       "      <th>75%</th>\n",
       "      <td>7190.000</td>\n",
       "      <td>2008.000</td>\n",
       "      <td>150.000</td>\n",
       "      <td>150000.000</td>\n",
       "      <td>9.000</td>\n",
       "      <td>71404.000</td>\n",
       "    </tr>\n",
       "    <tr>\n",
       "      <th>max</th>\n",
       "      <td>12345678.000</td>\n",
       "      <td>9999.000</td>\n",
       "      <td>19312.000</td>\n",
       "      <td>150000.000</td>\n",
       "      <td>12.000</td>\n",
       "      <td>99998.000</td>\n",
       "    </tr>\n",
       "  </tbody>\n",
       "</table>\n",
       "</div>"
      ],
      "text/plain": [
       "             price  yearOfRegistration   powerPS  kilometer  \\\n",
       "count    50001.000           50001.000 50001.000  50001.000   \n",
       "mean      6559.865            2005.544   116.496 125613.688   \n",
       "std      85818.470             122.992   230.568  40205.234   \n",
       "min          0.000            1000.000     0.000   5000.000   \n",
       "25%       1150.000            1999.000    69.000 125000.000   \n",
       "50%       2950.000            2003.000   105.000 150000.000   \n",
       "75%       7190.000            2008.000   150.000 150000.000   \n",
       "max   12345678.000            9999.000 19312.000 150000.000   \n",
       "\n",
       "       monthOfRegistration  postalCode  \n",
       "count            50001.000   50001.000  \n",
       "mean                 5.744   50775.217  \n",
       "std                  3.711   25743.702  \n",
       "min                  0.000    1067.000  \n",
       "25%                  3.000   30559.000  \n",
       "50%                  6.000   49504.000  \n",
       "75%                  9.000   71404.000  \n",
       "max                 12.000   99998.000  "
      ]
     },
     "execution_count": 4,
     "metadata": {},
     "output_type": "execute_result"
    }
   ],
   "source": [
    "pd.set_option('display.float_format', lambda x: '%.3f' %x)\n",
    "pd.set_option('display.max_columns', 500)\n",
    "cars.describe()"
   ]
  },
  {
   "cell_type": "markdown",
   "metadata": {
    "id": "8THqTiYW2mdL"
   },
   "source": [
    "**Removing Insignificant columns**"
   ]
  },
  {
   "cell_type": "code",
   "execution_count": 5,
   "metadata": {
    "colab": {
     "base_uri": "https://localhost:8080/"
    },
    "id": "hl07VWcD1VeB",
    "outputId": "5da9675e-9d54-432f-acd1-dbb3226a2c93"
   },
   "outputs": [
    {
     "name": "stdout",
     "output_type": "stream",
     "text": [
      "<class 'pandas.core.frame.DataFrame'>\n",
      "Int64Index: 49531 entries, 0 to 50000\n",
      "Data columns (total 14 columns):\n",
      " #   Column               Non-Null Count  Dtype \n",
      "---  ------               --------------  ----- \n",
      " 0   seller               49531 non-null  object\n",
      " 1   offerType            49531 non-null  object\n",
      " 2   price                49531 non-null  int64 \n",
      " 3   abtest               49531 non-null  object\n",
      " 4   vehicleType          44379 non-null  object\n",
      " 5   yearOfRegistration   49531 non-null  int64 \n",
      " 6   gearbox              46766 non-null  object\n",
      " 7   powerPS              49531 non-null  int64 \n",
      " 8   model                46801 non-null  object\n",
      " 9   kilometer            49531 non-null  int64 \n",
      " 10  monthOfRegistration  49531 non-null  int64 \n",
      " 11  fuelType             45064 non-null  object\n",
      " 12  brand                49531 non-null  object\n",
      " 13  notRepairedDamage    39891 non-null  object\n",
      "dtypes: int64(5), object(9)\n",
      "memory usage: 5.7+ MB\n"
     ]
    }
   ],
   "source": [
    "col = ['name','dateCrawled','dateCreated','postalCode','lastSeen']\n",
    "cars = cars.drop(columns = col, axis= 1)\n",
    "\n",
    "cars.drop_duplicates(keep = 'first', inplace = True)\n",
    "cars.info()"
   ]
  },
  {
   "cell_type": "markdown",
   "metadata": {
    "id": "Wsu5DCWm2qva"
   },
   "source": [
    "**Subsetting only the significant Data**"
   ]
  },
  {
   "cell_type": "code",
   "execution_count": 6,
   "metadata": {
    "id": "CQpVCree2MxR"
   },
   "outputs": [],
   "source": [
    "cars = cars[\n",
    "    (cars[\"yearOfRegistration\"] <= 2020)\n",
    "    &(cars[\"yearOfRegistration\"] >= 1950)\n",
    "    &(cars[\"price\"] >= 100)\n",
    "    &(cars[\"price\"] <= 150000)\n",
    "    &(cars[\"powerPS\"] >= 10)\n",
    "    &(cars[\"powerPS\"] <= 500)\n",
    "]\n",
    "# Approx 6700 records are dropped"
   ]
  },
  {
   "cell_type": "code",
   "execution_count": null,
   "metadata": {
    "id": "WKcSUP2S2UhW"
   },
   "outputs": [],
   "source": []
  },
  {
   "cell_type": "code",
   "execution_count": 7,
   "metadata": {
    "colab": {
     "base_uri": "https://localhost:8080/"
    },
    "id": "zGnz8XUmoJ5E",
    "outputId": "fa197d47-e9f9-4746-df81-0f618c72b3ef"
   },
   "outputs": [
    {
     "data": {
      "text/plain": [
       "count   42772.000\n",
       "mean       16.873\n",
       "std         7.093\n",
       "min         2.000\n",
       "25%        12.330\n",
       "50%        16.830\n",
       "75%        21.170\n",
       "max        69.750\n",
       "Name: Age, dtype: float64"
      ]
     },
     "execution_count": 7,
     "metadata": {},
     "output_type": "execute_result"
    }
   ],
   "source": [
    "cars['Age'] = (2020 - cars['yearOfRegistration']) + ((cars['monthOfRegistration'])/12)\n",
    "cars[\"Age\"] = round(cars[\"Age\"], 2)\n",
    "cars['Age'].describe()"
   ]
  },
  {
   "cell_type": "markdown",
   "metadata": {
    "id": "X3ZpT8Ir20w6"
   },
   "source": [
    "*Further Dropping insignificant variables*"
   ]
  },
  {
   "cell_type": "code",
   "execution_count": 8,
   "metadata": {
    "id": "7ekj-RsN2ZaA"
   },
   "outputs": [],
   "source": [
    "cars = cars.drop(columns = ['yearOfRegistration','monthOfRegistration'])"
   ]
  },
  {
   "cell_type": "code",
   "execution_count": 9,
   "metadata": {
    "colab": {
     "base_uri": "https://localhost:8080/"
    },
    "id": "J7pWhRtn2eFm",
    "outputId": "d934af17-275a-468f-ca54-b0f3953f81f4"
   },
   "outputs": [
    {
     "name": "stdout",
     "output_type": "stream",
     "text": [
      "           price  powerPS  kilometer    Age\n",
      "price      1.000    0.575     -0.440 -0.336\n",
      "powerPS    0.575    1.000     -0.016 -0.151\n",
      "kilometer -0.440   -0.016      1.000  0.292\n",
      "Age       -0.336   -0.151      0.292  1.000\n",
      "price       1.000\n",
      "powerPS     0.575\n",
      "kilometer   0.440\n",
      "Age         0.336\n",
      "Name: price, dtype: float64\n"
     ]
    }
   ],
   "source": [
    "## Correlation Among Numeric Variables\n",
    "\n",
    "cars_select1 = cars.select_dtypes(exclude = [object])\n",
    "correlation = cars_select1.corr()\n",
    "print(round(correlation,3))\n",
    "print(cars_select1.corr().loc[:,'price'].abs().sort_values(ascending  = False))"
   ]
  },
  {
   "cell_type": "markdown",
   "metadata": {
    "id": "hXbq-QsB3PVa"
   },
   "source": [
    "## Actual code of this Session\n",
    "We are going to build a linear regression and random forest regression model on 2 sets of data\n",
    "\n",
    "1. Data obtained by imputing the misssing values"
   ]
  },
  {
   "cell_type": "markdown",
   "metadata": {
    "id": "krMpXa5o3Tnj"
   },
   "source": [
    "# ===== Model building with imputed data ====="
   ]
  },
  {
   "cell_type": "markdown",
   "metadata": {
    "id": "Ibt9-74o_B4Y"
   },
   "source": [
    "1. for Numerical variable, filling na values with median\n",
    "2. for categorical variable, filling na values with modal value"
   ]
  },
  {
   "cell_type": "code",
   "execution_count": 10,
   "metadata": {
    "id": "w_bIW5mA3JQ6"
   },
   "outputs": [],
   "source": [
    "cars_imputed = cars.apply(lambda x: x.fillna(x.median())\n",
    "                         if (x.dtype == 'float' or x.dtype == 'int')\n",
    "                         else x.fillna(x.value_counts().index[0]))"
   ]
  },
  {
   "cell_type": "code",
   "execution_count": 11,
   "metadata": {
    "colab": {
     "base_uri": "https://localhost:8080/"
    },
    "id": "kGcNmmAi_O8G",
    "outputId": "a064b327-37c4-4a62-9593-7e8fa712d18c"
   },
   "outputs": [
    {
     "data": {
      "text/plain": [
       "seller               0\n",
       "offerType            0\n",
       "price                0\n",
       "abtest               0\n",
       "vehicleType          0\n",
       "gearbox              0\n",
       "powerPS              0\n",
       "model                0\n",
       "kilometer            0\n",
       "fuelType             0\n",
       "brand                0\n",
       "notRepairedDamage    0\n",
       "Age                  0\n",
       "dtype: int64"
      ]
     },
     "execution_count": 11,
     "metadata": {},
     "output_type": "execute_result"
    }
   ],
   "source": [
    "cars_imputed.isna().sum()"
   ]
  },
  {
   "cell_type": "code",
   "execution_count": 12,
   "metadata": {},
   "outputs": [],
   "source": [
    "cars_imputed2 = cars_imputed.copy()"
   ]
  },
  {
   "cell_type": "code",
   "execution_count": 13,
   "metadata": {},
   "outputs": [],
   "source": [
    "cars_imputed.to_csv(\"cars_cleaned_imputed.csv\", index = False)"
   ]
  },
  {
   "cell_type": "code",
   "execution_count": null,
   "metadata": {},
   "outputs": [],
   "source": []
  },
  {
   "cell_type": "code",
   "execution_count": null,
   "metadata": {},
   "outputs": [],
   "source": []
  },
  {
   "cell_type": "markdown",
   "metadata": {
    "id": "zv_3gnCB3f_V"
   },
   "source": [
    "#### converting categorical variables into dummy variables"
   ]
  },
  {
   "cell_type": "code",
   "execution_count": 14,
   "metadata": {},
   "outputs": [],
   "source": [
    "seller_encoder = LabelEncoder()\n",
    "cars_imputed['seller'] = seller_encoder.fit_transform(cars_imputed['seller'])\n",
    "\n",
    "offerType_encoder = LabelEncoder()\n",
    "cars_imputed['offerType'] = offerType_encoder.fit_transform(cars_imputed['offerType'])\n",
    "\n",
    "abtest_encoder = LabelEncoder()\n",
    "cars_imputed['abtest'] = abtest_encoder.fit_transform(cars_imputed['abtest'])\n",
    "\n",
    "vehicleType_encoder = LabelEncoder()\n",
    "cars_imputed['vehicleType'] = vehicleType_encoder.fit_transform(cars_imputed['vehicleType'])\n",
    "\n",
    "gearbox_encoder = LabelEncoder()\n",
    "cars_imputed['gearbox'] = gearbox_encoder.fit_transform(cars_imputed['gearbox'])\n",
    "\n",
    "model_encoder = LabelEncoder()\n",
    "cars_imputed['model'] = model_encoder.fit_transform(cars_imputed['model'])\n",
    "\n",
    "fuelType_encoder = LabelEncoder()\n",
    "cars_imputed['fuelType'] = fuelType_encoder.fit_transform(cars_imputed['fuelType'])\n",
    "\n",
    "brand_encoder = LabelEncoder()\n",
    "cars_imputed['brand'] = brand_encoder.fit_transform(cars_imputed['brand'])\n",
    "\n",
    "notRepairedDamage_encoder = LabelEncoder()\n",
    "cars_imputed['notRepairedDamage'] = notRepairedDamage_encoder.fit_transform(cars_imputed['notRepairedDamage'])"
   ]
  },
  {
   "cell_type": "code",
   "execution_count": 15,
   "metadata": {},
   "outputs": [],
   "source": [
    "seller_dict = {name: seller_encoder.transform([name])  for name in cars_imputed2['seller'].unique()}\n",
    "\n",
    "offerType_dict = {name: offerType_encoder.transform([name])  for name in cars_imputed2['offerType'].unique()}\n",
    "\n",
    "vehicleType_dict = {name: vehicleType_encoder.transform([name])  for name in cars_imputed2['vehicleType'].unique()}\n",
    "\n",
    "abtest_dict = {name: abtest_encoder.transform([name])  for name in cars_imputed2['abtest'].unique()}\n",
    "\n",
    "gearbox_dict = {name: gearbox_encoder.transform([name])  for name in cars_imputed2['gearbox'].unique()}\n",
    "\n",
    "model_dict = {name: model_encoder.transform([name])  for name in cars_imputed2['model'].unique()}\n",
    "\n",
    "fuelType_dict = {name: fuelType_encoder.transform([name])  for name in cars_imputed2['fuelType'].unique()}\n",
    "\n",
    "brand_dict = {name: brand_encoder.transform([name])  for name in cars_imputed2['brand'].unique()}\n",
    "\n",
    "notRepairedDamage_dict = {name: notRepairedDamage_encoder.transform([name])  for name in cars_imputed2['notRepairedDamage'].unique()}"
   ]
  },
  {
   "cell_type": "code",
   "execution_count": 16,
   "metadata": {},
   "outputs": [
    {
     "name": "stdout",
     "output_type": "stream",
     "text": [
      "seller_dict: \n",
      " {'private': array([1]), 'commercial': array([0])} \n",
      "\n",
      "offerType_dict: \n",
      " {'offer': array([0])} \n",
      "\n",
      "vehicleType_dict: \n",
      " {'limousine': array([3]), 'suv': array([7]), 'bus': array([0]), 'small car': array([5]), 'coupe': array([2]), 'station wagon': array([6]), 'others': array([4]), 'cabrio': array([1])} \n",
      "\n",
      "abtest_dict: \n",
      " {'test': array([1]), 'control': array([0])} \n",
      "\n",
      "gearbox_dict: \n",
      " {'manual': array([1]), 'automatic': array([0])} \n",
      "\n",
      "fuelType_dict: \n",
      " {'diesel': array([1]), 'petrol': array([6]), 'cng': array([0]), 'lpg': array([4]), 'hybrid': array([3]), 'electro': array([2]), 'other': array([5])} \n",
      "\n",
      "brand_dict: \n",
      " {'bmw': array([2]), 'volvo': array([39]), 'volkswagen': array([38]), 'seat': array([30]), 'mercedes_benz': array([20]), 'opel': array([24]), 'skoda': array([31]), 'toyota': array([36]), 'nissan': array([23]), 'sonstige_autos': array([33]), 'mazda': array([19]), 'mitsubishi': array([22]), 'audi': array([1]), 'fiat': array([9]), 'alfa_romeo': array([0]), 'saab': array([29]), 'peugeot': array([25]), 'land_rover': array([18]), 'subaru': array([34]), 'mini': array([21]), 'citroen': array([5]), 'jeep': array([14]), 'chrysler': array([4]), 'ford': array([10]), 'renault': array([27]), 'dacia': array([6]), 'chevrolet': array([3]), 'smart': array([32]), 'trabant': array([37]), 'suzuki': array([35]), 'hyundai': array([12]), 'honda': array([11]), 'kia': array([15]), 'jaguar': array([13]), 'daihatsu': array([8]), 'porsche': array([26]), 'rover': array([28]), 'lancia': array([17]), 'daewoo': array([7]), 'lada': array([16])} \n",
      "\n",
      "notRepairedDamage_dict: \n",
      " {'no': array([0]), 'yes': array([1])} \n",
      "\n"
     ]
    }
   ],
   "source": [
    "print(\"seller_dict: \\n\", seller_dict,\"\\n\")\n",
    "print(\"offerType_dict: \\n\", offerType_dict,\"\\n\")\n",
    "print(\"vehicleType_dict: \\n\", vehicleType_dict,\"\\n\")\n",
    "print(\"abtest_dict: \\n\", abtest_dict,\"\\n\")\n",
    "print(\"gearbox_dict: \\n\", gearbox_dict,\"\\n\")\n",
    "print(\"fuelType_dict: \\n\", fuelType_dict,\"\\n\")\n",
    "print(\"brand_dict: \\n\", brand_dict,\"\\n\")\n",
    "print(\"notRepairedDamage_dict: \\n\", notRepairedDamage_dict,\"\\n\")"
   ]
  },
  {
   "cell_type": "code",
   "execution_count": 17,
   "metadata": {},
   "outputs": [],
   "source": [
    "# cars_imputed.info()"
   ]
  },
  {
   "cell_type": "code",
   "execution_count": 18,
   "metadata": {
    "id": "yZhAD8Br3Wls"
   },
   "outputs": [],
   "source": [
    "# cars_imputed = pd.get_dummies(cars_imputed, drop_first = True)"
   ]
  },
  {
   "cell_type": "markdown",
   "metadata": {
    "id": "hurXCck43kBX"
   },
   "source": [
    "### ===== Building model with the Imputed data =====\n",
    "#### separating input and output variables"
   ]
  },
  {
   "cell_type": "code",
   "execution_count": null,
   "metadata": {
    "id": "eADf7yQh3jgR"
   },
   "outputs": [],
   "source": []
  },
  {
   "cell_type": "code",
   "execution_count": 19,
   "metadata": {
    "id": "_fszkEeLoJ5T"
   },
   "outputs": [],
   "source": [
    "x1 = cars_imputed.drop(['price'], axis= 1, inplace = False)\n",
    "y1 = cars_imputed['price']"
   ]
  },
  {
   "cell_type": "markdown",
   "metadata": {
    "id": "8bbUZHKR32z5"
   },
   "source": [
    "#### plotting the variable price"
   ]
  },
  {
   "cell_type": "code",
   "execution_count": 20,
   "metadata": {},
   "outputs": [
    {
     "data": {
      "text/plain": [
       "<AxesSubplot:xlabel='price', ylabel='Count'>"
      ]
     },
     "execution_count": 20,
     "metadata": {},
     "output_type": "execute_result"
    },
    {
     "data": {
      "image/png": "[encoded data removed]",
      "text/plain": [
       "<Figure size 842.4x595.44 with 1 Axes>"
      ]
     },
     "metadata": {},
     "output_type": "display_data"
    }
   ],
   "source": [
    "sns.histplot(x = y1, bins = 8)"
   ]
  },
  {
   "cell_type": "code",
   "execution_count": 21,
   "metadata": {
    "colab": {
     "base_uri": "https://localhost:8080/",
     "height": 568
    },
    "id": "EygIY2u13w6w",
    "outputId": "20cc2ca3-6034-4834-c582-81eb1baa0656"
   },
   "outputs": [
    {
     "data": {
      "text/plain": [
       "array([[<AxesSubplot:title={'center':'1. Before'}>,\n",
       "        <AxesSubplot:title={'center':'2. After'}>]], dtype=object)"
      ]
     },
     "execution_count": 21,
     "metadata": {},
     "output_type": "execute_result"
    },
    {
     "data": {
      "image/png": "[encoded data removed]",
      "text/plain": [
       "<Figure size 842.4x595.44 with 2 Axes>"
      ]
     },
     "metadata": {},
     "output_type": "display_data"
    }
   ],
   "source": [
    "prices = pd.DataFrame({\"1. Before\": y1, \"2. After\": np.log(y1)})\n",
    "prices.hist()"
   ]
  },
  {
   "cell_type": "markdown",
   "metadata": {
    "id": "fAKIGE4138Vk"
   },
   "source": [
    "1. for histogram for log(prices)... it is nicely bell shaped\n",
    "2. for histogram for simply prices... it is a skewed graph\n",
    "\n",
    "so it is better to go further with natural log of prices and not just with price\n",
    "\n",
    "So, we will be regressing the natural logarithm of prices with the input features"
   ]
  },
  {
   "cell_type": "markdown",
   "metadata": {
    "id": "87hA45tk3_pp"
   },
   "source": [
    "#### Transforming price as a Logarthmic value"
   ]
  },
  {
   "cell_type": "code",
   "execution_count": 22,
   "metadata": {
    "id": "XO-jv-nK30Vh"
   },
   "outputs": [],
   "source": [
    "y1 = np.log(y1)"
   ]
  },
  {
   "cell_type": "markdown",
   "metadata": {
    "id": "EHF_LkXa4Nc2"
   },
   "source": [
    "#### Splitting the data into test and train"
   ]
  },
  {
   "cell_type": "code",
   "execution_count": 23,
   "metadata": {
    "colab": {
     "base_uri": "https://localhost:8080/"
    },
    "id": "sjYwgEIh4B3r",
    "outputId": "d36683e4-feea-42b3-dc6e-08900be8c604"
   },
   "outputs": [
    {
     "name": "stdout",
     "output_type": "stream",
     "text": [
      "(34217, 12) (8555, 12) (34217,) (8555,)\n"
     ]
    }
   ],
   "source": [
    "X_train1, X_test1, Y_train1, Y_test1 = train_test_split(x1, y1, test_size = 0.2, random_state = 28)\n",
    "print(X_train1.shape, X_test1.shape, Y_train1.shape, Y_test1.shape)"
   ]
  },
  {
   "cell_type": "markdown",
   "metadata": {
    "id": "6FFhtLC44bEV"
   },
   "source": [
    "### Baseline Model for the Imputed Data\n",
    "In baseline model the predicted value is replaced by the mean value of the test data\n",
    "\n",
    "We are making a base model by using test data mean value\n",
    "\n",
    "This is to set a benchmark and to compare with our regression model\n",
    "\n",
    "inshort... setting the base value (base metric)"
   ]
  },
  {
   "cell_type": "markdown",
   "metadata": {
    "id": "yDBI-ZWg4gZU"
   },
   "source": [
    "#### finding mean for test data value"
   ]
  },
  {
   "cell_type": "code",
   "execution_count": 24,
   "metadata": {
    "colab": {
     "base_uri": "https://localhost:8080/"
    },
    "id": "fjqDgFH34HA8",
    "outputId": "3049eea0-6ecf-4042-aa0c-a89ec5254abb"
   },
   "outputs": [
    {
     "name": "stdout",
     "output_type": "stream",
     "text": [
      "8.090174745275364\n"
     ]
    }
   ],
   "source": [
    "base_pred_1 = np.mean(Y_test1)\n",
    "print(base_pred_1)"
   ]
  },
  {
   "cell_type": "markdown",
   "metadata": {
    "id": "GFXzuPIR4m8O"
   },
   "source": [
    "#### Repeating the same value till the length of test data"
   ]
  },
  {
   "cell_type": "code",
   "execution_count": 25,
   "metadata": {
    "id": "7I8lBpV74j2H"
   },
   "outputs": [],
   "source": [
    "base_pred_1 = np.repeat(base_pred_1, len(Y_test1))"
   ]
  },
  {
   "cell_type": "markdown",
   "metadata": {
    "id": "I15R7hUt4tI6"
   },
   "source": [
    "#### Finding RMSE (Root Mean Square Error)\n",
    "1. it computes the difference between test value and predicted value .... squares them... and divides by the no. of observations\n",
    "2. this is the mean squared error\n",
    "3. when you take the squareroot of mean squared error... you get RMSE value"
   ]
  },
  {
   "cell_type": "code",
   "execution_count": null,
   "metadata": {
    "id": "GrbJNVkv44vo"
   },
   "outputs": [],
   "source": []
  },
  {
   "cell_type": "code",
   "execution_count": 26,
   "metadata": {
    "colab": {
     "base_uri": "https://localhost:8080/"
    },
    "id": "W6X-HJGH4pum",
    "outputId": "d540eaae-b862-4694-87f1-8be82e1e6916"
   },
   "outputs": [
    {
     "name": "stdout",
     "output_type": "stream",
     "text": [
      "1.1776696728811618\n"
     ]
    }
   ],
   "source": [
    "base_root_mean_square_error_1 = np.sqrt(mean_squared_error(Y_test1, base_pred_1))\n",
    "print(base_root_mean_square_error_1)"
   ]
  },
  {
   "cell_type": "code",
   "execution_count": 27,
   "metadata": {},
   "outputs": [
    {
     "name": "stdout",
     "output_type": "stream",
     "text": [
      "3.246799275886661\n"
     ]
    }
   ],
   "source": [
    "print(np.exp(base_root_mean_square_error_1))"
   ]
  },
  {
   "cell_type": "code",
   "execution_count": null,
   "metadata": {},
   "outputs": [],
   "source": []
  },
  {
   "cell_type": "markdown",
   "metadata": {
    "id": "McVNmkw55GeV"
   },
   "source": [
    "## Linear Regression with Imputed Data"
   ]
  },
  {
   "cell_type": "code",
   "execution_count": 28,
   "metadata": {
    "id": "vu_4E5np5HRJ"
   },
   "outputs": [],
   "source": [
    "lnr = LinearRegression(fit_intercept = True)"
   ]
  },
  {
   "cell_type": "markdown",
   "metadata": {
    "id": "J7j7v0K-5OYa"
   },
   "source": [
    "#### model"
   ]
  },
  {
   "cell_type": "code",
   "execution_count": 29,
   "metadata": {
    "id": "6-OaLQ7l5Kat"
   },
   "outputs": [],
   "source": [
    "model_lin1 = lnr.fit(X_train1, Y_train1)"
   ]
  },
  {
   "cell_type": "code",
   "execution_count": 30,
   "metadata": {
    "colab": {
     "base_uri": "https://localhost:8080/"
    },
    "id": "MNtjcgcx5Rav",
    "outputId": "e94895dd-8019-4bf8-af17-ff71c7424f95"
   },
   "outputs": [
    {
     "name": "stdout",
     "output_type": "stream",
     "text": [
      "Linear Regression Accuracy Score for training set (Imputing missing values): 0.6335403832580472\n",
      "Linear Regression Accuracy Score for testing set (Imputing missing values): 0.6375913248031\n"
     ]
    }
   ],
   "source": [
    "r2_lin_train1 = model_lin1.score(X_train1, Y_train1)\n",
    "r2_lin_test1 = model_lin1.score(X_test1, Y_test1)\n",
    "print(f\"Linear Regression Accuracy Score for training set (Imputing missing values): {r2_lin_train1}\\n\\\n",
    "Linear Regression Accuracy Score for testing set (Imputing missing values): {r2_lin_test1}\")"
   ]
  },
  {
   "cell_type": "markdown",
   "metadata": {
    "id": "gn5jfgzI5YDY"
   },
   "source": [
    "#### Predicting model on test set"
   ]
  },
  {
   "cell_type": "code",
   "execution_count": 31,
   "metadata": {
    "id": "4gMBr3xD5VVY"
   },
   "outputs": [],
   "source": [
    "cars_predictions_lin1 = lnr.predict(X_test1)"
   ]
  },
  {
   "cell_type": "markdown",
   "metadata": {
    "id": "AayZZCn_5mgO"
   },
   "source": [
    "#### calculating MSE and RMSE for predictions\n"
   ]
  },
  {
   "cell_type": "code",
   "execution_count": 32,
   "metadata": {
    "colab": {
     "base_uri": "https://localhost:8080/"
    },
    "id": "37fziu765jW7",
    "outputId": "1892c0e1-392d-41f2-f393-ff2ce997eac8"
   },
   "outputs": [
    {
     "name": "stdout",
     "output_type": "stream",
     "text": [
      "0.7089617160145315\n"
     ]
    }
   ],
   "source": [
    "lin_mse1 = mean_squared_error(Y_test1, cars_predictions_lin1)\n",
    "lin_rmse1 = np.sqrt(lin_mse1)\n",
    "print(lin_rmse1)"
   ]
  },
  {
   "cell_type": "markdown",
   "metadata": {
    "id": "NTR0qi_J5tco"
   },
   "source": [
    "\n",
    "it should be noted that the RMSE valus has dropped from 1.17 to 0.70 (Approx 40% reduction)\n",
    "\n",
    "But, 0.63 is still higher than 0.54 in the case of omitting missing values. this is because the missing values are imputed by us"
   ]
  },
  {
   "cell_type": "markdown",
   "metadata": {
    "id": "SPUu7cWF50Lo"
   },
   "source": [
    "R squared value\n",
    "it helps to tell you how good is your model able to explain the variability in 'Y'"
   ]
  },
  {
   "cell_type": "code",
   "execution_count": 33,
   "metadata": {
    "colab": {
     "base_uri": "https://localhost:8080/"
    },
    "id": "taJ_NLGf5pL3",
    "outputId": "e2d9c619-92a6-4683-ebda-a69f0b5c92b9"
   },
   "outputs": [
    {
     "name": "stdout",
     "output_type": "stream",
     "text": [
      "r2_lin1_train1: 0.6335403832580472\n",
      "r2_lin1_test1: 0.6375913248031\n"
     ]
    }
   ],
   "source": [
    "r2_lin_train1 = model_lin1.score(X_train1, Y_train1)\n",
    "r2_lin_test1 = model_lin1.score(X_test1, Y_test1)\n",
    "print(f\"r2_lin1_train1: {r2_lin_train1}\\nr2_lin1_test1: {r2_lin_test1}\")"
   ]
  },
  {
   "cell_type": "markdown",
   "metadata": {
    "id": "TCWU9_CT59cJ"
   },
   "source": [
    "R sq. value for train set is 0.63 and R sq. value for test set is 0.637\n",
    "\n",
    "This tells that the model is only able to grasp 63% variability from the dataset"
   ]
  },
  {
   "cell_type": "code",
   "execution_count": null,
   "metadata": {
    "id": "gLAVlfU055EW"
   },
   "outputs": [],
   "source": []
  },
  {
   "cell_type": "code",
   "execution_count": null,
   "metadata": {
    "id": "Hwo7o_LT6Tro"
   },
   "outputs": [],
   "source": []
  },
  {
   "cell_type": "code",
   "execution_count": null,
   "metadata": {
    "id": "j2mcRN3E6Tih"
   },
   "outputs": [],
   "source": []
  },
  {
   "cell_type": "code",
   "execution_count": null,
   "metadata": {
    "id": "kQ9uA-wf6TQG"
   },
   "outputs": [],
   "source": []
  },
  {
   "cell_type": "markdown",
   "metadata": {
    "id": "esx_fgf86SA7"
   },
   "source": [
    "## Random Forest regressor using Imputed data\n",
    "### Parameters\n"
   ]
  },
  {
   "cell_type": "markdown",
   "metadata": {
    "id": "varwBz3c6az3"
   },
   "source": [
    "#### n_estimators: 'int' (def 100)\n",
    "Number of trees in the forest\n",
    "#### min_samples_split: 'int' or 'float' (def 2)\n",
    "Minimum No. of samples required to split an internal node\n",
    "#### min_samples_leaf: int or float (def 1)\n",
    "Minimum No. of samples required to be at a leaf node. A split point will be considered only if it leaves at least (Min_samples_leaf) training samples in each of left and right branches"
   ]
  },
  {
   "cell_type": "markdown",
   "metadata": {
    "id": "YSZDh4gN6eh7"
   },
   "source": [
    "#### max_features: {'auto', 'sqrt', 'log'}, int, float  (def 'auto')\n",
    "No. of features to be considered to build the model\n",
    "1. if 'auto', then max_features = n_features (chooses the features automatically)\n",
    "2. if 'sqrt', then max_features = sqrt(n_features)\n",
    "3. if 'log', then max_features = log(n_features)\n",
    "4. if int, then consider (int) features at each split"
   ]
  },
  {
   "cell_type": "markdown",
   "metadata": {
    "id": "zzYhE2ou6lwU"
   },
   "source": [
    "#### max_depth: int (def None)\n",
    "The maximum depth of the tree. If None, nodes are expanded untill all leaves are pure or until all leaves contain less than min_samples_split"
   ]
  },
  {
   "cell_type": "markdown",
   "metadata": {
    "id": "owcBVMPA6hns"
   },
   "source": [
    "#### criterion: {'mse', 'mae'} (def: 'mse')\n",
    "#### random_state: int\n",
    "it is a predefined algorithm for randomizer.... if not specified, it will take different data sets everytime"
   ]
  },
  {
   "cell_type": "markdown",
   "metadata": {
    "id": "dxbyP6g66ixk"
   },
   "source": []
  },
  {
   "cell_type": "code",
   "execution_count": 34,
   "metadata": {
    "id": "ATrF1MMm6Xvl"
   },
   "outputs": [],
   "source": [
    "rf = RandomForestRegressor(n_estimators = 100,\n",
    "                          max_features = 'auto',\n",
    "                          max_depth = 100,\n",
    "                          min_samples_split = 10,\n",
    "                          min_samples_leaf = 4,\n",
    "                          random_state = 1)"
   ]
  },
  {
   "cell_type": "markdown",
   "metadata": {
    "id": "k6TRH0q56ume"
   },
   "source": [
    "#### model"
   ]
  },
  {
   "cell_type": "code",
   "execution_count": 35,
   "metadata": {
    "id": "Weh-Wwry6rUv"
   },
   "outputs": [],
   "source": [
    "model_rf1 = rf.fit(X_train1, Y_train1)"
   ]
  },
  {
   "cell_type": "code",
   "execution_count": 36,
   "metadata": {
    "colab": {
     "base_uri": "https://localhost:8080/"
    },
    "id": "4qAta1yn6xvk",
    "outputId": "1b6677ec-c282-4eb5-edce-00eac3f70850"
   },
   "outputs": [
    {
     "name": "stdout",
     "output_type": "stream",
     "text": [
      "Random Forest Accuracy Score for training set (Imputing missing values): 0.9065558903453844\n",
      "Random Forest Accuracy Score for testing set (Imputing missing values): 0.8395275776176175\n"
     ]
    }
   ],
   "source": [
    "r2_rf_train1 = model_rf1.score(X_train1, Y_train1)\n",
    "r2_rf_test1 = model_rf1.score(X_test1, Y_test1)\n",
    "print(f\"Random Forest Accuracy Score for training set (Imputing missing values): {r2_rf_train1}\\n\\\n",
    "Random Forest Accuracy Score for testing set (Imputing missing values): {r2_rf_test1}\")"
   ]
  },
  {
   "cell_type": "markdown",
   "metadata": {
    "id": "d48iS29u64oH"
   },
   "source": [
    "#### Predicting model on test set"
   ]
  },
  {
   "cell_type": "code",
   "execution_count": 37,
   "metadata": {
    "id": "VF1W5k0q60lM"
   },
   "outputs": [],
   "source": [
    "cars_predictions_rf1 = rf.predict(X_test1)"
   ]
  },
  {
   "cell_type": "markdown",
   "metadata": {
    "id": "ofvvROsk7QAc"
   },
   "source": [
    "#### Computing MSE and RMSE values"
   ]
  },
  {
   "cell_type": "code",
   "execution_count": 38,
   "metadata": {
    "colab": {
     "base_uri": "https://localhost:8080/"
    },
    "id": "SlQGWYDS7CJ7",
    "outputId": "19857420-c52a-4bfa-b333-2ff8a5441a4e"
   },
   "outputs": [
    {
     "name": "stdout",
     "output_type": "stream",
     "text": [
      "0.4717628034485344\n"
     ]
    }
   ],
   "source": [
    "rf_mse1 = mean_squared_error(Y_test1, cars_predictions_rf1)\n",
    "rf_rmse1 = np.sqrt(rf_mse1)\n",
    "print(rf_rmse1)"
   ]
  },
  {
   "cell_type": "markdown",
   "metadata": {
    "id": "QJLVzpVW7XKw"
   },
   "source": [
    "Thus, it should be noted that Random Forest model is performing better than the Linear regression model as the RMSE model has come down from 0.70 (Linear Reg) to 0.47 (RFR)"
   ]
  },
  {
   "cell_type": "markdown",
   "metadata": {
    "id": "M9aKAFpy7b7W"
   },
   "source": [
    "#### R squared value"
   ]
  },
  {
   "cell_type": "code",
   "execution_count": 39,
   "metadata": {
    "colab": {
     "base_uri": "https://localhost:8080/"
    },
    "id": "oVkIwljf7T0o",
    "outputId": "74d626f3-ea11-459e-f82e-425d1f549350"
   },
   "outputs": [
    {
     "name": "stdout",
     "output_type": "stream",
     "text": [
      "r2_rf_train1: 0.9065558903453844\n",
      "r2_lin1_test1: 0.8395275776176175\n"
     ]
    }
   ],
   "source": [
    "r2_rf_train1 = model_rf1.score(X_train1, Y_train1)\n",
    "r2_rf_test1 = model_rf1.score(X_test1, Y_test1)\n",
    "print(f\"r2_rf_train1: {r2_rf_train1}\\nr2_lin1_test1: {r2_rf_test1}\")"
   ]
  },
  {
   "cell_type": "code",
   "execution_count": null,
   "metadata": {
    "id": "bDnxHnXb7e8x"
   },
   "outputs": [],
   "source": []
  },
  {
   "cell_type": "code",
   "execution_count": null,
   "metadata": {
    "id": "jSkviNtl7nXu"
   },
   "outputs": [],
   "source": []
  },
  {
   "cell_type": "code",
   "execution_count": null,
   "metadata": {
    "id": "RULpwPU07nTt"
   },
   "outputs": [],
   "source": []
  },
  {
   "cell_type": "markdown",
   "metadata": {
    "id": "Z0QXFxCj7ogT"
   },
   "source": [
    "# FINAL OUTPUT"
   ]
  },
  {
   "cell_type": "code",
   "execution_count": 40,
   "metadata": {
    "colab": {
     "base_uri": "https://localhost:8080/"
    },
    "id": "S-Nqy1Ac7nMr",
    "outputId": "c7fed355-5fe4-4dca-e703-34743d0a32b2"
   },
   "outputs": [
    {
     "name": "stdout",
     "output_type": "stream",
     "text": [
      "Metrics for models built from data where missing values are imputed\n",
      "Base RMSE value = 1.1776696728811618\n",
      "RMSE value for linear Regression model = 0.7089617160145315\n",
      "RMSE value for Random Forest model = 0.4717628034485344\n",
      "Accuracy Score for training set from linear regression = 0.6335403832580472\n",
      "Accuracy Score for testing set from linear regression = 0.6375913248031\n",
      "Accuracy Score for training set from random forest regressor = 0.9065558903453844\n",
      "Accuracy Score for testing set from random forest regressor = 0.8395275776176175\n"
     ]
    }
   ],
   "source": [
    "# FOR OMITTED DATA\n",
    "print(f\"Metrics for models built from data where missing values are imputed\")\n",
    "print(f\"Base RMSE value = {base_root_mean_square_error_1}\")\n",
    "print(f\"RMSE value for linear Regression model = {lin_rmse1}\")\n",
    "print(f\"RMSE value for Random Forest model = {rf_rmse1}\")\n",
    "print(f\"Accuracy Score for training set from linear regression = {r2_lin_train1}\")\n",
    "print(f\"Accuracy Score for testing set from linear regression = {r2_lin_test1}\")\n",
    "print(f\"Accuracy Score for training set from random forest regressor = {r2_rf_train1}\")\n",
    "print(f\"Accuracy Score for testing set from random forest regressor = {r2_rf_test1}\")"
   ]
  },
  {
   "cell_type": "code",
   "execution_count": 41,
   "metadata": {
    "id": "-zKj7_qI7rpG"
   },
   "outputs": [],
   "source": [
    "import pickle\n",
    "with open('RFR_model_by_imputing_NA_Values.pkl', 'wb') as f:\n",
    "    pickle.dump(rf , f)\n",
    "with open('Lin_reg_model_by_imputing_NA_Values.pkl', 'wb') as f:\n",
    "    pickle.dump(lnr , f)"
   ]
  },
  {
   "cell_type": "code",
   "execution_count": 42,
   "metadata": {},
   "outputs": [],
   "source": [
    "def seller():\n",
    "    seller = str(input(\"Enter the Seller Type (default: 'Private'). Type 'C' for commercial: \")).upper()\n",
    "    if seller == 'P':\n",
    "        seller = 'private'\n",
    "    elif seller == 'C':\n",
    "        seller = 'commercial'\n",
    "    else:\n",
    "        seller = 'private'\n",
    "    return seller\n",
    "    \n",
    "# print(seller())"
   ]
  },
  {
   "cell_type": "code",
   "execution_count": 43,
   "metadata": {},
   "outputs": [],
   "source": [
    "offerType = 'offer'"
   ]
  },
  {
   "cell_type": "code",
   "execution_count": 44,
   "metadata": {},
   "outputs": [],
   "source": [
    "def abtest():\n",
    "    abtest = str(input(\"Enter the Abs test status (default: 'Test'). Type 'C' for Control: \")).upper()\n",
    "    if abtest == 'T':\n",
    "        abtest = 'test'\n",
    "    elif abtest == 'C':\n",
    "        abtest = 'control'\n",
    "    else:\n",
    "        abtest = 'test'\n",
    "    return abtest\n",
    "\n",
    "# print(abtest())"
   ]
  },
  {
   "cell_type": "code",
   "execution_count": 45,
   "metadata": {},
   "outputs": [],
   "source": [
    "def vehicleType():\n",
    "    vType = str(input(\"Enter Vehicle type: bus/cabrio/coupe/limousine/small car/station wagon/suv/others : \")).lower()\n",
    "    if vType in ['bus','cabrio','coupe','limousine','small car','station wagon','suv','others']:\n",
    "        return vType\n",
    "    else:\n",
    "        return vehicleType()\n",
    "        \n",
    "\n",
    "# print(vehicleType())"
   ]
  },
  {
   "cell_type": "code",
   "execution_count": 46,
   "metadata": {},
   "outputs": [],
   "source": [
    "def gearbox():\n",
    "    gearbox = str(input(\"Enter the gearbox type (default: 'Manual'). Type 'A' for Automatic: \")).upper()\n",
    "    if gearbox == 'A':\n",
    "        gearbox = 'automatic'\n",
    "    elif gearbox == 'M':\n",
    "        gearbox = 'manual'\n",
    "    else:\n",
    "        gearbox = 'manual'\n",
    "    return gearbox\n",
    "    \n",
    "# print(gearbox())"
   ]
  },
  {
   "cell_type": "code",
   "execution_count": 47,
   "metadata": {},
   "outputs": [],
   "source": [
    "def powerPS():\n",
    "    powerPS = int(input(\"enter the HorsePower (range 0 to 300): \"))\n",
    "#     if type(powerPS) == int:\n",
    "#         if 0<powerPS<300:\n",
    "#             pass\n",
    "#         else:\n",
    "#             powerPS()\n",
    "#     else:\n",
    "#         powerPS()\n",
    "    return powerPS\n",
    "\n",
    "# print(powerPS())\n",
    "\n",
    "## Need to look for exception handling"
   ]
  },
  {
   "cell_type": "code",
   "execution_count": 48,
   "metadata": {},
   "outputs": [],
   "source": [
    "def age():\n",
    "    reg = int(input('Enter Year of registration: '))\n",
    "    age = 0\n",
    "    if type(reg) == int:\n",
    "        age = 2022 - reg\n",
    "        return age\n",
    "    else:\n",
    "        print(\"invalid input\")\n",
    "        age()\n",
    "\n",
    "# print(age())\n",
    "\n",
    "## Need to look for exception handling for strings"
   ]
  },
  {
   "cell_type": "code",
   "execution_count": 49,
   "metadata": {},
   "outputs": [],
   "source": [
    "def km():\n",
    "    km = float(input(\"Enter the km travelled: \"))\n",
    "    return km\n",
    "\n",
    "## Need to look for exception handling for negative nos and strings\n",
    "\n",
    "# print(km())"
   ]
  },
  {
   "cell_type": "code",
   "execution_count": 50,
   "metadata": {},
   "outputs": [],
   "source": [
    "def damage():\n",
    "    damage = input(\"Have the previous damages been repaired? (default: NO). Type 'Y' for yes: \").upper()\n",
    "    if damage == 'Y':\n",
    "        damage = 'no'\n",
    "    elif damage == 'N':\n",
    "        damage = 'yes'\n",
    "    else:\n",
    "        damage = 'yes'\n",
    "    \n",
    "    return damage\n",
    "\n",
    "# print(damage())"
   ]
  },
  {
   "cell_type": "code",
   "execution_count": 51,
   "metadata": {},
   "outputs": [],
   "source": [
    "def brand():\n",
    "    br = input(\"Enter brand name from ['volvo', 'seat', 'volkswagen', 'mercedes_benz', 'opel', 'skoda', 'toyota','nissan',\\\n",
    "    'mazda', 'mitsubishi', 'audi', 'fiat', 'alfa_romeo', 'saab', 'bmw', 'peugeot', 'land_rover', 'subaru',\\\n",
    "    'citroen', 'jeep', 'chrysler', 'ford', 'renault', 'dacia', 'chevrolet', 'smart', 'mini', 'trabant', 'suzuki',\\\n",
    "    'hyundai', 'honda', 'jaguar', 'porsche', 'kia', 'daihatsu', 'lancia', 'daewoo', 'rover', 'lada']: \").lower()\n",
    "    \n",
    "    if br in ['volvo', 'seat', 'volkswagen', 'mercedes_benz', 'opel', 'skoda', 'toyota','nissan',\\\n",
    "                  'mazda', 'mitsubishi', 'audi', 'fiat', 'alfa_romeo', 'saab', 'bmw', 'peugeot', 'land_rover', 'subaru',\\\n",
    "                  'citroen', 'jeep', 'chrysler', 'ford', 'renault', 'dacia', 'chevrolet', 'smart', 'mini', 'trabant', 'suzuki',\\\n",
    "                  'hyundai', 'honda', 'jaguar', 'porsche', 'kia', 'daihatsu', 'lancia', 'daewoo', 'rover', 'lada']:\n",
    "        return br\n",
    "    else:\n",
    "        print('invalid input')\n",
    "        return brand()\n",
    "\n",
    "# print(\"\\n\",brand())"
   ]
  },
  {
   "cell_type": "code",
   "execution_count": 52,
   "metadata": {},
   "outputs": [],
   "source": [
    "def fueltype():\n",
    "    fuelT = input(\"Enter the car  fuel Type from ['diesel', 'petrol', 'cng', 'lpg', 'hybrid', 'electro', 'other']: \").lower()\n",
    "    \n",
    "    if fuelT in ['diesel', 'petrol', 'cng', 'lpg', 'hybrid', 'electro', 'other']:\n",
    "        return fuelT\n",
    "    else:\n",
    "        print('invalid input')\n",
    "        return fueltype()\n",
    "\n",
    "# print(fueltype())"
   ]
  },
  {
   "cell_type": "code",
   "execution_count": 53,
   "metadata": {},
   "outputs": [],
   "source": [
    "def model():\n",
    "    mod = input(\"enter model name: \")\n",
    "    if mod in ['xc_reihe', 'ibiza', 'passat', 'clk', 'vectra', 'octavia', 'a_klasse', 'astra',\\\n",
    "               'yaris', 'meriva', 'others', 'golf', '3_reihe', 'colt', '80', 'panda', 'micra',\\\n",
    "               '156', 'c_klasse', '1er', '3er', 'freelander', 'a4', 'e_klasse', 'forester',\\\n",
    "               '5er', 'grand', 'voyager', 'polo', 'fiesta', 'clio', 'a3', 'slk', 'x_reihe',\\\n",
    "               'fabia', 'logan', '500', 'punto', 'berlingo', 's_klasse', '2_reihe', 'galaxy',\\\n",
    "               'agila', 'touran', 'captiva' ,'scenic', 'mondeo', 'omega', 'a6', 'fortwo',\\\n",
    "               'scirocco', 'transporter', 'c4', 'qashqai', 'ka', 'clubman', 'sharan',\\\n",
    "               'insignia', '7er', 'megane', 'corsa', 'arosa', 'z_reihe', 'caddy', 'aygo',\\\n",
    "               'matiz', 'focus', 'sl', 'combo', 'corolla', '601', 'c_reihe', 'beetle', 'tigra',\\\n",
    "               'twingo', 'tiguan', 'cooper', 's_max', 'toledo', 'carisma', 'zafira', 'a2',\\\n",
    "               'primera', 'a5' ,'tt', 'citigo' ,'tucson', 'accord', 'rav', 'i_reihe', 'laguna',\\\n",
    "               'roadster', 'bora', 'kuga', '147', 'c1', 'civic', 'mustang', 'lupo', 'c5',\\\n",
    "               'mx_reihe' ,'cayenne', 'justy' ,'santa' ,'transit', 'up', 'yeti', 'modus',\\\n",
    "               'rx_reihe' ,'sprinter', 'forfour' ,'cherokee', 'cordoba' ,'v40' ,'navara', 'v70',\\\n",
    "               'q3' ,'sorento', 'verso', 'kaefer', 'v_klasse', 'doblo' ,'1_reihe', 'fox',\\\n",
    "               '6_reihe', 'altea', 'almera', 'leon', 'boxster' ,'calibra' ,'q5', '911',\\\n",
    "               'x_trail', 'v50', 'impreza', 'swift', 'm_klasse', 'jetta' ,'escort' ,'eos', '100',\\\n",
    "               'sandero', '4_reihe', '300c', 'bravo' ,'stilo', 'a1', 'cl', 'kangoo', 'one',\\\n",
    "               'pajero', 'ducato', 'vivaro', 'touareg', 'cr_reihe', '850' ,'q7' ,'duster',\\\n",
    "               'kadett', 'cx_reihe' ,'ceed', 'rio','seicento', 'b_klasse', 'musa' ,'cc',\\\n",
    "               'c_max', 'getz', 'c2', '5_reihe', '900', 'kalos', 'ypsilon', 'jazz', 'ptcruiser',\\\n",
    "               'sportage', 'vito', 'c3', 'signum' ,'aveo', 'jimny', 'note' ,'avensis', 'm_reihe',\\\n",
    "               'auris' ,'espace', 'picanto', 'juke', 'lancer', '6er', 'phaeton', 'x_type',\\\n",
    "               'range_rover_sport', 'spark', 'viano', 'superb', '159', 'alhambra', 'fusion',\\\n",
    "               'a8' ,'legacy', 'amarok' ,'galant', 's60' ,'glk', 'wrangler' ,'9000' ,'roomster',\\\n",
    "               'carnival', 'i3', 'exeo', 'outlander', 'b_max', 'antara', '90', 'niva', 'r19',\\\n",
    "               'sirion', 'nubira', 'g_klasse' ,'spider', 'mii' ,'cuore', 'lodgy', 'crossfire',\\\n",
    "               'range_rover_evoque', 'terios' ,'serie_2', 'lanos', 'range_rover', '200',\\\n",
    "               's_type', 'materia' ,'defender', 'lybra', 'croma', 'discovery', 'v60', 'serie_3',\\\n",
    "               'move' ,'delta', 'gl', 'kalina', 'charade', 'rangerover']:\n",
    "        return mod\n",
    "    else:\n",
    "        print(\"Oops!!! sorry, the specified model does not exist in the database. Please specify another model.\")\n",
    "        return model()\n",
    "    \n",
    "# print(model())"
   ]
  },
  {
   "cell_type": "code",
   "execution_count": 54,
   "metadata": {},
   "outputs": [],
   "source": [
    "# model_rf1.predict([[\n",
    "#     seller_encoder.transform(['private']),\n",
    "#     offerType_encoder.transform(['offer']),\n",
    "#     abtest_encoder.transform(['test']),\n",
    "#     vehicleType_encoder.transform(['cabrio']),\n",
    "#     gearbox_encoder.transform(['manual']),\n",
    "#     130,\n",
    "#     model_encoder.transform(['80']),\n",
    "#     150000,\n",
    "#     fuelType_encoder.transform(['petrol']),\n",
    "#     brand_encoder.transform(['audi']),\n",
    "#     notRepairedDamage_encoder.transform(['no']),\n",
    "#     2\n",
    "# ]])"
   ]
  },
  {
   "cell_type": "code",
   "execution_count": 55,
   "metadata": {},
   "outputs": [],
   "source": [
    "# np.exp(model_rf1.predict([[\n",
    "#     seller_encoder.transform(['private']),   ## seller_encoder.transform([seller()])\n",
    "#     offerType_encoder.transform(['offer']),  ## let it be same\n",
    "#     abtest_encoder.transform(['test']),      ## abtest_encoder.transform([abtest()])\n",
    "#     vehicleType_encoder.transform(['limousine']),## recursive function ??...made, check once\n",
    "#     gearbox_encoder.transform(['manual']),    ## gearbox_encoder.transform([gearbox()])\n",
    "#     140,                                      ## powerPS()\n",
    "#     model_encoder.transform(['passat']),      ## model_encoder.transform([model()])\n",
    "#     150000,                                   ## km()\n",
    "#     fuelType_encoder.transform(['diesel']),   ## fuelType_encoder.transform([fueltype()])\n",
    "#     brand_encoder.transform(['volkswagen']),       ## brand_encoder.transform([brand()])\n",
    "#     notRepairedDamage_encoder.transform(['no']),## notRepairedDamage_encoder.transform([damage()])\n",
    "#     15                                     ## age()\n",
    "# ]]))"
   ]
  },
  {
   "cell_type": "code",
   "execution_count": 56,
   "metadata": {},
   "outputs": [
    {
     "data": {
      "text/plain": [
       "seller                     private\n",
       "offerType                    offer\n",
       "price                        20800\n",
       "abtest                     control\n",
       "vehicleType                    bus\n",
       "gearbox                  automatic\n",
       "powerPS                        156\n",
       "model                     b_klasse\n",
       "kilometer                    20000\n",
       "fuelType                    petrol\n",
       "brand                mercedes_benz\n",
       "notRepairedDamage               no\n",
       "Age                          8.670\n",
       "Name: 38703, dtype: object"
      ]
     },
     "execution_count": 56,
     "metadata": {},
     "output_type": "execute_result"
    }
   ],
   "source": [
    "cars.loc[38703]"
   ]
  },
  {
   "cell_type": "code",
   "execution_count": 57,
   "metadata": {
    "collapsed": true
   },
   "outputs": [
    {
     "ename": "KeyboardInterrupt",
     "evalue": "Interrupted by user",
     "output_type": "error",
     "traceback": [
      "\u001b[1;31m---------------------------------------------------------------------------\u001b[0m",
      "\u001b[1;31mKeyboardInterrupt\u001b[0m                         Traceback (most recent call last)",
      "\u001b[1;32m~\\AppData\\Local\\Temp/ipykernel_196/4250612207.py\u001b[0m in \u001b[0;36m<module>\u001b[1;34m\u001b[0m\n\u001b[0;32m      1\u001b[0m np.exp(model_rf1.predict([[\n\u001b[1;32m----> 2\u001b[1;33m     \u001b[0mseller_encoder\u001b[0m\u001b[1;33m.\u001b[0m\u001b[0mtransform\u001b[0m\u001b[1;33m(\u001b[0m\u001b[1;33m[\u001b[0m\u001b[0mseller\u001b[0m\u001b[1;33m(\u001b[0m\u001b[1;33m)\u001b[0m\u001b[1;33m]\u001b[0m\u001b[1;33m)\u001b[0m\u001b[1;33m,\u001b[0m\u001b[1;33m\u001b[0m\u001b[1;33m\u001b[0m\u001b[0m\n\u001b[0m\u001b[0;32m      3\u001b[0m     \u001b[0mofferType_encoder\u001b[0m\u001b[1;33m.\u001b[0m\u001b[0mtransform\u001b[0m\u001b[1;33m(\u001b[0m\u001b[1;33m[\u001b[0m\u001b[1;34m'offer'\u001b[0m\u001b[1;33m]\u001b[0m\u001b[1;33m)\u001b[0m\u001b[1;33m,\u001b[0m\u001b[1;33m\u001b[0m\u001b[1;33m\u001b[0m\u001b[0m\n\u001b[0;32m      4\u001b[0m     \u001b[0mabtest_encoder\u001b[0m\u001b[1;33m.\u001b[0m\u001b[0mtransform\u001b[0m\u001b[1;33m(\u001b[0m\u001b[1;33m[\u001b[0m\u001b[0mabtest\u001b[0m\u001b[1;33m(\u001b[0m\u001b[1;33m)\u001b[0m\u001b[1;33m]\u001b[0m\u001b[1;33m)\u001b[0m\u001b[1;33m,\u001b[0m\u001b[1;33m\u001b[0m\u001b[1;33m\u001b[0m\u001b[0m\n\u001b[0;32m      5\u001b[0m     \u001b[0mvehicleType_encoder\u001b[0m\u001b[1;33m.\u001b[0m\u001b[0mtransform\u001b[0m\u001b[1;33m(\u001b[0m\u001b[1;33m[\u001b[0m\u001b[0mvehicleType\u001b[0m\u001b[1;33m(\u001b[0m\u001b[1;33m)\u001b[0m\u001b[1;33m]\u001b[0m\u001b[1;33m)\u001b[0m\u001b[1;33m,\u001b[0m\u001b[1;33m\u001b[0m\u001b[1;33m\u001b[0m\u001b[0m\n",
      "\u001b[1;32m~\\AppData\\Local\\Temp/ipykernel_196/649221191.py\u001b[0m in \u001b[0;36mseller\u001b[1;34m()\u001b[0m\n\u001b[0;32m      1\u001b[0m \u001b[1;32mdef\u001b[0m \u001b[0mseller\u001b[0m\u001b[1;33m(\u001b[0m\u001b[1;33m)\u001b[0m\u001b[1;33m:\u001b[0m\u001b[1;33m\u001b[0m\u001b[1;33m\u001b[0m\u001b[0m\n\u001b[1;32m----> 2\u001b[1;33m     \u001b[0mseller\u001b[0m \u001b[1;33m=\u001b[0m \u001b[0mstr\u001b[0m\u001b[1;33m(\u001b[0m\u001b[0minput\u001b[0m\u001b[1;33m(\u001b[0m\u001b[1;34m\"Enter the Seller Type (default: 'Private'). Type 'C' for commercial: \"\u001b[0m\u001b[1;33m)\u001b[0m\u001b[1;33m)\u001b[0m\u001b[1;33m.\u001b[0m\u001b[0mupper\u001b[0m\u001b[1;33m(\u001b[0m\u001b[1;33m)\u001b[0m\u001b[1;33m\u001b[0m\u001b[1;33m\u001b[0m\u001b[0m\n\u001b[0m\u001b[0;32m      3\u001b[0m     \u001b[1;32mif\u001b[0m \u001b[0mseller\u001b[0m \u001b[1;33m==\u001b[0m \u001b[1;34m'P'\u001b[0m\u001b[1;33m:\u001b[0m\u001b[1;33m\u001b[0m\u001b[1;33m\u001b[0m\u001b[0m\n\u001b[0;32m      4\u001b[0m         \u001b[0mseller\u001b[0m \u001b[1;33m=\u001b[0m \u001b[1;34m'private'\u001b[0m\u001b[1;33m\u001b[0m\u001b[1;33m\u001b[0m\u001b[0m\n\u001b[0;32m      5\u001b[0m     \u001b[1;32melif\u001b[0m \u001b[0mseller\u001b[0m \u001b[1;33m==\u001b[0m \u001b[1;34m'C'\u001b[0m\u001b[1;33m:\u001b[0m\u001b[1;33m\u001b[0m\u001b[1;33m\u001b[0m\u001b[0m\n",
      "\u001b[1;32m~\\anaconda3\\lib\\site-packages\\ipykernel\\kernelbase.py\u001b[0m in \u001b[0;36mraw_input\u001b[1;34m(self, prompt)\u001b[0m\n\u001b[0;32m   1004\u001b[0m                 \u001b[1;34m\"raw_input was called, but this frontend does not support input requests.\"\u001b[0m\u001b[1;33m\u001b[0m\u001b[1;33m\u001b[0m\u001b[0m\n\u001b[0;32m   1005\u001b[0m             )\n\u001b[1;32m-> 1006\u001b[1;33m         return self._input_request(\n\u001b[0m\u001b[0;32m   1007\u001b[0m             \u001b[0mstr\u001b[0m\u001b[1;33m(\u001b[0m\u001b[0mprompt\u001b[0m\u001b[1;33m)\u001b[0m\u001b[1;33m,\u001b[0m\u001b[1;33m\u001b[0m\u001b[1;33m\u001b[0m\u001b[0m\n\u001b[0;32m   1008\u001b[0m             \u001b[0mself\u001b[0m\u001b[1;33m.\u001b[0m\u001b[0m_parent_ident\u001b[0m\u001b[1;33m[\u001b[0m\u001b[1;34m\"shell\"\u001b[0m\u001b[1;33m]\u001b[0m\u001b[1;33m,\u001b[0m\u001b[1;33m\u001b[0m\u001b[1;33m\u001b[0m\u001b[0m\n",
      "\u001b[1;32m~\\anaconda3\\lib\\site-packages\\ipykernel\\kernelbase.py\u001b[0m in \u001b[0;36m_input_request\u001b[1;34m(self, prompt, ident, parent, password)\u001b[0m\n\u001b[0;32m   1049\u001b[0m             \u001b[1;32mexcept\u001b[0m \u001b[0mKeyboardInterrupt\u001b[0m\u001b[1;33m:\u001b[0m\u001b[1;33m\u001b[0m\u001b[1;33m\u001b[0m\u001b[0m\n\u001b[0;32m   1050\u001b[0m                 \u001b[1;31m# re-raise KeyboardInterrupt, to truncate traceback\u001b[0m\u001b[1;33m\u001b[0m\u001b[1;33m\u001b[0m\u001b[0m\n\u001b[1;32m-> 1051\u001b[1;33m                 \u001b[1;32mraise\u001b[0m \u001b[0mKeyboardInterrupt\u001b[0m\u001b[1;33m(\u001b[0m\u001b[1;34m\"Interrupted by user\"\u001b[0m\u001b[1;33m)\u001b[0m \u001b[1;32mfrom\u001b[0m \u001b[1;32mNone\u001b[0m\u001b[1;33m\u001b[0m\u001b[1;33m\u001b[0m\u001b[0m\n\u001b[0m\u001b[0;32m   1052\u001b[0m             \u001b[1;32mexcept\u001b[0m \u001b[0mException\u001b[0m\u001b[1;33m:\u001b[0m\u001b[1;33m\u001b[0m\u001b[1;33m\u001b[0m\u001b[0m\n\u001b[0;32m   1053\u001b[0m                 \u001b[0mself\u001b[0m\u001b[1;33m.\u001b[0m\u001b[0mlog\u001b[0m\u001b[1;33m.\u001b[0m\u001b[0mwarning\u001b[0m\u001b[1;33m(\u001b[0m\u001b[1;34m\"Invalid Message:\"\u001b[0m\u001b[1;33m,\u001b[0m \u001b[0mexc_info\u001b[0m\u001b[1;33m=\u001b[0m\u001b[1;32mTrue\u001b[0m\u001b[1;33m)\u001b[0m\u001b[1;33m\u001b[0m\u001b[1;33m\u001b[0m\u001b[0m\n",
      "\u001b[1;31mKeyboardInterrupt\u001b[0m: Interrupted by user"
     ]
    }
   ],
   "source": [
    "np.exp(model_rf1.predict([[\n",
    "    seller_encoder.transform([seller()]),\n",
    "    offerType_encoder.transform(['offer']),\n",
    "    abtest_encoder.transform([abtest()]),\n",
    "    vehicleType_encoder.transform([vehicleType()]),\n",
    "    gearbox_encoder.transform([gearbox()]),\n",
    "    powerPS(),\n",
    "    model_encoder.transform([model()]),\n",
    "    km(),\n",
    "    fuelType_encoder.transform([fueltype()]),\n",
    "    brand_encoder.transform([brand()]),\n",
    "    notRepairedDamage_encoder.transform([damage()]),\n",
    "    age()\n",
    "]]))"
   ]
  },
  {
   "cell_type": "code",
   "execution_count": null,
   "metadata": {},
   "outputs": [],
   "source": []
  },
  {
   "cell_type": "code",
   "execution_count": null,
   "metadata": {},
   "outputs": [],
   "source": []
  },
  {
   "cell_type": "code",
   "execution_count": null,
   "metadata": {},
   "outputs": [],
   "source": []
  }
 ],
 "metadata": {
  "colab": {
   "name": "lin_Reg and RFR by Imputing NA_values.ipynb",
   "provenance": []
  },
  "kernelspec": {
   "display_name": "Python 3 (ipykernel)",
   "language": "python",
   "name": "python3"
  },
  "language_info": {
   "codemirror_mode": {
    "name": "ipython",
    "version": 3
   },
   "file_extension": ".py",
   "mimetype": "text/x-python",
   "name": "python",
   "nbconvert_exporter": "python",
   "pygments_lexer": "ipython3",
   "version": "3.9.7"
  }
 },
 "nbformat": 4,
 "nbformat_minor": 1
}
