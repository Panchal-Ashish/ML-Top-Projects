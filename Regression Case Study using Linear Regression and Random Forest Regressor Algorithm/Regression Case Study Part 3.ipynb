{
  "cells": [
    {
      "cell_type": "code",
      "source": [
        "from google.colab import drive\n",
        "drive.mount('/content/drive')"
      ],
      "metadata": {
        "colab": {
          "base_uri": "https://localhost:8080/"
        },
        "id": "p97nesBnoN2-",
        "outputId": "3cadaee5-78a2-4df0-e446-ed350e761ecb"
      },
      "execution_count": 4,
      "outputs": [
        {
          "output_type": "stream",
          "name": "stdout",
          "text": [
            "Drive already mounted at /content/drive; to attempt to forcibly remount, call drive.mount(\"/content/drive\", force_remount=True).\n"
          ]
        }
      ]
    },
    {
      "cell_type": "markdown",
      "metadata": {
        "id": "lc2VAx-8oJ40"
      },
      "source": [
        "## Introductory setup from previous 2 parts"
      ]
    },
    {
      "cell_type": "code",
      "execution_count": 29,
      "metadata": {
        "id": "HMk3TbJqoJ47"
      },
      "outputs": [],
      "source": [
        "import pandas as pd\n",
        "import numpy as np\n",
        "import seaborn as sns"
      ]
    },
    {
      "cell_type": "code",
      "execution_count": 30,
      "metadata": {
        "id": "tpEcu5G9oJ4-"
      },
      "outputs": [],
      "source": [
        "sns.set(rc = {'figure.figsize':(11.7,8.27)})\n",
        "cars_data = pd.read_csv(\"/content/drive/MyDrive/Colab Notebooks/CarsSampled/cars_sampled.csv\")\n",
        "cars = cars_data.copy()"
      ]
    },
    {
      "cell_type": "code",
      "execution_count": 31,
      "metadata": {
        "colab": {
          "base_uri": "https://localhost:8080/",
          "height": 279
        },
        "id": "bQ3IooenoJ5A",
        "outputId": "4c750b31-635f-4a83-a063-c4ac896b407b"
      },
      "outputs": [
        {
          "output_type": "execute_result",
          "data": {
            "text/plain": [
              "             price  yearOfRegistration   powerPS  kilometer  \\\n",
              "count    50001.000           50001.000 50001.000  50001.000   \n",
              "mean      6559.865            2005.544   116.496 125613.688   \n",
              "std      85818.470             122.992   230.568  40205.234   \n",
              "min          0.000            1000.000     0.000   5000.000   \n",
              "25%       1150.000            1999.000    69.000 125000.000   \n",
              "50%       2950.000            2003.000   105.000 150000.000   \n",
              "75%       7190.000            2008.000   150.000 150000.000   \n",
              "max   12345678.000            9999.000 19312.000 150000.000   \n",
              "\n",
              "       monthOfRegistration  postalCode  \n",
              "count            50001.000   50001.000  \n",
              "mean                 5.744   50775.217  \n",
              "std                  3.711   25743.702  \n",
              "min                  0.000    1067.000  \n",
              "25%                  3.000   30559.000  \n",
              "50%                  6.000   49504.000  \n",
              "75%                  9.000   71404.000  \n",
              "max                 12.000   99998.000  "
            ],
            "text/html": [
              "\n",
              "  <div id=\"df-1de0a276-753b-45df-9b96-7330273b21fa\">\n",
              "    <div class=\"colab-df-container\">\n",
              "      <div>\n",
              "<style scoped>\n",
              "    .dataframe tbody tr th:only-of-type {\n",
              "        vertical-align: middle;\n",
              "    }\n",
              "\n",
              "    .dataframe tbody tr th {\n",
              "        vertical-align: top;\n",
              "    }\n",
              "\n",
              "    .dataframe thead th {\n",
              "        text-align: right;\n",
              "    }\n",
              "</style>\n",
              "<table border=\"1\" class=\"dataframe\">\n",
              "  <thead>\n",
              "    <tr style=\"text-align: right;\">\n",
              "      <th></th>\n",
              "      <th>price</th>\n",
              "      <th>yearOfRegistration</th>\n",
              "      <th>powerPS</th>\n",
              "      <th>kilometer</th>\n",
              "      <th>monthOfRegistration</th>\n",
              "      <th>postalCode</th>\n",
              "    </tr>\n",
              "  </thead>\n",
              "  <tbody>\n",
              "    <tr>\n",
              "      <th>count</th>\n",
              "      <td>50001.000</td>\n",
              "      <td>50001.000</td>\n",
              "      <td>50001.000</td>\n",
              "      <td>50001.000</td>\n",
              "      <td>50001.000</td>\n",
              "      <td>50001.000</td>\n",
              "    </tr>\n",
              "    <tr>\n",
              "      <th>mean</th>\n",
              "      <td>6559.865</td>\n",
              "      <td>2005.544</td>\n",
              "      <td>116.496</td>\n",
              "      <td>125613.688</td>\n",
              "      <td>5.744</td>\n",
              "      <td>50775.217</td>\n",
              "    </tr>\n",
              "    <tr>\n",
              "      <th>std</th>\n",
              "      <td>85818.470</td>\n",
              "      <td>122.992</td>\n",
              "      <td>230.568</td>\n",
              "      <td>40205.234</td>\n",
              "      <td>3.711</td>\n",
              "      <td>25743.702</td>\n",
              "    </tr>\n",
              "    <tr>\n",
              "      <th>min</th>\n",
              "      <td>0.000</td>\n",
              "      <td>1000.000</td>\n",
              "      <td>0.000</td>\n",
              "      <td>5000.000</td>\n",
              "      <td>0.000</td>\n",
              "      <td>1067.000</td>\n",
              "    </tr>\n",
              "    <tr>\n",
              "      <th>25%</th>\n",
              "      <td>1150.000</td>\n",
              "      <td>1999.000</td>\n",
              "      <td>69.000</td>\n",
              "      <td>125000.000</td>\n",
              "      <td>3.000</td>\n",
              "      <td>30559.000</td>\n",
              "    </tr>\n",
              "    <tr>\n",
              "      <th>50%</th>\n",
              "      <td>2950.000</td>\n",
              "      <td>2003.000</td>\n",
              "      <td>105.000</td>\n",
              "      <td>150000.000</td>\n",
              "      <td>6.000</td>\n",
              "      <td>49504.000</td>\n",
              "    </tr>\n",
              "    <tr>\n",
              "      <th>75%</th>\n",
              "      <td>7190.000</td>\n",
              "      <td>2008.000</td>\n",
              "      <td>150.000</td>\n",
              "      <td>150000.000</td>\n",
              "      <td>9.000</td>\n",
              "      <td>71404.000</td>\n",
              "    </tr>\n",
              "    <tr>\n",
              "      <th>max</th>\n",
              "      <td>12345678.000</td>\n",
              "      <td>9999.000</td>\n",
              "      <td>19312.000</td>\n",
              "      <td>150000.000</td>\n",
              "      <td>12.000</td>\n",
              "      <td>99998.000</td>\n",
              "    </tr>\n",
              "  </tbody>\n",
              "</table>\n",
              "</div>\n",
              "      <button class=\"colab-df-convert\" onclick=\"convertToInteractive('df-1de0a276-753b-45df-9b96-7330273b21fa')\"\n",
              "              title=\"Convert this dataframe to an interactive table.\"\n",
              "              style=\"display:none;\">\n",
              "        \n",
              "  <svg xmlns=\"http://www.w3.org/2000/svg\" height=\"24px\"viewBox=\"0 0 24 24\"\n",
              "       width=\"24px\">\n",
              "    <path d=\"M0 0h24v24H0V0z\" fill=\"none\"/>\n",
              "    <path d=\"M18.56 5.44l.94 2.06.94-2.06 2.06-.94-2.06-.94-.94-2.06-.94 2.06-2.06.94zm-11 1L8.5 8.5l.94-2.06 2.06-.94-2.06-.94L8.5 2.5l-.94 2.06-2.06.94zm10 10l.94 2.06.94-2.06 2.06-.94-2.06-.94-.94-2.06-.94 2.06-2.06.94z\"/><path d=\"M17.41 7.96l-1.37-1.37c-.4-.4-.92-.59-1.43-.59-.52 0-1.04.2-1.43.59L10.3 9.45l-7.72 7.72c-.78.78-.78 2.05 0 2.83L4 21.41c.39.39.9.59 1.41.59.51 0 1.02-.2 1.41-.59l7.78-7.78 2.81-2.81c.8-.78.8-2.07 0-2.86zM5.41 20L4 18.59l7.72-7.72 1.47 1.35L5.41 20z\"/>\n",
              "  </svg>\n",
              "      </button>\n",
              "      \n",
              "  <style>\n",
              "    .colab-df-container {\n",
              "      display:flex;\n",
              "      flex-wrap:wrap;\n",
              "      gap: 12px;\n",
              "    }\n",
              "\n",
              "    .colab-df-convert {\n",
              "      background-color: #E8F0FE;\n",
              "      border: none;\n",
              "      border-radius: 50%;\n",
              "      cursor: pointer;\n",
              "      display: none;\n",
              "      fill: #1967D2;\n",
              "      height: 32px;\n",
              "      padding: 0 0 0 0;\n",
              "      width: 32px;\n",
              "    }\n",
              "\n",
              "    .colab-df-convert:hover {\n",
              "      background-color: #E2EBFA;\n",
              "      box-shadow: 0px 1px 2px rgba(60, 64, 67, 0.3), 0px 1px 3px 1px rgba(60, 64, 67, 0.15);\n",
              "      fill: #174EA6;\n",
              "    }\n",
              "\n",
              "    [theme=dark] .colab-df-convert {\n",
              "      background-color: #3B4455;\n",
              "      fill: #D2E3FC;\n",
              "    }\n",
              "\n",
              "    [theme=dark] .colab-df-convert:hover {\n",
              "      background-color: #434B5C;\n",
              "      box-shadow: 0px 1px 3px 1px rgba(0, 0, 0, 0.15);\n",
              "      filter: drop-shadow(0px 1px 2px rgba(0, 0, 0, 0.3));\n",
              "      fill: #FFFFFF;\n",
              "    }\n",
              "  </style>\n",
              "\n",
              "      <script>\n",
              "        const buttonEl =\n",
              "          document.querySelector('#df-1de0a276-753b-45df-9b96-7330273b21fa button.colab-df-convert');\n",
              "        buttonEl.style.display =\n",
              "          google.colab.kernel.accessAllowed ? 'block' : 'none';\n",
              "\n",
              "        async function convertToInteractive(key) {\n",
              "          const element = document.querySelector('#df-1de0a276-753b-45df-9b96-7330273b21fa');\n",
              "          const dataTable =\n",
              "            await google.colab.kernel.invokeFunction('convertToInteractive',\n",
              "                                                     [key], {});\n",
              "          if (!dataTable) return;\n",
              "\n",
              "          const docLinkHtml = 'Like what you see? Visit the ' +\n",
              "            '<a target=\"_blank\" href=https://colab.research.google.com/notebooks/data_table.ipynb>data table notebook</a>'\n",
              "            + ' to learn more about interactive tables.';\n",
              "          element.innerHTML = '';\n",
              "          dataTable['output_type'] = 'display_data';\n",
              "          await google.colab.output.renderOutput(dataTable, element);\n",
              "          const docLink = document.createElement('div');\n",
              "          docLink.innerHTML = docLinkHtml;\n",
              "          element.appendChild(docLink);\n",
              "        }\n",
              "      </script>\n",
              "    </div>\n",
              "  </div>\n",
              "  "
            ]
          },
          "metadata": {},
          "execution_count": 31
        }
      ],
      "source": [
        "pd.set_option('display.float_format', lambda x: '%.3f' %x)\n",
        "pd.set_option('display.max_columns', 500)\n",
        "cars.describe()"
      ]
    },
    {
      "cell_type": "markdown",
      "source": [
        "**Removing Insignificant columns**"
      ],
      "metadata": {
        "id": "8JECxu2Dozlx"
      }
    },
    {
      "cell_type": "code",
      "execution_count": 32,
      "metadata": {
        "colab": {
          "base_uri": "https://localhost:8080/"
        },
        "id": "cmk0qRVNoJ5B",
        "outputId": "6204b480-2f6b-4378-bcdb-6ec7ae58aec0"
      },
      "outputs": [
        {
          "output_type": "stream",
          "name": "stdout",
          "text": [
            "<class 'pandas.core.frame.DataFrame'>\n",
            "Int64Index: 49531 entries, 0 to 50000\n",
            "Data columns (total 14 columns):\n",
            " #   Column               Non-Null Count  Dtype \n",
            "---  ------               --------------  ----- \n",
            " 0   seller               49531 non-null  object\n",
            " 1   offerType            49531 non-null  object\n",
            " 2   price                49531 non-null  int64 \n",
            " 3   abtest               49531 non-null  object\n",
            " 4   vehicleType          44379 non-null  object\n",
            " 5   yearOfRegistration   49531 non-null  int64 \n",
            " 6   gearbox              46766 non-null  object\n",
            " 7   powerPS              49531 non-null  int64 \n",
            " 8   model                46801 non-null  object\n",
            " 9   kilometer            49531 non-null  int64 \n",
            " 10  monthOfRegistration  49531 non-null  int64 \n",
            " 11  fuelType             45064 non-null  object\n",
            " 12  brand                49531 non-null  object\n",
            " 13  notRepairedDamage    39891 non-null  object\n",
            "dtypes: int64(5), object(9)\n",
            "memory usage: 5.7+ MB\n"
          ]
        }
      ],
      "source": [
        "col = ['name','dateCrawled','dateCreated','postalCode','lastSeen']\n",
        "cars = cars.drop(columns = col, axis= 1)\n",
        "\n",
        "cars.drop_duplicates(keep = 'first', inplace = True)\n",
        "cars.info()"
      ]
    },
    {
      "cell_type": "markdown",
      "source": [
        "**Subsetting only the significant Data**"
      ],
      "metadata": {
        "id": "N8drefvEo_NF"
      }
    },
    {
      "cell_type": "code",
      "execution_count": 33,
      "metadata": {
        "id": "uA7uqL3roJ5D"
      },
      "outputs": [],
      "source": [
        "cars = cars[\n",
        "    (cars[\"yearOfRegistration\"] <= 2018)\n",
        "    &(cars[\"yearOfRegistration\"] >= 1950)\n",
        "    &(cars[\"price\"] >= 100)\n",
        "    &(cars[\"price\"] <= 150000)\n",
        "    &(cars[\"powerPS\"] >= 10)\n",
        "    &(cars[\"powerPS\"] <= 500)\n",
        "]\n",
        "# Approx 6700 records are dropped"
      ]
    },
    {
      "cell_type": "code",
      "execution_count": 34,
      "metadata": {
        "colab": {
          "base_uri": "https://localhost:8080/"
        },
        "id": "zGnz8XUmoJ5E",
        "outputId": "ef1624fe-7a53-4b98-87e8-7fe3966e11ab"
      },
      "outputs": [
        {
          "output_type": "stream",
          "name": "stderr",
          "text": [
            "/usr/local/lib/python3.7/dist-packages/ipykernel_launcher.py:1: SettingWithCopyWarning: \n",
            "A value is trying to be set on a copy of a slice from a DataFrame.\n",
            "Try using .loc[row_indexer,col_indexer] = value instead\n",
            "\n",
            "See the caveats in the documentation: https://pandas.pydata.org/pandas-docs/stable/user_guide/indexing.html#returning-a-view-versus-a-copy\n",
            "  \"\"\"Entry point for launching an IPython kernel.\n",
            "/usr/local/lib/python3.7/dist-packages/ipykernel_launcher.py:2: SettingWithCopyWarning: \n",
            "A value is trying to be set on a copy of a slice from a DataFrame.\n",
            "Try using .loc[row_indexer,col_indexer] = value instead\n",
            "\n",
            "See the caveats in the documentation: https://pandas.pydata.org/pandas-docs/stable/user_guide/indexing.html#returning-a-view-versus-a-copy\n",
            "  \n"
          ]
        },
        {
          "output_type": "execute_result",
          "data": {
            "text/plain": [
              "count   42772.000\n",
              "mean       14.873\n",
              "std         7.093\n",
              "min         0.000\n",
              "25%        10.330\n",
              "50%        14.830\n",
              "75%        19.170\n",
              "max        67.750\n",
              "Name: Age, dtype: float64"
            ]
          },
          "metadata": {},
          "execution_count": 34
        }
      ],
      "source": [
        "cars['Age'] = (2018 - cars['yearOfRegistration']) + ((cars['monthOfRegistration'])/12)\n",
        "cars[\"Age\"] = round(cars[\"Age\"], 2)\n",
        "cars['Age'].describe()"
      ]
    },
    {
      "cell_type": "code",
      "execution_count": 35,
      "metadata": {
        "id": "Drjy1-oJoJ5G"
      },
      "outputs": [],
      "source": [
        "cars = cars.drop(columns = ['yearOfRegistration','monthOfRegistration'])"
      ]
    },
    {
      "cell_type": "markdown",
      "source": [
        "*Further Dropping insignificant variables*"
      ],
      "metadata": {
        "id": "GQMC73_kp0_2"
      }
    },
    {
      "cell_type": "code",
      "execution_count": 36,
      "metadata": {
        "id": "z_Y9Jg_6oJ5I"
      },
      "outputs": [],
      "source": [
        "cols = ['seller', 'offerType', 'abtest']\n",
        "cars = cars.drop(columns = cols, axis = 1)\n",
        "cars_copy = cars.copy()"
      ]
    },
    {
      "cell_type": "code",
      "execution_count": 37,
      "metadata": {
        "collapsed": true,
        "colab": {
          "base_uri": "https://localhost:8080/"
        },
        "id": "pSUUjStvoJ5J",
        "outputId": "9c67ceda-727d-4a11-b6d6-4874ab540ebd"
      },
      "outputs": [
        {
          "output_type": "stream",
          "name": "stdout",
          "text": [
            "           price  powerPS  kilometer    Age\n",
            "price      1.000    0.575     -0.440 -0.336\n",
            "powerPS    0.575    1.000     -0.016 -0.151\n",
            "kilometer -0.440   -0.016      1.000  0.292\n",
            "Age       -0.336   -0.151      0.292  1.000\n",
            "price       1.000\n",
            "powerPS     0.575\n",
            "kilometer   0.440\n",
            "Age         0.336\n",
            "Name: price, dtype: float64\n"
          ]
        }
      ],
      "source": [
        "cars_select1 = cars.select_dtypes(exclude = [object])\n",
        "correlation = cars_select1.corr()\n",
        "print(round(correlation,3))\n",
        "print(cars_select1.corr().loc[:,'price'].abs().sort_values(ascending  = False))"
      ]
    },
    {
      "cell_type": "markdown",
      "metadata": {
        "id": "ZzUZApbqoJ5L"
      },
      "source": [
        "## Actual code of this Session\n",
        "We are going to build a linear regression and random forest regression model on 2 sets of data\n",
        "1. Data obtained by omitting rows with any missing value\n",
        "2. Data obtained by imputing the misssing values"
      ]
    },
    {
      "cell_type": "markdown",
      "metadata": {
        "id": "PWKMQSJKoJ5L"
      },
      "source": [
        "## ==== Omitting the missing values ===="
      ]
    },
    {
      "cell_type": "code",
      "execution_count": 38,
      "metadata": {
        "id": "dwR2eWHFoJ5M"
      },
      "outputs": [],
      "source": [
        "cars_omit = cars.dropna(axis = 0)\n",
        "# Approx 10000 records removed"
      ]
    },
    {
      "cell_type": "markdown",
      "metadata": {
        "id": "I-kXeT-EoJ5N"
      },
      "source": [
        "#### converting categorical variables into dummy variables"
      ]
    },
    {
      "cell_type": "code",
      "execution_count": 39,
      "metadata": {
        "id": "Aj9N-aWnoJ5O"
      },
      "outputs": [],
      "source": [
        "cars_omit = pd.get_dummies(cars_omit, drop_first = True)"
      ]
    },
    {
      "cell_type": "markdown",
      "metadata": {
        "id": "F9VzkXn1oJ5P"
      },
      "source": [
        "#### importing necessary libraries"
      ]
    },
    {
      "cell_type": "code",
      "execution_count": 39,
      "metadata": {
        "id": "pSiDD3n6oJ5P"
      },
      "outputs": [],
      "source": [
        ""
      ]
    },
    {
      "cell_type": "code",
      "execution_count": 40,
      "metadata": {
        "id": "xmI0KKg3oJ5Q"
      },
      "outputs": [],
      "source": [
        "from sklearn.model_selection import train_test_split\n",
        "from sklearn.linear_model import LinearRegression\n",
        "from sklearn.ensemble import RandomForestRegressor\n",
        "from sklearn.metrics import mean_squared_error"
      ]
    },
    {
      "cell_type": "code",
      "execution_count": null,
      "metadata": {
        "collapsed": true,
        "id": "CWHc6clloJ5Q",
        "outputId": "2aa9d67a-4d88-47f2-cd13-69c4ef066c0a"
      },
      "outputs": [
        {
          "name": "stdout",
          "output_type": "stream",
          "text": [
            "\n",
            "Welcome to Python 3.8's help utility!\n",
            "\n",
            "If this is your first time using Python, you should definitely check out\n",
            "the tutorial on the Internet at https://docs.python.org/3.8/tutorial/.\n",
            "\n",
            "Enter the name of any module, keyword, or topic to get help on writing\n",
            "Python programs and using Python modules.  To quit this help utility and\n",
            "return to the interpreter, just type \"quit\".\n",
            "\n",
            "To get a list of available modules, keywords, symbols, or topics, type\n",
            "\"modules\", \"keywords\", \"symbols\", or \"topics\".  Each module also comes\n",
            "with a one-line summary of what it does; to list the modules whose name\n",
            "or summary contain a given string such as \"spam\", type \"modules spam\".\n",
            "\n",
            "help> exit()\n",
            "No Python documentation found for 'exit()'.\n",
            "Use help() to get the interactive help utility.\n",
            "Use help(str) for help on the str class.\n",
            "\n",
            "help> quit\n",
            "\n",
            "You are now leaving help and returning to the Python interpreter.\n",
            "If you want to ask for help on a particular object directly from the\n",
            "interpreter, you can type \"help(object)\".  Executing \"help('string')\"\n",
            "has the same effect as typing a particular string at the help> prompt.\n"
          ]
        }
      ],
      "source": [
        "help()"
      ]
    },
    {
      "cell_type": "markdown",
      "metadata": {
        "id": "kE7P_P8poJ5R"
      },
      "source": [
        "### ===== Building model with the omitted data =====\n",
        "#### separating input and output variables"
      ]
    },
    {
      "cell_type": "code",
      "execution_count": 43,
      "metadata": {
        "id": "_fszkEeLoJ5T"
      },
      "outputs": [],
      "source": [
        "x1 = cars_omit.drop(['price'], axis= 1, inplace = False)\n",
        "y1 = cars_omit['price']"
      ]
    },
    {
      "cell_type": "markdown",
      "metadata": {
        "id": "4V3B4PcXoJ5U"
      },
      "source": [
        "#### plotting the variable price"
      ]
    },
    {
      "cell_type": "code",
      "execution_count": 44,
      "metadata": {
        "collapsed": true,
        "colab": {
          "base_uri": "https://localhost:8080/",
          "height": 568
        },
        "id": "LTzqiA1XoJ5U",
        "outputId": "778df912-7abb-4e43-b2b4-520ddb420870"
      },
      "outputs": [
        {
          "output_type": "execute_result",
          "data": {
            "text/plain": [
              "array([[<matplotlib.axes._subplots.AxesSubplot object at 0x7f9d5a0b6210>,\n",
              "        <matplotlib.axes._subplots.AxesSubplot object at 0x7f9d47f50c50>]],\n",
              "      dtype=object)"
            ]
          },
          "metadata": {},
          "execution_count": 44
        },
        {
          "output_type": "display_data",
          "data": {
            "text/plain": [
              "<Figure size 842.4x595.44 with 2 Axes>"
            ],
            "image/png": "[encoded data removed]"
          },
          "metadata": {}
        }
      ],
      "source": [
        "prices = pd.DataFrame({\"1. Before\": y1, \"2. After\": np.log(y1)})\n",
        "prices.hist()"
      ]
    },
    {
      "cell_type": "markdown",
      "metadata": {
        "id": "2EBYsUVHoJ5V"
      },
      "source": [
        "1. for histogram for log(prices)... it is nicely bell shaped\n",
        "2. for histogram for simply prices... it is a skewed graph\n",
        "\n",
        "so it is better to go further with natural log of prices and not just with price\n",
        "\n",
        "So, we will be regressing the natural logarithm of prices with the input features"
      ]
    },
    {
      "cell_type": "markdown",
      "metadata": {
        "id": "1ZSrn7qToJ5W"
      },
      "source": [
        "#### Transforming price as a Logarthmic value"
      ]
    },
    {
      "cell_type": "code",
      "execution_count": 45,
      "metadata": {
        "id": "DQ-7LlWKoJ5X"
      },
      "outputs": [],
      "source": [
        "y1 = np.log(y1)"
      ]
    },
    {
      "cell_type": "markdown",
      "metadata": {
        "id": "eA4wdndyoJ5X"
      },
      "source": [
        "#### Splitting the data into test and train"
      ]
    },
    {
      "cell_type": "code",
      "execution_count": 82,
      "metadata": {
        "colab": {
          "base_uri": "https://localhost:8080/"
        },
        "id": "A87mMmr7oJ5X",
        "outputId": "3a2a666e-64ad-4d32-d0eb-4392a551bd70"
      },
      "outputs": [
        {
          "output_type": "stream",
          "name": "stdout",
          "text": [
            "(26307, 300) (6577, 300) (26307,) (6577,)\n"
          ]
        }
      ],
      "source": [
        "X_train1, X_test1, Y_train1, Y_test1 = train_test_split(x1, y1, test_size = 0.2, random_state = 28)\n",
        "print(X_train1.shape, X_test1.shape, Y_train1.shape, Y_test1.shape)"
      ]
    },
    {
      "cell_type": "markdown",
      "metadata": {
        "id": "h_3pHXVxoJ5Y"
      },
      "source": [
        "### Baseline Model for the Omitted Data\n",
        "In baseline model the predicted value is replaced by the mean value of the test data\n",
        "\n",
        "We are making a base model by using test data mean value\n",
        "\n",
        "This is to set a benchmark and to compare with our regression model\n",
        "\n",
        "inshort... setting the base value (base metric)"
      ]
    },
    {
      "cell_type": "code",
      "execution_count": 82,
      "metadata": {
        "id": "ymlU_rtVoJ5f"
      },
      "outputs": [],
      "source": [
        ""
      ]
    },
    {
      "cell_type": "markdown",
      "metadata": {
        "id": "z8ZXoMR_oJ5g"
      },
      "source": [
        "#### finding mean for test data value"
      ]
    },
    {
      "cell_type": "code",
      "execution_count": 83,
      "metadata": {
        "colab": {
          "base_uri": "https://localhost:8080/"
        },
        "id": "MeMrETigoJ5g",
        "outputId": "d70d5113-b028-4c6a-fc1f-01cca9cda0e9"
      },
      "outputs": [
        {
          "output_type": "stream",
          "name": "stdout",
          "text": [
            "8.215867183883187\n"
          ]
        }
      ],
      "source": [
        "base_pred_1 = np.mean(Y_test1)\n",
        "print(base_pred_1)"
      ]
    },
    {
      "cell_type": "markdown",
      "metadata": {
        "id": "LipefLhtoJ5h"
      },
      "source": [
        "#### Repeating the same value till the length of test data"
      ]
    },
    {
      "cell_type": "code",
      "execution_count": 84,
      "metadata": {
        "id": "Cu5GrkY5oJ5h"
      },
      "outputs": [],
      "source": [
        "base_pred_1 = np.repeat(base_pred_1, len(Y_test1))"
      ]
    },
    {
      "cell_type": "markdown",
      "metadata": {
        "id": "L6Ek1XBDoJ5h"
      },
      "source": [
        "#### Finding RMSE (Root Mean Square Error)\n",
        "1. it computes the difference between test value and predicted value .... squares them... and divides by the no. of observations\n",
        "2. this is the mean squared error\n",
        "3. when you take the squareroot of mean squared error... you get RMSE value"
      ]
    },
    {
      "cell_type": "code",
      "execution_count": 85,
      "metadata": {
        "colab": {
          "base_uri": "https://localhost:8080/"
        },
        "id": "U06X-jkAoJ5i",
        "outputId": "cb51a0fe-c197-4949-b812-8558b62ee615"
      },
      "outputs": [
        {
          "output_type": "stream",
          "name": "stdout",
          "text": [
            "1.1462960922879677\n"
          ]
        }
      ],
      "source": [
        "base_root_mean_square_error_1 = np.sqrt(mean_squared_error(Y_test1, base_pred_1))\n",
        "print(base_root_mean_square_error_1)"
      ]
    },
    {
      "cell_type": "markdown",
      "metadata": {
        "id": "uqGWTmeroJ5j"
      },
      "source": [
        "## Linear Regression with Omitted Data"
      ]
    },
    {
      "cell_type": "markdown",
      "metadata": {
        "id": "JbqqXuo7oJ5j"
      },
      "source": [
        "#### Setting intercept as true"
      ]
    },
    {
      "cell_type": "code",
      "execution_count": 86,
      "metadata": {
        "id": "zvDXDek0oJ5j"
      },
      "outputs": [],
      "source": [
        "lgr = LinearRegression(fit_intercept = True)"
      ]
    },
    {
      "cell_type": "markdown",
      "metadata": {
        "id": "CZCd6clNoJ5k"
      },
      "source": [
        "#### model"
      ]
    },
    {
      "cell_type": "code",
      "execution_count": 87,
      "metadata": {
        "id": "fMoNBRaOoJ5k"
      },
      "outputs": [],
      "source": [
        "model_lin1 = lgr.fit(X_train1, Y_train1)"
      ]
    },
    {
      "cell_type": "code",
      "source": [
        "r2_lin_train1 = model_lin1.score(X_train1, Y_train1)\n",
        "r2_lin_test1 = model_lin1.score(X_test1, Y_test1)\n",
        "print(f\"Linear Regression Accuracy Score for training set (Omitting missing values): {r2_lin_train1}\\n \\\n",
        "Linear Regression Accuracy Score for testing set (Omitting missing values): {r2_lin_test1}\")"
      ],
      "metadata": {
        "colab": {
          "base_uri": "https://localhost:8080/"
        },
        "id": "E64pA7voqyHc",
        "outputId": "86b038d3-d240-44a8-c91d-a267ef03bbe3"
      },
      "execution_count": 88,
      "outputs": [
        {
          "output_type": "stream",
          "name": "stdout",
          "text": [
            "Linear Regression Accuracy Score for training set (Omitting missing values): 0.7765100771151832\n",
            " Linear Regression Accuracy Score for testing set (Omitting missing values): 0.7763292003344727\n"
          ]
        }
      ]
    },
    {
      "cell_type": "markdown",
      "metadata": {
        "id": "ogCqBRQkoJ5k"
      },
      "source": [
        "#### Predicting model on test set"
      ]
    },
    {
      "cell_type": "code",
      "execution_count": 89,
      "metadata": {
        "id": "AZopdLAcoJ5l"
      },
      "outputs": [],
      "source": [
        "cars_predictions_lin1 = lgr.predict(X_test1)"
      ]
    },
    {
      "cell_type": "markdown",
      "metadata": {
        "id": "MfATVMOooJ5l"
      },
      "source": [
        "#### calculating MSE and RMSE for predictions"
      ]
    },
    {
      "cell_type": "code",
      "execution_count": 90,
      "metadata": {
        "colab": {
          "base_uri": "https://localhost:8080/"
        },
        "id": "5qMk662VoJ5l",
        "outputId": "0c5ec1c4-5beb-437b-9066-66494c3cc332"
      },
      "outputs": [
        {
          "output_type": "stream",
          "name": "stdout",
          "text": [
            "0.542127524003901\n"
          ]
        }
      ],
      "source": [
        "lin_mse1 = mean_squared_error(Y_test1, cars_predictions_lin1)\n",
        "lin_rmse1 = np.sqrt(lin_mse1)\n",
        "print(lin_rmse1)"
      ]
    },
    {
      "cell_type": "markdown",
      "metadata": {
        "id": "AxS4RgZpoJ5m"
      },
      "source": [
        "it should be noted that the RMSE valus has dropped from 1.14 to 0.54 (Approx 50% reduction)"
      ]
    },
    {
      "cell_type": "markdown",
      "metadata": {
        "id": "PfK_qmlWoJ5m"
      },
      "source": [
        "#### R squared value\n",
        "it helps to tell you how good is your model able to explain the variability in 'Y'"
      ]
    },
    {
      "cell_type": "code",
      "execution_count": 91,
      "metadata": {
        "colab": {
          "base_uri": "https://localhost:8080/"
        },
        "id": "o_mI3NLQoJ5n",
        "outputId": "d6ec411b-6442-4a01-dd2f-4f7ae0976b92"
      },
      "outputs": [
        {
          "output_type": "stream",
          "name": "stdout",
          "text": [
            "r2_lin1_train1: 0.7765100771151832\n",
            "r2_lin1_test1: 0.7763292003344727\n"
          ]
        }
      ],
      "source": [
        "r2_lin_train1 = model_lin1.score(X_train1, Y_train1)\n",
        "r2_lin_test1 = model_lin1.score(X_test1, Y_test1)\n",
        "print(f\"r2_lin1_train1: {r2_lin_train1}\\nr2_lin1_test1: {r2_lin_test1}\")"
      ]
    },
    {
      "cell_type": "markdown",
      "metadata": {
        "id": "MJsq1uv-oJ5n"
      },
      "source": [
        "R sq. value for train set is 0.7765 and R sq. value for test set is 0.7763\n",
        "\n",
        "cutting quite close... train set is definitely better... but the test set is not far behind\n",
        "\n",
        "This tells that our model is good\n",
        "\n",
        "As much as variability the model was able to capture in the train data...it is able to capture the same amount of variability (if not more) in the test data as well."
      ]
    },
    {
      "cell_type": "markdown",
      "metadata": {
        "id": "T777oMy9oJ5o"
      },
      "source": [
        "#### Regression diagnostics: Residual Plot analysis\n",
        "Residual: difference between predicted value (cars_predictions_lin1) and actual value (Y_test)\n",
        "\n",
        "Residual = Actual - Predicted"
      ]
    },
    {
      "cell_type": "code",
      "execution_count": 92,
      "metadata": {
        "collapsed": true,
        "colab": {
          "base_uri": "https://localhost:8080/",
          "height": 517
        },
        "id": "aBwy4hZyoJ5o",
        "outputId": "4f091739-5e42-4fc5-8dd6-8d5d613d9a73"
      },
      "outputs": [
        {
          "output_type": "execute_result",
          "data": {
            "text/plain": [
              "<matplotlib.axes._subplots.AxesSubplot at 0x7f9d40b24dd0>"
            ]
          },
          "metadata": {},
          "execution_count": 92
        },
        {
          "output_type": "display_data",
          "data": {
            "text/plain": [
              "<Figure size 842.4x595.44 with 1 Axes>"
            ],
            "image/png": "[encoded data removed]"
          },
          "metadata": {}
        }
      ],
      "source": [
        "residuals = Y_test1 - cars_predictions_lin1\n",
        "sns.regplot(x = cars_predictions_lin1, y= residuals, scatter = True, fit_reg= False)"
      ]
    },
    {
      "cell_type": "code",
      "execution_count": 93,
      "metadata": {
        "collapsed": true,
        "colab": {
          "base_uri": "https://localhost:8080/"
        },
        "id": "bsNijfxsoJ5p",
        "outputId": "e2bdccd3-8ee0-4004-e825-945c46f8adc4"
      },
      "outputs": [
        {
          "output_type": "execute_result",
          "data": {
            "text/plain": [
              "count   6577.000\n",
              "mean      -0.005\n",
              "std        0.542\n",
              "min       -3.921\n",
              "25%       -0.273\n",
              "50%        0.030\n",
              "75%        0.289\n",
              "max        4.629\n",
              "Name: price, dtype: float64"
            ]
          },
          "metadata": {},
          "execution_count": 93
        }
      ],
      "source": [
        "residuals.describe()"
      ]
    },
    {
      "cell_type": "code",
      "execution_count": null,
      "metadata": {
        "id": "6-BTXgAhoJ5p"
      },
      "outputs": [],
      "source": [
        ""
      ]
    },
    {
      "cell_type": "markdown",
      "metadata": {
        "id": "LmRjIosboJ5q"
      },
      "source": [
        "## Random Forest regressor using omitted data\n",
        "### Parameters\n"
      ]
    },
    {
      "cell_type": "markdown",
      "metadata": {
        "id": "jhBt9wGYoJ5q"
      },
      "source": [
        "#### n_estimators: 'int' (def 100)\n",
        "Number of trees in the forest\n",
        "#### min_samples_split: 'int' or 'float' (def 2)\n",
        "Minimum No. of samples required to split an internal node\n",
        "#### min_samples_leaf: int or float (def 1)\n",
        "Minimum No. of samples required to be at a leaf node. A split point will be considered only if it leaves at least (Min_samples_leaf) training samples in each of left and right branches"
      ]
    },
    {
      "cell_type": "markdown",
      "metadata": {
        "id": "uA3WSc10oJ5q"
      },
      "source": [
        "#### max_features: {'auto', 'sqrt', 'log'}, int, float  (def 'auto')\n",
        "No. of features to be considered to build the model\n",
        "1. if 'auto', then max_features = n_features (chooses the features automatically)\n",
        "2. if 'sqrt', then max_features = sqrt(n_features)\n",
        "3. if 'log', then max_features = log(n_features)\n",
        "4. if int, then consider (int) features at each split"
      ]
    },
    {
      "cell_type": "markdown",
      "metadata": {
        "id": "czHkbn-boJ5r"
      },
      "source": [
        "#### max_depth: int (def None)\n",
        "The maximum depth of the tree. If None, nodes are expanded untill all leaves are pure or until all leaves contain less than min_samples_split"
      ]
    },
    {
      "cell_type": "markdown",
      "metadata": {
        "id": "W4J279-VoJ5r"
      },
      "source": [
        "#### criterion: {'mse', 'mae'} (def: 'mse')\n",
        "#### random_state: int\n",
        "it is a predefined algorithm for randomizer.... if not specified, it will take different data sets everytime"
      ]
    },
    {
      "cell_type": "code",
      "execution_count": 60,
      "metadata": {
        "id": "hordbkBRoJ5r"
      },
      "outputs": [],
      "source": [
        "rf = RandomForestRegressor(n_estimators = 100,\n",
        "                          max_features = 'auto',\n",
        "                          max_depth = 100,\n",
        "                          min_samples_split = 10,\n",
        "                          min_samples_leaf = 4,\n",
        "                          random_state = 1)"
      ]
    },
    {
      "cell_type": "markdown",
      "metadata": {
        "id": "T4bjPzRdoJ5s"
      },
      "source": [
        "#### model"
      ]
    },
    {
      "cell_type": "code",
      "execution_count": 61,
      "metadata": {
        "id": "7IMeWPkEoJ5s"
      },
      "outputs": [],
      "source": [
        "model_rf1 = rf.fit(X_train1, Y_train1)"
      ]
    },
    {
      "cell_type": "code",
      "source": [
        "r2_rf_train1 = model_rf1.score(X_train1, Y_train1)\n",
        "r2_rf_test1 = model_rf1.score(X_test1, Y_test1)\n",
        "print(f\"Random Forest Accuracy Score for training set (Omitting missing values): {r2_rf_train1}\\n\\\n",
        "Random Forest Accuracy Score for testing set (Omitting missing values): {r2_rf_test1}\")"
      ],
      "metadata": {
        "colab": {
          "base_uri": "https://localhost:8080/"
        },
        "id": "n73wV1xDtV1V",
        "outputId": "32d679b0-160a-4668-f790-b80fdf6a8a2d"
      },
      "execution_count": 70,
      "outputs": [
        {
          "output_type": "stream",
          "name": "stdout",
          "text": [
            "Random Forest Accuracy Score for training set (Omitting missing values): 0.9202494705146291\n",
            "Random Forest Accuracy Score for testing set (Omitting missing values): 0.8504018147750623\n"
          ]
        }
      ]
    },
    {
      "cell_type": "code",
      "source": [
        "X_train1.columns"
      ],
      "metadata": {
        "colab": {
          "base_uri": "https://localhost:8080/"
        },
        "id": "KarLBW8Fs2RS",
        "outputId": "d687cd18-2883-42a3-fa34-68834bea7e0d"
      },
      "execution_count": 71,
      "outputs": [
        {
          "output_type": "execute_result",
          "data": {
            "text/plain": [
              "Index(['powerPS', 'kilometer', 'Age', 'vehicleType_cabrio',\n",
              "       'vehicleType_coupe', 'vehicleType_limousine', 'vehicleType_others',\n",
              "       'vehicleType_small car', 'vehicleType_station wagon', 'vehicleType_suv',\n",
              "       ...\n",
              "       'brand_seat', 'brand_skoda', 'brand_smart', 'brand_subaru',\n",
              "       'brand_suzuki', 'brand_toyota', 'brand_trabant', 'brand_volkswagen',\n",
              "       'brand_volvo', 'notRepairedDamage_yes'],\n",
              "      dtype='object', length=300)"
            ]
          },
          "metadata": {},
          "execution_count": 71
        }
      ]
    },
    {
      "cell_type": "code",
      "execution_count": 72,
      "metadata": {
        "colab": {
          "base_uri": "https://localhost:8080/"
        },
        "id": "deSKxOKYoJ5s",
        "outputId": "bfe6cef3-4278-4047-c8f3-679521d16f2c"
      },
      "outputs": [
        {
          "output_type": "execute_result",
          "data": {
            "text/plain": [
              "(pandas.core.frame.DataFrame,\n",
              " pandas.core.frame.DataFrame,\n",
              " pandas.core.series.Series,\n",
              " pandas.core.series.Series)"
            ]
          },
          "metadata": {},
          "execution_count": 72
        }
      ],
      "source": [
        "type(X_train1),type(X_test1), type(Y_train1), type(Y_test1)"
      ]
    },
    {
      "cell_type": "code",
      "source": [
        ""
      ],
      "metadata": {
        "id": "N_eJueyFtMrY"
      },
      "execution_count": 72,
      "outputs": []
    },
    {
      "cell_type": "markdown",
      "metadata": {
        "id": "HOr5Umv-oJ5t"
      },
      "source": [
        "#### Predicting model on test set"
      ]
    },
    {
      "cell_type": "code",
      "execution_count": 73,
      "metadata": {
        "id": "rBFRE0sLoJ5t"
      },
      "outputs": [],
      "source": [
        "cars_predictions_rf1 = rf.predict(X_test1)"
      ]
    },
    {
      "cell_type": "markdown",
      "metadata": {
        "id": "JS-hoFm3oJ5t"
      },
      "source": [
        "#### Computing MSE and RMSE values"
      ]
    },
    {
      "cell_type": "code",
      "execution_count": 74,
      "metadata": {
        "colab": {
          "base_uri": "https://localhost:8080/"
        },
        "id": "EUxWYZc0oJ5u",
        "outputId": "d88109d8-4f47-493b-cefb-1ed1fcd9b9b8"
      },
      "outputs": [
        {
          "output_type": "stream",
          "name": "stdout",
          "text": [
            "0.4360736289370223\n"
          ]
        }
      ],
      "source": [
        "rf_mse1 = mean_squared_error(Y_test1, cars_predictions_rf1)\n",
        "rf_rmse1 = np.sqrt(rf_mse1)\n",
        "print(rf_rmse1)"
      ]
    },
    {
      "cell_type": "markdown",
      "metadata": {
        "id": "z1AZaeDhoJ5u"
      },
      "source": [
        "Thus, it should be noted that Random Forest model is performing better than the Linear regression model as the RMSE model has come down further"
      ]
    },
    {
      "cell_type": "markdown",
      "metadata": {
        "id": "NBu5h0QLoJ5u"
      },
      "source": [
        "#### R squared value"
      ]
    },
    {
      "cell_type": "code",
      "execution_count": 95,
      "metadata": {
        "colab": {
          "base_uri": "https://localhost:8080/"
        },
        "id": "Mav8oB0FoJ5v",
        "outputId": "159de3e7-9cae-4322-d9f9-f93b5c93c5fb"
      },
      "outputs": [
        {
          "output_type": "stream",
          "name": "stdout",
          "text": [
            "r2_rf_train1: 0.8982850042091305\n",
            "r2_lin1_test1: 0.9042532741436633\n"
          ]
        }
      ],
      "source": [
        "r2_rf_train1 = model_rf1.score(X_train1, Y_train1)\n",
        "r2_rf_test1 = model_rf1.score(X_test1, Y_test1)\n",
        "print(f\"r2_rf_train1: {r2_rf_train1}\\nr2_lin1_test1: {r2_rf_test1}\")"
      ]
    },
    {
      "cell_type": "markdown",
      "metadata": {
        "id": "x9uG9J4ooJ5v"
      },
      "source": [
        "#### Thus it should be noted that the random forest model is working better than linear regression model for the omitted data"
      ]
    },
    {
      "cell_type": "markdown",
      "metadata": {
        "id": "uRoKU6ZwoJ5v"
      },
      "source": [
        "#### Attributes of Random forest\n",
        "1. feature_importances_ (ndarray of shape (n_features,)): The impurity-based feature importances.\n",
        "Gives the % importance given to each column\n",
        "2. n_features_in_ (int): Number of features seen during fit.\n",
        "3. oob_score_ (float): Score of the training dataset obtained using an out-of-bag estimate. This attribute exists only when oob_score is True"
      ]
    },
    {
      "cell_type": "code",
      "execution_count": 95,
      "metadata": {
        "id": "KMx1lF9ooJ5w"
      },
      "outputs": [],
      "source": [
        ""
      ]
    },
    {
      "cell_type": "code",
      "execution_count": 75,
      "metadata": {
        "id": "2LI7MRUtoJ5w"
      },
      "outputs": [],
      "source": [
        ""
      ]
    },
    {
      "cell_type": "code",
      "execution_count": null,
      "metadata": {
        "id": "GkB65oTEoJ5w"
      },
      "outputs": [],
      "source": [
        ""
      ]
    },
    {
      "cell_type": "code",
      "execution_count": null,
      "metadata": {
        "id": "vHG9fF3QoJ5x"
      },
      "outputs": [],
      "source": [
        ""
      ]
    },
    {
      "cell_type": "markdown",
      "metadata": {
        "id": "WQ1qVfLioJ5x"
      },
      "source": [
        "# ===== Model building with imputed data ====="
      ]
    },
    {
      "cell_type": "markdown",
      "metadata": {
        "id": "EB2mlIK-oJ5x"
      },
      "source": [
        "1. for Numerical variable, filling na values with median\n",
        "2. for categorical variable, filling na values with modal value"
      ]
    },
    {
      "cell_type": "code",
      "execution_count": 76,
      "metadata": {
        "id": "8pHzP2deoJ5y"
      },
      "outputs": [],
      "source": [
        "cars_imputed = cars.apply(lambda x: x.fillna(x.median())\n",
        "                         if (x.dtype == 'float' or x.dtype == 'int')\n",
        "                         else x.fillna(x.value_counts().index[0]))"
      ]
    },
    {
      "cell_type": "code",
      "execution_count": 77,
      "metadata": {
        "collapsed": true,
        "colab": {
          "base_uri": "https://localhost:8080/"
        },
        "id": "jpbLlrlSoJ5y",
        "outputId": "062e33d9-328b-49c2-e024-dd08a7815f3c"
      },
      "outputs": [
        {
          "output_type": "execute_result",
          "data": {
            "text/plain": [
              "price                0\n",
              "vehicleType          0\n",
              "gearbox              0\n",
              "powerPS              0\n",
              "model                0\n",
              "kilometer            0\n",
              "fuelType             0\n",
              "brand                0\n",
              "notRepairedDamage    0\n",
              "Age                  0\n",
              "dtype: int64"
            ]
          },
          "metadata": {},
          "execution_count": 77
        }
      ],
      "source": [
        "cars_imputed.isna().sum()"
      ]
    },
    {
      "cell_type": "markdown",
      "metadata": {
        "id": "K96Wx95NoJ5z"
      },
      "source": [
        "#### converting categorical variables into dummy variables"
      ]
    },
    {
      "cell_type": "code",
      "execution_count": 78,
      "metadata": {
        "id": "C9K4RjbaoJ50"
      },
      "outputs": [],
      "source": [
        "cars_imputed = pd.get_dummies(cars_imputed, drop_first = True)"
      ]
    },
    {
      "cell_type": "markdown",
      "metadata": {
        "id": "2pE-nfnJoJ50"
      },
      "source": [
        "#### separating input and output variables"
      ]
    },
    {
      "cell_type": "code",
      "execution_count": 79,
      "metadata": {
        "id": "jYazaqf-oJ50"
      },
      "outputs": [],
      "source": [
        "x2 = cars_imputed.drop(['price'], axis= 1, inplace = False)\n",
        "y2 = cars_imputed['price']"
      ]
    },
    {
      "cell_type": "markdown",
      "metadata": {
        "id": "U5vZhonCoJ51"
      },
      "source": [
        "#### plotting the variable price\n"
      ]
    },
    {
      "cell_type": "code",
      "execution_count": 80,
      "metadata": {
        "collapsed": true,
        "colab": {
          "base_uri": "https://localhost:8080/",
          "height": 568
        },
        "id": "h2948xUgoJ51",
        "outputId": "7d805220-d8ac-4634-a3d7-663a1be25670"
      },
      "outputs": [
        {
          "output_type": "execute_result",
          "data": {
            "text/plain": [
              "array([[<matplotlib.axes._subplots.AxesSubplot object at 0x7f9d40be6790>,\n",
              "        <matplotlib.axes._subplots.AxesSubplot object at 0x7f9d40b4acd0>]],\n",
              "      dtype=object)"
            ]
          },
          "metadata": {},
          "execution_count": 80
        },
        {
          "output_type": "display_data",
          "data": {
            "text/plain": [
              "<Figure size 842.4x595.44 with 2 Axes>"
            ],
            "image/png": "[encoded data removed]"
          },
          "metadata": {}
        }
      ],
      "source": [
        "prices = pd.DataFrame({\"1. Before\": y2, \"2. After\": np.log(y2)})\n",
        "prices.hist()"
      ]
    },
    {
      "cell_type": "markdown",
      "metadata": {
        "id": "D0IhLrnSoJ52"
      },
      "source": [
        "#### Transforming price as a Logarthmic value\n",
        "\n",
        "\n"
      ]
    },
    {
      "cell_type": "code",
      "execution_count": 81,
      "metadata": {
        "id": "m7Zyr08XoJ52"
      },
      "outputs": [],
      "source": [
        "y2 = np.log(y2)"
      ]
    },
    {
      "cell_type": "markdown",
      "metadata": {
        "id": "91Hs-baHoJ52"
      },
      "source": [
        "#### Splitting the data into test and train"
      ]
    },
    {
      "cell_type": "code",
      "execution_count": 104,
      "metadata": {
        "colab": {
          "base_uri": "https://localhost:8080/"
        },
        "id": "PTUjvtn-oJ52",
        "outputId": "b729b164-3f67-4220-ad76-25827218bd71"
      },
      "outputs": [
        {
          "output_type": "stream",
          "name": "stdout",
          "text": [
            "(34217, 303) (8555, 303) (34217,) (8555,)\n"
          ]
        }
      ],
      "source": [
        "X_train2, X_test2, Y_train2, Y_test2 = train_test_split(x2, y2, test_size = 0.2, random_state = 28)\n",
        "print(X_train2.shape, X_test2.shape, Y_train2.shape, Y_test2.shape)"
      ]
    },
    {
      "cell_type": "markdown",
      "metadata": {
        "id": "qolk533_oJ53"
      },
      "source": [
        "#### finding mean for test data value\n"
      ]
    },
    {
      "cell_type": "code",
      "execution_count": 105,
      "metadata": {
        "colab": {
          "base_uri": "https://localhost:8080/"
        },
        "id": "6HsnnpbxoJ53",
        "outputId": "14760c1e-9fe8-41d3-d5da-e96a5ae49da4"
      },
      "outputs": [
        {
          "output_type": "stream",
          "name": "stdout",
          "text": [
            "8.090174745275364\n"
          ]
        }
      ],
      "source": [
        "base_pred_2 = np.mean(Y_test2)\n",
        "print(base_pred_2)"
      ]
    },
    {
      "cell_type": "markdown",
      "metadata": {
        "id": "TlTdNjr_oJ54"
      },
      "source": [
        "#### Repeating the same value till the length of test data"
      ]
    },
    {
      "cell_type": "code",
      "execution_count": 106,
      "metadata": {
        "id": "_j2WkmvtoJ54"
      },
      "outputs": [],
      "source": [
        "base_pred_2 = np.repeat(base_pred_2, len(Y_test2))"
      ]
    },
    {
      "cell_type": "markdown",
      "metadata": {
        "id": "gX67bigboJ54"
      },
      "source": [
        "### Baseline Model for the imputed Data\n",
        "#### Finding RMSE (Root Mean Square Error)"
      ]
    },
    {
      "cell_type": "code",
      "execution_count": 107,
      "metadata": {
        "colab": {
          "base_uri": "https://localhost:8080/"
        },
        "id": "PsRrXTBioJ54",
        "outputId": "bc22fa2c-139c-4557-d000-4bf7f5b3c9bb"
      },
      "outputs": [
        {
          "output_type": "stream",
          "name": "stdout",
          "text": [
            "1.1776696728811618\n"
          ]
        }
      ],
      "source": [
        "base_root_mean_square_error_2 = np.sqrt(mean_squared_error(Y_test2, base_pred_2))\n",
        "print(base_root_mean_square_error_2)"
      ]
    },
    {
      "cell_type": "markdown",
      "metadata": {
        "id": "tHi50ihCoJ55"
      },
      "source": [
        "## Linear Regression with Imputed Data\n",
        "#### Setting intercept as true"
      ]
    },
    {
      "cell_type": "code",
      "execution_count": 108,
      "metadata": {
        "id": "lBWliurNoJ55"
      },
      "outputs": [],
      "source": [
        "lgr = LinearRegression(fit_intercept = True)"
      ]
    },
    {
      "cell_type": "markdown",
      "metadata": {
        "id": "ODIH0jkloJ56"
      },
      "source": [
        "#### model\n",
        "\n",
        "\n"
      ]
    },
    {
      "cell_type": "code",
      "execution_count": 109,
      "metadata": {
        "id": "kkZSByBQoJ56"
      },
      "outputs": [],
      "source": [
        "model_lin2 = lgr.fit(X_train2, Y_train2)"
      ]
    },
    {
      "cell_type": "code",
      "source": [
        "r2_lin_train2 = model_lin2.score(X_train2, Y_train2)\n",
        "r2_lin_test2 = model_lin2.score(X_test2, Y_test2)\n",
        "print(f\"Linear Regression Accuracy Score for training set (Imputing missing values): {r2_lin_train2}\\n \\\n",
        "Linear Regression Accuracy Score for testing set (Imputing missing values): {r2_lin_test2}\")"
      ],
      "metadata": {
        "id": "iHj6-uPDxBNO",
        "outputId": "a8ec60fa-2c0e-40c7-d1f1-f969aaf5286d",
        "colab": {
          "base_uri": "https://localhost:8080/"
        }
      },
      "execution_count": 110,
      "outputs": [
        {
          "output_type": "stream",
          "name": "stdout",
          "text": [
            "Linear Regression Accuracy Score for training set (Imputing missing values): 0.7051940884180551\n",
            " Linear Regression Accuracy Score for testing set (Imputing missing values): 0.7101981867565601\n"
          ]
        }
      ]
    },
    {
      "cell_type": "markdown",
      "metadata": {
        "id": "F0x9utc8oJ56"
      },
      "source": [
        "#### Predicting model on test set"
      ]
    },
    {
      "cell_type": "code",
      "execution_count": 111,
      "metadata": {
        "id": "tQAMa2nhoJ56"
      },
      "outputs": [],
      "source": [
        "cars_predictions_lin2 = lgr.predict(X_test2)"
      ]
    },
    {
      "cell_type": "markdown",
      "metadata": {
        "id": "8Detw6yFoJ57"
      },
      "source": [
        "#### calculating MSE and RMSE for predictions\n"
      ]
    },
    {
      "cell_type": "code",
      "execution_count": 112,
      "metadata": {
        "colab": {
          "base_uri": "https://localhost:8080/"
        },
        "id": "cHaK-73VoJ57",
        "outputId": "63a41714-d764-49b2-ec9e-4e17c2f1de5a"
      },
      "outputs": [
        {
          "output_type": "stream",
          "name": "stdout",
          "text": [
            "0.6339777855486982\n"
          ]
        }
      ],
      "source": [
        "lin_mse2 = mean_squared_error(Y_test2, cars_predictions_lin2)\n",
        "lin_rmse2 = np.sqrt(lin_mse2)\n",
        "print(lin_rmse2)"
      ]
    },
    {
      "cell_type": "markdown",
      "metadata": {
        "id": "bhADaQzkoJ57"
      },
      "source": [
        "So after imputing the data, the error has gone slightly up (from 0.5455 to 0.6483).... obviously, because we are imputing data which was not originally present"
      ]
    },
    {
      "cell_type": "markdown",
      "metadata": {
        "id": "D2b7fVlioJ58"
      },
      "source": [
        "#### R squared value\n",
        "\n"
      ]
    },
    {
      "cell_type": "code",
      "execution_count": 114,
      "metadata": {
        "colab": {
          "base_uri": "https://localhost:8080/"
        },
        "id": "95LEd-SpoJ58",
        "outputId": "dd1aa5e8-4df3-455f-83b7-2688b68c957e"
      },
      "outputs": [
        {
          "output_type": "stream",
          "name": "stdout",
          "text": [
            "r2_lin1_train2: 0.7051940884180551\n",
            "r2_lin1_test2: 0.7101981867565601\n"
          ]
        }
      ],
      "source": [
        "r2_lin_train2 = model_lin2.score(X_train2, Y_train2)\n",
        "r2_lin_test2 = model_lin2.score(X_test2, Y_test2)\n",
        "print(f\"r2_lin1_train2: {r2_lin_train2}\\nr2_lin1_test2: {r2_lin_test2}\")"
      ]
    },
    {
      "cell_type": "code",
      "execution_count": 114,
      "metadata": {
        "id": "5VpI6KxwoJ58"
      },
      "outputs": [],
      "source": [
        ""
      ]
    },
    {
      "cell_type": "markdown",
      "metadata": {
        "id": "N0wF6sVuoJ59"
      },
      "source": [
        "## Random Forest regressor using imputed data"
      ]
    },
    {
      "cell_type": "code",
      "execution_count": 115,
      "metadata": {
        "id": "tWBEMK73oJ59"
      },
      "outputs": [],
      "source": [
        "rf2 = RandomForestRegressor(n_estimators = 100,\n",
        "                          max_features = 'auto',\n",
        "                          max_depth = 100,\n",
        "                          min_samples_split = 10,\n",
        "                          min_samples_leaf = 4,\n",
        "                          random_state = 1)"
      ]
    },
    {
      "cell_type": "markdown",
      "metadata": {
        "id": "8W3jiWrGoJ5-"
      },
      "source": [
        "#### model\n",
        "\n",
        "\n",
        "\n",
        "\n"
      ]
    },
    {
      "cell_type": "code",
      "execution_count": 116,
      "metadata": {
        "id": "ao-Hn31uoJ5-"
      },
      "outputs": [],
      "source": [
        "model_rf2 = rf2.fit(X_train2, Y_train2)"
      ]
    },
    {
      "cell_type": "code",
      "source": [
        "r2_rf_train2 = model_rf2.score(X_train2, Y_train2)\n",
        "r2_rf_test2 = model_rf2.score(X_test2, Y_test2)\n",
        "print(f\"Random Forest Accuracy Score for training set (imputing missing values): {r2_rf_train2}\\n\\\n",
        "Random Forest Accuracy Score for testing set (Imputing missing values): {r2_rf_test2}\")"
      ],
      "metadata": {
        "id": "Hcbxbzr7xk5H",
        "outputId": "c2b773be-2ed3-4eb8-f99d-432d57d6fb47",
        "colab": {
          "base_uri": "https://localhost:8080/"
        }
      },
      "execution_count": 118,
      "outputs": [
        {
          "output_type": "stream",
          "name": "stdout",
          "text": [
            "Random Forest Accuracy Score for training set (imputing missing values): 0.9012364302644356\n",
            "Random Forest Accuracy Score for testing set (Imputing missing values): 0.8379832449110571\n"
          ]
        }
      ]
    },
    {
      "cell_type": "markdown",
      "metadata": {
        "id": "eGWhC9ZCoJ5-"
      },
      "source": [
        "#### Predicting model on test set"
      ]
    },
    {
      "cell_type": "code",
      "execution_count": 119,
      "metadata": {
        "id": "i7fT0_LkoJ5_"
      },
      "outputs": [],
      "source": [
        "cars_predictions_rf2 = rf2.predict(X_test2)"
      ]
    },
    {
      "cell_type": "markdown",
      "metadata": {
        "id": "t_1pInaPoJ5_"
      },
      "source": [
        "#### Computing MSE and RMSE values"
      ]
    },
    {
      "cell_type": "code",
      "execution_count": 120,
      "metadata": {
        "colab": {
          "base_uri": "https://localhost:8080/"
        },
        "id": "lkovfJUroJ5_",
        "outputId": "2392c374-ae3a-45bc-fd7d-ac1a904fe7c3"
      },
      "outputs": [
        {
          "output_type": "stream",
          "name": "stdout",
          "text": [
            "0.47402741143915383\n"
          ]
        }
      ],
      "source": [
        "rf_mse2 = mean_squared_error(Y_test2, cars_predictions_rf2)\n",
        "rf_rmse2 = np.sqrt(rf_mse2)\n",
        "print(rf_rmse2)"
      ]
    },
    {
      "cell_type": "markdown",
      "metadata": {
        "id": "K0mku2aaoJ6A"
      },
      "source": [
        "A lot less than the RMSE value given by linear regression model (for imputed data)"
      ]
    },
    {
      "cell_type": "markdown",
      "metadata": {
        "id": "JErPyi0DoJ6A"
      },
      "source": [
        "#### R squared value\n",
        "\n"
      ]
    },
    {
      "cell_type": "code",
      "execution_count": 121,
      "metadata": {
        "colab": {
          "base_uri": "https://localhost:8080/"
        },
        "id": "mBAAc_QnoJ6B",
        "outputId": "055e5485-d935-4b73-8f29-4e11ef355b39"
      },
      "outputs": [
        {
          "output_type": "stream",
          "name": "stdout",
          "text": [
            "r2_rf_train2: 0.9012364302644356\n",
            "r2_lin1_test1: 0.8379832449110571\n"
          ]
        }
      ],
      "source": [
        "r2_rf_train2 = model_rf2.score(X_train2, Y_train2)\n",
        "r2_rf_test2 = model_rf2.score(X_test2, Y_test2)\n",
        "print(f\"r2_rf_train2: {r2_rf_train2}\\nr2_lin1_test1: {r2_rf_test2}\")"
      ]
    },
    {
      "cell_type": "markdown",
      "metadata": {
        "id": "c9KXsKhMoJ6B"
      },
      "source": [
        "#### For Imputed Data, RMSE value and R squared value drops (relative to omitted data) as we are imputing certain values that are not originally present"
      ]
    },
    {
      "cell_type": "markdown",
      "metadata": {
        "id": "kBIaTXcuoJ6C"
      },
      "source": [
        "# FINAL OUTPUT"
      ]
    },
    {
      "cell_type": "code",
      "execution_count": 123,
      "metadata": {
        "colab": {
          "base_uri": "https://localhost:8080/"
        },
        "id": "9rojakN5oJ6C",
        "outputId": "ce09defa-6ef3-42a7-821c-2b366fff0ea4"
      },
      "outputs": [
        {
          "output_type": "stream",
          "name": "stdout",
          "text": [
            "Metrics for models built from data where missing values were omitted\n",
            "Base RMSE value = 1.1462960922879677\n",
            "RMSE value for linear Regression model = 0.542127524003901\n",
            "RMSE value for Random Forest model = 0.4360736289370223\n",
            "Accuracy Score for training set from linear regression = 0.7765100771151832\n",
            "Accuracy Score for testing set from linear regression = 0.7763292003344727\n",
            "Accuracy Score for training set from random forest regressor = 0.8982850042091305\n",
            "Accuracy Score for testing set from random forest regressor = 0.9042532741436633\n",
            "\n",
            "\n",
            "\n",
            "Metrics for models built from data where missing values were imputed\n",
            "Base RMSE value = 1.1776696728811618\n",
            "RMSE value for linear Regression model = 0.6339777855486982\n",
            "RMSE value for Random Forest model = 0.47402741143915383\n",
            "Accuracy Score for training set from linear regression = 0.7051940884180551\n",
            "Accuracy Score for testing set from linear regression = 0.7101981867565601\n",
            "Accuracy Score for training set from random forest regressor = 0.9012364302644356\n",
            "Accuracy Score for testing set from random forest regressor = 0.8379832449110571\n"
          ]
        }
      ],
      "source": [
        "# FOR OMITTED DATA\n",
        "print(f\"Metrics for models built from data where missing values were omitted\")\n",
        "print(f\"Base RMSE value = {base_root_mean_square_error_1}\")\n",
        "print(f\"RMSE value for linear Regression model = {lin_rmse1}\")\n",
        "print(f\"RMSE value for Random Forest model = {rf_rmse1}\")\n",
        "print(f\"Accuracy Score for training set from linear regression = {r2_lin_train1}\")\n",
        "print(f\"Accuracy Score for testing set from linear regression = {r2_lin_test1}\")\n",
        "print(f\"Accuracy Score for training set from random forest regressor = {r2_rf_train1}\")\n",
        "print(f\"Accuracy Score for testing set from random forest regressor = {r2_rf_test1}\")\n",
        "\n",
        "print(\"\\n\\n\")\n",
        "# FOR IMPUTED DATA\n",
        "print(f\"Metrics for models built from data where missing values were imputed\")\n",
        "print(f\"Base RMSE value = {base_root_mean_square_error_2}\")\n",
        "print(f\"RMSE value for linear Regression model = {lin_rmse2}\")\n",
        "print(f\"RMSE value for Random Forest model = {rf_rmse2}\")\n",
        "print(f\"Accuracy Score for training set from linear regression = {r2_lin_train2}\")\n",
        "print(f\"Accuracy Score for testing set from linear regression = {r2_lin_test2}\")\n",
        "print(f\"Accuracy Score for training set from random forest regressor = {r2_rf_train2}\")\n",
        "print(f\"Accuracy Score for testing set from random forest regressor = {r2_rf_test2}\")"
      ]
    },
    {
      "cell_type": "code",
      "execution_count": null,
      "metadata": {
        "id": "SYAFwNTVoJ6C"
      },
      "outputs": [],
      "source": [
        ""
      ]
    },
    {
      "cell_type": "markdown",
      "metadata": {
        "id": "2LBXsYQ7oJ6D"
      },
      "source": [
        "#### ovrall (omitted and imputed data inclusive)... Random Forest model is better than linear regression model"
      ]
    },
    {
      "cell_type": "code",
      "execution_count": null,
      "metadata": {
        "id": "JVoVeTtXoJ6D"
      },
      "outputs": [],
      "source": [
        ""
      ]
    }
  ],
  "metadata": {
    "kernelspec": {
      "display_name": "Python 3",
      "language": "python",
      "name": "python3"
    },
    "language_info": {
      "codemirror_mode": {
        "name": "ipython",
        "version": 3
      },
      "file_extension": ".py",
      "mimetype": "text/x-python",
      "name": "python",
      "nbconvert_exporter": "python",
      "pygments_lexer": "ipython3",
      "version": "3.8.5"
    },
    "colab": {
      "name": "Regression Case Study Part 3.ipynb",
      "provenance": []
    }
  },
  "nbformat": 4,
  "nbformat_minor": 0
}