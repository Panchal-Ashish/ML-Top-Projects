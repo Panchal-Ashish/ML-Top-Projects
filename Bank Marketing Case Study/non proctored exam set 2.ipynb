{
 "cells": [
  {
   "cell_type": "code",
   "execution_count": 1,
   "metadata": {},
   "outputs": [],
   "source": [
    "import pandas as pd\n",
    "import numpy as np\n",
    "import seaborn as sns\n",
    "import matplotlib.pyplot as plt\n",
    "\n",
    "from sklearn.model_selection import train_test_split\n",
    "from sklearn.ensemble import RandomForestRegressor\n",
    "from sklearn.metrics import accuracy_score, mean_squared_error, confusion_matrix\n",
    "from sklearn.linear_model import LogisticRegression, LinearRegression\n",
    "from sklearn.neighbors import KNeighborsClassifier"
   ]
  },
  {
   "cell_type": "code",
   "execution_count": 2,
   "metadata": {},
   "outputs": [],
   "source": [
    "train_data = pd.read_csv('bank_train (1).csv')\n",
    "test_data = pd.read_csv('bank_test (1).csv')"
   ]
  },
  {
   "cell_type": "code",
   "execution_count": 3,
   "metadata": {
    "collapsed": true
   },
   "outputs": [
    {
     "name": "stdout",
     "output_type": "stream",
     "text": [
      "<class 'pandas.core.frame.DataFrame'>\n",
      "RangeIndex: 4466 entries, 0 to 4465\n",
      "Data columns (total 17 columns):\n",
      " #   Column     Non-Null Count  Dtype  \n",
      "---  ------     --------------  -----  \n",
      " 0   age        4466 non-null   int64  \n",
      " 1   job        4466 non-null   object \n",
      " 2   marital    4466 non-null   object \n",
      " 3   education  4466 non-null   object \n",
      " 4   default    4466 non-null   object \n",
      " 5   balance    4465 non-null   float64\n",
      " 6   housing    4466 non-null   object \n",
      " 7   loan       4466 non-null   object \n",
      " 8   contact    4466 non-null   object \n",
      " 9   day        4466 non-null   int64  \n",
      " 10  month      4466 non-null   object \n",
      " 11  duration   4466 non-null   int64  \n",
      " 12  campaign   4466 non-null   int64  \n",
      " 13  pdays      4466 non-null   int64  \n",
      " 14  previous   4466 non-null   int64  \n",
      " 15  poutcome   4465 non-null   object \n",
      " 16  deposit    4466 non-null   object \n",
      "dtypes: float64(1), int64(6), object(10)\n",
      "memory usage: 593.3+ KB\n",
      "None\n",
      "\n",
      "\n",
      "<class 'pandas.core.frame.DataFrame'>\n",
      "RangeIndex: 1117 entries, 0 to 1116\n",
      "Data columns (total 17 columns):\n",
      " #   Column     Non-Null Count  Dtype  \n",
      "---  ------     --------------  -----  \n",
      " 0   age        1117 non-null   int64  \n",
      " 1   job        1117 non-null   object \n",
      " 2   marital    1117 non-null   object \n",
      " 3   education  1117 non-null   object \n",
      " 4   default    1117 non-null   object \n",
      " 5   balance    1117 non-null   int64  \n",
      " 6   housing    1117 non-null   object \n",
      " 7   loan       1117 non-null   object \n",
      " 8   contact    1117 non-null   object \n",
      " 9   day        1117 non-null   int64  \n",
      " 10  month      1117 non-null   object \n",
      " 11  duration   1117 non-null   int64  \n",
      " 12  campaign   1117 non-null   int64  \n",
      " 13  pdays      1117 non-null   int64  \n",
      " 14  previous   1116 non-null   float64\n",
      " 15  poutcome   1117 non-null   object \n",
      " 16  deposit    1117 non-null   object \n",
      "dtypes: float64(1), int64(6), object(10)\n",
      "memory usage: 148.5+ KB\n",
      "None\n"
     ]
    }
   ],
   "source": [
    "print(train_data.info())\n",
    "print(\"\\n\")\n",
    "print(test_data.info())"
   ]
  },
  {
   "cell_type": "code",
   "execution_count": 4,
   "metadata": {
    "collapsed": true
   },
   "outputs": [
    {
     "name": "stdout",
     "output_type": "stream",
     "text": [
      "age          0\n",
      "job          0\n",
      "marital      0\n",
      "education    0\n",
      "default      0\n",
      "balance      1\n",
      "housing      0\n",
      "loan         0\n",
      "contact      0\n",
      "day          0\n",
      "month        0\n",
      "duration     0\n",
      "campaign     0\n",
      "pdays        0\n",
      "previous     0\n",
      "poutcome     1\n",
      "deposit      0\n",
      "dtype: int64\n",
      "\n",
      "\n",
      "age          0\n",
      "job          0\n",
      "marital      0\n",
      "education    0\n",
      "default      0\n",
      "balance      0\n",
      "housing      0\n",
      "loan         0\n",
      "contact      0\n",
      "day          0\n",
      "month        0\n",
      "duration     0\n",
      "campaign     0\n",
      "pdays        0\n",
      "previous     1\n",
      "poutcome     0\n",
      "deposit      0\n",
      "dtype: int64\n"
     ]
    }
   ],
   "source": [
    "print(train_data.isna().sum())\n",
    "print(\"\\n\")\n",
    "print(test_data.isna().sum())"
   ]
  },
  {
   "cell_type": "code",
   "execution_count": 5,
   "metadata": {
    "collapsed": true
   },
   "outputs": [
    {
     "name": "stdout",
     "output_type": "stream",
     "text": [
      "               age       balance          day     duration     campaign  \\\n",
      "count  4466.000000   4465.000000  4466.000000  4466.000000  4466.000000   \n",
      "mean     41.100090   1484.334378    15.740484   371.089342     2.484774   \n",
      "std      11.905566   3253.910473     8.448066   346.904391     2.633638   \n",
      "min      18.000000  -3058.000000     1.000000     3.000000     1.000000   \n",
      "25%      32.000000    107.000000     8.000000   137.000000     1.000000   \n",
      "50%      38.000000    539.000000    16.000000   256.000000     2.000000   \n",
      "75%      49.000000   1728.000000    22.000000   485.000000     3.000000   \n",
      "max      93.000000  81204.000000    31.000000  3284.000000    43.000000   \n",
      "\n",
      "             pdays     previous  \n",
      "count  4466.000000  4466.000000  \n",
      "mean     52.880878     0.866995  \n",
      "std     111.146726     2.381197  \n",
      "min      -1.000000     0.000000  \n",
      "25%      -1.000000     0.000000  \n",
      "50%      -1.000000     0.000000  \n",
      "75%      64.750000     1.000000  \n",
      "max     828.000000    41.000000  \n",
      "\n",
      "\n",
      "               age       balance          day     duration     campaign  \\\n",
      "count  1117.000000   1117.000000  1117.000000  1117.000000  1117.000000   \n",
      "mean     41.450313   1636.223814    15.487019   356.596240     2.595345   \n",
      "std      11.999272   3313.804604     8.519168   332.420809     3.260095   \n",
      "min      19.000000  -1137.000000     1.000000     6.000000     1.000000   \n",
      "25%      32.000000    132.000000     8.000000   134.000000     1.000000   \n",
      "50%      39.000000    559.000000    15.000000   248.000000     2.000000   \n",
      "75%      49.000000   1871.000000    21.000000   476.000000     3.000000   \n",
      "max      92.000000  37127.000000    31.000000  2653.000000    63.000000   \n",
      "\n",
      "             pdays     previous  \n",
      "count  1117.000000  1116.000000  \n",
      "mean     51.102954     0.784946  \n",
      "std     109.123500     2.013940  \n",
      "min      -1.000000     0.000000  \n",
      "25%      -1.000000     0.000000  \n",
      "50%      -1.000000     0.000000  \n",
      "75%      10.000000     1.000000  \n",
      "max     842.000000    26.000000  \n"
     ]
    }
   ],
   "source": [
    "print(train_data.describe())\n",
    "print(\"\\n\")\n",
    "print(test_data.describe())"
   ]
  },
  {
   "cell_type": "code",
   "execution_count": null,
   "metadata": {},
   "outputs": [],
   "source": []
  },
  {
   "cell_type": "markdown",
   "metadata": {},
   "source": [
    "### Answer questions from 1 to 7 based on the train_data dataframe"
   ]
  },
  {
   "cell_type": "markdown",
   "metadata": {},
   "source": [
    "## Q1 How many categorical columns are there in the dataframe?\n",
    " 7\n",
    " \n",
    " 8\n",
    " \n",
    " 6\n",
    " \n",
    "####  10"
   ]
  },
  {
   "cell_type": "markdown",
   "metadata": {},
   "source": [
    "## Q2 How many rows in the dataframe contain missing values? If there are null values, then drop the rows with null values.\n",
    " 4\n",
    " \n",
    "#### 2\n",
    " \n",
    " 3\n",
    " \n",
    " None"
   ]
  },
  {
   "cell_type": "code",
   "execution_count": 6,
   "metadata": {},
   "outputs": [
    {
     "data": {
      "text/plain": [
       "2"
      ]
     },
     "execution_count": 6,
     "metadata": {},
     "output_type": "execute_result"
    }
   ],
   "source": [
    "train_data.isna().any(axis=0).sum()"
   ]
  },
  {
   "cell_type": "code",
   "execution_count": 9,
   "metadata": {
    "collapsed": true
   },
   "outputs": [
    {
     "name": "stdout",
     "output_type": "stream",
     "text": [
      "<class 'pandas.core.frame.DataFrame'>\n",
      "Int64Index: 4464 entries, 0 to 4465\n",
      "Data columns (total 17 columns):\n",
      " #   Column     Non-Null Count  Dtype  \n",
      "---  ------     --------------  -----  \n",
      " 0   age        4464 non-null   int64  \n",
      " 1   job        4464 non-null   object \n",
      " 2   marital    4464 non-null   object \n",
      " 3   education  4464 non-null   object \n",
      " 4   default    4464 non-null   object \n",
      " 5   balance    4464 non-null   float64\n",
      " 6   housing    4464 non-null   object \n",
      " 7   loan       4464 non-null   object \n",
      " 8   contact    4464 non-null   object \n",
      " 9   day        4464 non-null   int64  \n",
      " 10  month      4464 non-null   object \n",
      " 11  duration   4464 non-null   int64  \n",
      " 12  campaign   4464 non-null   int64  \n",
      " 13  pdays      4464 non-null   int64  \n",
      " 14  previous   4464 non-null   int64  \n",
      " 15  poutcome   4464 non-null   object \n",
      " 16  deposit    4464 non-null   object \n",
      "dtypes: float64(1), int64(6), object(10)\n",
      "memory usage: 627.8+ KB\n",
      "None\n"
     ]
    }
   ],
   "source": [
    "train_data = train_data.dropna(axis = 0)\n",
    "print(train_data.info())"
   ]
  },
  {
   "cell_type": "markdown",
   "metadata": {},
   "source": [
    "## Q3 What percentage of clients with secondary education have not subscribed to a deposit?\n",
    " 43.582\n",
    " \n",
    "#### 56.518\n",
    " \n",
    " 51.859\n",
    " \n",
    " 45.194"
   ]
  },
  {
   "cell_type": "code",
   "execution_count": 10,
   "metadata": {},
   "outputs": [
    {
     "data": {
      "text/html": [
       "<div>\n",
       "<style scoped>\n",
       "    .dataframe tbody tr th:only-of-type {\n",
       "        vertical-align: middle;\n",
       "    }\n",
       "\n",
       "    .dataframe tbody tr th {\n",
       "        vertical-align: top;\n",
       "    }\n",
       "\n",
       "    .dataframe thead th {\n",
       "        text-align: right;\n",
       "    }\n",
       "</style>\n",
       "<table border=\"1\" class=\"dataframe\">\n",
       "  <thead>\n",
       "    <tr style=\"text-align: right;\">\n",
       "      <th>deposit</th>\n",
       "      <th>no</th>\n",
       "      <th>yes</th>\n",
       "    </tr>\n",
       "    <tr>\n",
       "      <th>education</th>\n",
       "      <th></th>\n",
       "      <th></th>\n",
       "    </tr>\n",
       "  </thead>\n",
       "  <tbody>\n",
       "    <tr>\n",
       "      <th>primary</th>\n",
       "      <td>0.592965</td>\n",
       "      <td>0.407035</td>\n",
       "    </tr>\n",
       "    <tr>\n",
       "      <th>secondary</th>\n",
       "      <td>0.565177</td>\n",
       "      <td>0.434823</td>\n",
       "    </tr>\n",
       "    <tr>\n",
       "      <th>tertiary</th>\n",
       "      <td>0.449535</td>\n",
       "      <td>0.550465</td>\n",
       "    </tr>\n",
       "    <tr>\n",
       "      <th>unknown</th>\n",
       "      <td>0.494737</td>\n",
       "      <td>0.505263</td>\n",
       "    </tr>\n",
       "  </tbody>\n",
       "</table>\n",
       "</div>"
      ],
      "text/plain": [
       "deposit          no       yes\n",
       "education                    \n",
       "primary    0.592965  0.407035\n",
       "secondary  0.565177  0.434823\n",
       "tertiary   0.449535  0.550465\n",
       "unknown    0.494737  0.505263"
      ]
     },
     "execution_count": 10,
     "metadata": {},
     "output_type": "execute_result"
    }
   ],
   "source": [
    "pd.crosstab(index = train_data[\"education\"], \n",
    "            columns = train_data[\"deposit\"],\n",
    "            normalize = \"index\", \n",
    "            margins = False)"
   ]
  },
  {
   "cell_type": "markdown",
   "metadata": {},
   "source": [
    "## Q4 Using Seaborn’s countplot API, plot a grouped bar plot of marital status and deposit (as hue). Identify the category that has more clients who have subscribed to a deposit than clients who have not\n",
    "#### Single\n",
    " \n",
    " Married\n",
    " \n",
    " Divorced\n",
    " \n",
    " None"
   ]
  },
  {
   "cell_type": "code",
   "execution_count": 11,
   "metadata": {},
   "outputs": [
    {
     "data": {
      "text/plain": [
       "<AxesSubplot:xlabel='marital', ylabel='count'>"
      ]
     },
     "execution_count": 11,
     "metadata": {},
     "output_type": "execute_result"
    },
    {
     "data": {
      "image/png": "[encoded data removed]",
      "text/plain": [
       "<Figure size 432x288 with 1 Axes>"
      ]
     },
     "metadata": {
      "needs_background": "light"
     },
     "output_type": "display_data"
    }
   ],
   "source": [
    "sns.countplot(x = train_data[\"marital\"], hue = train_data[\"deposit\"])"
   ]
  },
  {
   "cell_type": "markdown",
   "metadata": {},
   "source": [
    "## Q5 How many clients who have not subscribed to a deposit have a housing or personal loan?\n",
    " 17\n",
    " \n",
    "#### 1493\n",
    " \n",
    " 1553\n",
    " \n",
    " 1756"
   ]
  },
  {
   "cell_type": "code",
   "execution_count": 5,
   "metadata": {},
   "outputs": [
    {
     "name": "stdout",
     "output_type": "stream",
     "text": [
      "1493\n"
     ]
    }
   ],
   "source": [
    "# METHOD 1\n",
    "train_data = pd.read_csv('bank_train.csv')\n",
    "train_data = train_data.dropna(axis = 0, inplace = False)\n",
    "\n",
    "filt = np.logical_and(train_data[\"deposit\"]==\"no\",\n",
    "                     np.logical_or(train_data[\"housing\"]==\"yes\", train_data[\"loan\"]==\"yes\"))\n",
    "\n",
    "deposit_with_hos_personal = train_data[filt==True]\n",
    "\n",
    "print(len(deposit_with_hos_personal))"
   ]
  },
  {
   "cell_type": "code",
   "execution_count": 6,
   "metadata": {},
   "outputs": [
    {
     "name": "stdout",
     "output_type": "stream",
     "text": [
      "893\n"
     ]
    }
   ],
   "source": [
    "# METHOD 2\n",
    "clients_housing_or_loan_having_deposit = train_data[\n",
    "    ((train_data.housing == 'yes') | (train_data.loan == 'yes')) \n",
    "    & (train_data.deposit == 'yes')]\n",
    "\n",
    "print(len(clients_housing_or_loan_having_deposit))"
   ]
  },
  {
   "cell_type": "code",
   "execution_count": 21,
   "metadata": {
    "collapsed": true
   },
   "outputs": [
    {
     "name": "stdout",
     "output_type": "stream",
     "text": [
      "      age          job   marital  education default  balance housing loan  \\\n",
      "0      76      retired   married  secondary      no   2302.0      no   no   \n",
      "3      41  blue-collar   married  secondary      no    356.0     yes   no   \n",
      "6      59      retired   married  secondary      no    136.0      no   no   \n",
      "7      34  blue-collar   married    primary      no   5299.0     yes   no   \n",
      "9      44  blue-collar   married  secondary      no    879.0     yes   no   \n",
      "...   ...          ...       ...        ...     ...      ...     ...  ...   \n",
      "4457   43   management   married   tertiary      no   1336.0     yes  yes   \n",
      "4460   54      retired   married  secondary      no    522.0      no  yes   \n",
      "4461   33   management   married   tertiary      no    133.0     yes   no   \n",
      "4464   31   technician    single  secondary      no    628.0     yes   no   \n",
      "4465   70      retired  divorced    primary      no    383.0      no   no   \n",
      "\n",
      "        contact  day month  duration  campaign  pdays  previous poutcome  \\\n",
      "0     telephone    5   feb       110         1     87         2  failure   \n",
      "3      cellular   14   may        90         5     -1         0  unknown   \n",
      "6      cellular    6   aug       301         4     -1         0  unknown   \n",
      "7       unknown   26   jun        75         5     -1         0  unknown   \n",
      "9      cellular    3   apr       383         1     -1         0  unknown   \n",
      "...         ...  ...   ...       ...       ...    ...       ...      ...   \n",
      "4457   cellular   27   may        82         2    309         1  failure   \n",
      "4460   cellular   14   jul        81         3     -1         0  unknown   \n",
      "4461    unknown   26   may       308         4     -1         0  unknown   \n",
      "4464    unknown   12   may      1083         2     -1         0  unknown   \n",
      "4465   cellular   28   apr        50         2     -1         0  unknown   \n",
      "\n",
      "     deposit  \n",
      "0         no  \n",
      "3         no  \n",
      "6         no  \n",
      "7         no  \n",
      "9         no  \n",
      "...      ...  \n",
      "4457      no  \n",
      "4460      no  \n",
      "4461      no  \n",
      "4464      no  \n",
      "4465      no  \n",
      "\n",
      "[2352 rows x 17 columns]\n",
      "(2352, 17)\n"
     ]
    }
   ],
   "source": [
    "train_data = pd.read_csv('bank_train (1).csv')\n",
    "train_data = train_data.dropna(axis = 0)\n",
    "not_subscribed = train_data[train_data[\"deposit\"] == \"no\"]\n",
    "print(not_subscribed)\n",
    "print(not_subscribed.shape)"
   ]
  },
  {
   "cell_type": "code",
   "execution_count": 26,
   "metadata": {},
   "outputs": [
    {
     "name": "stdout",
     "output_type": "stream",
     "text": [
      "1493\n"
     ]
    }
   ],
   "source": [
    "i = 0\n",
    "for x in (not_subscribed.index):\n",
    "    if train_data.at[x,\"housing\"] == \"yes\" or train_data.at[x,\"loan\"] == \"yes\":\n",
    "        #if train_data.at[x,\"deposit\"] == \"no\":\n",
    "        i+=1\n",
    "        \n",
    "print(i)\n",
    "\n",
    "## for x in range(len(train_data)):\n",
    "## this shows key error as the key is dropped under dropna"
   ]
  },
  {
   "cell_type": "markdown",
   "metadata": {},
   "source": [
    "## Q6 What % of clients have subscribed to a term deposit as an outcome of the successful marketing campaign? (approx.)\n",
    "#### 90.11\n",
    " \n",
    " 9.88\n",
    " \n",
    " 49.30\n",
    " \n",
    " 50.69"
   ]
  },
  {
   "cell_type": "code",
   "execution_count": 25,
   "metadata": {},
   "outputs": [
    {
     "name": "stdout",
     "output_type": "stream",
     "text": [
      "(435, 17)\n"
     ]
    }
   ],
   "source": [
    "train_data = pd.read_csv('bank_train (1).csv')\n",
    "successful_outcome = train_data[train_data[\"poutcome\"] == \"success\"]\n",
    "print(successful_outcome.shape)"
   ]
  },
  {
   "cell_type": "code",
   "execution_count": 27,
   "metadata": {},
   "outputs": [
    {
     "name": "stdout",
     "output_type": "stream",
     "text": [
      "392\n"
     ]
    }
   ],
   "source": [
    "i = 0\n",
    "\n",
    "for x in (successful_outcome.index):\n",
    "    if train_data.at[x,\"deposit\"] == \"yes\":\n",
    "        i+=1\n",
    "        \n",
    "print(i)\n"
   ]
  },
  {
   "cell_type": "code",
   "execution_count": 33,
   "metadata": {},
   "outputs": [
    {
     "data": {
      "text/html": [
       "<div>\n",
       "<style scoped>\n",
       "    .dataframe tbody tr th:only-of-type {\n",
       "        vertical-align: middle;\n",
       "    }\n",
       "\n",
       "    .dataframe tbody tr th {\n",
       "        vertical-align: top;\n",
       "    }\n",
       "\n",
       "    .dataframe thead th {\n",
       "        text-align: right;\n",
       "    }\n",
       "</style>\n",
       "<table border=\"1\" class=\"dataframe\">\n",
       "  <thead>\n",
       "    <tr style=\"text-align: right;\">\n",
       "      <th>deposit</th>\n",
       "      <th>no</th>\n",
       "      <th>yes</th>\n",
       "    </tr>\n",
       "    <tr>\n",
       "      <th>poutcome</th>\n",
       "      <th></th>\n",
       "      <th></th>\n",
       "    </tr>\n",
       "  </thead>\n",
       "  <tbody>\n",
       "    <tr>\n",
       "      <th>failure</th>\n",
       "      <td>0.506931</td>\n",
       "      <td>0.493069</td>\n",
       "    </tr>\n",
       "    <tr>\n",
       "      <th>other</th>\n",
       "      <td>0.453333</td>\n",
       "      <td>0.546667</td>\n",
       "    </tr>\n",
       "    <tr>\n",
       "      <th>success</th>\n",
       "      <td>0.098851</td>\n",
       "      <td>0.901149</td>\n",
       "    </tr>\n",
       "    <tr>\n",
       "      <th>unknown</th>\n",
       "      <td>0.591515</td>\n",
       "      <td>0.408485</td>\n",
       "    </tr>\n",
       "    <tr>\n",
       "      <th>All</th>\n",
       "      <td>0.526988</td>\n",
       "      <td>0.473012</td>\n",
       "    </tr>\n",
       "  </tbody>\n",
       "</table>\n",
       "</div>"
      ],
      "text/plain": [
       "deposit         no       yes\n",
       "poutcome                    \n",
       "failure   0.506931  0.493069\n",
       "other     0.453333  0.546667\n",
       "success   0.098851  0.901149\n",
       "unknown   0.591515  0.408485\n",
       "All       0.526988  0.473012"
      ]
     },
     "execution_count": 33,
     "metadata": {},
     "output_type": "execute_result"
    }
   ],
   "source": [
    "pd.crosstab(index = train_data[\"poutcome\"],\n",
    "            columns = train_data[\"deposit\"],\n",
    "            normalize = \"index\",\n",
    "            margins = True\n",
    ")"
   ]
  },
  {
   "cell_type": "markdown",
   "metadata": {},
   "source": [
    "## Q7 Visualize the age and the average yearly balance of clients using a scatter plot from Seaborn API. Select the correct statement from the options below.\n",
    "#### Across all age groups, the average yearly bank balance of most of the clients is less than 20,000 euros\n",
    " \n",
    " Across all age groups, the average yearly bank balance of most of the clients is more than 20,000 euros\n",
    " \n",
    " Across all age groups, the average yearly bank balance of most of the clients is within 20,000 – 40,000 euros\n",
    " \n",
    " Most of the clients aged above 50 have an average yearly bank balance of more than 40,000 euros"
   ]
  },
  {
   "cell_type": "code",
   "execution_count": 34,
   "metadata": {},
   "outputs": [
    {
     "data": {
      "text/plain": [
       "<AxesSubplot:xlabel='age', ylabel='balance'>"
      ]
     },
     "execution_count": 34,
     "metadata": {},
     "output_type": "execute_result"
    },
    {
     "data": {
      "image/png": "[encoded data removed]",
      "text/plain": [
       "<Figure size 432x288 with 1 Axes>"
      ]
     },
     "metadata": {
      "needs_background": "light"
     },
     "output_type": "display_data"
    }
   ],
   "source": [
    "sns.regplot(x = train_data[\"age\"], y = train_data[\"balance\"])"
   ]
  },
  {
   "cell_type": "markdown",
   "metadata": {},
   "source": [
    "#### Follow the steps given below to answer questions 8 - 12\n",
    "Check whether test_data dataframe has any null values or not. If yes, then remove the rows with null values\n",
    "\n",
    "Encode categorical variable, deposit - yes as 1 and no as 0\n",
    "\n",
    "Perform dummy encoding on the categorical columns of data\n",
    "\n",
    "Separate out the independent and dependent variables\n",
    "\n",
    "Build a K Nearest Neighbors model with 7 nearest neighbors over the training set and validate the kNN model over the test set"
   ]
  },
  {
   "cell_type": "markdown",
   "metadata": {},
   "source": [
    "## Q8 What is the accuracy of the model (Choose the appropriate range)?\n",
    " #### 70–85%\n",
    " \n",
    " 85–100%\n",
    " \n",
    " 60–70%\n",
    " \n",
    " Less than 60 %"
   ]
  },
  {
   "cell_type": "code",
   "execution_count": 2,
   "metadata": {},
   "outputs": [],
   "source": [
    "train_data = pd.read_csv('bank_train (1).csv')\n",
    "test_data = pd.read_csv('bank_test (1).csv')"
   ]
  },
  {
   "cell_type": "code",
   "execution_count": 3,
   "metadata": {},
   "outputs": [],
   "source": [
    "train_data = train_data.dropna(axis = 0)\n",
    "test_data = test_data.dropna(axis = 0)"
   ]
  },
  {
   "cell_type": "code",
   "execution_count": 4,
   "metadata": {},
   "outputs": [],
   "source": [
    "train_data[\"deposit\"] = train_data[\"deposit\"].map({\"yes\":1, \"no\":0})\n",
    "test_data[\"deposit\"] = test_data[\"deposit\"].map({\"yes\":1, \"no\":0})"
   ]
  },
  {
   "cell_type": "code",
   "execution_count": 5,
   "metadata": {},
   "outputs": [],
   "source": [
    "train_data = pd.get_dummies(data = train_data, drop_first = True)\n",
    "test_data = pd.get_dummies(data = test_data, drop_first = True)"
   ]
  },
  {
   "cell_type": "code",
   "execution_count": 6,
   "metadata": {},
   "outputs": [],
   "source": [
    "train_X = train_data.drop([\"deposit\"],axis = 1, inplace = False)\n",
    "train_Y = train_data[\"deposit\"]\n",
    "\n",
    "test_X = test_data.drop([\"deposit\"],axis = 1, inplace = False)\n",
    "test_Y = test_data[\"deposit\"]"
   ]
  },
  {
   "cell_type": "code",
   "execution_count": 7,
   "metadata": {},
   "outputs": [],
   "source": [
    "from sklearn.neighbors import KNeighborsClassifier\n",
    "KNN_all = KNeighborsClassifier(n_neighbors = 7)"
   ]
  },
  {
   "cell_type": "code",
   "execution_count": 8,
   "metadata": {},
   "outputs": [
    {
     "data": {
      "text/plain": [
       "KNeighborsClassifier(n_neighbors=7)"
      ]
     },
     "execution_count": 8,
     "metadata": {},
     "output_type": "execute_result"
    }
   ],
   "source": [
    "KNN_all.fit(train_X,train_Y)"
   ]
  },
  {
   "cell_type": "code",
   "execution_count": 9,
   "metadata": {},
   "outputs": [],
   "source": [
    "pred_all = KNN_all.predict(test_X)"
   ]
  },
  {
   "cell_type": "code",
   "execution_count": 10,
   "metadata": {},
   "outputs": [
    {
     "name": "stdout",
     "output_type": "stream",
     "text": [
      "0.767921146953405\n"
     ]
    }
   ],
   "source": [
    "acc_all = accuracy_score(test_Y, pred_all)\n",
    "print(acc_all)"
   ]
  },
  {
   "cell_type": "markdown",
   "metadata": {},
   "source": [
    "## Q 9 How many samples were misclassified by the model (Choose the appropriate range)?\n",
    " 100–150\n",
    " \n",
    " 151–200\n",
    " \n",
    " #### 201–300\n",
    " \n",
    " More than 300"
   ]
  },
  {
   "cell_type": "code",
   "execution_count": 11,
   "metadata": {},
   "outputs": [
    {
     "data": {
      "text/plain": [
       "259"
      ]
     },
     "execution_count": 11,
     "metadata": {},
     "output_type": "execute_result"
    }
   ],
   "source": [
    "(test_Y != pred_all).sum()"
   ]
  },
  {
   "cell_type": "code",
   "execution_count": null,
   "metadata": {},
   "outputs": [],
   "source": []
  },
  {
   "cell_type": "code",
   "execution_count": 12,
   "metadata": {},
   "outputs": [
    {
     "name": "stdout",
     "output_type": "stream",
     "text": [
      "[[490 116]\n",
      " [143 367]]\n"
     ]
    }
   ],
   "source": [
    "confuse = confusion_matrix(test_Y, pred_all)\n",
    "print(confuse)"
   ]
  },
  {
   "cell_type": "markdown",
   "metadata": {},
   "source": [
    "[[TN FP]\n",
    "\n",
    " [FN TP]]\n",
    " \n",
    "Actual alog horizontal, predicted along vertical"
   ]
  },
  {
   "cell_type": "markdown",
   "metadata": {},
   "source": [
    "## Q 10 What is the sensitivity of the model (Choose the appropriate range)?\n",
    " Less than 0.60\n",
    " \n",
    "#### 0.61–0.80\n",
    " \n",
    " 0.81–0.90\n",
    " \n",
    " More than 0.90\n",
    " \n",
    " #### Sensitivity = TP / (TP + FN)"
   ]
  },
  {
   "cell_type": "code",
   "execution_count": 24,
   "metadata": {},
   "outputs": [
    {
     "name": "stdout",
     "output_type": "stream",
     "text": [
      "0.7196078431372549\n"
     ]
    }
   ],
   "source": [
    "cm1 = confusion_matrix(test_Y, pred_all)\n",
    "#sensitivity1 = cm1[0,0]/(cm1[0,0] + cm1[0,1])\n",
    "#.... by interpretting confusion matrix as [[TP FN]]\n",
    "#                                          [[FP TN]]... as per wikipedia\n",
    "\n",
    "sensitivity1 = cm1[1,1]/(cm1[1,0] + cm1[1,1])\n",
    "#.... by interpretting confusion matrix as [[TN FP]]\n",
    "#                                          [[FN TP]]... as per sklearn documentation\n",
    "print(sensitivity1)"
   ]
  },
  {
   "cell_type": "markdown",
   "metadata": {},
   "source": [
    "## Q11 What is the specificity of the model (Choose the appropriate range)?\n",
    "\n",
    " Less than 0.60\n",
    " \n",
    " 0.61–0.70\n",
    " \n",
    " #### 0.71–0.90\n",
    " \n",
    " More than 0.90\n",
    " \n",
    "#### Specificity = TN / (TN + FP)"
   ]
  },
  {
   "cell_type": "code",
   "execution_count": 15,
   "metadata": {},
   "outputs": [
    {
     "name": "stdout",
     "output_type": "stream",
     "text": [
      "0.8085808580858086\n"
     ]
    }
   ],
   "source": [
    "#specificity = cm1[1,1]/(cm1[1,1] + cm1[1,0])\n",
    "#.... by interpretting confusion matrix as [[TP FN]]\n",
    "#                                          [[FP TN]]... as per wikipedia\n",
    "\n",
    "specificity = cm1[0,0]/(cm1[0,0] + cm1[0,1])\n",
    "#.... by interpretting confusion matrix as [[TN FP]]\n",
    "#                                          [[FN TP]]... as per sklearn documentation\n",
    "print(specificity)"
   ]
  },
  {
   "cell_type": "markdown",
   "metadata": {},
   "source": [
    "## Q12 What is the prevalence of the model (Choose the appropriate range)?\n",
    " Less than 0.40\n",
    " \n",
    " #### 0.41–0.50\n",
    " \n",
    " 0.51–0.60\n",
    " \n",
    " 0.61–0.70\n",
    " \n",
    "#### prevalence = (TP + FN) / (Total) = (Total Actual Positive) / / (Total population)"
   ]
  },
  {
   "cell_type": "code",
   "execution_count": 28,
   "metadata": {},
   "outputs": [
    {
     "name": "stdout",
     "output_type": "stream",
     "text": [
      "0.45698924731182794\n"
     ]
    }
   ],
   "source": [
    "knn_prevalence = (cm1[1,1] + cm1[1,0]) / (cm1[1,1] + cm1[1,0] + cm1[0,1] + cm1[0,0]) \n",
    "print(knn_prevalence)"
   ]
  },
  {
   "cell_type": "code",
   "execution_count": null,
   "metadata": {},
   "outputs": [],
   "source": []
  },
  {
   "cell_type": "markdown",
   "metadata": {},
   "source": [
    "#### Follow the steps given below to answer questions 13 - 15\n",
    "Check whether test_data dataframe has any null values or not. If yes, then remove the rows with null values\n",
    "\n",
    "Encode categorical variable, deposit - yes as 1 and no as 0\n",
    "\n",
    "Perform dummy encoding on the categorical columns of data\n",
    "\n",
    "Separate out the independent and dependent variables\n",
    "\n",
    "Build a logistic regression model (with random_state of the logistic regression instance as 0) over the training set and validate the model over the test set"
   ]
  },
  {
   "cell_type": "code",
   "execution_count": 17,
   "metadata": {},
   "outputs": [],
   "source": [
    "lgr = LogisticRegression(random_state = 0)"
   ]
  },
  {
   "cell_type": "code",
   "execution_count": 18,
   "metadata": {},
   "outputs": [
    {
     "name": "stderr",
     "output_type": "stream",
     "text": [
      "C:\\Users\\Manoj\\anaconda3\\lib\\site-packages\\sklearn\\linear_model\\_logistic.py:762: ConvergenceWarning: lbfgs failed to converge (status=1):\n",
      "STOP: TOTAL NO. of ITERATIONS REACHED LIMIT.\n",
      "\n",
      "Increase the number of iterations (max_iter) or scale the data as shown in:\n",
      "    https://scikit-learn.org/stable/modules/preprocessing.html\n",
      "Please also refer to the documentation for alternative solver options:\n",
      "    https://scikit-learn.org/stable/modules/linear_model.html#logistic-regression\n",
      "  n_iter_i = _check_optimize_result(\n"
     ]
    },
    {
     "data": {
      "text/plain": [
       "LogisticRegression(random_state=0)"
      ]
     },
     "execution_count": 18,
     "metadata": {},
     "output_type": "execute_result"
    }
   ],
   "source": [
    "lgr.fit(train_X, train_Y)"
   ]
  },
  {
   "cell_type": "code",
   "execution_count": 19,
   "metadata": {},
   "outputs": [],
   "source": [
    "lgr_pred = lgr.predict(test_X)"
   ]
  },
  {
   "cell_type": "code",
   "execution_count": 20,
   "metadata": {},
   "outputs": [
    {
     "name": "stdout",
     "output_type": "stream",
     "text": [
      "0.8100358422939068\n"
     ]
    }
   ],
   "source": [
    "lgr_acc = accuracy_score(test_Y, lgr_pred)\n",
    "print(lgr_acc)"
   ]
  },
  {
   "cell_type": "code",
   "execution_count": 21,
   "metadata": {},
   "outputs": [
    {
     "name": "stdout",
     "output_type": "stream",
     "text": [
      "[[514  92]\n",
      " [120 390]]\n"
     ]
    }
   ],
   "source": [
    "lgr_confuse = confusion_matrix(test_Y, lgr_pred)\n",
    "print(lgr_confuse)"
   ]
  },
  {
   "cell_type": "markdown",
   "metadata": {},
   "source": [
    "[[TN FP]\n",
    "\n",
    " [FN TP]]\n",
    " \n",
    "Actual alog horizontal, predicted along vertical"
   ]
  },
  {
   "cell_type": "markdown",
   "metadata": {},
   "source": [
    "## Q13 What is the sensitivity of the model (Choose the appropriate range)?\n",
    " Less than 0.60\n",
    " \n",
    " 0.61–0.70\n",
    " \n",
    " #### 0.71–0.90\n",
    " \n",
    " More than 0.90\n",
    " \n",
    " #### Sensitivity = TP / (TP + FN)"
   ]
  },
  {
   "cell_type": "code",
   "execution_count": 23,
   "metadata": {},
   "outputs": [
    {
     "name": "stdout",
     "output_type": "stream",
     "text": [
      "0.7647058823529411\n"
     ]
    }
   ],
   "source": [
    "cm2 = confusion_matrix(test_Y, lgr_pred)\n",
    "#sensitivity1 = cm2[0,0]/(cm2[0,0] + cm2[0,1])\n",
    "#.... by interpretting confusion matrix as [[TP FN]]\n",
    "#                                          [[FP TN]]... as per wikipedia\n",
    "\n",
    "sensitivity2 = cm2[1,1]/(cm2[1,0] + cm2[1,1])\n",
    "#.... by interpretting confusion matrix as [[TN FP]]\n",
    "#                                          [[FN TP]]... as per sklearn documentation\n",
    "print(sensitivity2)"
   ]
  },
  {
   "cell_type": "markdown",
   "metadata": {},
   "source": [
    "## Q14 What is the specificity of the model (Choose the appropriate range)?\n",
    " Less than 0.60\n",
    " \n",
    " 0.60–0.70\n",
    " \n",
    " 0.71–0.80\n",
    " \n",
    " #### More than 0.80\n",
    " \n",
    "#### Specificity = TN / (TN + FP)"
   ]
  },
  {
   "cell_type": "code",
   "execution_count": 26,
   "metadata": {},
   "outputs": [
    {
     "name": "stdout",
     "output_type": "stream",
     "text": [
      "0.8481848184818482\n"
     ]
    }
   ],
   "source": [
    "\n",
    "#specificity2 = cm2[1,1]/(cm2[1,1] + cm2[1,0])\n",
    "#.... by interpretting confusion matrix as [[TP FN]]\n",
    "#                                          [[FP TN]]... as per wikipedia\n",
    "\n",
    "specificity2 = cm2[0,0]/(cm2[0,0] + cm2[0,1])\n",
    "#.... by interpretting confusion matrix as [[TN FP]]\n",
    "#                                          [[FN TP]]... as per sklearn documentation\n",
    "\n",
    "print(specificity2)"
   ]
  },
  {
   "cell_type": "markdown",
   "metadata": {},
   "source": [
    "## Q15 What is the prevalence of the model (Choose the appropriate range)?\n",
    " Less than 0.40\n",
    " \n",
    " #### 0.41–0.50\n",
    " \n",
    " 0.51–0.60\n",
    " \n",
    " 0.61–0.70\n",
    " \n",
    "#### prevalence = (TP + FN) / (Total) = (Total Actual Positive) / / (Total population)"
   ]
  },
  {
   "cell_type": "code",
   "execution_count": 27,
   "metadata": {},
   "outputs": [
    {
     "name": "stdout",
     "output_type": "stream",
     "text": [
      "0.45698924731182794\n"
     ]
    }
   ],
   "source": [
    "lgr_prevalence = (cm2[1,1] + cm2[1,0]) / (cm2[1,1] + cm2[1,0] + cm2[0,1] + cm2[0,0]) \n",
    "print(lgr_prevalence)"
   ]
  },
  {
   "cell_type": "code",
   "execution_count": null,
   "metadata": {},
   "outputs": [],
   "source": []
  },
  {
   "cell_type": "code",
   "execution_count": null,
   "metadata": {},
   "outputs": [],
   "source": []
  },
  {
   "cell_type": "code",
   "execution_count": null,
   "metadata": {},
   "outputs": [],
   "source": [
    "\n"
   ]
  }
 ],
 "metadata": {
  "kernelspec": {
   "display_name": "Python 3",
   "language": "python",
   "name": "python3"
  },
  "language_info": {
   "codemirror_mode": {
    "name": "ipython",
    "version": 3
   },
   "file_extension": ".py",
   "mimetype": "text/x-python",
   "name": "python",
   "nbconvert_exporter": "python",
   "pygments_lexer": "ipython3",
   "version": "3.8.5"
  }
 },
 "nbformat": 4,
 "nbformat_minor": 4
}
