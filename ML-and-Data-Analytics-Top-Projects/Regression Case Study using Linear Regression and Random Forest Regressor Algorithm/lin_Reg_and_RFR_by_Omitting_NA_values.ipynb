{
  "nbformat": 4,
  "nbformat_minor": 0,
  "metadata": {
    "colab": {
      "name": "lin_Reg and RFR by Omitting NA_values.ipynb",
      "provenance": [],
      "mount_file_id": "1Bf3Ant0zVQdtVURtDteOke54vBqMNLOZ",
      "authorship_tag": "ABX9TyMDapWn94Jn7jel5pmWG2aw"
    },
    "kernelspec": {
      "name": "python3",
      "display_name": "Python 3"
    },
    "language_info": {
      "name": "python"
    }
  },
  "cells": [
    {
      "cell_type": "markdown",
      "source": [
        "**Please fo through Regression Case study 1 and 2 Prior before starting with this code.**\n",
        "\n",
        "**It contains data cleaning, Data visualization, Data preprocessing and Analysis which forms the base for understanding the base of this code**"
      ],
      "metadata": {
        "id": "bh1Md7rc1hej"
      }
    },
    {
      "cell_type": "code",
      "source": [
        "import pandas as pd\n",
        "import numpy as np\n",
        "import seaborn as sns\n",
        "import matplotlib.pyplot as plt\n",
        "from sklearn.model_selection import train_test_split\n",
        "from sklearn.linear_model import LinearRegression\n",
        "from sklearn.ensemble import RandomForestRegressor\n",
        "from sklearn.metrics import mean_squared_error"
      ],
      "metadata": {
        "id": "3X9f5FB00-3Y"
      },
      "execution_count": 2,
      "outputs": []
    },
    {
      "cell_type": "code",
      "source": [
        ""
      ],
      "metadata": {
        "id": "lLWBiTz71gfu"
      },
      "execution_count": null,
      "outputs": []
    },
    {
      "cell_type": "code",
      "source": [
        "sns.set(rc = {'figure.figsize':(11.7,8.27)})"
      ],
      "metadata": {
        "id": "SwzWx4V_1K5o"
      },
      "execution_count": 3,
      "outputs": []
    },
    {
      "cell_type": "code",
      "source": [
        "cars_data = pd.read_csv(\"/content/drive/MyDrive/Colab Notebooks/CarsSampled/cars_sampled.csv\")\n",
        "cars = cars_data.copy()"
      ],
      "metadata": {
        "id": "6PuiKBEG1QBs"
      },
      "execution_count": 12,
      "outputs": []
    },
    {
      "cell_type": "code",
      "source": [
        "pd.set_option('display.float_format', lambda x: '%.3f' %x)\n",
        "pd.set_option('display.max_columns', 500)\n",
        "cars.describe()"
      ],
      "metadata": {
        "colab": {
          "base_uri": "https://localhost:8080/",
          "height": 300
        },
        "id": "6Bq3oehV1S9D",
        "outputId": "2dec628e-fac6-46d0-917b-6d80a895ef09"
      },
      "execution_count": 13,
      "outputs": [
        {
          "output_type": "execute_result",
          "data": {
            "text/plain": [
              "             price  yearOfRegistration   powerPS  kilometer  \\\n",
              "count    50001.000           50001.000 50001.000  50001.000   \n",
              "mean      6559.865            2005.544   116.496 125613.688   \n",
              "std      85818.470             122.992   230.568  40205.234   \n",
              "min          0.000            1000.000     0.000   5000.000   \n",
              "25%       1150.000            1999.000    69.000 125000.000   \n",
              "50%       2950.000            2003.000   105.000 150000.000   \n",
              "75%       7190.000            2008.000   150.000 150000.000   \n",
              "max   12345678.000            9999.000 19312.000 150000.000   \n",
              "\n",
              "       monthOfRegistration  postalCode  \n",
              "count            50001.000   50001.000  \n",
              "mean                 5.744   50775.217  \n",
              "std                  3.711   25743.702  \n",
              "min                  0.000    1067.000  \n",
              "25%                  3.000   30559.000  \n",
              "50%                  6.000   49504.000  \n",
              "75%                  9.000   71404.000  \n",
              "max                 12.000   99998.000  "
            ],
            "text/html": [
              "\n",
              "  <div id=\"df-3740c913-5fa7-42d4-b806-96c8a4d17a95\">\n",
              "    <div class=\"colab-df-container\">\n",
              "      <div>\n",
              "<style scoped>\n",
              "    .dataframe tbody tr th:only-of-type {\n",
              "        vertical-align: middle;\n",
              "    }\n",
              "\n",
              "    .dataframe tbody tr th {\n",
              "        vertical-align: top;\n",
              "    }\n",
              "\n",
              "    .dataframe thead th {\n",
              "        text-align: right;\n",
              "    }\n",
              "</style>\n",
              "<table border=\"1\" class=\"dataframe\">\n",
              "  <thead>\n",
              "    <tr style=\"text-align: right;\">\n",
              "      <th></th>\n",
              "      <th>price</th>\n",
              "      <th>yearOfRegistration</th>\n",
              "      <th>powerPS</th>\n",
              "      <th>kilometer</th>\n",
              "      <th>monthOfRegistration</th>\n",
              "      <th>postalCode</th>\n",
              "    </tr>\n",
              "  </thead>\n",
              "  <tbody>\n",
              "    <tr>\n",
              "      <th>count</th>\n",
              "      <td>50001.000</td>\n",
              "      <td>50001.000</td>\n",
              "      <td>50001.000</td>\n",
              "      <td>50001.000</td>\n",
              "      <td>50001.000</td>\n",
              "      <td>50001.000</td>\n",
              "    </tr>\n",
              "    <tr>\n",
              "      <th>mean</th>\n",
              "      <td>6559.865</td>\n",
              "      <td>2005.544</td>\n",
              "      <td>116.496</td>\n",
              "      <td>125613.688</td>\n",
              "      <td>5.744</td>\n",
              "      <td>50775.217</td>\n",
              "    </tr>\n",
              "    <tr>\n",
              "      <th>std</th>\n",
              "      <td>85818.470</td>\n",
              "      <td>122.992</td>\n",
              "      <td>230.568</td>\n",
              "      <td>40205.234</td>\n",
              "      <td>3.711</td>\n",
              "      <td>25743.702</td>\n",
              "    </tr>\n",
              "    <tr>\n",
              "      <th>min</th>\n",
              "      <td>0.000</td>\n",
              "      <td>1000.000</td>\n",
              "      <td>0.000</td>\n",
              "      <td>5000.000</td>\n",
              "      <td>0.000</td>\n",
              "      <td>1067.000</td>\n",
              "    </tr>\n",
              "    <tr>\n",
              "      <th>25%</th>\n",
              "      <td>1150.000</td>\n",
              "      <td>1999.000</td>\n",
              "      <td>69.000</td>\n",
              "      <td>125000.000</td>\n",
              "      <td>3.000</td>\n",
              "      <td>30559.000</td>\n",
              "    </tr>\n",
              "    <tr>\n",
              "      <th>50%</th>\n",
              "      <td>2950.000</td>\n",
              "      <td>2003.000</td>\n",
              "      <td>105.000</td>\n",
              "      <td>150000.000</td>\n",
              "      <td>6.000</td>\n",
              "      <td>49504.000</td>\n",
              "    </tr>\n",
              "    <tr>\n",
              "      <th>75%</th>\n",
              "      <td>7190.000</td>\n",
              "      <td>2008.000</td>\n",
              "      <td>150.000</td>\n",
              "      <td>150000.000</td>\n",
              "      <td>9.000</td>\n",
              "      <td>71404.000</td>\n",
              "    </tr>\n",
              "    <tr>\n",
              "      <th>max</th>\n",
              "      <td>12345678.000</td>\n",
              "      <td>9999.000</td>\n",
              "      <td>19312.000</td>\n",
              "      <td>150000.000</td>\n",
              "      <td>12.000</td>\n",
              "      <td>99998.000</td>\n",
              "    </tr>\n",
              "  </tbody>\n",
              "</table>\n",
              "</div>\n",
              "      <button class=\"colab-df-convert\" onclick=\"convertToInteractive('df-3740c913-5fa7-42d4-b806-96c8a4d17a95')\"\n",
              "              title=\"Convert this dataframe to an interactive table.\"\n",
              "              style=\"display:none;\">\n",
              "        \n",
              "  <svg xmlns=\"http://www.w3.org/2000/svg\" height=\"24px\"viewBox=\"0 0 24 24\"\n",
              "       width=\"24px\">\n",
              "    <path d=\"M0 0h24v24H0V0z\" fill=\"none\"/>\n",
              "    <path d=\"M18.56 5.44l.94 2.06.94-2.06 2.06-.94-2.06-.94-.94-2.06-.94 2.06-2.06.94zm-11 1L8.5 8.5l.94-2.06 2.06-.94-2.06-.94L8.5 2.5l-.94 2.06-2.06.94zm10 10l.94 2.06.94-2.06 2.06-.94-2.06-.94-.94-2.06-.94 2.06-2.06.94z\"/><path d=\"M17.41 7.96l-1.37-1.37c-.4-.4-.92-.59-1.43-.59-.52 0-1.04.2-1.43.59L10.3 9.45l-7.72 7.72c-.78.78-.78 2.05 0 2.83L4 21.41c.39.39.9.59 1.41.59.51 0 1.02-.2 1.41-.59l7.78-7.78 2.81-2.81c.8-.78.8-2.07 0-2.86zM5.41 20L4 18.59l7.72-7.72 1.47 1.35L5.41 20z\"/>\n",
              "  </svg>\n",
              "      </button>\n",
              "      \n",
              "  <style>\n",
              "    .colab-df-container {\n",
              "      display:flex;\n",
              "      flex-wrap:wrap;\n",
              "      gap: 12px;\n",
              "    }\n",
              "\n",
              "    .colab-df-convert {\n",
              "      background-color: #E8F0FE;\n",
              "      border: none;\n",
              "      border-radius: 50%;\n",
              "      cursor: pointer;\n",
              "      display: none;\n",
              "      fill: #1967D2;\n",
              "      height: 32px;\n",
              "      padding: 0 0 0 0;\n",
              "      width: 32px;\n",
              "    }\n",
              "\n",
              "    .colab-df-convert:hover {\n",
              "      background-color: #E2EBFA;\n",
              "      box-shadow: 0px 1px 2px rgba(60, 64, 67, 0.3), 0px 1px 3px 1px rgba(60, 64, 67, 0.15);\n",
              "      fill: #174EA6;\n",
              "    }\n",
              "\n",
              "    [theme=dark] .colab-df-convert {\n",
              "      background-color: #3B4455;\n",
              "      fill: #D2E3FC;\n",
              "    }\n",
              "\n",
              "    [theme=dark] .colab-df-convert:hover {\n",
              "      background-color: #434B5C;\n",
              "      box-shadow: 0px 1px 3px 1px rgba(0, 0, 0, 0.15);\n",
              "      filter: drop-shadow(0px 1px 2px rgba(0, 0, 0, 0.3));\n",
              "      fill: #FFFFFF;\n",
              "    }\n",
              "  </style>\n",
              "\n",
              "      <script>\n",
              "        const buttonEl =\n",
              "          document.querySelector('#df-3740c913-5fa7-42d4-b806-96c8a4d17a95 button.colab-df-convert');\n",
              "        buttonEl.style.display =\n",
              "          google.colab.kernel.accessAllowed ? 'block' : 'none';\n",
              "\n",
              "        async function convertToInteractive(key) {\n",
              "          const element = document.querySelector('#df-3740c913-5fa7-42d4-b806-96c8a4d17a95');\n",
              "          const dataTable =\n",
              "            await google.colab.kernel.invokeFunction('convertToInteractive',\n",
              "                                                     [key], {});\n",
              "          if (!dataTable) return;\n",
              "\n",
              "          const docLinkHtml = 'Like what you see? Visit the ' +\n",
              "            '<a target=\"_blank\" href=https://colab.research.google.com/notebooks/data_table.ipynb>data table notebook</a>'\n",
              "            + ' to learn more about interactive tables.';\n",
              "          element.innerHTML = '';\n",
              "          dataTable['output_type'] = 'display_data';\n",
              "          await google.colab.output.renderOutput(dataTable, element);\n",
              "          const docLink = document.createElement('div');\n",
              "          docLink.innerHTML = docLinkHtml;\n",
              "          element.appendChild(docLink);\n",
              "        }\n",
              "      </script>\n",
              "    </div>\n",
              "  </div>\n",
              "  "
            ]
          },
          "metadata": {},
          "execution_count": 13
        }
      ]
    },
    {
      "cell_type": "markdown",
      "source": [
        "**Removing Insignificant columns**"
      ],
      "metadata": {
        "id": "8THqTiYW2mdL"
      }
    },
    {
      "cell_type": "code",
      "source": [
        "col = ['name','dateCrawled','dateCreated','postalCode','lastSeen']\n",
        "cars = cars.drop(columns = col, axis= 1)\n",
        "\n",
        "cars.drop_duplicates(keep = 'first', inplace = True)\n",
        "cars.info()"
      ],
      "metadata": {
        "colab": {
          "base_uri": "https://localhost:8080/"
        },
        "id": "hl07VWcD1VeB",
        "outputId": "5578146d-885b-4e08-92e9-7dc51d533c23"
      },
      "execution_count": 14,
      "outputs": [
        {
          "output_type": "stream",
          "name": "stdout",
          "text": [
            "<class 'pandas.core.frame.DataFrame'>\n",
            "Int64Index: 49531 entries, 0 to 50000\n",
            "Data columns (total 14 columns):\n",
            " #   Column               Non-Null Count  Dtype \n",
            "---  ------               --------------  ----- \n",
            " 0   seller               49531 non-null  object\n",
            " 1   offerType            49531 non-null  object\n",
            " 2   price                49531 non-null  int64 \n",
            " 3   abtest               49531 non-null  object\n",
            " 4   vehicleType          44379 non-null  object\n",
            " 5   yearOfRegistration   49531 non-null  int64 \n",
            " 6   gearbox              46766 non-null  object\n",
            " 7   powerPS              49531 non-null  int64 \n",
            " 8   model                46801 non-null  object\n",
            " 9   kilometer            49531 non-null  int64 \n",
            " 10  monthOfRegistration  49531 non-null  int64 \n",
            " 11  fuelType             45064 non-null  object\n",
            " 12  brand                49531 non-null  object\n",
            " 13  notRepairedDamage    39891 non-null  object\n",
            "dtypes: int64(5), object(9)\n",
            "memory usage: 5.7+ MB\n"
          ]
        }
      ]
    },
    {
      "cell_type": "markdown",
      "source": [
        "**Subsetting only the significant Data**"
      ],
      "metadata": {
        "id": "Wsu5DCWm2qva"
      }
    },
    {
      "cell_type": "code",
      "source": [
        "cars = cars[\n",
        "    (cars[\"yearOfRegistration\"] <= 2018)\n",
        "    &(cars[\"yearOfRegistration\"] >= 1950)\n",
        "    &(cars[\"price\"] >= 100)\n",
        "    &(cars[\"price\"] <= 150000)\n",
        "    &(cars[\"powerPS\"] >= 10)\n",
        "    &(cars[\"powerPS\"] <= 500)\n",
        "]\n",
        "# Approx 6700 records are dropped"
      ],
      "metadata": {
        "id": "CQpVCree2MxR"
      },
      "execution_count": 15,
      "outputs": []
    },
    {
      "cell_type": "code",
      "source": [
        ""
      ],
      "metadata": {
        "id": "WKcSUP2S2UhW"
      },
      "execution_count": 15,
      "outputs": []
    },
    {
      "cell_type": "code",
      "execution_count": 16,
      "metadata": {
        "colab": {
          "base_uri": "https://localhost:8080/"
        },
        "id": "zGnz8XUmoJ5E",
        "outputId": "0f7f3476-2115-4361-a69a-63fc17bccce2"
      },
      "outputs": [
        {
          "output_type": "stream",
          "name": "stderr",
          "text": [
            "/usr/local/lib/python3.7/dist-packages/ipykernel_launcher.py:1: SettingWithCopyWarning: \n",
            "A value is trying to be set on a copy of a slice from a DataFrame.\n",
            "Try using .loc[row_indexer,col_indexer] = value instead\n",
            "\n",
            "See the caveats in the documentation: https://pandas.pydata.org/pandas-docs/stable/user_guide/indexing.html#returning-a-view-versus-a-copy\n",
            "  \"\"\"Entry point for launching an IPython kernel.\n",
            "/usr/local/lib/python3.7/dist-packages/ipykernel_launcher.py:2: SettingWithCopyWarning: \n",
            "A value is trying to be set on a copy of a slice from a DataFrame.\n",
            "Try using .loc[row_indexer,col_indexer] = value instead\n",
            "\n",
            "See the caveats in the documentation: https://pandas.pydata.org/pandas-docs/stable/user_guide/indexing.html#returning-a-view-versus-a-copy\n",
            "  \n"
          ]
        },
        {
          "output_type": "execute_result",
          "data": {
            "text/plain": [
              "count   42772.000\n",
              "mean       14.873\n",
              "std         7.093\n",
              "min         0.000\n",
              "25%        10.330\n",
              "50%        14.830\n",
              "75%        19.170\n",
              "max        67.750\n",
              "Name: Age, dtype: float64"
            ]
          },
          "metadata": {},
          "execution_count": 16
        }
      ],
      "source": [
        "cars['Age'] = (2018 - cars['yearOfRegistration']) + ((cars['monthOfRegistration'])/12)\n",
        "cars[\"Age\"] = round(cars[\"Age\"], 2)\n",
        "cars['Age'].describe()"
      ]
    },
    {
      "cell_type": "markdown",
      "source": [
        "*Further Dropping insignificant variables*"
      ],
      "metadata": {
        "id": "X3ZpT8Ir20w6"
      }
    },
    {
      "cell_type": "code",
      "source": [
        "cars = cars.drop(columns = ['yearOfRegistration','monthOfRegistration'])"
      ],
      "metadata": {
        "id": "7ekj-RsN2ZaA"
      },
      "execution_count": 17,
      "outputs": []
    },
    {
      "cell_type": "code",
      "source": [
        "## Correlation Among Numeric Variables\n",
        "\n",
        "cars_select1 = cars.select_dtypes(exclude = [object])\n",
        "correlation = cars_select1.corr()\n",
        "print(round(correlation,3))\n",
        "print(cars_select1.corr().loc[:,'price'].abs().sort_values(ascending  = False))"
      ],
      "metadata": {
        "colab": {
          "base_uri": "https://localhost:8080/"
        },
        "id": "J7pWhRtn2eFm",
        "outputId": "0d44d1f3-6166-4001-d170-d40022cdf70c"
      },
      "execution_count": 18,
      "outputs": [
        {
          "output_type": "stream",
          "name": "stdout",
          "text": [
            "           price  powerPS  kilometer    Age\n",
            "price      1.000    0.575     -0.440 -0.336\n",
            "powerPS    0.575    1.000     -0.016 -0.151\n",
            "kilometer -0.440   -0.016      1.000  0.292\n",
            "Age       -0.336   -0.151      0.292  1.000\n",
            "price       1.000\n",
            "powerPS     0.575\n",
            "kilometer   0.440\n",
            "Age         0.336\n",
            "Name: price, dtype: float64\n"
          ]
        }
      ]
    },
    {
      "cell_type": "markdown",
      "source": [
        "## Actual code of this Session\n",
        "We are going to build a linear regression and random forest regression model on 2 sets of data\n",
        "1. Data obtained by omitting rows with any missing value\n",
        "2. Data obtained by imputing the misssing values"
      ],
      "metadata": {
        "id": "hXbq-QsB3PVa"
      }
    },
    {
      "cell_type": "markdown",
      "source": [
        "## ==== 1. Linear Regression Model Omitting the missing values ===="
      ],
      "metadata": {
        "id": "krMpXa5o3Tnj"
      }
    },
    {
      "cell_type": "code",
      "source": [
        "cars_omit = cars.dropna(axis = 0)\n",
        "# Approx 10000 records removed"
      ],
      "metadata": {
        "id": "w_bIW5mA3JQ6"
      },
      "execution_count": 19,
      "outputs": []
    },
    {
      "cell_type": "markdown",
      "source": [
        "#### converting categorical variables into dummy variables"
      ],
      "metadata": {
        "id": "zv_3gnCB3f_V"
      }
    },
    {
      "cell_type": "code",
      "source": [
        "cars_omit = pd.get_dummies(cars_omit, drop_first = True)"
      ],
      "metadata": {
        "id": "yZhAD8Br3Wls"
      },
      "execution_count": 20,
      "outputs": []
    },
    {
      "cell_type": "markdown",
      "source": [
        "### ===== Building model with the omitted data =====\n",
        "#### separating input and output variables"
      ],
      "metadata": {
        "id": "hurXCck43kBX"
      }
    },
    {
      "cell_type": "code",
      "source": [
        ""
      ],
      "metadata": {
        "id": "eADf7yQh3jgR"
      },
      "execution_count": null,
      "outputs": []
    },
    {
      "cell_type": "code",
      "execution_count": 21,
      "metadata": {
        "id": "_fszkEeLoJ5T"
      },
      "outputs": [],
      "source": [
        "x1 = cars_omit.drop(['price'], axis= 1, inplace = False)\n",
        "y1 = cars_omit['price']"
      ]
    },
    {
      "cell_type": "markdown",
      "source": [
        "#### plotting the variable price"
      ],
      "metadata": {
        "id": "8bbUZHKR32z5"
      }
    },
    {
      "cell_type": "code",
      "source": [
        "prices = pd.DataFrame({\"1. Before\": y1, \"2. After\": np.log(y1)})\n",
        "prices.hist()"
      ],
      "metadata": {
        "colab": {
          "base_uri": "https://localhost:8080/",
          "height": 568
        },
        "id": "EygIY2u13w6w",
        "outputId": "c26ac43e-33cd-46b1-e363-bc6af35af487"
      },
      "execution_count": 23,
      "outputs": [
        {
          "output_type": "execute_result",
          "data": {
            "text/plain": [
              "array([[<matplotlib.axes._subplots.AxesSubplot object at 0x7fc2b09eae10>,\n",
              "        <matplotlib.axes._subplots.AxesSubplot object at 0x7fc2b164e990>]],\n",
              "      dtype=object)"
            ]
          },
          "metadata": {},
          "execution_count": 23
        },
        {
          "output_type": "display_data",
          "data": {
            "text/plain": [
              "<Figure size 842.4x595.44 with 2 Axes>"
            ],
            "image/png": "[encoded data removed]"
          },
          "metadata": {}
        }
      ]
    },
    {
      "cell_type": "markdown",
      "source": [
        "1. for histogram for log(prices)... it is nicely bell shaped\n",
        "2. for histogram for simply prices... it is a skewed graph\n",
        "\n",
        "so it is better to go further with natural log of prices and not just with price\n",
        "\n",
        "So, we will be regressing the natural logarithm of prices with the input features"
      ],
      "metadata": {
        "id": "fAKIGE4138Vk"
      }
    },
    {
      "cell_type": "markdown",
      "source": [
        "#### Transforming price as a Logarthmic value"
      ],
      "metadata": {
        "id": "87hA45tk3_pp"
      }
    },
    {
      "cell_type": "code",
      "source": [
        "y1 = np.log(y1)"
      ],
      "metadata": {
        "id": "XO-jv-nK30Vh"
      },
      "execution_count": 24,
      "outputs": []
    },
    {
      "cell_type": "markdown",
      "source": [
        "#### Splitting the data into test and train"
      ],
      "metadata": {
        "id": "EHF_LkXa4Nc2"
      }
    },
    {
      "cell_type": "code",
      "source": [
        "X_train1, X_test1, Y_train1, Y_test1 = train_test_split(x1, y1, test_size = 0.2, random_state = 28)\n",
        "print(X_train1.shape, X_test1.shape, Y_train1.shape, Y_test1.shape)"
      ],
      "metadata": {
        "colab": {
          "base_uri": "https://localhost:8080/"
        },
        "id": "sjYwgEIh4B3r",
        "outputId": "9a2120a7-70b1-4686-e1d8-3118856573af"
      },
      "execution_count": 26,
      "outputs": [
        {
          "output_type": "stream",
          "name": "stdout",
          "text": [
            "(26307, 302) (6577, 302) (26307,) (6577,)\n"
          ]
        }
      ]
    },
    {
      "cell_type": "markdown",
      "source": [
        "### Baseline Model for the Omitted Data\n",
        "In baseline model the predicted value is replaced by the mean value of the test data\n",
        "\n",
        "We are making a base model by using test data mean value\n",
        "\n",
        "This is to set a benchmark and to compare with our regression model\n",
        "\n",
        "inshort... setting the base value (base metric)"
      ],
      "metadata": {
        "id": "6FFhtLC44bEV"
      }
    },
    {
      "cell_type": "markdown",
      "source": [
        "#### finding mean for test data value"
      ],
      "metadata": {
        "id": "yDBI-ZWg4gZU"
      }
    },
    {
      "cell_type": "code",
      "source": [
        "base_pred_1 = np.mean(Y_test1)\n",
        "print(base_pred_1)"
      ],
      "metadata": {
        "colab": {
          "base_uri": "https://localhost:8080/"
        },
        "id": "fjqDgFH34HA8",
        "outputId": "310fd6be-9f6b-4078-dbe6-b710e394ce90"
      },
      "execution_count": 27,
      "outputs": [
        {
          "output_type": "stream",
          "name": "stdout",
          "text": [
            "8.215867183883187\n"
          ]
        }
      ]
    },
    {
      "cell_type": "markdown",
      "source": [
        "#### Repeating the same value till the length of test data"
      ],
      "metadata": {
        "id": "GFXzuPIR4m8O"
      }
    },
    {
      "cell_type": "code",
      "source": [
        "base_pred_1 = np.repeat(base_pred_1, len(Y_test1))"
      ],
      "metadata": {
        "id": "7I8lBpV74j2H"
      },
      "execution_count": 28,
      "outputs": []
    },
    {
      "cell_type": "markdown",
      "source": [
        "#### Finding RMSE (Root Mean Square Error)\n",
        "1. it computes the difference between test value and predicted value .... squares them... and divides by the no. of observations\n",
        "2. this is the mean squared error\n",
        "3. when you take the squareroot of mean squared error... you get RMSE value"
      ],
      "metadata": {
        "id": "I15R7hUt4tI6"
      }
    },
    {
      "cell_type": "code",
      "source": [
        ""
      ],
      "metadata": {
        "id": "GrbJNVkv44vo"
      },
      "execution_count": null,
      "outputs": []
    },
    {
      "cell_type": "code",
      "source": [
        "base_root_mean_square_error_1 = np.sqrt(mean_squared_error(Y_test1, base_pred_1))\n",
        "print(base_root_mean_square_error_1)"
      ],
      "metadata": {
        "colab": {
          "base_uri": "https://localhost:8080/"
        },
        "id": "W6X-HJGH4pum",
        "outputId": "7f896af1-8e44-49f9-bfc7-03bc06b7c543"
      },
      "execution_count": 30,
      "outputs": [
        {
          "output_type": "stream",
          "name": "stdout",
          "text": [
            "1.1462960922879677\n"
          ]
        }
      ]
    },
    {
      "cell_type": "markdown",
      "source": [
        "## Linear Regression with Omitted Data"
      ],
      "metadata": {
        "id": "McVNmkw55GeV"
      }
    },
    {
      "cell_type": "code",
      "source": [
        "lnr = LinearRegression(fit_intercept = True)"
      ],
      "metadata": {
        "id": "vu_4E5np5HRJ"
      },
      "execution_count": 34,
      "outputs": []
    },
    {
      "cell_type": "markdown",
      "source": [
        "#### model"
      ],
      "metadata": {
        "id": "J7j7v0K-5OYa"
      }
    },
    {
      "cell_type": "code",
      "source": [
        "model_lin1 = lnr.fit(X_train1, Y_train1)"
      ],
      "metadata": {
        "id": "6-OaLQ7l5Kat"
      },
      "execution_count": 35,
      "outputs": []
    },
    {
      "cell_type": "code",
      "source": [
        "r2_lin_train1 = model_lin1.score(X_train1, Y_train1)\n",
        "r2_lin_test1 = model_lin1.score(X_test1, Y_test1)\n",
        "print(f\"Linear Regression Accuracy Score for training set (Omitting missing values): {r2_lin_train1}\\n\\\n",
        "Linear Regression Accuracy Score for testing set (Omitting missing values): {r2_lin_test1}\")"
      ],
      "metadata": {
        "colab": {
          "base_uri": "https://localhost:8080/"
        },
        "id": "MNtjcgcx5Rav",
        "outputId": "af2cb606-efe7-4b68-a846-583d0b42498a"
      },
      "execution_count": 36,
      "outputs": [
        {
          "output_type": "stream",
          "name": "stdout",
          "text": [
            "Linear Regression Accuracy Score for training set (Omitting missing values): 0.7765127399891663\n",
            "Linear Regression Accuracy Score for testing set (Omitting missing values): 0.7763185741323453\n"
          ]
        }
      ]
    },
    {
      "cell_type": "markdown",
      "source": [
        "#### Predicting model on test set"
      ],
      "metadata": {
        "id": "gn5jfgzI5YDY"
      }
    },
    {
      "cell_type": "code",
      "source": [
        "cars_predictions_lin1 = lnr.predict(X_test1)"
      ],
      "metadata": {
        "id": "4gMBr3xD5VVY"
      },
      "execution_count": 37,
      "outputs": []
    },
    {
      "cell_type": "markdown",
      "source": [
        "#### calculating MSE and RMSE for predictions\n"
      ],
      "metadata": {
        "id": "AayZZCn_5mgO"
      }
    },
    {
      "cell_type": "code",
      "source": [
        "lin_mse1 = mean_squared_error(Y_test1, cars_predictions_lin1)\n",
        "lin_rmse1 = np.sqrt(lin_mse1)\n",
        "print(lin_rmse1)"
      ],
      "metadata": {
        "colab": {
          "base_uri": "https://localhost:8080/"
        },
        "id": "37fziu765jW7",
        "outputId": "27e5f9f7-9ec4-45b6-dd98-f6ce3deff3ac"
      },
      "execution_count": 38,
      "outputs": [
        {
          "output_type": "stream",
          "name": "stdout",
          "text": [
            "0.542140401608484\n"
          ]
        }
      ]
    },
    {
      "cell_type": "markdown",
      "source": [
        "\n",
        "it should be noted that the RMSE valus has dropped from 1.14 to 0.54 (Approx 50% reduction)"
      ],
      "metadata": {
        "id": "NTR0qi_J5tco"
      }
    },
    {
      "cell_type": "markdown",
      "source": [
        "R squared value\n",
        "it helps to tell you how good is your model able to explain the variability in 'Y'"
      ],
      "metadata": {
        "id": "SPUu7cWF50Lo"
      }
    },
    {
      "cell_type": "code",
      "source": [
        "r2_lin_train1 = model_lin1.score(X_train1, Y_train1)\n",
        "r2_lin_test1 = model_lin1.score(X_test1, Y_test1)\n",
        "print(f\"r2_lin1_train1: {r2_lin_train1}\\nr2_lin1_test1: {r2_lin_test1}\")"
      ],
      "metadata": {
        "colab": {
          "base_uri": "https://localhost:8080/"
        },
        "id": "taJ_NLGf5pL3",
        "outputId": "5f3313c3-4845-4dd6-cc68-907f21baceb1"
      },
      "execution_count": 39,
      "outputs": [
        {
          "output_type": "stream",
          "name": "stdout",
          "text": [
            "r2_lin1_train1: 0.7765127399891663\n",
            "r2_lin1_test1: 0.7763185741323453\n"
          ]
        }
      ]
    },
    {
      "cell_type": "markdown",
      "source": [
        "R sq. value for train set is 0.7765 and R sq. value for test set is 0.7763\n",
        "\n",
        "cutting quite close... train set is definitely better... but the test set is not far behind\n",
        "\n",
        "This tells that our model is good\n",
        "\n",
        "As much as variability the model was able to capture in the train data...it is able to capture the same amount of variability (if not more) in the test data as well."
      ],
      "metadata": {
        "id": "TCWU9_CT59cJ"
      }
    },
    {
      "cell_type": "code",
      "source": [
        ""
      ],
      "metadata": {
        "id": "gLAVlfU055EW"
      },
      "execution_count": 39,
      "outputs": []
    },
    {
      "cell_type": "code",
      "source": [
        ""
      ],
      "metadata": {
        "id": "Hwo7o_LT6Tro"
      },
      "execution_count": null,
      "outputs": []
    },
    {
      "cell_type": "code",
      "source": [
        ""
      ],
      "metadata": {
        "id": "j2mcRN3E6Tih"
      },
      "execution_count": null,
      "outputs": []
    },
    {
      "cell_type": "code",
      "source": [
        ""
      ],
      "metadata": {
        "id": "kQ9uA-wf6TQG"
      },
      "execution_count": null,
      "outputs": []
    },
    {
      "cell_type": "markdown",
      "source": [
        "## Random Forest regressor using omitted data\n",
        "### Parameters\n"
      ],
      "metadata": {
        "id": "esx_fgf86SA7"
      }
    },
    {
      "cell_type": "markdown",
      "source": [
        "#### n_estimators: 'int' (def 100)\n",
        "Number of trees in the forest\n",
        "#### min_samples_split: 'int' or 'float' (def 2)\n",
        "Minimum No. of samples required to split an internal node\n",
        "#### min_samples_leaf: int or float (def 1)\n",
        "Minimum No. of samples required to be at a leaf node. A split point will be considered only if it leaves at least (Min_samples_leaf) training samples in each of left and right branches"
      ],
      "metadata": {
        "id": "varwBz3c6az3"
      }
    },
    {
      "cell_type": "markdown",
      "source": [
        "#### max_features: {'auto', 'sqrt', 'log'}, int, float  (def 'auto')\n",
        "No. of features to be considered to build the model\n",
        "1. if 'auto', then max_features = n_features (chooses the features automatically)\n",
        "2. if 'sqrt', then max_features = sqrt(n_features)\n",
        "3. if 'log', then max_features = log(n_features)\n",
        "4. if int, then consider (int) features at each split"
      ],
      "metadata": {
        "id": "YSZDh4gN6eh7"
      }
    },
    {
      "cell_type": "markdown",
      "source": [
        "#### max_depth: int (def None)\n",
        "The maximum depth of the tree. If None, nodes are expanded untill all leaves are pure or until all leaves contain less than min_samples_split"
      ],
      "metadata": {
        "id": "zzYhE2ou6lwU"
      }
    },
    {
      "cell_type": "markdown",
      "source": [
        "#### criterion: {'mse', 'mae'} (def: 'mse')\n",
        "#### random_state: int\n",
        "it is a predefined algorithm for randomizer.... if not specified, it will take different data sets everytime"
      ],
      "metadata": {
        "id": "owcBVMPA6hns"
      }
    },
    {
      "cell_type": "markdown",
      "source": [
        ""
      ],
      "metadata": {
        "id": "dxbyP6g66ixk"
      }
    },
    {
      "cell_type": "code",
      "source": [
        "rf = RandomForestRegressor(n_estimators = 100,\n",
        "                          max_features = 'auto',\n",
        "                          max_depth = 100,\n",
        "                          min_samples_split = 10,\n",
        "                          min_samples_leaf = 4,\n",
        "                          random_state = 1)"
      ],
      "metadata": {
        "id": "ATrF1MMm6Xvl"
      },
      "execution_count": 40,
      "outputs": []
    },
    {
      "cell_type": "markdown",
      "source": [
        "#### model"
      ],
      "metadata": {
        "id": "k6TRH0q56ume"
      }
    },
    {
      "cell_type": "code",
      "source": [
        "model_rf1 = rf.fit(X_train1, Y_train1)"
      ],
      "metadata": {
        "id": "Weh-Wwry6rUv"
      },
      "execution_count": 41,
      "outputs": []
    },
    {
      "cell_type": "code",
      "source": [
        "r2_rf_train1 = model_rf1.score(X_train1, Y_train1)\n",
        "r2_rf_test1 = model_rf1.score(X_test1, Y_test1)\n",
        "print(f\"Random Forest Accuracy Score for training set (Omitting missing values): {r2_rf_train1}\\n\\\n",
        "Random Forest Accuracy Score for testing set (Omitting missing values): {r2_rf_test1}\")"
      ],
      "metadata": {
        "colab": {
          "base_uri": "https://localhost:8080/"
        },
        "id": "4qAta1yn6xvk",
        "outputId": "2d85f616-9c9d-4b3b-ae53-57fcf85ee14d"
      },
      "execution_count": 42,
      "outputs": [
        {
          "output_type": "stream",
          "name": "stdout",
          "text": [
            "Random Forest Accuracy Score for training set (Omitting missing values): 0.919533427107709\n",
            "Random Forest Accuracy Score for testing set (Omitting missing values): 0.8640050736764158\n"
          ]
        }
      ]
    },
    {
      "cell_type": "markdown",
      "source": [
        "#### Predicting model on test set"
      ],
      "metadata": {
        "id": "d48iS29u64oH"
      }
    },
    {
      "cell_type": "code",
      "source": [
        "cars_predictions_rf1 = rf.predict(X_test1)"
      ],
      "metadata": {
        "id": "VF1W5k0q60lM"
      },
      "execution_count": 43,
      "outputs": []
    },
    {
      "cell_type": "markdown",
      "source": [
        "#### Computing MSE and RMSE values"
      ],
      "metadata": {
        "id": "ofvvROsk7QAc"
      }
    },
    {
      "cell_type": "code",
      "source": [
        "rf_mse1 = mean_squared_error(Y_test1, cars_predictions_rf1)\n",
        "rf_rmse1 = np.sqrt(rf_mse1)\n",
        "print(rf_rmse1)"
      ],
      "metadata": {
        "colab": {
          "base_uri": "https://localhost:8080/"
        },
        "id": "SlQGWYDS7CJ7",
        "outputId": "3483e8ad-abf9-4d0c-e688-d62b0321e9c6"
      },
      "execution_count": 45,
      "outputs": [
        {
          "output_type": "stream",
          "name": "stdout",
          "text": [
            "0.422725225954634\n"
          ]
        }
      ]
    },
    {
      "cell_type": "markdown",
      "source": [
        "Thus, it should be noted that Random Forest model is performing better than the Linear regression model as the RMSE model has come down further"
      ],
      "metadata": {
        "id": "QJLVzpVW7XKw"
      }
    },
    {
      "cell_type": "markdown",
      "source": [
        "#### R squared value"
      ],
      "metadata": {
        "id": "M9aKAFpy7b7W"
      }
    },
    {
      "cell_type": "code",
      "source": [
        "r2_rf_train1 = model_rf1.score(X_train1, Y_train1)\n",
        "r2_rf_test1 = model_rf1.score(X_test1, Y_test1)\n",
        "print(f\"r2_rf_train1: {r2_rf_train1}\\nr2_lin1_test1: {r2_rf_test1}\")"
      ],
      "metadata": {
        "colab": {
          "base_uri": "https://localhost:8080/"
        },
        "id": "oVkIwljf7T0o",
        "outputId": "ba137e17-03e8-466d-e777-19b1a5840c08"
      },
      "execution_count": 46,
      "outputs": [
        {
          "output_type": "stream",
          "name": "stdout",
          "text": [
            "r2_rf_train1: 0.919533427107709\n",
            "r2_lin1_test1: 0.8640050736764158\n"
          ]
        }
      ]
    },
    {
      "cell_type": "code",
      "source": [
        ""
      ],
      "metadata": {
        "id": "bDnxHnXb7e8x"
      },
      "execution_count": null,
      "outputs": []
    },
    {
      "cell_type": "code",
      "source": [
        ""
      ],
      "metadata": {
        "id": "oKeq4a1a7nkb"
      },
      "execution_count": null,
      "outputs": []
    },
    {
      "cell_type": "code",
      "source": [
        ""
      ],
      "metadata": {
        "id": "dKlSPymX7nis"
      },
      "execution_count": null,
      "outputs": []
    },
    {
      "cell_type": "code",
      "source": [
        ""
      ],
      "metadata": {
        "id": "ehgKAl4w7ngz"
      },
      "execution_count": null,
      "outputs": []
    },
    {
      "cell_type": "code",
      "source": [
        ""
      ],
      "metadata": {
        "id": "QnSRA2MA7neq"
      },
      "execution_count": null,
      "outputs": []
    },
    {
      "cell_type": "code",
      "source": [
        ""
      ],
      "metadata": {
        "id": "LUdNo1A47ncg"
      },
      "execution_count": null,
      "outputs": []
    },
    {
      "cell_type": "code",
      "source": [
        ""
      ],
      "metadata": {
        "id": "ENTnnNF-7naM"
      },
      "execution_count": null,
      "outputs": []
    },
    {
      "cell_type": "code",
      "source": [
        ""
      ],
      "metadata": {
        "id": "jSkviNtl7nXu"
      },
      "execution_count": null,
      "outputs": []
    },
    {
      "cell_type": "code",
      "source": [
        ""
      ],
      "metadata": {
        "id": "RULpwPU07nTt"
      },
      "execution_count": null,
      "outputs": []
    },
    {
      "cell_type": "markdown",
      "source": [
        "# FINAL OUTPUT"
      ],
      "metadata": {
        "id": "Z0QXFxCj7ogT"
      }
    },
    {
      "cell_type": "code",
      "source": [
        "# FOR OMITTED DATA\n",
        "print(f\"Metrics for models built from data where missing values were omitted\")\n",
        "print(f\"Base RMSE value = {base_root_mean_square_error_1}\")\n",
        "print(f\"RMSE value for linear Regression model = {lin_rmse1}\")\n",
        "print(f\"RMSE value for Random Forest model = {rf_rmse1}\")\n",
        "print(f\"Accuracy Score for training set from linear regression = {r2_lin_train1}\")\n",
        "print(f\"Accuracy Score for testing set from linear regression = {r2_lin_test1}\")\n",
        "print(f\"Accuracy Score for training set from random forest regressor = {r2_rf_train1}\")\n",
        "print(f\"Accuracy Score for testing set from random forest regressor = {r2_rf_test1}\")"
      ],
      "metadata": {
        "colab": {
          "base_uri": "https://localhost:8080/"
        },
        "id": "S-Nqy1Ac7nMr",
        "outputId": "4735a700-0794-4ba3-93ef-dccd3fbbf90e"
      },
      "execution_count": 47,
      "outputs": [
        {
          "output_type": "stream",
          "name": "stdout",
          "text": [
            "Metrics for models built from data where missing values were omitted\n",
            "Base RMSE value = 1.1462960922879677\n",
            "RMSE value for linear Regression model = 0.542140401608484\n",
            "RMSE value for Random Forest model = 0.422725225954634\n",
            "Accuracy Score for training set from linear regression = 0.7765127399891663\n",
            "Accuracy Score for testing set from linear regression = 0.7763185741323453\n",
            "Accuracy Score for training set from random forest regressor = 0.919533427107709\n",
            "Accuracy Score for testing set from random forest regressor = 0.8640050736764158\n"
          ]
        }
      ]
    },
    {
      "cell_type": "code",
      "source": [
        ""
      ],
      "metadata": {
        "id": "-zKj7_qI7rpG"
      },
      "execution_count": null,
      "outputs": []
    }
  ]
}