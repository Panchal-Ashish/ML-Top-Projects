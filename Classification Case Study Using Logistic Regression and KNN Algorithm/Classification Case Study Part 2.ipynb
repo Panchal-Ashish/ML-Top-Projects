{
 "cells": [
  {
   "cell_type": "code",
   "execution_count": 1,
   "metadata": {},
   "outputs": [],
   "source": [
    "import pandas as pd\n",
    "import numpy as np\n",
    "import seaborn as sns\n",
    "\n",
    "# To partition the data\n",
    "from sklearn.model_selection import train_test_split\n",
    "\n",
    "# Importing library for Logistic Regression\n",
    "from sklearn.linear_model import LogisticRegression\n",
    "\n",
    "# Importing performance metrics: accuracy score and confusion matrix\n",
    "from sklearn.metrics import accuracy_score, confusion_matrix"
   ]
  },
  {
   "cell_type": "code",
   "execution_count": 2,
   "metadata": {},
   "outputs": [],
   "source": [
    "data_income = pd.read_csv(\"income.csv\", na_values = [' ?'])\n",
    "data = data_income.copy()\n",
    "data2 = data.dropna(axis = 0)"
   ]
  },
  {
   "cell_type": "code",
   "execution_count": 3,
   "metadata": {},
   "outputs": [
    {
     "name": "stdout",
     "output_type": "stream",
     "text": [
      "Index(['age', 'JobType', 'EdType', 'maritalstatus', 'occupation',\n",
      "       'relationship', 'race', 'gender', 'capitalgain', 'capitalloss',\n",
      "       'hoursperweek', 'nativecountry', 'SalStat'],\n",
      "      dtype='object')\n"
     ]
    }
   ],
   "source": [
    "print(data2.columns)"
   ]
  },
  {
   "cell_type": "code",
   "execution_count": 4,
   "metadata": {},
   "outputs": [
    {
     "name": "stdout",
     "output_type": "stream",
     "text": [
      "0         less than or equal to 50,000\n",
      "1         less than or equal to 50,000\n",
      "2                  greater than 50,000\n",
      "3         less than or equal to 50,000\n",
      "4         less than or equal to 50,000\n",
      "                     ...              \n",
      "31973     less than or equal to 50,000\n",
      "31974     less than or equal to 50,000\n",
      "31975     less than or equal to 50,000\n",
      "31976     less than or equal to 50,000\n",
      "31977     less than or equal to 50,000\n",
      "Name: SalStat, Length: 30162, dtype: object\n"
     ]
    }
   ],
   "source": [
    "print(data2['SalStat'])"
   ]
  },
  {
   "cell_type": "markdown",
   "metadata": {},
   "source": [
    "# Logistic Regression"
   ]
  },
  {
   "cell_type": "code",
   "execution_count": null,
   "metadata": {},
   "outputs": [],
   "source": []
  },
  {
   "cell_type": "markdown",
   "metadata": {},
   "source": [
    "### Reindexing the salary status to 0 and 1\n",
    "Since M.L. algorithms cannot work with categorical data... they need to be converted to numbers\n",
    "\n",
    "0 = less than 0r equal to 50000\n",
    "\n",
    "1 = greater than 50000\n"
   ]
  },
  {
   "cell_type": "markdown",
   "metadata": {},
   "source": [
    "#### Dataseries = Dataseries.map({1st value to be replaced: corres. replaced value ,  2nd value to be replaced: corres. replaced value})"
   ]
  },
  {
   "cell_type": "code",
   "execution_count": 5,
   "metadata": {},
   "outputs": [
    {
     "name": "stdout",
     "output_type": "stream",
     "text": [
      "0        0\n",
      "1        0\n",
      "2        1\n",
      "3        0\n",
      "4        0\n",
      "        ..\n",
      "31973    0\n",
      "31974    0\n",
      "31975    0\n",
      "31976    0\n",
      "31977    0\n",
      "Name: SalStat, Length: 30162, dtype: int64\n"
     ]
    },
    {
     "name": "stderr",
     "output_type": "stream",
     "text": [
      "<ipython-input-5-6416aa872287>:1: SettingWithCopyWarning: \n",
      "A value is trying to be set on a copy of a slice from a DataFrame.\n",
      "Try using .loc[row_indexer,col_indexer] = value instead\n",
      "\n",
      "See the caveats in the documentation: https://pandas.pydata.org/pandas-docs/stable/user_guide/indexing.html#returning-a-view-versus-a-copy\n",
      "  data2['SalStat'] = data2['SalStat'].map({\" less than or equal to 50,000\":0,\" greater than 50,000\":1})\n"
     ]
    }
   ],
   "source": [
    "data2['SalStat'] = data2['SalStat'].map({\" less than or equal to 50,000\":0,\" greater than 50,000\":1})\n",
    "print(data2['SalStat'])"
   ]
  },
  {
   "cell_type": "markdown",
   "metadata": {},
   "source": [
    "#### pd.get_dummies(dataframe, columns = [])\n",
    "To convert categorical data into dummy variables (0= False, 1= True)\n",
    "\n",
    "converts the categorical data into number of columns (depending on number of categories present in the column)... each category is split into a separate column\n",
    "\n",
    "columns: list of columns to be encoded... if nothing is specified all columns are encoded"
   ]
  },
  {
   "cell_type": "code",
   "execution_count": 6,
   "metadata": {
    "scrolled": true
   },
   "outputs": [
    {
     "name": "stdout",
     "output_type": "stream",
     "text": [
      "       age  capitalgain  capitalloss  hoursperweek  SalStat  \\\n",
      "0       45            0            0            28        0   \n",
      "1       24            0            0            40        0   \n",
      "2       44            0            0            40        1   \n",
      "3       27            0            0            40        0   \n",
      "4       20            0            0            35        0   \n",
      "...    ...          ...          ...           ...      ...   \n",
      "31973   34          594            0            60        0   \n",
      "31974   34            0            0            40        0   \n",
      "31975   23            0            0            40        0   \n",
      "31976   42            0            0            40        0   \n",
      "31977   29            0            0            40        0   \n",
      "\n",
      "       JobType_ Local-gov  JobType_ Private  JobType_ Self-emp-inc  \\\n",
      "0                       0                 1                      0   \n",
      "1                       0                 0                      0   \n",
      "2                       0                 1                      0   \n",
      "3                       0                 1                      0   \n",
      "4                       0                 1                      0   \n",
      "...                   ...               ...                    ...   \n",
      "31973                   1                 0                      0   \n",
      "31974                   1                 0                      0   \n",
      "31975                   0                 1                      0   \n",
      "31976                   1                 0                      0   \n",
      "31977                   0                 1                      0   \n",
      "\n",
      "       JobType_ Self-emp-not-inc  JobType_ State-gov  ...  \\\n",
      "0                              0                   0  ...   \n",
      "1                              0                   0  ...   \n",
      "2                              0                   0  ...   \n",
      "3                              0                   0  ...   \n",
      "4                              0                   0  ...   \n",
      "...                          ...                 ...  ...   \n",
      "31973                          0                   0  ...   \n",
      "31974                          0                   0  ...   \n",
      "31975                          0                   0  ...   \n",
      "31976                          0                   0  ...   \n",
      "31977                          0                   0  ...   \n",
      "\n",
      "       nativecountry_ Portugal  nativecountry_ Puerto-Rico  \\\n",
      "0                            0                           0   \n",
      "1                            0                           0   \n",
      "2                            0                           0   \n",
      "3                            0                           0   \n",
      "4                            0                           0   \n",
      "...                        ...                         ...   \n",
      "31973                        0                           0   \n",
      "31974                        0                           0   \n",
      "31975                        0                           0   \n",
      "31976                        0                           0   \n",
      "31977                        0                           0   \n",
      "\n",
      "       nativecountry_ Scotland  nativecountry_ South  nativecountry_ Taiwan  \\\n",
      "0                            0                     0                      0   \n",
      "1                            0                     0                      0   \n",
      "2                            0                     0                      0   \n",
      "3                            0                     0                      0   \n",
      "4                            0                     0                      0   \n",
      "...                        ...                   ...                    ...   \n",
      "31973                        0                     0                      0   \n",
      "31974                        0                     0                      0   \n",
      "31975                        0                     0                      0   \n",
      "31976                        0                     0                      0   \n",
      "31977                        0                     0                      0   \n",
      "\n",
      "       nativecountry_ Thailand  nativecountry_ Trinadad&Tobago  \\\n",
      "0                            0                               0   \n",
      "1                            0                               0   \n",
      "2                            0                               0   \n",
      "3                            0                               0   \n",
      "4                            0                               0   \n",
      "...                        ...                             ...   \n",
      "31973                        0                               0   \n",
      "31974                        0                               0   \n",
      "31975                        0                               0   \n",
      "31976                        0                               0   \n",
      "31977                        0                               0   \n",
      "\n",
      "       nativecountry_ United-States  nativecountry_ Vietnam  \\\n",
      "0                                 1                       0   \n",
      "1                                 1                       0   \n",
      "2                                 1                       0   \n",
      "3                                 0                       0   \n",
      "4                                 1                       0   \n",
      "...                             ...                     ...   \n",
      "31973                             1                       0   \n",
      "31974                             1                       0   \n",
      "31975                             1                       0   \n",
      "31976                             1                       0   \n",
      "31977                             1                       0   \n",
      "\n",
      "       nativecountry_ Yugoslavia  \n",
      "0                              0  \n",
      "1                              0  \n",
      "2                              0  \n",
      "3                              0  \n",
      "4                              0  \n",
      "...                          ...  \n",
      "31973                          0  \n",
      "31974                          0  \n",
      "31975                          0  \n",
      "31976                          0  \n",
      "31977                          0  \n",
      "\n",
      "[30162 rows x 95 columns]\n"
     ]
    }
   ],
   "source": [
    "new_data = pd.get_dummies(data = data2, drop_first = True)\n",
    "print(new_data)"
   ]
  },
  {
   "cell_type": "code",
   "execution_count": null,
   "metadata": {},
   "outputs": [],
   "source": []
  },
  {
   "cell_type": "markdown",
   "metadata": {},
   "source": [
    "### spliting the columns into independent (x) and dependent (y) variables"
   ]
  },
  {
   "cell_type": "markdown",
   "metadata": {},
   "source": [
    "##### storing column names in a list"
   ]
  },
  {
   "cell_type": "code",
   "execution_count": 8,
   "metadata": {},
   "outputs": [
    {
     "name": "stdout",
     "output_type": "stream",
     "text": [
      "95\n"
     ]
    }
   ],
   "source": [
    "columns_list = list(new_data.columns)\n",
    "print(len(columns_list))"
   ]
  },
  {
   "cell_type": "markdown",
   "metadata": {},
   "source": [
    "##### separating input variables (i.e. excluding salary status which is a dependent variable)"
   ]
  },
  {
   "cell_type": "code",
   "execution_count": 9,
   "metadata": {},
   "outputs": [
    {
     "name": "stdout",
     "output_type": "stream",
     "text": [
      "['EdType_ Assoc-voc', 'race_ Other', 'race_ Asian-Pac-Islander', 'nativecountry_ Yugoslavia', 'occupation_ Handlers-cleaners', 'EdType_ 5th-6th', 'EdType_ Some-college', 'JobType_ Self-emp-not-inc', 'nativecountry_ Japan', 'nativecountry_ El-Salvador', 'nativecountry_ Holand-Netherlands', 'race_ White', 'relationship_ Not-in-family', 'EdType_ Bachelors', 'occupation_ Transport-moving', 'relationship_ Own-child', 'relationship_ Unmarried', 'EdType_ Doctorate', 'nativecountry_ Vietnam', 'nativecountry_ Taiwan', 'maritalstatus_ Never-married', 'occupation_ Other-service', 'nativecountry_ South', 'nativecountry_ China', 'nativecountry_ Trinadad&Tobago', 'maritalstatus_ Married-civ-spouse', 'EdType_ 1st-4th', 'gender_ Male', 'nativecountry_ Ecuador', 'EdType_ 12th', 'nativecountry_ Canada', 'nativecountry_ Puerto-Rico', 'occupation_ Craft-repair', 'nativecountry_ Columbia', 'occupation_ Protective-serv', 'nativecountry_ Iran', 'nativecountry_ Dominican-Republic', 'nativecountry_ Outlying-US(Guam-USVI-etc)', 'occupation_ Farming-fishing', 'nativecountry_ Peru', 'capitalgain', 'hoursperweek', 'nativecountry_ Ireland', 'occupation_ Prof-specialty', 'nativecountry_ India', 'nativecountry_ Hungary', 'occupation_ Priv-house-serv', 'nativecountry_ Scotland', 'JobType_ Without-pay', 'relationship_ Other-relative', 'relationship_ Wife', 'maritalstatus_ Married-spouse-absent', 'occupation_ Machine-op-inspct', 'occupation_ Sales', 'nativecountry_ Germany', 'nativecountry_ Jamaica', 'nativecountry_ England', 'nativecountry_ Nicaragua', 'nativecountry_ Poland', 'nativecountry_ Honduras', 'occupation_ Armed-Forces', 'EdType_ 7th-8th', 'EdType_ 11th', 'nativecountry_ Guatemala', 'maritalstatus_ Married-AF-spouse', 'nativecountry_ Portugal', 'nativecountry_ Thailand', 'nativecountry_ Mexico', 'nativecountry_ Cuba', 'JobType_ State-gov', 'age', 'EdType_ Preschool', 'nativecountry_ Hong', 'JobType_ Private', 'race_ Black', 'JobType_ Self-emp-inc', 'nativecountry_ Greece', 'occupation_ Tech-support', 'nativecountry_ Philippines', 'EdType_ HS-grad', 'EdType_ Masters', 'nativecountry_ Italy', 'nativecountry_ United-States', 'maritalstatus_ Widowed', 'nativecountry_ France', 'maritalstatus_ Separated', 'nativecountry_ Laos', 'EdType_ Prof-school', 'EdType_ Assoc-acdm', 'occupation_ Exec-managerial', 'capitalloss', 'EdType_ 9th', 'JobType_ Local-gov', 'nativecountry_ Haiti']\n",
      "94\n"
     ]
    }
   ],
   "source": [
    "features = list(set(columns_list) - set(['SalStat']))\n",
    "print(features)\n",
    "print(len(features))"
   ]
  },
  {
   "cell_type": "markdown",
   "metadata": {},
   "source": [
    "##### Storing output values (values of salary status) in y"
   ]
  },
  {
   "cell_type": "code",
   "execution_count": 10,
   "metadata": {},
   "outputs": [
    {
     "name": "stdout",
     "output_type": "stream",
     "text": [
      "[0 0 1 ... 0 0 0]\n"
     ]
    }
   ],
   "source": [
    "y = new_data['SalStat'].values\n",
    "print(y)"
   ]
  },
  {
   "cell_type": "markdown",
   "metadata": {},
   "source": [
    "##### Storing input values (from input parameters i.e. variables) in x"
   ]
  },
  {
   "cell_type": "code",
   "execution_count": 11,
   "metadata": {},
   "outputs": [
    {
     "name": "stdout",
     "output_type": "stream",
     "text": [
      "[[0 0 0 ... 0 0 0]\n",
      " [0 0 0 ... 0 0 0]\n",
      " [0 0 0 ... 0 0 0]\n",
      " ...\n",
      " [0 0 0 ... 0 0 0]\n",
      " [0 0 0 ... 0 1 0]\n",
      " [0 0 0 ... 0 0 0]]\n"
     ]
    }
   ],
   "source": [
    "x = new_data[features].values\n",
    "print(x)"
   ]
  },
  {
   "cell_type": "code",
   "execution_count": null,
   "metadata": {},
   "outputs": [],
   "source": []
  },
  {
   "cell_type": "markdown",
   "metadata": {},
   "source": [
    "### Splitting the data into train data and test data"
   ]
  },
  {
   "cell_type": "markdown",
   "metadata": {},
   "source": [
    "###### train_x, test_x, train_y, test_y = train_test_split(input values, output values, test_size = ratio of the test size, random_state = 0 or 1)\n",
    "random_state = 0 ... randomizer off, same set of data will be selected everytime the code is run\n",
    "\n",
    "random_state = 1 ... randomizer on, different set of data will be selected everytime yje code is run "
   ]
  },
  {
   "cell_type": "code",
   "execution_count": 12,
   "metadata": {},
   "outputs": [],
   "source": [
    "train_x, test_x, train_y, test_y = train_test_split(x,y, test_size = 0.3, random_state = 0)"
   ]
  },
  {
   "cell_type": "markdown",
   "metadata": {},
   "source": [
    "#### Making an instance of the model"
   ]
  },
  {
   "cell_type": "code",
   "execution_count": 13,
   "metadata": {},
   "outputs": [],
   "source": [
    "logistic = LogisticRegression()"
   ]
  },
  {
   "cell_type": "code",
   "execution_count": null,
   "metadata": {},
   "outputs": [],
   "source": []
  },
  {
   "cell_type": "markdown",
   "metadata": {},
   "source": [
    "## Logistic regression\n",
    "### METHODS:\n",
    "\n",
    "##### .fit(training vector (X), target vector relative to X)\n",
    "to train the model\n",
    "\n",
    "##### .decision_function(X)\n",
    "predict confidence scores for samples\n",
    "\n",
    "##### .get_params ([T / F])\n",
    "gets the parameters for this estimator\n",
    "\n",
    "##### .set_params({dictionary of parameters})\n",
    "to set the parameters\n",
    "\n",
    "##### .predict(test_data)\n",
    "to predict the outcome of test data from the trained model\n",
    "\n",
    "### ATTRIBUTES:\n",
    "\n",
    "##### .classes_\n",
    "gives a list of class labels\n",
    "##### .coef_\n",
    "coefficient of features in decision function\n",
    "##### .intercept_\n",
    "intercept (bias or constant) added to the decision function"
   ]
  },
  {
   "cell_type": "code",
   "execution_count": null,
   "metadata": {},
   "outputs": [],
   "source": []
  },
  {
   "cell_type": "markdown",
   "metadata": {},
   "source": [
    "#### fitting the values for x and y (training the model)"
   ]
  },
  {
   "cell_type": "code",
   "execution_count": 14,
   "metadata": {},
   "outputs": [
    {
     "name": "stderr",
     "output_type": "stream",
     "text": [
      "C:\\Users\\Manoj\\anaconda3\\lib\\site-packages\\sklearn\\linear_model\\_logistic.py:762: ConvergenceWarning: lbfgs failed to converge (status=1):\n",
      "STOP: TOTAL NO. of ITERATIONS REACHED LIMIT.\n",
      "\n",
      "Increase the number of iterations (max_iter) or scale the data as shown in:\n",
      "    https://scikit-learn.org/stable/modules/preprocessing.html\n",
      "Please also refer to the documentation for alternative solver options:\n",
      "    https://scikit-learn.org/stable/modules/linear_model.html#logistic-regression\n",
      "  n_iter_i = _check_optimize_result(\n"
     ]
    },
    {
     "data": {
      "text/plain": [
       "LogisticRegression()"
      ]
     },
     "execution_count": 14,
     "metadata": {},
     "output_type": "execute_result"
    }
   ],
   "source": [
    "logistic.fit(train_x, train_y)"
   ]
  },
  {
   "cell_type": "markdown",
   "metadata": {},
   "source": [
    "#### to get the coefficients of the logistic regression model"
   ]
  },
  {
   "cell_type": "code",
   "execution_count": 15,
   "metadata": {
    "collapsed": true
   },
   "outputs": [
    {
     "data": {
      "text/plain": [
       "array([[-3.85831278e-02, -8.40304337e-02, -1.18074801e-01,\n",
       "        -5.24380980e-04, -3.39215406e-01, -1.40397600e-01,\n",
       "        -3.95405787e-01, -5.83640449e-01, -4.81322328e-04,\n",
       "        -3.96858551e-02, -8.91765543e-04, -3.25199236e-01,\n",
       "        -4.98501276e-01,  7.22087431e-01, -1.95435632e-01,\n",
       "        -9.40900020e-01, -5.75498692e-01,  2.48523487e-01,\n",
       "        -3.37144069e-02,  1.94604386e-03, -1.34633441e+00,\n",
       "        -7.40559284e-01, -2.65746119e-02, -2.24666699e-02,\n",
       "        -4.49147804e-03,  1.13173089e+00, -7.17085491e-02,\n",
       "         1.64048270e-01, -7.24589727e-03, -9.58289553e-02,\n",
       "         3.59284054e-03, -4.13963548e-02, -3.21882539e-01,\n",
       "        -2.02082302e-02, -1.42454586e-02, -2.71203971e-03,\n",
       "        -2.57188921e-02, -7.41996225e-03, -3.90458009e-01,\n",
       "        -1.20861477e-02,  3.16323050e-04,  9.06103599e-03,\n",
       "        -3.88280066e-03,  6.83525647e-01, -2.03234141e-02,\n",
       "        -3.27458558e-03, -4.06336296e-02, -3.29849156e-03,\n",
       "        -8.13386519e-03, -2.44535773e-01,  2.46340208e-01,\n",
       "        -5.83703834e-02, -3.50682521e-01,  9.83157818e-02,\n",
       "         1.45464544e-02, -1.19782968e-02,  1.26980404e-02,\n",
       "        -1.28920939e-02, -9.35613503e-03, -2.24626417e-03,\n",
       "        -1.94114330e-03, -2.50253035e-01, -3.04517675e-01,\n",
       "        -2.17640209e-02,  1.65170660e-02, -1.37443023e-02,\n",
       "        -3.34212692e-03, -2.57668835e-01, -8.20285949e-03,\n",
       "        -1.26935093e-01,  4.13713419e-04, -2.63775341e-02,\n",
       "        -1.26719567e-03, -3.24512366e-01, -4.33823068e-01,\n",
       "         1.61457668e-01, -8.34118143e-03,  1.17169412e-01,\n",
       "        -8.22476607e-03, -9.34992670e-01,  5.26698749e-01,\n",
       "        -1.87314707e-03, -4.24560049e-01, -9.74064828e-02,\n",
       "         5.71307088e-03, -1.79354443e-01, -6.15480329e-03,\n",
       "         2.33990422e-01, -5.96834926e-02,  8.97506561e-01,\n",
       "         6.72333164e-04, -1.72479415e-01, -2.48356395e-01,\n",
       "        -1.18349920e-02]])"
      ]
     },
     "execution_count": 15,
     "metadata": {},
     "output_type": "execute_result"
    }
   ],
   "source": [
    "logistic.coef_"
   ]
  },
  {
   "cell_type": "markdown",
   "metadata": {},
   "source": [
    "#### to get intercept value"
   ]
  },
  {
   "cell_type": "code",
   "execution_count": 16,
   "metadata": {},
   "outputs": [
    {
     "data": {
      "text/plain": [
       "array([-1.04072231])"
      ]
     },
     "execution_count": 16,
     "metadata": {},
     "output_type": "execute_result"
    }
   ],
   "source": [
    "logistic.intercept_"
   ]
  },
  {
   "cell_type": "code",
   "execution_count": null,
   "metadata": {},
   "outputs": [],
   "source": []
  },
  {
   "cell_type": "code",
   "execution_count": null,
   "metadata": {},
   "outputs": [],
   "source": []
  },
  {
   "cell_type": "markdown",
   "metadata": {},
   "source": [
    "#### Prediction from test data"
   ]
  },
  {
   "cell_type": "code",
   "execution_count": 17,
   "metadata": {},
   "outputs": [
    {
     "name": "stdout",
     "output_type": "stream",
     "text": [
      "[0 0 0 ... 0 0 0]\n"
     ]
    }
   ],
   "source": [
    "prediction = logistic.predict(test_x)\n",
    "print(prediction)"
   ]
  },
  {
   "cell_type": "markdown",
   "metadata": {},
   "source": [
    "### Confusion matrix\n",
    "1. it is a table used to evaluate the performance of the classification model\n",
    "2. confusion matrix output gives the number of correct and incorrect predictions and sums up all the values classwise"
   ]
  },
  {
   "cell_type": "markdown",
   "metadata": {},
   "source": [
    "#### confusion_matrix(actual data, predicted data)\n",
    "1. diagonal values gives the total number of correctly predicted (classified) samples\n",
    "2. off diagonal values gives the total number of incorrectly predicted (classified) samples"
   ]
  },
  {
   "cell_type": "code",
   "execution_count": 18,
   "metadata": {},
   "outputs": [
    {
     "name": "stdout",
     "output_type": "stream",
     "text": [
      "[[6292  531]\n",
      " [ 947 1279]]\n"
     ]
    }
   ],
   "source": [
    "confusion_matrix = confusion_matrix(test_y, prediction)\n",
    "print(confusion_matrix)"
   ]
  },
  {
   "cell_type": "markdown",
   "metadata": {},
   "source": [
    "1. 6291 (correct)... actually <= 50k and classified as <= 50k\n",
    "2. 532 (incorrect)... actually <= 50k but classified as >50k\n",
    "3. 947 (incorrect)... actually > 50k but classified as <= 50k\n",
    "4. 1279 (correct)... actually > 50k and classified as >50k"
   ]
  },
  {
   "cell_type": "code",
   "execution_count": null,
   "metadata": {},
   "outputs": [],
   "source": []
  },
  {
   "cell_type": "markdown",
   "metadata": {},
   "source": [
    "### calculating the accuracy score\n",
    "#### accuracy_score(actual, predicted)"
   ]
  },
  {
   "cell_type": "code",
   "execution_count": 19,
   "metadata": {},
   "outputs": [
    {
     "name": "stdout",
     "output_type": "stream",
     "text": [
      "0.8366670350314952\n"
     ]
    }
   ],
   "source": [
    "accuracy_score = accuracy_score(test_y, prediction)\n",
    "print(accuracy_score)"
   ]
  },
  {
   "cell_type": "code",
   "execution_count": null,
   "metadata": {},
   "outputs": [],
   "source": []
  },
  {
   "cell_type": "markdown",
   "metadata": {},
   "source": [
    "#### getting the total no. of misclassified values"
   ]
  },
  {
   "cell_type": "code",
   "execution_count": 20,
   "metadata": {},
   "outputs": [
    {
     "name": "stdout",
     "output_type": "stream",
     "text": [
      "Misclassified Values: 1478\n"
     ]
    }
   ],
   "source": [
    "print(f\"Misclassified Values: {(test_y != prediction).sum()}\")"
   ]
  },
  {
   "cell_type": "code",
   "execution_count": null,
   "metadata": {},
   "outputs": [],
   "source": []
  },
  {
   "cell_type": "code",
   "execution_count": null,
   "metadata": {},
   "outputs": [],
   "source": []
  },
  {
   "cell_type": "code",
   "execution_count": null,
   "metadata": {},
   "outputs": [],
   "source": []
  },
  {
   "cell_type": "code",
   "execution_count": null,
   "metadata": {},
   "outputs": [],
   "source": []
  },
  {
   "cell_type": "code",
   "execution_count": null,
   "metadata": {},
   "outputs": [],
   "source": []
  },
  {
   "cell_type": "code",
   "execution_count": null,
   "metadata": {},
   "outputs": [],
   "source": []
  },
  {
   "cell_type": "markdown",
   "metadata": {},
   "source": [
    "# Logistic Regression By removing Insignificant Variables"
   ]
  },
  {
   "cell_type": "markdown",
   "metadata": {},
   "source": [
    "#### Reindexing the salary status to 0 and 1"
   ]
  },
  {
   "cell_type": "code",
   "execution_count": 21,
   "metadata": {},
   "outputs": [],
   "source": [
    "import pandas as pd\n",
    "import numpy as np\n",
    "import seaborn as sns\n",
    "\n",
    "# To partition the data\n",
    "from sklearn.model_selection import train_test_split\n",
    "\n",
    "# Importing library for Logistic Regression\n",
    "from sklearn.linear_model import LogisticRegression\n",
    "\n",
    "# Importing performance metrics: accuracy score and confusion matrix\n",
    "from sklearn.metrics import accuracy_score, confusion_matrix"
   ]
  },
  {
   "cell_type": "code",
   "execution_count": 137,
   "metadata": {},
   "outputs": [],
   "source": [
    "#data2['SalStat'] = data2['SalStat'].map({\" less than or equal to 50,000\":0,\" greater than 50,000\":1})\n",
    "#print(data2['SalStat'])"
   ]
  },
  {
   "cell_type": "code",
   "execution_count": 22,
   "metadata": {},
   "outputs": [],
   "source": [
    "data_income = pd.read_csv(\"income.csv\", na_values = [' ?'])\n",
    "data = data_income.copy()\n",
    "data3 = data.dropna(axis = 0)"
   ]
  },
  {
   "cell_type": "code",
   "execution_count": 23,
   "metadata": {
    "collapsed": true
   },
   "outputs": [
    {
     "name": "stdout",
     "output_type": "stream",
     "text": [
      "0        0\n",
      "1        0\n",
      "2        1\n",
      "3        0\n",
      "4        0\n",
      "        ..\n",
      "31973    0\n",
      "31974    0\n",
      "31975    0\n",
      "31976    0\n",
      "31977    0\n",
      "Name: SalStat, Length: 30162, dtype: int64\n"
     ]
    },
    {
     "name": "stderr",
     "output_type": "stream",
     "text": [
      "<ipython-input-23-6eaa54a1f03e>:1: SettingWithCopyWarning: \n",
      "A value is trying to be set on a copy of a slice from a DataFrame.\n",
      "Try using .loc[row_indexer,col_indexer] = value instead\n",
      "\n",
      "See the caveats in the documentation: https://pandas.pydata.org/pandas-docs/stable/user_guide/indexing.html#returning-a-view-versus-a-copy\n",
      "  data3['SalStat'] = data3['SalStat'].map({\" less than or equal to 50,000\":0,\" greater than 50,000\":1})\n"
     ]
    }
   ],
   "source": [
    "data3['SalStat'] = data3['SalStat'].map({\" less than or equal to 50,000\":0,\" greater than 50,000\":1})\n",
    "print(data3['SalStat'])"
   ]
  },
  {
   "cell_type": "markdown",
   "metadata": {},
   "source": [
    "##### removing insignificant columns:"
   ]
  },
  {
   "cell_type": "code",
   "execution_count": 24,
   "metadata": {},
   "outputs": [],
   "source": [
    "cols = ['gender','nativecountry', 'race', 'JobType']"
   ]
  },
  {
   "cell_type": "code",
   "execution_count": 25,
   "metadata": {
    "collapsed": true
   },
   "outputs": [
    {
     "name": "stdout",
     "output_type": "stream",
     "text": [
      "       age  capitalgain  capitalloss  hoursperweek  SalStat  EdType_ 11th  \\\n",
      "0       45            0            0            28        0             0   \n",
      "1       24            0            0            40        0             0   \n",
      "2       44            0            0            40        1             0   \n",
      "3       27            0            0            40        0             0   \n",
      "4       20            0            0            35        0             0   \n",
      "...    ...          ...          ...           ...      ...           ...   \n",
      "31973   34          594            0            60        0             0   \n",
      "31974   34            0            0            40        0             0   \n",
      "31975   23            0            0            40        0             0   \n",
      "31976   42            0            0            40        0             0   \n",
      "31977   29            0            0            40        0             0   \n",
      "\n",
      "       EdType_ 12th  EdType_ 1st-4th  EdType_ 5th-6th  EdType_ 7th-8th  ...  \\\n",
      "0                 0                0                0                0  ...   \n",
      "1                 0                0                0                0  ...   \n",
      "2                 0                0                0                0  ...   \n",
      "3                 0                0                0                0  ...   \n",
      "4                 0                0                0                0  ...   \n",
      "...             ...              ...              ...              ...  ...   \n",
      "31973             0                0                0                0  ...   \n",
      "31974             0                0                0                0  ...   \n",
      "31975             0                0                0                0  ...   \n",
      "31976             0                0                0                0  ...   \n",
      "31977             0                0                0                0  ...   \n",
      "\n",
      "       occupation_ Prof-specialty  occupation_ Protective-serv  \\\n",
      "0                               0                            0   \n",
      "1                               0                            0   \n",
      "2                               1                            0   \n",
      "3                               0                            0   \n",
      "4                               0                            0   \n",
      "...                           ...                          ...   \n",
      "31973                           0                            0   \n",
      "31974                           0                            1   \n",
      "31975                           0                            0   \n",
      "31976                           0                            0   \n",
      "31977                           1                            0   \n",
      "\n",
      "       occupation_ Sales  occupation_ Tech-support  \\\n",
      "0                      0                         0   \n",
      "1                      0                         0   \n",
      "2                      0                         0   \n",
      "3                      0                         0   \n",
      "4                      1                         0   \n",
      "...                  ...                       ...   \n",
      "31973                  0                         0   \n",
      "31974                  0                         0   \n",
      "31975                  0                         0   \n",
      "31976                  0                         0   \n",
      "31977                  0                         0   \n",
      "\n",
      "       occupation_ Transport-moving  relationship_ Not-in-family  \\\n",
      "0                                 0                            1   \n",
      "1                                 0                            0   \n",
      "2                                 0                            0   \n",
      "3                                 0                            0   \n",
      "4                                 0                            1   \n",
      "...                             ...                          ...   \n",
      "31973                             0                            1   \n",
      "31974                             0                            1   \n",
      "31975                             0                            0   \n",
      "31976                             0                            0   \n",
      "31977                             0                            1   \n",
      "\n",
      "       relationship_ Other-relative  relationship_ Own-child  \\\n",
      "0                                 0                        0   \n",
      "1                                 0                        1   \n",
      "2                                 0                        0   \n",
      "3                                 1                        0   \n",
      "4                                 0                        0   \n",
      "...                             ...                      ...   \n",
      "31973                             0                        0   \n",
      "31974                             0                        0   \n",
      "31975                             0                        0   \n",
      "31976                             0                        0   \n",
      "31977                             0                        0   \n",
      "\n",
      "       relationship_ Unmarried  relationship_ Wife  \n",
      "0                            0                   0  \n",
      "1                            0                   0  \n",
      "2                            0                   0  \n",
      "3                            0                   0  \n",
      "4                            0                   0  \n",
      "...                        ...                 ...  \n",
      "31973                        0                   0  \n",
      "31974                        0                   0  \n",
      "31975                        0                   0  \n",
      "31976                        0                   1  \n",
      "31977                        0                   0  \n",
      "\n",
      "[30162 rows x 44 columns]\n"
     ]
    }
   ],
   "source": [
    "data3 = data3.drop(cols, axis = 1)\n",
    "new_data = pd.get_dummies(data = data3, drop_first = True)\n",
    "print(new_data)"
   ]
  },
  {
   "cell_type": "markdown",
   "metadata": {},
   "source": [
    "### Following the same steps again"
   ]
  },
  {
   "cell_type": "code",
   "execution_count": 26,
   "metadata": {},
   "outputs": [
    {
     "name": "stdout",
     "output_type": "stream",
     "text": [
      "44\n"
     ]
    }
   ],
   "source": [
    "new_columns_list = list(new_data.columns)\n",
    "print(len(new_columns_list))"
   ]
  },
  {
   "cell_type": "code",
   "execution_count": 28,
   "metadata": {
    "collapsed": true
   },
   "outputs": [
    {
     "name": "stdout",
     "output_type": "stream",
     "text": [
      "['EdType_ Assoc-voc', 'EdType_ 5th-6th', 'occupation_ Handlers-cleaners', 'occupation_ Priv-house-serv', 'EdType_ Some-college', 'relationship_ Other-relative', 'relationship_ Wife', 'maritalstatus_ Married-spouse-absent', 'occupation_ Machine-op-inspct', 'relationship_ Not-in-family', 'EdType_ Bachelors', 'occupation_ Transport-moving', 'occupation_ Sales', 'relationship_ Own-child', 'EdType_ Doctorate', 'relationship_ Unmarried', 'occupation_ Other-service', 'maritalstatus_ Never-married', 'occupation_ Armed-Forces', 'EdType_ 7th-8th', 'maritalstatus_ Married-civ-spouse', 'EdType_ 11th', 'EdType_ 1st-4th', 'EdType_ 12th', 'maritalstatus_ Married-AF-spouse', 'age', 'EdType_ Preschool', 'occupation_ Craft-repair', 'occupation_ Tech-support', 'EdType_ HS-grad', 'EdType_ Masters', 'occupation_ Protective-serv', 'occupation_ Farming-fishing', 'maritalstatus_ Widowed', 'maritalstatus_ Separated', 'EdType_ Prof-school', 'EdType_ Assoc-acdm', 'occupation_ Exec-managerial', 'capitalgain', 'capitalloss', 'hoursperweek', 'occupation_ Prof-specialty', 'EdType_ 9th']\n",
      "43\n"
     ]
    }
   ],
   "source": [
    "new_features = list(set(new_columns_list) - set(['SalStat']))\n",
    "print(new_features)\n",
    "print(len(new_features))"
   ]
  },
  {
   "cell_type": "code",
   "execution_count": 29,
   "metadata": {},
   "outputs": [
    {
     "name": "stdout",
     "output_type": "stream",
     "text": [
      "[0 0 1 ... 0 0 0]\n"
     ]
    }
   ],
   "source": [
    "new_y = new_data['SalStat'].values\n",
    "print(new_y)"
   ]
  },
  {
   "cell_type": "code",
   "execution_count": 30,
   "metadata": {
    "collapsed": true
   },
   "outputs": [
    {
     "name": "stdout",
     "output_type": "stream",
     "text": [
      "[[ 0  0  0 ... 28  0  0]\n",
      " [ 0  0  0 ... 40  0  0]\n",
      " [ 0  0  0 ... 40  1  0]\n",
      " ...\n",
      " [ 0  0  0 ... 40  0  0]\n",
      " [ 0  0  0 ... 40  0  0]\n",
      " [ 0  0  0 ... 40  1  0]]\n"
     ]
    }
   ],
   "source": [
    "new_x = new_data[new_features].values\n",
    "print(new_x)"
   ]
  },
  {
   "cell_type": "code",
   "execution_count": 31,
   "metadata": {},
   "outputs": [],
   "source": [
    "new_train_x, new_test_x, new_train_y, new_test_y = train_test_split(new_x,new_y, test_size = 0.3, random_state = 0)"
   ]
  },
  {
   "cell_type": "code",
   "execution_count": 32,
   "metadata": {},
   "outputs": [],
   "source": [
    "logistic = LogisticRegression()"
   ]
  },
  {
   "cell_type": "code",
   "execution_count": 33,
   "metadata": {},
   "outputs": [
    {
     "name": "stderr",
     "output_type": "stream",
     "text": [
      "C:\\Users\\Manoj\\anaconda3\\lib\\site-packages\\sklearn\\linear_model\\_logistic.py:762: ConvergenceWarning: lbfgs failed to converge (status=1):\n",
      "STOP: TOTAL NO. of ITERATIONS REACHED LIMIT.\n",
      "\n",
      "Increase the number of iterations (max_iter) or scale the data as shown in:\n",
      "    https://scikit-learn.org/stable/modules/preprocessing.html\n",
      "Please also refer to the documentation for alternative solver options:\n",
      "    https://scikit-learn.org/stable/modules/linear_model.html#logistic-regression\n",
      "  n_iter_i = _check_optimize_result(\n"
     ]
    },
    {
     "data": {
      "text/plain": [
       "LogisticRegression()"
      ]
     },
     "execution_count": 33,
     "metadata": {},
     "output_type": "execute_result"
    }
   ],
   "source": [
    "logistic.fit(new_train_x, new_train_y)"
   ]
  },
  {
   "cell_type": "code",
   "execution_count": 34,
   "metadata": {
    "collapsed": true
   },
   "outputs": [
    {
     "data": {
      "text/plain": [
       "array([[-8.68279290e-02, -1.39086302e-01, -4.06342993e-01,\n",
       "        -4.80907010e-02, -5.05365528e-01, -2.66725608e-01,\n",
       "         2.82456334e-02, -5.27891789e-02, -4.57401118e-01,\n",
       "        -5.18520186e-01,  6.49495298e-01, -2.16945225e-01,\n",
       "         4.93135077e-02, -1.08710779e+00,  2.86119637e-01,\n",
       "        -6.45615212e-01, -8.29389553e-01, -1.54563636e+00,\n",
       "        -1.51841179e-03, -2.56772050e-01,  9.96722926e-01,\n",
       "        -3.58670017e-01, -7.03811644e-02, -1.06081705e-01,\n",
       "         1.70775019e-02, -2.56138675e-03, -2.63933083e-02,\n",
       "        -3.87932274e-01,  8.60428910e-02, -1.06844049e+00,\n",
       "         5.87500645e-01,  4.09546756e-02, -3.16295625e-01,\n",
       "        -9.86143883e-02, -1.95738967e-01,  2.76531260e-01,\n",
       "        -8.79748803e-02,  9.14928933e-01,  3.17475958e-04,\n",
       "         6.52633501e-04,  5.50551806e-03,  7.25619845e-01,\n",
       "        -1.90556424e-01]])"
      ]
     },
     "execution_count": 34,
     "metadata": {},
     "output_type": "execute_result"
    }
   ],
   "source": [
    "logistic.coef_"
   ]
  },
  {
   "cell_type": "code",
   "execution_count": 35,
   "metadata": {},
   "outputs": [
    {
     "data": {
      "text/plain": [
       "array([-1.42174435])"
      ]
     },
     "execution_count": 35,
     "metadata": {},
     "output_type": "execute_result"
    }
   ],
   "source": [
    "logistic.intercept_"
   ]
  },
  {
   "cell_type": "code",
   "execution_count": 36,
   "metadata": {},
   "outputs": [
    {
     "name": "stdout",
     "output_type": "stream",
     "text": [
      "[0 0 0 ... 0 0 0]\n"
     ]
    }
   ],
   "source": [
    "new_prediction = logistic.predict(new_test_x)\n",
    "print(prediction)"
   ]
  },
  {
   "cell_type": "code",
   "execution_count": 37,
   "metadata": {},
   "outputs": [
    {
     "name": "stdout",
     "output_type": "stream",
     "text": [
      "[[6305  518]\n",
      " [ 983 1243]]\n"
     ]
    }
   ],
   "source": [
    "new_confusion_matrix = confusion_matrix(new_test_y, new_prediction)\n",
    "print(new_confusion_matrix)"
   ]
  },
  {
   "cell_type": "code",
   "execution_count": 38,
   "metadata": {},
   "outputs": [
    {
     "name": "stdout",
     "output_type": "stream",
     "text": [
      "0.8341253177146646\n"
     ]
    }
   ],
   "source": [
    "new_accuracy_score = accuracy_score(new_test_y, new_prediction)\n",
    "print(new_accuracy_score)"
   ]
  },
  {
   "cell_type": "code",
   "execution_count": 39,
   "metadata": {},
   "outputs": [
    {
     "name": "stdout",
     "output_type": "stream",
     "text": [
      "Misclassified Values: 1501\n"
     ]
    }
   ],
   "source": [
    "print(f\"Misclassified Values: {(new_test_y != new_prediction).sum()}\")"
   ]
  },
  {
   "cell_type": "markdown",
   "metadata": {},
   "source": [
    "1. it is observed that there is a marginal dip in accuracy, this is because we are also dropping some of the data\n",
    "2. since the accuracy is not affected significantly, and the data collection in be reduced significantly...we can keep this as the final model"
   ]
  },
  {
   "cell_type": "code",
   "execution_count": null,
   "metadata": {},
   "outputs": [],
   "source": []
  },
  {
   "cell_type": "code",
   "execution_count": null,
   "metadata": {},
   "outputs": [],
   "source": []
  },
  {
   "cell_type": "code",
   "execution_count": null,
   "metadata": {},
   "outputs": [],
   "source": []
  },
  {
   "cell_type": "markdown",
   "metadata": {},
   "source": [
    "# KNN Classifier Model\n",
    "(To classify the records into any one of the salary status categories)"
   ]
  },
  {
   "cell_type": "code",
   "execution_count": 40,
   "metadata": {},
   "outputs": [],
   "source": [
    "from sklearn.neighbors import KNeighborsClassifier"
   ]
  },
  {
   "cell_type": "code",
   "execution_count": 41,
   "metadata": {},
   "outputs": [],
   "source": [
    "import matplotlib.pyplot as plt"
   ]
  },
  {
   "cell_type": "code",
   "execution_count": null,
   "metadata": {},
   "outputs": [],
   "source": []
  },
  {
   "cell_type": "markdown",
   "metadata": {},
   "source": [
    "#### creating an instance for K nearest neighbors classifier\n",
    "\n",
    "n_neighbors = 5\n",
    "\n",
    "specifying the k value... so that it will take 5 neighbouring records and it will take the majority of 5 neighbors and clasify the new data"
   ]
  },
  {
   "cell_type": "code",
   "execution_count": 42,
   "metadata": {},
   "outputs": [],
   "source": [
    "KNN_classifier = KNeighborsClassifier(n_neighbors = 5)"
   ]
  },
  {
   "cell_type": "markdown",
   "metadata": {},
   "source": [
    "#### fitting the values for X and Y"
   ]
  },
  {
   "cell_type": "code",
   "execution_count": 43,
   "metadata": {},
   "outputs": [
    {
     "data": {
      "text/plain": [
       "KNeighborsClassifier()"
      ]
     },
     "execution_count": 43,
     "metadata": {},
     "output_type": "execute_result"
    }
   ],
   "source": [
    "KNN_classifier.fit(new_train_x, new_train_y)"
   ]
  },
  {
   "cell_type": "markdown",
   "metadata": {},
   "source": [
    "#### Predicting the test values with the model"
   ]
  },
  {
   "cell_type": "code",
   "execution_count": 44,
   "metadata": {},
   "outputs": [],
   "source": [
    "KNN_prediction = KNN_classifier.predict(new_test_x)"
   ]
  },
  {
   "cell_type": "markdown",
   "metadata": {},
   "source": [
    "#### Performance metric check"
   ]
  },
  {
   "cell_type": "code",
   "execution_count": null,
   "metadata": {},
   "outputs": [],
   "source": []
  },
  {
   "cell_type": "code",
   "execution_count": 45,
   "metadata": {},
   "outputs": [
    {
     "name": "stdout",
     "output_type": "stream",
     "text": [
      "[[6183  640]\n",
      " [ 861 1365]]\n"
     ]
    }
   ],
   "source": [
    "KNN_confusion_matrix = confusion_matrix(new_test_y, KNN_prediction)\n",
    "print( KNN_confusion_matrix)"
   ]
  },
  {
   "cell_type": "code",
   "execution_count": 46,
   "metadata": {},
   "outputs": [
    {
     "name": "stdout",
     "output_type": "stream",
     "text": [
      "0.8341253177146646\n"
     ]
    }
   ],
   "source": [
    "KNN_accuracy_score = accuracy_score(new_test_y, KNN_prediction)\n",
    "print(KNN_accuracy_score)"
   ]
  },
  {
   "cell_type": "code",
   "execution_count": 47,
   "metadata": {},
   "outputs": [
    {
     "name": "stdout",
     "output_type": "stream",
     "text": [
      "Misclassified Values: 1501\n"
     ]
    }
   ],
   "source": [
    "print(f\"Misclassified Values: {(new_test_y != KNN_prediction).sum()}\")"
   ]
  },
  {
   "cell_type": "code",
   "execution_count": null,
   "metadata": {},
   "outputs": [],
   "source": []
  },
  {
   "cell_type": "markdown",
   "metadata": {},
   "source": [
    "#### Effect of k value on classifier\n",
    "\n",
    "##### Calculating error for k values between 1 and 20"
   ]
  },
  {
   "cell_type": "code",
   "execution_count": 48,
   "metadata": {},
   "outputs": [
    {
     "name": "stdout",
     "output_type": "stream",
     "text": [
      "for k = 1, accuracy is: 0.8104762957232844\n",
      "for k = 2, accuracy is: 0.8335727704718754\n",
      "for k = 3, accuracy is: 0.8273842413526357\n",
      "for k = 4, accuracy is: 0.8369985633771687\n",
      "for k = 5, accuracy is: 0.8341253177146646\n",
      "for k = 6, accuracy is: 0.8414189413194828\n",
      "for k = 7, accuracy is: 0.8376616200685159\n",
      "for k = 8, accuracy is: 0.8403138468339043\n",
      "for k = 9, accuracy is: 0.8387667145540944\n",
      "for k = 10, accuracy is: 0.8430765830478506\n",
      "for k = 11, accuracy is: 0.8378826389656315\n",
      "for k = 12, accuracy is: 0.8394297712454415\n",
      "for k = 13, accuracy is: 0.8407558846281357\n",
      "for k = 14, accuracy is: 0.84208199801083\n",
      "for k = 15, accuracy is: 0.8394297712454415\n",
      "for k = 16, accuracy is: 0.841308431870925\n",
      "for k = 17, accuracy is: 0.8404243562824621\n",
      "for k = 18, accuracy is: 0.8428555641507349\n",
      "for k = 19, accuracy is: 0.8409769035252515\n",
      "[1715, 1506, 1562, 1475, 1501, 1435, 1469, 1445, 1459, 1420, 1467, 1453, 1441, 1429, 1453, 1436, 1444, 1422, 1439]\n"
     ]
    }
   ],
   "source": [
    "Misclassified_samples = []\n",
    "for i in range(1,20):\n",
    "    knn = KNeighborsClassifier(n_neighbors = i)\n",
    "    knn.fit(new_train_x, new_train_y)\n",
    "    pred_i = knn.predict(new_test_x)\n",
    "    acc_i = accuracy_score(new_test_y, pred_i)\n",
    "    print(f\"for k = {i}, accuracy is: {acc_i}\")\n",
    "    Misclassified_samples.append((new_test_y != pred_i).sum())\n",
    "print(Misclassified_samples)"
   ]
  },
  {
   "cell_type": "markdown",
   "metadata": {},
   "source": [
    "From Trial and error, it is observed that for k = 10,18 , the accuracy is the highest"
   ]
  },
  {
   "cell_type": "code",
   "execution_count": 49,
   "metadata": {},
   "outputs": [
    {
     "name": "stdout",
     "output_type": "stream",
     "text": [
      "[[6414  409]\n",
      " [1013 1213]]\n",
      "0.8428555641507349\n",
      "Misclassified Values: 1422\n"
     ]
    }
   ],
   "source": [
    "KNN_classifier = KNeighborsClassifier(n_neighbors = 18)\n",
    "KNN_classifier.fit(new_train_x, new_train_y)\n",
    "KNN_prediction = KNN_classifier.predict(new_test_x)\n",
    "KNN_confusion_matrix = confusion_matrix(new_test_y, KNN_prediction)\n",
    "print( KNN_confusion_matrix)\n",
    "KNN_accuracy_score = accuracy_score(new_test_y, KNN_prediction)\n",
    "print(KNN_accuracy_score)\n",
    "print(f\"Misclassified Values: {(new_test_y != KNN_prediction).sum()}\")"
   ]
  },
  {
   "cell_type": "code",
   "execution_count": null,
   "metadata": {},
   "outputs": [],
   "source": []
  },
  {
   "cell_type": "code",
   "execution_count": null,
   "metadata": {},
   "outputs": [],
   "source": []
  },
  {
   "cell_type": "code",
   "execution_count": null,
   "metadata": {},
   "outputs": [],
   "source": []
  },
  {
   "cell_type": "code",
   "execution_count": null,
   "metadata": {},
   "outputs": [],
   "source": []
  },
  {
   "cell_type": "code",
   "execution_count": null,
   "metadata": {},
   "outputs": [],
   "source": []
  }
 ],
 "metadata": {
  "kernelspec": {
   "display_name": "Python 3",
   "language": "python",
   "name": "python3"
  },
  "language_info": {
   "codemirror_mode": {
    "name": "ipython",
    "version": 3
   },
   "file_extension": ".py",
   "mimetype": "text/x-python",
   "name": "python",
   "nbconvert_exporter": "python",
   "pygments_lexer": "ipython3",
   "version": "3.8.5"
  }
 },
 "nbformat": 4,
 "nbformat_minor": 4
}
