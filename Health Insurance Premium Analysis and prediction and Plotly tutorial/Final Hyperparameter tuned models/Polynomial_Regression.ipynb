{
  "nbformat": 4,
  "nbformat_minor": 0,
  "metadata": {
    "colab": {
      "name": "Polynomial_Regression.ipynb",
      "provenance": [],
      "collapsed_sections": [],
      "authorship_tag": "ABX9TyMVqWg0BD7G0/l/cmtHDoHl"
    },
    "kernelspec": {
      "name": "python3",
      "display_name": "Python 3"
    },
    "language_info": {
      "name": "python"
    }
  },
  "cells": [
    {
      "cell_type": "code",
      "execution_count": null,
      "metadata": {
        "id": "7FxpzDza65QE"
      },
      "outputs": [],
      "source": [
        "import pandas as pd\n",
        "import numpy as np\n",
        "import matplotlib.pyplot as plt\n",
        "import seaborn as sns\n",
        "from sklearn.model_selection import train_test_split\n",
        "from sklearn.preprocessing import OneHotEncoder\n",
        "from sklearn.preprocessing import LabelEncoder\n",
        "from sklearn.metrics import  mean_squared_error\n",
        "from sklearn.preprocessing import PolynomialFeatures\n",
        "from sklearn.preprocessing import StandardScaler\n",
        "from sklearn.linear_model import LinearRegression"
      ]
    },
    {
      "cell_type": "code",
      "source": [
        "from google.colab import drive\n",
        "drive.mount('/content/drive')"
      ],
      "metadata": {
        "colab": {
          "base_uri": "https://localhost:8080/"
        },
        "id": "8ikGbC-47CI_",
        "outputId": "40f222f1-1f6f-45ad-d0dd-f7b1a32c0cc2"
      },
      "execution_count": null,
      "outputs": [
        {
          "output_type": "stream",
          "name": "stdout",
          "text": [
            "Mounted at /content/drive\n"
          ]
        }
      ]
    },
    {
      "cell_type": "markdown",
      "source": [
        "## PLEASE GO THROUGH THE INITIAL PREPROCESSING FIRST BEFORE CONTINUING"
      ],
      "metadata": {
        "id": "1TdZGIF07XaU"
      }
    },
    {
      "cell_type": "code",
      "source": [
        "df_og= pd.read_csv(\"/content/drive/MyDrive/Health Insurance Analysis and predictions/Health_insurance.csv\")\n",
        "df = df_og.copy()"
      ],
      "metadata": {
        "id": "_wGyVoVB7E-q"
      },
      "execution_count": null,
      "outputs": []
    },
    {
      "cell_type": "code",
      "source": [
        "sns.heatmap(df.corr(), annot = True)"
      ],
      "metadata": {
        "colab": {
          "base_uri": "https://localhost:8080/",
          "height": 287
        },
        "id": "xNUS9oa68bt2",
        "outputId": "32737685-d6c8-4948-d401-f6603456fbf4"
      },
      "execution_count": null,
      "outputs": [
        {
          "output_type": "execute_result",
          "data": {
            "text/plain": [
              "<matplotlib.axes._subplots.AxesSubplot at 0x7fe15fa19390>"
            ]
          },
          "metadata": {},
          "execution_count": 4
        },
        {
          "output_type": "display_data",
          "data": {
            "text/plain": [
              "<Figure size 432x288 with 2 Axes>"
            ],
            "image/png": "[encoded data removed]"
          },
          "metadata": {
            "needs_background": "light"
          }
        }
      ]
    },
    {
      "cell_type": "code",
      "source": [
        "df[\"children\"] = df[\"children\"].astype(object)"
      ],
      "metadata": {
        "id": "0YOoitaS7WnQ"
      },
      "execution_count": null,
      "outputs": []
    },
    {
      "cell_type": "code",
      "source": [
        "sex_le = LabelEncoder()\n",
        "df['sex'] = sex_le.fit_transform(df['sex'])\n",
        "\n",
        "smoker_le = LabelEncoder()\n",
        "df['smoker'] = smoker_le.fit_transform(df['smoker'])\n",
        "\n",
        "region_le = LabelEncoder()\n",
        "df['region'] = region_le.fit_transform(df['region'])\n",
        "\n",
        "df.head(5)"
      ],
      "metadata": {
        "colab": {
          "base_uri": "https://localhost:8080/",
          "height": 206
        },
        "id": "WW6yDUXf7nK_",
        "outputId": "09007e89-da60-46a8-fe94-74e19c7ffdee"
      },
      "execution_count": null,
      "outputs": [
        {
          "output_type": "execute_result",
          "data": {
            "text/plain": [
              "   age  sex     bmi children  smoker  region      charges\n",
              "0   19    0  27.900        0       1       3  16884.92400\n",
              "1   18    1  33.770        1       0       2   1725.55230\n",
              "2   28    1  33.000        3       0       2   4449.46200\n",
              "3   33    1  22.705        0       0       1  21984.47061\n",
              "4   32    1  28.880        0       0       1   3866.85520"
            ],
            "text/html": [
              "\n",
              "  <div id=\"df-13b1e234-0dec-4aeb-aef3-371f4505f6b7\">\n",
              "    <div class=\"colab-df-container\">\n",
              "      <div>\n",
              "<style scoped>\n",
              "    .dataframe tbody tr th:only-of-type {\n",
              "        vertical-align: middle;\n",
              "    }\n",
              "\n",
              "    .dataframe tbody tr th {\n",
              "        vertical-align: top;\n",
              "    }\n",
              "\n",
              "    .dataframe thead th {\n",
              "        text-align: right;\n",
              "    }\n",
              "</style>\n",
              "<table border=\"1\" class=\"dataframe\">\n",
              "  <thead>\n",
              "    <tr style=\"text-align: right;\">\n",
              "      <th></th>\n",
              "      <th>age</th>\n",
              "      <th>sex</th>\n",
              "      <th>bmi</th>\n",
              "      <th>children</th>\n",
              "      <th>smoker</th>\n",
              "      <th>region</th>\n",
              "      <th>charges</th>\n",
              "    </tr>\n",
              "  </thead>\n",
              "  <tbody>\n",
              "    <tr>\n",
              "      <th>0</th>\n",
              "      <td>19</td>\n",
              "      <td>0</td>\n",
              "      <td>27.900</td>\n",
              "      <td>0</td>\n",
              "      <td>1</td>\n",
              "      <td>3</td>\n",
              "      <td>16884.92400</td>\n",
              "    </tr>\n",
              "    <tr>\n",
              "      <th>1</th>\n",
              "      <td>18</td>\n",
              "      <td>1</td>\n",
              "      <td>33.770</td>\n",
              "      <td>1</td>\n",
              "      <td>0</td>\n",
              "      <td>2</td>\n",
              "      <td>1725.55230</td>\n",
              "    </tr>\n",
              "    <tr>\n",
              "      <th>2</th>\n",
              "      <td>28</td>\n",
              "      <td>1</td>\n",
              "      <td>33.000</td>\n",
              "      <td>3</td>\n",
              "      <td>0</td>\n",
              "      <td>2</td>\n",
              "      <td>4449.46200</td>\n",
              "    </tr>\n",
              "    <tr>\n",
              "      <th>3</th>\n",
              "      <td>33</td>\n",
              "      <td>1</td>\n",
              "      <td>22.705</td>\n",
              "      <td>0</td>\n",
              "      <td>0</td>\n",
              "      <td>1</td>\n",
              "      <td>21984.47061</td>\n",
              "    </tr>\n",
              "    <tr>\n",
              "      <th>4</th>\n",
              "      <td>32</td>\n",
              "      <td>1</td>\n",
              "      <td>28.880</td>\n",
              "      <td>0</td>\n",
              "      <td>0</td>\n",
              "      <td>1</td>\n",
              "      <td>3866.85520</td>\n",
              "    </tr>\n",
              "  </tbody>\n",
              "</table>\n",
              "</div>\n",
              "      <button class=\"colab-df-convert\" onclick=\"convertToInteractive('df-13b1e234-0dec-4aeb-aef3-371f4505f6b7')\"\n",
              "              title=\"Convert this dataframe to an interactive table.\"\n",
              "              style=\"display:none;\">\n",
              "        \n",
              "  <svg xmlns=\"http://www.w3.org/2000/svg\" height=\"24px\"viewBox=\"0 0 24 24\"\n",
              "       width=\"24px\">\n",
              "    <path d=\"M0 0h24v24H0V0z\" fill=\"none\"/>\n",
              "    <path d=\"M18.56 5.44l.94 2.06.94-2.06 2.06-.94-2.06-.94-.94-2.06-.94 2.06-2.06.94zm-11 1L8.5 8.5l.94-2.06 2.06-.94-2.06-.94L8.5 2.5l-.94 2.06-2.06.94zm10 10l.94 2.06.94-2.06 2.06-.94-2.06-.94-.94-2.06-.94 2.06-2.06.94z\"/><path d=\"M17.41 7.96l-1.37-1.37c-.4-.4-.92-.59-1.43-.59-.52 0-1.04.2-1.43.59L10.3 9.45l-7.72 7.72c-.78.78-.78 2.05 0 2.83L4 21.41c.39.39.9.59 1.41.59.51 0 1.02-.2 1.41-.59l7.78-7.78 2.81-2.81c.8-.78.8-2.07 0-2.86zM5.41 20L4 18.59l7.72-7.72 1.47 1.35L5.41 20z\"/>\n",
              "  </svg>\n",
              "      </button>\n",
              "      \n",
              "  <style>\n",
              "    .colab-df-container {\n",
              "      display:flex;\n",
              "      flex-wrap:wrap;\n",
              "      gap: 12px;\n",
              "    }\n",
              "\n",
              "    .colab-df-convert {\n",
              "      background-color: #E8F0FE;\n",
              "      border: none;\n",
              "      border-radius: 50%;\n",
              "      cursor: pointer;\n",
              "      display: none;\n",
              "      fill: #1967D2;\n",
              "      height: 32px;\n",
              "      padding: 0 0 0 0;\n",
              "      width: 32px;\n",
              "    }\n",
              "\n",
              "    .colab-df-convert:hover {\n",
              "      background-color: #E2EBFA;\n",
              "      box-shadow: 0px 1px 2px rgba(60, 64, 67, 0.3), 0px 1px 3px 1px rgba(60, 64, 67, 0.15);\n",
              "      fill: #174EA6;\n",
              "    }\n",
              "\n",
              "    [theme=dark] .colab-df-convert {\n",
              "      background-color: #3B4455;\n",
              "      fill: #D2E3FC;\n",
              "    }\n",
              "\n",
              "    [theme=dark] .colab-df-convert:hover {\n",
              "      background-color: #434B5C;\n",
              "      box-shadow: 0px 1px 3px 1px rgba(0, 0, 0, 0.15);\n",
              "      filter: drop-shadow(0px 1px 2px rgba(0, 0, 0, 0.3));\n",
              "      fill: #FFFFFF;\n",
              "    }\n",
              "  </style>\n",
              "\n",
              "      <script>\n",
              "        const buttonEl =\n",
              "          document.querySelector('#df-13b1e234-0dec-4aeb-aef3-371f4505f6b7 button.colab-df-convert');\n",
              "        buttonEl.style.display =\n",
              "          google.colab.kernel.accessAllowed ? 'block' : 'none';\n",
              "\n",
              "        async function convertToInteractive(key) {\n",
              "          const element = document.querySelector('#df-13b1e234-0dec-4aeb-aef3-371f4505f6b7');\n",
              "          const dataTable =\n",
              "            await google.colab.kernel.invokeFunction('convertToInteractive',\n",
              "                                                     [key], {});\n",
              "          if (!dataTable) return;\n",
              "\n",
              "          const docLinkHtml = 'Like what you see? Visit the ' +\n",
              "            '<a target=\"_blank\" href=https://colab.research.google.com/notebooks/data_table.ipynb>data table notebook</a>'\n",
              "            + ' to learn more about interactive tables.';\n",
              "          element.innerHTML = '';\n",
              "          dataTable['output_type'] = 'display_data';\n",
              "          await google.colab.output.renderOutput(dataTable, element);\n",
              "          const docLink = document.createElement('div');\n",
              "          docLink.innerHTML = docLinkHtml;\n",
              "          element.appendChild(docLink);\n",
              "        }\n",
              "      </script>\n",
              "    </div>\n",
              "  </div>\n",
              "  "
            ]
          },
          "metadata": {},
          "execution_count": 6
        }
      ]
    },
    {
      "cell_type": "code",
      "source": [
        "sex_map = dict(zip(sex_le.classes_, sex_le.transform(sex_le.classes_)))\n",
        "print(sex_map)\n",
        "smoker_map = dict(zip(smoker_le.classes_, smoker_le.transform(smoker_le.classes_)))\n",
        "print(smoker_map)\n",
        "region_map = dict(zip(region_le.classes_, region_le.transform(region_le.classes_)))\n",
        "print(region_map)"
      ],
      "metadata": {
        "colab": {
          "base_uri": "https://localhost:8080/"
        },
        "id": "RV3kDCsT7ssZ",
        "outputId": "a7eeff7b-4a19-4529-ffe4-f75b7f1717a0"
      },
      "execution_count": null,
      "outputs": [
        {
          "output_type": "stream",
          "name": "stdout",
          "text": [
            "{'female': 0, 'male': 1}\n",
            "{'no': 0, 'yes': 1}\n",
            "{'northeast': 0, 'northwest': 1, 'southeast': 2, 'southwest': 3}\n"
          ]
        }
      ]
    },
    {
      "cell_type": "code",
      "source": [
        "df.info()\n",
        "## some categorical columns like region, sex, etc are now treated as numerical ones"
      ],
      "metadata": {
        "colab": {
          "base_uri": "https://localhost:8080/"
        },
        "id": "Hay_VTl_7ul5",
        "outputId": "c6da852a-2ee3-4f02-ce09-0bd67c313554"
      },
      "execution_count": null,
      "outputs": [
        {
          "output_type": "stream",
          "name": "stdout",
          "text": [
            "<class 'pandas.core.frame.DataFrame'>\n",
            "RangeIndex: 1338 entries, 0 to 1337\n",
            "Data columns (total 7 columns):\n",
            " #   Column    Non-Null Count  Dtype  \n",
            "---  ------    --------------  -----  \n",
            " 0   age       1338 non-null   int64  \n",
            " 1   sex       1338 non-null   int64  \n",
            " 2   bmi       1338 non-null   float64\n",
            " 3   children  1338 non-null   object \n",
            " 4   smoker    1338 non-null   int64  \n",
            " 5   region    1338 non-null   int64  \n",
            " 6   charges   1338 non-null   float64\n",
            "dtypes: float64(2), int64(4), object(1)\n",
            "memory usage: 73.3+ KB\n"
          ]
        }
      ]
    },
    {
      "cell_type": "code",
      "source": [
        "df[\"sex\"] = df[\"sex\"].astype(object)\n",
        "df[\"smoker\"] = df[\"smoker\"].astype(object)\n",
        "df[\"region\"] = df[\"region\"].astype(object)"
      ],
      "metadata": {
        "id": "zqcZjplN8Ftl"
      },
      "execution_count": null,
      "outputs": []
    },
    {
      "cell_type": "code",
      "source": [
        "df.info()"
      ],
      "metadata": {
        "colab": {
          "base_uri": "https://localhost:8080/"
        },
        "id": "Ss2Smh3h8hJc",
        "outputId": "906ff7c6-f057-4b9b-f655-b26dfce6f36a"
      },
      "execution_count": null,
      "outputs": [
        {
          "output_type": "stream",
          "name": "stdout",
          "text": [
            "<class 'pandas.core.frame.DataFrame'>\n",
            "RangeIndex: 1338 entries, 0 to 1337\n",
            "Data columns (total 7 columns):\n",
            " #   Column    Non-Null Count  Dtype  \n",
            "---  ------    --------------  -----  \n",
            " 0   age       1338 non-null   int64  \n",
            " 1   sex       1338 non-null   object \n",
            " 2   bmi       1338 non-null   float64\n",
            " 3   children  1338 non-null   object \n",
            " 4   smoker    1338 non-null   object \n",
            " 5   region    1338 non-null   object \n",
            " 6   charges   1338 non-null   float64\n",
            "dtypes: float64(2), int64(1), object(4)\n",
            "memory usage: 73.3+ KB\n"
          ]
        }
      ]
    },
    {
      "cell_type": "code",
      "source": [
        "input = df.drop(['charges'], axis = 1)\n",
        "target = df['charges']"
      ],
      "metadata": {
        "id": "ri0nFNMs71pq"
      },
      "execution_count": null,
      "outputs": []
    },
    {
      "cell_type": "code",
      "source": [
        ""
      ],
      "metadata": {
        "id": "CIBqmmhbX-Ky"
      },
      "execution_count": null,
      "outputs": []
    },
    {
      "cell_type": "markdown",
      "source": [
        "### Polynomial Regression"
      ],
      "metadata": {
        "id": "P0Z_f8DvYBK4"
      }
    },
    {
      "cell_type": "code",
      "source": [
        ""
      ],
      "metadata": {
        "id": "9ibTeEHeZEbV"
      },
      "execution_count": null,
      "outputs": []
    },
    {
      "cell_type": "code",
      "source": [
        "poly = PolynomialFeatures(degree = 2)\n",
        "## Degree can be changed to explore further and improve performance"
      ],
      "metadata": {
        "id": "U00TvMNBX-Ig"
      },
      "execution_count": null,
      "outputs": []
    },
    {
      "cell_type": "code",
      "source": [
        "x_poly = poly.fit_transform(input)"
      ],
      "metadata": {
        "id": "VO1GHoNJX-GI"
      },
      "execution_count": null,
      "outputs": []
    },
    {
      "cell_type": "code",
      "source": [
        "X_train, X_test, Y_train, Y_test = train_test_split(x_poly, target, test_size = 0.2, random_state = 0)"
      ],
      "metadata": {
        "id": "CZGXFEH0YNdD"
      },
      "execution_count": null,
      "outputs": []
    },
    {
      "cell_type": "code",
      "source": [
        ""
      ],
      "metadata": {
        "id": "bmhXO1AzYNUW"
      },
      "execution_count": null,
      "outputs": []
    },
    {
      "cell_type": "code",
      "source": [
        ""
      ],
      "metadata": {
        "id": "2qJIWovBG_dp"
      },
      "execution_count": null,
      "outputs": []
    },
    {
      "cell_type": "code",
      "source": [
        "## Feature scaling by Standardization\n",
        "\n",
        "sscaler = StandardScaler()\n",
        "X_train = sscaler.fit_transform(X_train.astype(float))\n",
        "X_test = sscaler.transform(X_test.astype(float))"
      ],
      "metadata": {
        "id": "BFw8GoZiHCqg"
      },
      "execution_count": null,
      "outputs": []
    },
    {
      "cell_type": "code",
      "source": [
        "poly_lr = LinearRegression(fit_intercept = True)"
      ],
      "metadata": {
        "id": "go_3rWQwHae6"
      },
      "execution_count": null,
      "outputs": []
    },
    {
      "cell_type": "code",
      "source": [
        "poly_lr.fit(X_train, Y_train)"
      ],
      "metadata": {
        "colab": {
          "base_uri": "https://localhost:8080/"
        },
        "id": "iPQxsiTVZREY",
        "outputId": "9e22e33c-87be-4d17-b3c1-97bb9f4a22e9"
      },
      "execution_count": null,
      "outputs": [
        {
          "output_type": "execute_result",
          "data": {
            "text/plain": [
              "LinearRegression()"
            ]
          },
          "metadata": {},
          "execution_count": 26
        }
      ]
    },
    {
      "cell_type": "code",
      "source": [
        "y_train_pred = poly_lr.predict(X_train)\n",
        "y_test_pred = poly_lr.predict(X_test)"
      ],
      "metadata": {
        "id": "gNGzGcCeZbOf"
      },
      "execution_count": null,
      "outputs": []
    },
    {
      "cell_type": "code",
      "source": [
        "print(\"Polynomial reg coefficients: {}\".format(poly_lr.coef_))\n",
        "print(\"Polynomial reg intercept: {}\".format(poly_lr.intercept_))\n",
        "\n",
        "print(\"\\n\")\n",
        "print(\"Polynomial reg train set accuracy score: {}\".format(poly_lr.score(X_train, Y_train)))\n",
        "print(\"\\n\")\n",
        "print(\"Polynomial reg test set accuracy score: {}\".format(poly_lr.score(X_test, Y_test)))\n",
        "print(\"\\n\")\n",
        "print(f\"RMSE for train set = {np.sqrt(mean_squared_error(Y_train, y_train_pred))}\")\n",
        "print(\"\\n\")\n",
        "print(f\"RMSE for test set = {np.sqrt(mean_squared_error(Y_test, y_test_pred))}\")"
      ],
      "metadata": {
        "colab": {
          "base_uri": "https://localhost:8080/"
        },
        "id": "9fzku-adZnol",
        "outputId": "32ecdcbd-3e39-47e0-da97-fac7ff80649a"
      },
      "execution_count": null,
      "outputs": [
        {
          "output_type": "stream",
          "name": "stdout",
          "text": [
            "Polynomial reg coefficients: [-7.03681677e-10 -7.97463276e+02 -3.86344830e+02  3.57098159e+03\n",
            "  1.36369359e+03 -3.91989245e+03 -9.80080740e+01  3.39454986e+03\n",
            "  4.15408895e+02  6.96915584e+02  1.00598345e+02  5.95120112e+01\n",
            "  8.56568561e+02 -3.86344830e+02  2.90425099e+02 -3.71843297e+02\n",
            " -1.74073846e+02  2.69973517e+02 -3.54767942e+03  6.06878404e+02\n",
            "  1.79135624e+04 -1.60783244e+03 -5.02674210e+02 -2.95843100e+02\n",
            " -6.30859571e+02 -3.91989245e+03  2.31219973e+02  4.69102868e+02]\n",
            "Polynomial reg intercept: 13201.18205600932\n",
            "\n",
            "\n",
            "Polynomial reg train set accuracy score: 0.8361406746149914\n",
            "\n",
            "\n",
            "Polynomial reg test set accuracy score: 0.8813175103251999\n",
            "\n",
            "\n",
            "RMSE for train set = 4846.842342174146\n",
            "\n",
            "\n",
            "RMSE for test set = 4345.795682064104\n"
          ]
        }
      ]
    },
    {
      "cell_type": "markdown",
      "source": [
        "Thus we can see that polynomial Regression performs better than Linear regression in this case"
      ],
      "metadata": {
        "id": "iGCmv9JOaUY0"
      }
    },
    {
      "cell_type": "code",
      "source": [
        "residuals = Y_test - y_test_pred"
      ],
      "metadata": {
        "id": "Kzo_2GGtcge0"
      },
      "execution_count": null,
      "outputs": []
    },
    {
      "cell_type": "code",
      "source": [
        "sns.regplot(x =  y_test_pred, y= residuals, scatter = True, fit_reg= False)"
      ],
      "metadata": {
        "colab": {
          "base_uri": "https://localhost:8080/",
          "height": 283
        },
        "id": "xUi-K3VRcpRE",
        "outputId": "5ad7ca34-eb52-4ea4-a1b1-51a0f5250834"
      },
      "execution_count": null,
      "outputs": [
        {
          "output_type": "execute_result",
          "data": {
            "text/plain": [
              "<matplotlib.axes._subplots.AxesSubplot at 0x7fe157d697d0>"
            ]
          },
          "metadata": {},
          "execution_count": 36
        },
        {
          "output_type": "display_data",
          "data": {
            "text/plain": [
              "<Figure size 432x288 with 1 Axes>"
            ],
            "image/png": "[encoded data removed]"
          },
          "metadata": {
            "needs_background": "light"
          }
        }
      ]
    },
    {
      "cell_type": "code",
      "source": [
        "# plt.plot(X_test, y_test_pred , \"r-\", linewidth=2, label=\"Predictions\")\n",
        "plt.plot(X_train, Y_train, \"b.\",label='Training points')\n",
        "plt.plot(X_test, Y_test, \"g.\",label='Testing points')\n",
        "plt.xlabel(\"X\")\n",
        "plt.ylabel(\"y\")\n",
        "plt.show()"
      ],
      "metadata": {
        "colab": {
          "base_uri": "https://localhost:8080/",
          "height": 279
        },
        "id": "3wndZX_SZrdm",
        "outputId": "6a9e7a0f-f44a-4fff-b44b-858e2aa2f686"
      },
      "execution_count": null,
      "outputs": [
        {
          "output_type": "display_data",
          "data": {
            "text/plain": [
              "<Figure size 432x288 with 1 Axes>"
            ],
            "image/png": "[encoded data removed]"
          },
          "metadata": {
            "needs_background": "light"
          }
        }
      ]
    },
    {
      "cell_type": "code",
      "source": [
        ""
      ],
      "metadata": {
        "id": "8bO4tVdfa_KZ"
      },
      "execution_count": null,
      "outputs": []
    }
  ]
}