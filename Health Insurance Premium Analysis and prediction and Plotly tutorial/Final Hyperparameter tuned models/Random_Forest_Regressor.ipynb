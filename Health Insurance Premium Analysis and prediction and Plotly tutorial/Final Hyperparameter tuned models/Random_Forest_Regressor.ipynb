{
  "nbformat": 4,
  "nbformat_minor": 0,
  "metadata": {
    "colab": {
      "name": "Random Forest Regressor.ipynb",
      "provenance": [],
      "collapsed_sections": [],
      "authorship_tag": "ABX9TyMnV5LP9Vm8WqBTpQUZKidx"
    },
    "kernelspec": {
      "name": "python3",
      "display_name": "Python 3"
    },
    "language_info": {
      "name": "python"
    }
  },
  "cells": [
    {
      "cell_type": "code",
      "execution_count": null,
      "metadata": {
        "id": "7FxpzDza65QE"
      },
      "outputs": [],
      "source": [
        "import pandas as pd\n",
        "import numpy as np\n",
        "import matplotlib.pyplot as plt\n",
        "import seaborn as sns\n",
        "from sklearn.model_selection import train_test_split\n",
        "from sklearn.preprocessing import OneHotEncoder\n",
        "from sklearn.preprocessing import LabelEncoder\n",
        "from sklearn.metrics import  mean_squared_error\n",
        "from sklearn.ensemble import RandomForestRegressor\n",
        "from sklearn.preprocessing import StandardScaler"
      ]
    },
    {
      "cell_type": "code",
      "source": [
        "from google.colab import drive\n",
        "drive.mount('/content/drive')"
      ],
      "metadata": {
        "colab": {
          "base_uri": "https://localhost:8080/"
        },
        "id": "8ikGbC-47CI_",
        "outputId": "394fa7e6-fc4e-4461-ab3f-ce8e6ce0a115"
      },
      "execution_count": null,
      "outputs": [
        {
          "output_type": "stream",
          "name": "stdout",
          "text": [
            "Drive already mounted at /content/drive; to attempt to forcibly remount, call drive.mount(\"/content/drive\", force_remount=True).\n"
          ]
        }
      ]
    },
    {
      "cell_type": "markdown",
      "source": [
        "## PLEASE GO THROUGH THE INITIAL PREPROCESSING FIRST BEFORE CONTINUING"
      ],
      "metadata": {
        "id": "1TdZGIF07XaU"
      }
    },
    {
      "cell_type": "code",
      "source": [
        "df_og= pd.read_csv(\"/content/drive/MyDrive/Health Insurance Analysis and predictions/Health_insurance.csv\")\n",
        "df = df_og.copy()"
      ],
      "metadata": {
        "id": "_wGyVoVB7E-q"
      },
      "execution_count": null,
      "outputs": []
    },
    {
      "cell_type": "code",
      "source": [
        "sns.heatmap(df.corr(), annot = True)"
      ],
      "metadata": {
        "colab": {
          "base_uri": "https://localhost:8080/",
          "height": 287
        },
        "id": "xNUS9oa68bt2",
        "outputId": "371420e7-af54-4a1b-8fd6-f60d35cb4233"
      },
      "execution_count": null,
      "outputs": [
        {
          "output_type": "execute_result",
          "data": {
            "text/plain": [
              "<matplotlib.axes._subplots.AxesSubplot at 0x7f28b1e00fd0>"
            ]
          },
          "metadata": {},
          "execution_count": 6
        },
        {
          "output_type": "display_data",
          "data": {
            "text/plain": [
              "<Figure size 432x288 with 2 Axes>"
            ],
            "image/png": "[encoded data removed]"
          },
          "metadata": {
            "needs_background": "light"
          }
        }
      ]
    },
    {
      "cell_type": "code",
      "source": [
        "df[\"children\"] = df[\"children\"].astype(object)"
      ],
      "metadata": {
        "id": "0YOoitaS7WnQ"
      },
      "execution_count": null,
      "outputs": []
    },
    {
      "cell_type": "code",
      "source": [
        "sex_le = LabelEncoder()\n",
        "df['sex'] = sex_le.fit_transform(df['sex'])\n",
        "\n",
        "smoker_le = LabelEncoder()\n",
        "df['smoker'] = smoker_le.fit_transform(df['smoker'])\n",
        "\n",
        "region_le = LabelEncoder()\n",
        "df['region'] = region_le.fit_transform(df['region'])\n",
        "\n",
        "df.head(5)"
      ],
      "metadata": {
        "colab": {
          "base_uri": "https://localhost:8080/",
          "height": 206
        },
        "id": "WW6yDUXf7nK_",
        "outputId": "d2b7d273-1bb7-4d3f-c203-b72d2e8ff75c"
      },
      "execution_count": null,
      "outputs": [
        {
          "output_type": "execute_result",
          "data": {
            "text/plain": [
              "   age  sex     bmi children  smoker  region      charges\n",
              "0   19    0  27.900        0       1       3  16884.92400\n",
              "1   18    1  33.770        1       0       2   1725.55230\n",
              "2   28    1  33.000        3       0       2   4449.46200\n",
              "3   33    1  22.705        0       0       1  21984.47061\n",
              "4   32    1  28.880        0       0       1   3866.85520"
            ],
            "text/html": [
              "\n",
              "  <div id=\"df-7854d88a-1282-48bc-b402-ce2bcd07918a\">\n",
              "    <div class=\"colab-df-container\">\n",
              "      <div>\n",
              "<style scoped>\n",
              "    .dataframe tbody tr th:only-of-type {\n",
              "        vertical-align: middle;\n",
              "    }\n",
              "\n",
              "    .dataframe tbody tr th {\n",
              "        vertical-align: top;\n",
              "    }\n",
              "\n",
              "    .dataframe thead th {\n",
              "        text-align: right;\n",
              "    }\n",
              "</style>\n",
              "<table border=\"1\" class=\"dataframe\">\n",
              "  <thead>\n",
              "    <tr style=\"text-align: right;\">\n",
              "      <th></th>\n",
              "      <th>age</th>\n",
              "      <th>sex</th>\n",
              "      <th>bmi</th>\n",
              "      <th>children</th>\n",
              "      <th>smoker</th>\n",
              "      <th>region</th>\n",
              "      <th>charges</th>\n",
              "    </tr>\n",
              "  </thead>\n",
              "  <tbody>\n",
              "    <tr>\n",
              "      <th>0</th>\n",
              "      <td>19</td>\n",
              "      <td>0</td>\n",
              "      <td>27.900</td>\n",
              "      <td>0</td>\n",
              "      <td>1</td>\n",
              "      <td>3</td>\n",
              "      <td>16884.92400</td>\n",
              "    </tr>\n",
              "    <tr>\n",
              "      <th>1</th>\n",
              "      <td>18</td>\n",
              "      <td>1</td>\n",
              "      <td>33.770</td>\n",
              "      <td>1</td>\n",
              "      <td>0</td>\n",
              "      <td>2</td>\n",
              "      <td>1725.55230</td>\n",
              "    </tr>\n",
              "    <tr>\n",
              "      <th>2</th>\n",
              "      <td>28</td>\n",
              "      <td>1</td>\n",
              "      <td>33.000</td>\n",
              "      <td>3</td>\n",
              "      <td>0</td>\n",
              "      <td>2</td>\n",
              "      <td>4449.46200</td>\n",
              "    </tr>\n",
              "    <tr>\n",
              "      <th>3</th>\n",
              "      <td>33</td>\n",
              "      <td>1</td>\n",
              "      <td>22.705</td>\n",
              "      <td>0</td>\n",
              "      <td>0</td>\n",
              "      <td>1</td>\n",
              "      <td>21984.47061</td>\n",
              "    </tr>\n",
              "    <tr>\n",
              "      <th>4</th>\n",
              "      <td>32</td>\n",
              "      <td>1</td>\n",
              "      <td>28.880</td>\n",
              "      <td>0</td>\n",
              "      <td>0</td>\n",
              "      <td>1</td>\n",
              "      <td>3866.85520</td>\n",
              "    </tr>\n",
              "  </tbody>\n",
              "</table>\n",
              "</div>\n",
              "      <button class=\"colab-df-convert\" onclick=\"convertToInteractive('df-7854d88a-1282-48bc-b402-ce2bcd07918a')\"\n",
              "              title=\"Convert this dataframe to an interactive table.\"\n",
              "              style=\"display:none;\">\n",
              "        \n",
              "  <svg xmlns=\"http://www.w3.org/2000/svg\" height=\"24px\"viewBox=\"0 0 24 24\"\n",
              "       width=\"24px\">\n",
              "    <path d=\"M0 0h24v24H0V0z\" fill=\"none\"/>\n",
              "    <path d=\"M18.56 5.44l.94 2.06.94-2.06 2.06-.94-2.06-.94-.94-2.06-.94 2.06-2.06.94zm-11 1L8.5 8.5l.94-2.06 2.06-.94-2.06-.94L8.5 2.5l-.94 2.06-2.06.94zm10 10l.94 2.06.94-2.06 2.06-.94-2.06-.94-.94-2.06-.94 2.06-2.06.94z\"/><path d=\"M17.41 7.96l-1.37-1.37c-.4-.4-.92-.59-1.43-.59-.52 0-1.04.2-1.43.59L10.3 9.45l-7.72 7.72c-.78.78-.78 2.05 0 2.83L4 21.41c.39.39.9.59 1.41.59.51 0 1.02-.2 1.41-.59l7.78-7.78 2.81-2.81c.8-.78.8-2.07 0-2.86zM5.41 20L4 18.59l7.72-7.72 1.47 1.35L5.41 20z\"/>\n",
              "  </svg>\n",
              "      </button>\n",
              "      \n",
              "  <style>\n",
              "    .colab-df-container {\n",
              "      display:flex;\n",
              "      flex-wrap:wrap;\n",
              "      gap: 12px;\n",
              "    }\n",
              "\n",
              "    .colab-df-convert {\n",
              "      background-color: #E8F0FE;\n",
              "      border: none;\n",
              "      border-radius: 50%;\n",
              "      cursor: pointer;\n",
              "      display: none;\n",
              "      fill: #1967D2;\n",
              "      height: 32px;\n",
              "      padding: 0 0 0 0;\n",
              "      width: 32px;\n",
              "    }\n",
              "\n",
              "    .colab-df-convert:hover {\n",
              "      background-color: #E2EBFA;\n",
              "      box-shadow: 0px 1px 2px rgba(60, 64, 67, 0.3), 0px 1px 3px 1px rgba(60, 64, 67, 0.15);\n",
              "      fill: #174EA6;\n",
              "    }\n",
              "\n",
              "    [theme=dark] .colab-df-convert {\n",
              "      background-color: #3B4455;\n",
              "      fill: #D2E3FC;\n",
              "    }\n",
              "\n",
              "    [theme=dark] .colab-df-convert:hover {\n",
              "      background-color: #434B5C;\n",
              "      box-shadow: 0px 1px 3px 1px rgba(0, 0, 0, 0.15);\n",
              "      filter: drop-shadow(0px 1px 2px rgba(0, 0, 0, 0.3));\n",
              "      fill: #FFFFFF;\n",
              "    }\n",
              "  </style>\n",
              "\n",
              "      <script>\n",
              "        const buttonEl =\n",
              "          document.querySelector('#df-7854d88a-1282-48bc-b402-ce2bcd07918a button.colab-df-convert');\n",
              "        buttonEl.style.display =\n",
              "          google.colab.kernel.accessAllowed ? 'block' : 'none';\n",
              "\n",
              "        async function convertToInteractive(key) {\n",
              "          const element = document.querySelector('#df-7854d88a-1282-48bc-b402-ce2bcd07918a');\n",
              "          const dataTable =\n",
              "            await google.colab.kernel.invokeFunction('convertToInteractive',\n",
              "                                                     [key], {});\n",
              "          if (!dataTable) return;\n",
              "\n",
              "          const docLinkHtml = 'Like what you see? Visit the ' +\n",
              "            '<a target=\"_blank\" href=https://colab.research.google.com/notebooks/data_table.ipynb>data table notebook</a>'\n",
              "            + ' to learn more about interactive tables.';\n",
              "          element.innerHTML = '';\n",
              "          dataTable['output_type'] = 'display_data';\n",
              "          await google.colab.output.renderOutput(dataTable, element);\n",
              "          const docLink = document.createElement('div');\n",
              "          docLink.innerHTML = docLinkHtml;\n",
              "          element.appendChild(docLink);\n",
              "        }\n",
              "      </script>\n",
              "    </div>\n",
              "  </div>\n",
              "  "
            ]
          },
          "metadata": {},
          "execution_count": 8
        }
      ]
    },
    {
      "cell_type": "code",
      "source": [
        "sex_map = dict(zip(sex_le.classes_, sex_le.transform(sex_le.classes_)))\n",
        "print(sex_map)\n",
        "smoker_map = dict(zip(smoker_le.classes_, smoker_le.transform(smoker_le.classes_)))\n",
        "print(smoker_map)\n",
        "region_map = dict(zip(region_le.classes_, region_le.transform(region_le.classes_)))\n",
        "print(region_map)"
      ],
      "metadata": {
        "colab": {
          "base_uri": "https://localhost:8080/"
        },
        "id": "RV3kDCsT7ssZ",
        "outputId": "df6c4d6d-5537-468b-8d23-28daabf859f4"
      },
      "execution_count": null,
      "outputs": [
        {
          "output_type": "stream",
          "name": "stdout",
          "text": [
            "{'female': 0, 'male': 1}\n",
            "{'no': 0, 'yes': 1}\n",
            "{'northeast': 0, 'northwest': 1, 'southeast': 2, 'southwest': 3}\n"
          ]
        }
      ]
    },
    {
      "cell_type": "code",
      "source": [
        "df.info()\n",
        "## some categorical columns like region, sex, etc are now treated as numerical ones"
      ],
      "metadata": {
        "colab": {
          "base_uri": "https://localhost:8080/"
        },
        "id": "Hay_VTl_7ul5",
        "outputId": "ba12d78b-339c-4b1b-d7bd-92832e98d78a"
      },
      "execution_count": null,
      "outputs": [
        {
          "output_type": "stream",
          "name": "stdout",
          "text": [
            "<class 'pandas.core.frame.DataFrame'>\n",
            "RangeIndex: 1338 entries, 0 to 1337\n",
            "Data columns (total 7 columns):\n",
            " #   Column    Non-Null Count  Dtype  \n",
            "---  ------    --------------  -----  \n",
            " 0   age       1338 non-null   int64  \n",
            " 1   sex       1338 non-null   int64  \n",
            " 2   bmi       1338 non-null   float64\n",
            " 3   children  1338 non-null   object \n",
            " 4   smoker    1338 non-null   int64  \n",
            " 5   region    1338 non-null   int64  \n",
            " 6   charges   1338 non-null   float64\n",
            "dtypes: float64(2), int64(4), object(1)\n",
            "memory usage: 73.3+ KB\n"
          ]
        }
      ]
    },
    {
      "cell_type": "code",
      "source": [
        "df[\"sex\"] = df[\"sex\"].astype(object)\n",
        "df[\"smoker\"] = df[\"smoker\"].astype(object)\n",
        "df[\"region\"] = df[\"region\"].astype(object)"
      ],
      "metadata": {
        "id": "zqcZjplN8Ftl"
      },
      "execution_count": null,
      "outputs": []
    },
    {
      "cell_type": "code",
      "source": [
        "df.info()"
      ],
      "metadata": {
        "colab": {
          "base_uri": "https://localhost:8080/"
        },
        "id": "Ss2Smh3h8hJc",
        "outputId": "b66ff134-2c99-4aac-99b1-5b5201b39e9f"
      },
      "execution_count": null,
      "outputs": [
        {
          "output_type": "stream",
          "name": "stdout",
          "text": [
            "<class 'pandas.core.frame.DataFrame'>\n",
            "RangeIndex: 1338 entries, 0 to 1337\n",
            "Data columns (total 7 columns):\n",
            " #   Column    Non-Null Count  Dtype  \n",
            "---  ------    --------------  -----  \n",
            " 0   age       1338 non-null   int64  \n",
            " 1   sex       1338 non-null   object \n",
            " 2   bmi       1338 non-null   float64\n",
            " 3   children  1338 non-null   object \n",
            " 4   smoker    1338 non-null   object \n",
            " 5   region    1338 non-null   object \n",
            " 6   charges   1338 non-null   float64\n",
            "dtypes: float64(2), int64(1), object(4)\n",
            "memory usage: 73.3+ KB\n"
          ]
        }
      ]
    },
    {
      "cell_type": "code",
      "source": [
        "train = df.drop(['charges'], axis = 1)\n",
        "test = df['charges']"
      ],
      "metadata": {
        "id": "ri0nFNMs71pq"
      },
      "execution_count": null,
      "outputs": []
    },
    {
      "cell_type": "code",
      "source": [
        "X_train, X_test, Y_train, Y_test = train_test_split(train, test, test_size = 0.2, random_state = 0)"
      ],
      "metadata": {
        "id": "nK9ffkC372g3"
      },
      "execution_count": null,
      "outputs": []
    },
    {
      "cell_type": "code",
      "source": [
        "## Feature scaling by Standardization\n",
        "\n",
        "sscaler = StandardScaler()\n",
        "X_train = sscaler.fit_transform(X_train.astype(float))\n",
        "X_test = sscaler.transform(X_test.astype(float))"
      ],
      "metadata": {
        "id": "BFw8GoZiHCqg"
      },
      "execution_count": null,
      "outputs": []
    },
    {
      "cell_type": "code",
      "source": [
        "rf = RandomForestRegressor(\n",
        "    n_estimators = 100,\n",
        "    criterion = 'squared_error',\n",
        "    max_depth = 10,\n",
        "    min_samples_leaf = 4,\n",
        "    random_state = 1,\n",
        "    n_jobs = -1\n",
        ")"
      ],
      "metadata": {
        "id": "go_3rWQwHae6"
      },
      "execution_count": null,
      "outputs": []
    },
    {
      "cell_type": "code",
      "source": [
        "rf.fit(X_train, Y_train)"
      ],
      "metadata": {
        "colab": {
          "base_uri": "https://localhost:8080/"
        },
        "id": "mO8oBK1vr1ug",
        "outputId": "68ddce64-19f3-4fae-8638-6d9684e6f409"
      },
      "execution_count": null,
      "outputs": [
        {
          "output_type": "execute_result",
          "data": {
            "text/plain": [
              "RandomForestRegressor(max_depth=10, min_samples_leaf=4, n_jobs=-1,\n",
              "                      random_state=1)"
            ]
          },
          "metadata": {},
          "execution_count": 21
        }
      ]
    },
    {
      "cell_type": "code",
      "source": [
        "y_train_pred = rf.predict(X_train)\n",
        "y_test_pred = rf.predict(X_test)"
      ],
      "metadata": {
        "id": "CJhdsgCysCJ6"
      },
      "execution_count": null,
      "outputs": []
    },
    {
      "cell_type": "code",
      "source": [
        "print(\"Random Forest reg base estimator: {}\".format(rf.base_estimator_))\n",
        "print(\"Random Forest reg estimators: {}\".format(rf.estimators_))\n",
        "print(\"Random Forest reg feature importances: {}\".format(rf.feature_importances_))\n",
        "print(\"\\n\")\n",
        "print(\"Random Forest reg train set accuracy score: {}\".format(rf.score(X_train, Y_train)))\n",
        "print(\"\\n\")\n",
        "print(\"Random Forest reg test set accuracy score: {}\".format(rf.score(X_test, Y_test)))\n",
        "print(\"\\n\")\n",
        "print(f\"RMSE for train set = {np.sqrt(mean_squared_error(Y_train, y_train_pred))}\")\n",
        "print(\"\\n\")\n",
        "print(f\"RMSE for test set = {np.sqrt(mean_squared_error(Y_test, y_test_pred))}\")"
      ],
      "metadata": {
        "colab": {
          "base_uri": "https://localhost:8080/"
        },
        "id": "01N1Me36sGtw",
        "outputId": "669cb354-e63b-440f-8c45-eec38942bff6"
      },
      "execution_count": null,
      "outputs": [
        {
          "output_type": "stream",
          "name": "stdout",
          "text": [
            "Random Forest reg base estimator: DecisionTreeRegressor()\n",
            "Random Forest reg estimators: [DecisionTreeRegressor(max_depth=10, max_features='auto', min_samples_leaf=4,\n",
            "                      random_state=1791095845), DecisionTreeRegressor(max_depth=10, max_features='auto', min_samples_leaf=4,\n",
            "                      random_state=2135392491), DecisionTreeRegressor(max_depth=10, max_features='auto', min_samples_leaf=4,\n",
            "                      random_state=946286476), DecisionTreeRegressor(max_depth=10, max_features='auto', min_samples_leaf=4,\n",
            "                      random_state=1857819720), DecisionTreeRegressor(max_depth=10, max_features='auto', min_samples_leaf=4,\n",
            "                      random_state=491263), DecisionTreeRegressor(max_depth=10, max_features='auto', min_samples_leaf=4,\n",
            "                      random_state=550290313), DecisionTreeRegressor(max_depth=10, max_features='auto', min_samples_leaf=4,\n",
            "                      random_state=1298508491), DecisionTreeRegressor(max_depth=10, max_features='auto', min_samples_leaf=4,\n",
            "                      random_state=2143362693), DecisionTreeRegressor(max_depth=10, max_features='auto', min_samples_leaf=4,\n",
            "                      random_state=630311759), DecisionTreeRegressor(max_depth=10, max_features='auto', min_samples_leaf=4,\n",
            "                      random_state=1013994432), DecisionTreeRegressor(max_depth=10, max_features='auto', min_samples_leaf=4,\n",
            "                      random_state=396591248), DecisionTreeRegressor(max_depth=10, max_features='auto', min_samples_leaf=4,\n",
            "                      random_state=1703301249), DecisionTreeRegressor(max_depth=10, max_features='auto', min_samples_leaf=4,\n",
            "                      random_state=799981516), DecisionTreeRegressor(max_depth=10, max_features='auto', min_samples_leaf=4,\n",
            "                      random_state=1666063943), DecisionTreeRegressor(max_depth=10, max_features='auto', min_samples_leaf=4,\n",
            "                      random_state=1484172013), DecisionTreeRegressor(max_depth=10, max_features='auto', min_samples_leaf=4,\n",
            "                      random_state=729053692), DecisionTreeRegressor(max_depth=10, max_features='auto', min_samples_leaf=4,\n",
            "                      random_state=1704103302), DecisionTreeRegressor(max_depth=10, max_features='auto', min_samples_leaf=4,\n",
            "                      random_state=1870626073), DecisionTreeRegressor(max_depth=10, max_features='auto', min_samples_leaf=4,\n",
            "                      random_state=166716594), DecisionTreeRegressor(max_depth=10, max_features='auto', min_samples_leaf=4,\n",
            "                      random_state=1487394068), DecisionTreeRegressor(max_depth=10, max_features='auto', min_samples_leaf=4,\n",
            "                      random_state=1800426750), DecisionTreeRegressor(max_depth=10, max_features='auto', min_samples_leaf=4,\n",
            "                      random_state=1345499493), DecisionTreeRegressor(max_depth=10, max_features='auto', min_samples_leaf=4,\n",
            "                      random_state=795511698), DecisionTreeRegressor(max_depth=10, max_features='auto', min_samples_leaf=4,\n",
            "                      random_state=105433556), DecisionTreeRegressor(max_depth=10, max_features='auto', min_samples_leaf=4,\n",
            "                      random_state=878115723), DecisionTreeRegressor(max_depth=10, max_features='auto', min_samples_leaf=4,\n",
            "                      random_state=1904615676), DecisionTreeRegressor(max_depth=10, max_features='auto', min_samples_leaf=4,\n",
            "                      random_state=1624002026), DecisionTreeRegressor(max_depth=10, max_features='auto', min_samples_leaf=4,\n",
            "                      random_state=986026652), DecisionTreeRegressor(max_depth=10, max_features='auto', min_samples_leaf=4,\n",
            "                      random_state=117628829), DecisionTreeRegressor(max_depth=10, max_features='auto', min_samples_leaf=4,\n",
            "                      random_state=147806606), DecisionTreeRegressor(max_depth=10, max_features='auto', min_samples_leaf=4,\n",
            "                      random_state=732152370), DecisionTreeRegressor(max_depth=10, max_features='auto', min_samples_leaf=4,\n",
            "                      random_state=1777953348), DecisionTreeRegressor(max_depth=10, max_features='auto', min_samples_leaf=4,\n",
            "                      random_state=1792310487), DecisionTreeRegressor(max_depth=10, max_features='auto', min_samples_leaf=4,\n",
            "                      random_state=1963679703), DecisionTreeRegressor(max_depth=10, max_features='auto', min_samples_leaf=4,\n",
            "                      random_state=252070889), DecisionTreeRegressor(max_depth=10, max_features='auto', min_samples_leaf=4,\n",
            "                      random_state=1849836273), DecisionTreeRegressor(max_depth=10, max_features='auto', min_samples_leaf=4,\n",
            "                      random_state=602957303), DecisionTreeRegressor(max_depth=10, max_features='auto', min_samples_leaf=4,\n",
            "                      random_state=1886039518), DecisionTreeRegressor(max_depth=10, max_features='auto', min_samples_leaf=4,\n",
            "                      random_state=850839392), DecisionTreeRegressor(max_depth=10, max_features='auto', min_samples_leaf=4,\n",
            "                      random_state=1195672662), DecisionTreeRegressor(max_depth=10, max_features='auto', min_samples_leaf=4,\n",
            "                      random_state=1291688077), DecisionTreeRegressor(max_depth=10, max_features='auto', min_samples_leaf=4,\n",
            "                      random_state=927586281), DecisionTreeRegressor(max_depth=10, max_features='auto', min_samples_leaf=4,\n",
            "                      random_state=2011168137), DecisionTreeRegressor(max_depth=10, max_features='auto', min_samples_leaf=4,\n",
            "                      random_state=1300333575), DecisionTreeRegressor(max_depth=10, max_features='auto', min_samples_leaf=4,\n",
            "                      random_state=1346146623), DecisionTreeRegressor(max_depth=10, max_features='auto', min_samples_leaf=4,\n",
            "                      random_state=398576445), DecisionTreeRegressor(max_depth=10, max_features='auto', min_samples_leaf=4,\n",
            "                      random_state=826019350), DecisionTreeRegressor(max_depth=10, max_features='auto', min_samples_leaf=4,\n",
            "                      random_state=77964601), DecisionTreeRegressor(max_depth=10, max_features='auto', min_samples_leaf=4,\n",
            "                      random_state=1616579073), DecisionTreeRegressor(max_depth=10, max_features='auto', min_samples_leaf=4,\n",
            "                      random_state=1567750016), DecisionTreeRegressor(max_depth=10, max_features='auto', min_samples_leaf=4,\n",
            "                      random_state=1694822716), DecisionTreeRegressor(max_depth=10, max_features='auto', min_samples_leaf=4,\n",
            "                      random_state=1413675217), DecisionTreeRegressor(max_depth=10, max_features='auto', min_samples_leaf=4,\n",
            "                      random_state=365262088), DecisionTreeRegressor(max_depth=10, max_features='auto', min_samples_leaf=4,\n",
            "                      random_state=1415635672), DecisionTreeRegressor(max_depth=10, max_features='auto', min_samples_leaf=4,\n",
            "                      random_state=167739021), DecisionTreeRegressor(max_depth=10, max_features='auto', min_samples_leaf=4,\n",
            "                      random_state=1172740723), DecisionTreeRegressor(max_depth=10, max_features='auto', min_samples_leaf=4,\n",
            "                      random_state=729416111), DecisionTreeRegressor(max_depth=10, max_features='auto', min_samples_leaf=4,\n",
            "                      random_state=254447594), DecisionTreeRegressor(max_depth=10, max_features='auto', min_samples_leaf=4,\n",
            "                      random_state=1624109689), DecisionTreeRegressor(max_depth=10, max_features='auto', min_samples_leaf=4,\n",
            "                      random_state=732412360), DecisionTreeRegressor(max_depth=10, max_features='auto', min_samples_leaf=4,\n",
            "                      random_state=422396446), DecisionTreeRegressor(max_depth=10, max_features='auto', min_samples_leaf=4,\n",
            "                      random_state=399713351), DecisionTreeRegressor(max_depth=10, max_features='auto', min_samples_leaf=4,\n",
            "                      random_state=1808643459), DecisionTreeRegressor(max_depth=10, max_features='auto', min_samples_leaf=4,\n",
            "                      random_state=737248710), DecisionTreeRegressor(max_depth=10, max_features='auto', min_samples_leaf=4,\n",
            "                      random_state=1966620565), DecisionTreeRegressor(max_depth=10, max_features='auto', min_samples_leaf=4,\n",
            "                      random_state=1768615473), DecisionTreeRegressor(max_depth=10, max_features='auto', min_samples_leaf=4,\n",
            "                      random_state=142443833), DecisionTreeRegressor(max_depth=10, max_features='auto', min_samples_leaf=4,\n",
            "                      random_state=848474627), DecisionTreeRegressor(max_depth=10, max_features='auto', min_samples_leaf=4,\n",
            "                      random_state=824105924), DecisionTreeRegressor(max_depth=10, max_features='auto', min_samples_leaf=4,\n",
            "                      random_state=1243949848), DecisionTreeRegressor(max_depth=10, max_features='auto', min_samples_leaf=4,\n",
            "                      random_state=1355129329), DecisionTreeRegressor(max_depth=10, max_features='auto', min_samples_leaf=4,\n",
            "                      random_state=610401323), DecisionTreeRegressor(max_depth=10, max_features='auto', min_samples_leaf=4,\n",
            "                      random_state=801015372), DecisionTreeRegressor(max_depth=10, max_features='auto', min_samples_leaf=4,\n",
            "                      random_state=1216826394), DecisionTreeRegressor(max_depth=10, max_features='auto', min_samples_leaf=4,\n",
            "                      random_state=1437206324), DecisionTreeRegressor(max_depth=10, max_features='auto', min_samples_leaf=4,\n",
            "                      random_state=1771840848), DecisionTreeRegressor(max_depth=10, max_features='auto', min_samples_leaf=4,\n",
            "                      random_state=78547565), DecisionTreeRegressor(max_depth=10, max_features='auto', min_samples_leaf=4,\n",
            "                      random_state=146764659), DecisionTreeRegressor(max_depth=10, max_features='auto', min_samples_leaf=4,\n",
            "                      random_state=1074361641), DecisionTreeRegressor(max_depth=10, max_features='auto', min_samples_leaf=4,\n",
            "                      random_state=532704722), DecisionTreeRegressor(max_depth=10, max_features='auto', min_samples_leaf=4,\n",
            "                      random_state=2099642383), DecisionTreeRegressor(max_depth=10, max_features='auto', min_samples_leaf=4,\n",
            "                      random_state=689925184), DecisionTreeRegressor(max_depth=10, max_features='auto', min_samples_leaf=4,\n",
            "                      random_state=1065863364), DecisionTreeRegressor(max_depth=10, max_features='auto', min_samples_leaf=4,\n",
            "                      random_state=1282027545), DecisionTreeRegressor(max_depth=10, max_features='auto', min_samples_leaf=4,\n",
            "                      random_state=1204497775), DecisionTreeRegressor(max_depth=10, max_features='auto', min_samples_leaf=4,\n",
            "                      random_state=1916133090), DecisionTreeRegressor(max_depth=10, max_features='auto', min_samples_leaf=4,\n",
            "                      random_state=1242445271), DecisionTreeRegressor(max_depth=10, max_features='auto', min_samples_leaf=4,\n",
            "                      random_state=954017671), DecisionTreeRegressor(max_depth=10, max_features='auto', min_samples_leaf=4,\n",
            "                      random_state=443352346), DecisionTreeRegressor(max_depth=10, max_features='auto', min_samples_leaf=4,\n",
            "                      random_state=315096729), DecisionTreeRegressor(max_depth=10, max_features='auto', min_samples_leaf=4,\n",
            "                      random_state=1923688040), DecisionTreeRegressor(max_depth=10, max_features='auto', min_samples_leaf=4,\n",
            "                      random_state=2015364118), DecisionTreeRegressor(max_depth=10, max_features='auto', min_samples_leaf=4,\n",
            "                      random_state=1754904329), DecisionTreeRegressor(max_depth=10, max_features='auto', min_samples_leaf=4,\n",
            "                      random_state=413056707), DecisionTreeRegressor(max_depth=10, max_features='auto', min_samples_leaf=4,\n",
            "                      random_state=1261063143), DecisionTreeRegressor(max_depth=10, max_features='auto', min_samples_leaf=4,\n",
            "                      random_state=1732461694), DecisionTreeRegressor(max_depth=10, max_features='auto', min_samples_leaf=4,\n",
            "                      random_state=1235985687), DecisionTreeRegressor(max_depth=10, max_features='auto', min_samples_leaf=4,\n",
            "                      random_state=513207677), DecisionTreeRegressor(max_depth=10, max_features='auto', min_samples_leaf=4,\n",
            "                      random_state=558468452), DecisionTreeRegressor(max_depth=10, max_features='auto', min_samples_leaf=4,\n",
            "                      random_state=106512539)]\n",
            "Random Forest reg feature importances: [0.13153827 0.00296269 0.18961037 0.01323842 0.65425447 0.00839578]\n",
            "\n",
            "\n",
            "Random Forest reg train set accuracy score: 0.9100386561165197\n",
            "\n",
            "\n",
            "Random Forest reg test set accuracy score: 0.8973377386973569\n",
            "\n",
            "\n",
            "RMSE for train set = 3591.296640302673\n",
            "\n",
            "\n",
            "RMSE for test set = 4041.8611768582323\n"
          ]
        }
      ]
    },
    {
      "cell_type": "markdown",
      "source": [
        "Random Forest works better than Individual Decision trees as it uses the ensemble learning technique to reduce overfitting"
      ],
      "metadata": {
        "id": "g7AEgqNps657"
      }
    },
    {
      "cell_type": "code",
      "source": [
        "residuals = Y_test - y_test_pred"
      ],
      "metadata": {
        "id": "SVDE6rVXsZgH"
      },
      "execution_count": null,
      "outputs": []
    },
    {
      "cell_type": "code",
      "source": [
        "sns.regplot(x =  y_test_pred, y= residuals, scatter = True, fit_reg= False)"
      ],
      "metadata": {
        "colab": {
          "base_uri": "https://localhost:8080/",
          "height": 283
        },
        "id": "RwRfJfuktauY",
        "outputId": "f741e6e8-16fc-4243-e42c-7def2409ed84"
      },
      "execution_count": null,
      "outputs": [
        {
          "output_type": "execute_result",
          "data": {
            "text/plain": [
              "<matplotlib.axes._subplots.AxesSubplot at 0x7f28ad6f8490>"
            ]
          },
          "metadata": {},
          "execution_count": 26
        },
        {
          "output_type": "display_data",
          "data": {
            "text/plain": [
              "<Figure size 432x288 with 1 Axes>"
            ],
            "image/png": "[encoded data removed]"
          },
          "metadata": {
            "needs_background": "light"
          }
        }
      ]
    },
    {
      "cell_type": "code",
      "source": [
        "# plt.plot(X_test, y_test_pred , \"r-\", linewidth=2, label=\"Predictions\")\n",
        "plt.plot(X_train, Y_train, \"b.\",label='Training points')\n",
        "plt.plot(X_test, Y_test, \"g.\",label='Testing points')\n",
        "plt.xlabel(\"X\")\n",
        "plt.ylabel(\"y\")\n",
        "plt.show()"
      ],
      "metadata": {
        "colab": {
          "base_uri": "https://localhost:8080/",
          "height": 279
        },
        "id": "vV3YQ5lYtcc5",
        "outputId": "79872ea4-36db-45c6-c1fc-e3b9c7d12c64"
      },
      "execution_count": null,
      "outputs": [
        {
          "output_type": "display_data",
          "data": {
            "text/plain": [
              "<Figure size 432x288 with 1 Axes>"
            ],
            "image/png": "[encoded data removed]"
          },
          "metadata": {
            "needs_background": "light"
          }
        }
      ]
    },
    {
      "cell_type": "code",
      "source": [
        ""
      ],
      "metadata": {
        "id": "nSj60qtstfqC"
      },
      "execution_count": null,
      "outputs": []
    }
  ]
}